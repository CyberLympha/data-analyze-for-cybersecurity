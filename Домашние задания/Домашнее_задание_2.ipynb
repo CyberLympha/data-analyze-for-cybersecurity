{
 "cells": [
  {
   "cell_type": "markdown",
   "id": "eed372b7-da61-4372-a2f4-89d4188e5222",
   "metadata": {},
   "source": [
    "<h1> Материалы курса \"Анализ данных в инфромационной безопасности\" </h1>\n",
    "\n",
    "<h2> Домашнее задание к лекции \"Анализ данных\" </h2>\n",
    "\n",
    "<p> Андрей Скороходов, группа UDV</p>\n",
    "Бахарев С.М., УрФУ"
   ]
  },
  {
   "cell_type": "code",
   "execution_count": null,
   "id": "8f909c44-f555-4914-ac31-ce01b6b2dc60",
   "metadata": {},
   "outputs": [],
   "source": [
    "import pandas as pd\n",
    "import matplotlib.pyplot as plt\n",
    "import seaborn as sns\n",
    "import numpy as np\n",
    "import missingno as msno"
   ]
  },
  {
   "cell_type": "markdown",
   "id": "2004889d-a9b7-4d44-9a01-b13e323fd89d",
   "metadata": {},
   "source": [
    "## 1-2. Загрузка данных"
   ]
  },
  {
   "cell_type": "markdown",
   "id": "69cd4c7f-73df-488c-900c-3d8482c97e74",
   "metadata": {},
   "source": [
    "1.\tЗагрузите исходный датасет Практика/2.1/data_example.csv\n",
    "\n",
    "pd.read_csv(data_example.csv)\n",
    "\n",
    "2.\tСделайте необходимые преобразования при загрузке датасета, чтобы данные выглядели корректно.\n",
    "https://pandas.pydata.org/docs/reference/api/pandas.read_csv.html, корректно обработайте разделители, NA значения, кодировку, исключите ненужные строки, определите заголовок, при необходимости игнорируйте ошибки в кодировке или подправьте исходный файл."
   ]
  },
  {
   "cell_type": "code",
   "execution_count": null,
   "id": "2a8b3c00-af75-4c03-9dd1-c56c797be8c8",
   "metadata": {},
   "outputs": [],
   "source": [
    "file_path = 'data_example.csv'\n",
    "data = pd.read_csv(file_path,\n",
    "                   sep=\",\",\n",
    "                   header=[0,1,2,3],\n",
    "                   skiprows=1,\n",
    "                   na_values=['Missing','nan','Offln'],\n",
    "                   encoding_errors='ignore'\n",
    "                  )\n",
    "data"
   ]
  },
  {
   "cell_type": "markdown",
   "id": "7146e663-afaa-4759-a1fa-dedbd0a6643a",
   "metadata": {},
   "source": [
    "## 3. Очистка заголовков"
   ]
  },
  {
   "cell_type": "markdown",
   "id": "1522c32a-4c64-41f3-b62d-8ac803ac3729",
   "metadata": {},
   "source": [
    "3.\tОчистите заголовки колонок от ненужной информации, оставьте только имя устройства и название параметра"
   ]
  },
  {
   "cell_type": "markdown",
   "id": "bc22b994-56c2-4337-8237-9f497d510aaa",
   "metadata": {},
   "source": [
    "## 4. Информация о датасете "
   ]
  },
  {
   "cell_type": "markdown",
   "id": "cfd14091-aba1-4c9d-9dc5-600cb41d773b",
   "metadata": {},
   "source": [
    "4.\tВыведите в консоль информацию о датасете: его размер, название колонок, их типы данных\n",
    "df.info()"
   ]
  },
  {
   "cell_type": "markdown",
   "id": "cddc0769-f873-44ab-a368-34c5c3bd8f8f",
   "metadata": {
    "tags": []
   },
   "source": [
    "## 5. Работа с индексом времени\n",
    "Преобразуйте колонку со временем в формат datetime, сделайте ее индексом и отсортируйте (даже если датасет уже отсортирован)\n",
    "pd.to_datetime(), df.index = df[<колонка>], df.sort_index()"
   ]
  },
  {
   "cell_type": "code",
   "execution_count": null,
   "id": "f41d535b-764a-4e5a-ba60-53e434459a96",
   "metadata": {},
   "outputs": [],
   "source": [
    "data['time'] = pd.to_datetime(data['time'], format=' %H:%M:%S %d/%m/%Y')\n",
    "data.index = data.pop('time')\n",
    "data = data.sort_index()\n",
    "data"
   ]
  },
  {
   "cell_type": "markdown",
   "id": "e7211d69-007b-4beb-8bfc-d28f29e18c61",
   "metadata": {},
   "source": [
    "## 6. Пропущенные значения"
   ]
  },
  {
   "cell_type": "markdown",
   "id": "7155920c-73cc-4143-b96e-5d1a7b0ce342",
   "metadata": {},
   "source": [
    "Посчитайте количество пропусков в каждой колонке и визуализируйте их\n",
    "df.isna().sum(), для визуализации можно использовать модуль missingno и метод matrix(df)\n"
   ]
  },
  {
   "cell_type": "markdown",
   "id": "f34d0f45-1476-4e8b-be43-6e7bdfab2e44",
   "metadata": {},
   "source": [
    "Пропущенные значения заполните их предыдущими значениями. "
   ]
  },
  {
   "cell_type": "markdown",
   "id": "c3549079-f9ba-4a9d-8918-1da0e97bae50",
   "metadata": {
    "tags": []
   },
   "source": [
    "## 7. Типы данных \n",
    "Как оптимизировать типы данных в колонках? Насколько меньше станет размер датафрейма после оптимизации типов?\n",
    "Приведите к типу int колонки с целыми значениями, используйте df.astype(). \n",
    "Приведите к типу category колонки с категориальными признаками (признаки, которые принимают ограниченное количество значений, например до 10). \n",
    "Сравните замеры получившихся датасетов, оригинальный датасет не перезаписывайте.\n"
   ]
  },
  {
   "cell_type": "markdown",
   "id": "d7f47eac-2a7e-459d-a45a-8dd6de885f6d",
   "metadata": {},
   "source": [
    "Для определения целочисленных колонок воспользуемся знаниями предметной области:\n",
    "- EKC состояние - это состояние устройства, точно целочисленное, возможно категориальное\n",
    "- признаки с префиксом Cap или Capacity - это производительность устройств, тоже целочисленное"
   ]
  },
  {
   "cell_type": "markdown",
   "id": "1cadc199-fee4-4ee0-9898-483e000e86b3",
   "metadata": {},
   "source": [
    "## 8. Работа с непрерывными признаками\n",
    "Дайте табличное и графическое статистическое описание признакам, содержащим параметр «Sair» для устройств 21CT, 22CT,…, 30CT.\n",
    "df.describe(), sns.boxplot(). \n"
   ]
  },
  {
   "cell_type": "code",
   "execution_count": null,
   "id": "1f0ecf8d-e616-45ec-b29e-632905adacd4",
   "metadata": {},
   "outputs": [],
   "source": [
    "col_Sair = [...]\n",
    "col_Sair"
   ]
  },
  {
   "cell_type": "code",
   "execution_count": null,
   "id": "f48ef103-8c87-4f30-8579-62a77c45e8dc",
   "metadata": {},
   "outputs": [],
   "source": [
    "plt.figure(figsize=(20, 6))\n",
    "boxplot = sns.boxplot(data=data[col_Sair])\n",
    "boxplot.set(title='Boxplot')\n",
    "boxplot.set_xticklabels(boxplot.get_xticklabels(), rotation=45)\n",
    "plt.show()"
   ]
  },
  {
   "cell_type": "markdown",
   "id": "1fa574f3-28ca-4f86-846d-d8b928dd6781",
   "metadata": {},
   "source": [
    "## 9. Ресэмплирование\n",
    "Ресемплируйте датасет по медианному значению за 4 минуты, отобразите на линейном графике значение признаков col_Sair. График должен быть читабельным, иметь заголовок и легенду, можете выбрать другое значение ресэмплирования, чтобы график лучше читался.\n",
    "Используйте любые модули (df.plot(), sns, plt, plotly). Ресемплированный датасет сохранять не нужно, просто отобразить."
   ]
  },
  {
   "cell_type": "code",
   "execution_count": null,
   "id": "0836c4e2-6e3a-4418-a0b2-40fadb5e0227",
   "metadata": {},
   "outputs": [],
   "source": [
    "data[col_Sair].resample('...').median().plot(figsize=(20,5), title='Ресэмплированные значения признаков с Sair')"
   ]
  },
  {
   "cell_type": "markdown",
   "id": "31421590-8bca-4b55-987a-7a225d49d223",
   "metadata": {},
   "source": [
    "## 10. Сглаживание\n",
    "Постройте для 2-3 признаков из col_Sair сглаженный график поведения признаков во времени. Ширину окна выберете такую, чтобы был виден тренд."
   ]
  },
  {
   "cell_type": "code",
   "execution_count": null,
   "id": "90814a0e-83b5-4953-9be5-f7d4c2577707",
   "metadata": {},
   "outputs": [],
   "source": [
    "data[col_Sair[:3]].rolling(...).mean().plot(figsize=(20,5), title='Сглаженные значения признаков с Sair')"
   ]
  },
  {
   "cell_type": "markdown",
   "id": "68911f5b-30ae-4201-b298-58525fd22fa5",
   "metadata": {},
   "source": [
    "## 11. Визуализация разницы между ресэмплингом и сглаживанием"
   ]
  },
  {
   "cell_type": "markdown",
   "id": "5bdddc98-e522-49b9-8fa7-fe0f387943c8",
   "metadata": {},
   "source": [
    "Для корректного отображения нам нужно привязываться не целочисленным индексам датафрейма, а к временным меткам, для этого нужно использовать df.loc[время от: время до].\n",
    "\n",
    "Мы выберем одинаковые промежутки: 12 минут для ресэмплинга и 6 сэмплов для сглаживания (у нас сэмплы идут с периодом 2 минуты)"
   ]
  },
  {
   "cell_type": "code",
   "execution_count": null,
   "id": "21ab1dc3-d098-4fef-a337-d144f6d98e6d",
   "metadata": {},
   "outputs": [],
   "source": [
    "time_from = '2021-03-01 06:00'\n",
    "time_till = '2021-03-01 18:00'\n",
    "\n",
    "plt.title('Разница между сглаживанием и ресэмплингом')\n",
    "data[col_Sair[0]].loc[time_from:time_till].plot(figsize=(20,5), label='original', alpha=0.5)\n",
    "data[col_Sair[0]].resample('12T').mean().loc[time_from:time_till].plot(figsize=(20,5), label='resample 12 min')\n",
    "data[col_Sair[0]].rolling(6).mean().loc[time_from:time_till].plot(figsize=(20,5), label='rolling 6')\n",
    "plt.legend()\n",
    "plt.show()"
   ]
  },
  {
   "cell_type": "markdown",
   "id": "d09aac7c-0d10-41e4-9b1c-218afc708c83",
   "metadata": {},
   "source": [
    "## 12. Гистограммы и столбчатые диаграммы\n",
    "Отобразите гистограмму по количеству одновременно включенных устройств. Признак состояния представлены в виде «<устройство>: --- EKC состояние», если признак принимает значение 0, то считаем устройство включенным."
   ]
  },
  {
   "cell_type": "code",
   "execution_count": null,
   "id": "40a30696-935a-4d77-9c4f-28678ed72065",
   "metadata": {},
   "outputs": [],
   "source": [
    "EKCstate_Map = data[[col for col in data.columns if '---' in col]].applymap(lambda x: 1 if x==0 else 0)\n",
    "EKCstate_Map.sum(axis=1).value_counts().sort_index().plot.bar(figsize=(5,5), title = 'Количество одновременно включенных горок')"
   ]
  },
  {
   "cell_type": "markdown",
   "id": "f05f8fc4-e6d7-488e-a016-0cb9b5fb6628",
   "metadata": {},
   "source": [
    "## 13. Subplots\n",
    "\n",
    "Постройте для нескольких признаков состояния устройств гистограммы, которые покажут распределение этих устройств по состояниям.\n",
    " \n",
    "Используйте любой plt.bar или sns.barplot() и plt.subplots()"
   ]
  },
  {
   "cell_type": "markdown",
   "id": "7a0c01c2-8d9c-4443-985c-b698ee52d4c3",
   "metadata": {},
   "source": [
    "## 14. Матрица корреляции\n",
    "Постройте матрицу корреляции для признаков col_Sair\n",
    "Получение таблицы с корреляцией: df.corr(), отрисовку удобно делать через sns.heatmap()"
   ]
  },
  {
   "cell_type": "markdown",
   "id": "db82a0bf-b36c-4a90-a8e2-d761f5f8d984",
   "metadata": {},
   "source": [
    "## 15. Проверьте гипотезу о том, что тренд температуры u09 S5 в устройствах 12СТ и 13СТ зависит от состояния устройства. Свои выводы подтвердите визуализацией или статистиками."
   ]
  },
  {
   "cell_type": "code",
   "execution_count": null,
   "id": "7066f8b7-0062-4ebe-93b1-82451a36304c",
   "metadata": {},
   "outputs": [],
   "source": [
    "cols = [...]\n",
    "\n",
    "df = data[cols].copy()\n",
    "df.columns = ['Temperature', 'State']\n",
    "df"
   ]
  },
  {
   "cell_type": "code",
   "execution_count": null,
   "id": "20703d44",
   "metadata": {
    "scrolled": true
   },
   "outputs": [],
   "source": [
    "# Ваш код"
   ]
  },
  {
   "cell_type": "markdown",
   "id": "7a03a020-e274-4ce9-bdc9-8e864217e4bc",
   "metadata": {},
   "source": [
    "**Выводы:** ...\n"
   ]
  },
  {
   "cell_type": "markdown",
   "id": "af21bfa6",
   "metadata": {},
   "source": [
    "## 16. Прогнозирование временных рядов.\n",
    "\n",
    "1. В датасете data оставьте один признак \"21CT G GSR +2/+4:   u69 Sair Темп \".\n",
    "2. Сделайте ресэмплирование по медианному значению за 60 минут. Постройте график.\n",
    "3. Сделайте сглаживание с окном 10. Постройте график.\n",
    "\n"
   ]
  },
  {
   "cell_type": "code",
   "execution_count": 2,
   "id": "81ef62a7",
   "metadata": {},
   "outputs": [],
   "source": [
    "# Ваш код"
   ]
  },
  {
   "cell_type": "markdown",
   "id": "bfb77a0e",
   "metadata": {},
   "source": [
    "### 16.1 Автокорреляция и частичная автокорреляция\n",
    "\n",
    "Посторойте графики автокорреляционной функции и частичной автокорреляции. Можно использовать pd.plotting.autocorrelation_plot(data) и statsmodels.api.graphics.tsa.plot_pacf(data).\n",
    "Сделайте выводы."
   ]
  },
  {
   "cell_type": "code",
   "execution_count": null,
   "id": "e2e9d84d",
   "metadata": {},
   "outputs": [],
   "source": [
    "# Ваш код"
   ]
  },
  {
   "cell_type": "markdown",
   "id": "04726719",
   "metadata": {},
   "source": [
    "### 16.2 Прогонозирование с помощью ARIMA\n",
    " \n",
    "ARIMA - авторегрессионное интегрированное скользящее среднее. ARIMA позволяет моделировать данные, не являющиеся стационарными. ARIMA включает три параметра: параметр авторегрессии (р), параметр скользящего среднего (q) и параметр интегрирования (d). \n",
    "\n",
    "\n",
    "https://education.yandex.ru/handbook/ml/article/modeli-vida-arima"
   ]
  },
  {
   "cell_type": "markdown",
   "id": "676b1f63",
   "metadata": {},
   "source": [
    "1. На основе анализа автокорреляционной функции и частичной автокорреляции подберите параметры (гиперпараметры) модели p, q и d.\n",
    "2. Разбейте датасет на обучающую и тестовую выборки.\n",
    "3. Сделайте прогноз и сравните с тестовой выборкой.\n",
    "4. Оцените точность прогноза, используя метрики rmse, mae.\n",
    "5. На одном графике постройте предсказанную и истинную (test) температуры.\n",
    "6. Сделайте выводы."
   ]
  },
  {
   "cell_type": "code",
   "execution_count": null,
   "id": "e0212053",
   "metadata": {},
   "outputs": [],
   "source": [
    "from statsmodels.tsa.arima.model import ARIMA\n",
    "from math import sqrt\n",
    "from sklearn.metrics import mean_squared_error\n",
    "from sklearn.metrics import ..."
   ]
  },
  {
   "cell_type": "code",
   "execution_count": null,
   "id": "b8c03352",
   "metadata": {},
   "outputs": [],
   "source": [
    "# Разбейте датасет на обучающую и тестовую выборки\n",
    "X = data.values\n",
    "size = int(len(X) * 0.80)\n",
    "train, test = X[0:size], X[size:len(X)]\n",
    "\n",
    "history = [x for x in train]\n",
    "predictions = list()\n",
    "\n",
    "# Пошаговая валидация\n",
    "for t in range(len(test)):\n",
    "\tmodel = ARIMA(history, order=(...))\n",
    "    # Ваш код\n",
    "    \n",
    "    \n",
    "    \n",
    "# Оценка модели\n",
    "rmse = sqrt(mean_squared_error(test, predictions))\n",
    "mae = ...\n",
    "print('Test RMSE: %.3f' % rmse)\n",
    "print('Test MAE: %.3f' % mae)\n",
    "\n",
    "# Plotting\n",
    "plt.plot(test)\n",
    "plt.plot(predictions, color='red')\n",
    "plt.show()"
   ]
  }
 ],
 "metadata": {
  "kernelspec": {
   "display_name": "Python 3 (ipykernel)",
   "language": "python",
   "name": "python3"
  },
  "language_info": {
   "codemirror_mode": {
    "name": "ipython",
    "version": 3
   },
   "file_extension": ".py",
   "mimetype": "text/x-python",
   "name": "python",
   "nbconvert_exporter": "python",
   "pygments_lexer": "ipython3",
   "version": "3.9.12"
  }
 },
 "nbformat": 4,
 "nbformat_minor": 5
}
