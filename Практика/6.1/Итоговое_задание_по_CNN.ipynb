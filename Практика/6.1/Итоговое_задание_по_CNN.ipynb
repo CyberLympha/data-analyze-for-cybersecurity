{
  "nbformat": 4,
  "nbformat_minor": 0,
  "metadata": {
    "colab": {
      "provenance": []
    },
    "kernelspec": {
      "name": "python3",
      "display_name": "Python 3"
    },
    "language_info": {
      "name": "python"
    }
  },
  "cells": [
    {
      "cell_type": "markdown",
      "source": [
        "#Применение сверточных нейронных сетей для обнаружения сетевых атак"
      ],
      "metadata": {
        "id": "pV5Z3x86qnHT"
      }
    },
    {
      "cell_type": "code",
      "execution_count": null,
      "metadata": {
        "id": "TqvXx8SUihvk"
      },
      "outputs": [],
      "source": [
        "import numpy as np\n",
        "from sklearn.preprocessing import normalize\n",
        "from sklearn.preprocessing import minmax_scale\n",
        "import matplotlib.pyplot as plt"
      ]
    },
    {
      "cell_type": "markdown",
      "source": [
        "Файл с данными\n",
        "\n",
        "Intr_Det_Dense_Lab4.csv"
      ],
      "metadata": {
        "id": "4HS355ixqduV"
      }
    },
    {
      "cell_type": "markdown",
      "source": [
        "## Задачи:\n",
        "\n",
        "- загрузите данные\n",
        "- сделайте обработку данных (см. Лаб. 4.1)\n",
        "- разделите датасет на метки и признаки\n",
        "- каждую запись (строку) представьте в виде черно-белой картинки $n\\times n$. Сделайте нормализацию\n",
        "- визуализируйте несколько записей\n",
        "- разделите данные на обучающую и тестовую выборки\n",
        "- реализуйте модель CNN (1-2 слоя)\n",
        "- подберите оптимальные гиперпараметры (кол-во эпох, размер пакетов и т.п.)\n",
        "- сделайте оценку вашей модели (графики, метрики)\n",
        "- сравните с результатом Лаб.4.1. Какая модель показала лучшую точность?\n",
        "\n"
      ],
      "metadata": {
        "id": "ycyrAas1qzIT"
      }
    },
    {
      "cell_type": "markdown",
      "source": [],
      "metadata": {
        "id": "g8fgEiK3tjYB"
      }
    },
    {
      "cell_type": "markdown",
      "source": [
        "Пример как из вектора $(1\\times m)$ сделать картинку ($n\\times n$)"
      ],
      "metadata": {
        "id": "OVmLla8bteCg"
      }
    },
    {
      "cell_type": "code",
      "source": [
        "v = np.random.randint(-300,300,1024)"
      ],
      "metadata": {
        "id": "AMICeif5ilcg"
      },
      "execution_count": null,
      "outputs": []
    },
    {
      "cell_type": "code",
      "source": [
        "int(np.sqrt(len(v)))"
      ],
      "metadata": {
        "colab": {
          "base_uri": "https://localhost:8080/"
        },
        "id": "rf9ZB8RmmbkR",
        "outputId": "ddf24695-9dd9-4e1c-9ff7-8c99c8772838"
      },
      "execution_count": null,
      "outputs": [
        {
          "output_type": "execute_result",
          "data": {
            "text/plain": [
              "32"
            ]
          },
          "metadata": {},
          "execution_count": 81
        }
      ]
    },
    {
      "cell_type": "code",
      "source": [
        "s = int(np.sqrt(len(v)))\n",
        "\n",
        "img_height = int(len(v)**0.5)   # квадратная матрица\n",
        "img_width = len(v) // img_height"
      ],
      "metadata": {
        "id": "tnrMWsgkkK6F"
      },
      "execution_count": null,
      "outputs": []
    },
    {
      "cell_type": "code",
      "source": [
        "img_height * img_width"
      ],
      "metadata": {
        "colab": {
          "base_uri": "https://localhost:8080/"
        },
        "id": "v9w8FZlIoMph",
        "outputId": "33f45a23-0546-4f0c-db9d-0bcdbb969331"
      },
      "execution_count": null,
      "outputs": [
        {
          "output_type": "execute_result",
          "data": {
            "text/plain": [
              "1024"
            ]
          },
          "metadata": {},
          "execution_count": 83
        }
      ]
    },
    {
      "cell_type": "code",
      "source": [
        "image_matrix = np.reshape(v, (img_height, img_width))  # Получили изображение"
      ],
      "metadata": {
        "id": "G0HJjWuWoMCW"
      },
      "execution_count": null,
      "outputs": []
    },
    {
      "cell_type": "code",
      "source": [
        "np.shape(image_matrix)"
      ],
      "metadata": {
        "colab": {
          "base_uri": "https://localhost:8080/"
        },
        "id": "CmG3-BcdoczM",
        "outputId": "a29afd69-45f6-408b-e320-d1e0a6cbf091"
      },
      "execution_count": null,
      "outputs": [
        {
          "output_type": "execute_result",
          "data": {
            "text/plain": [
              "(32, 32)"
            ]
          },
          "metadata": {},
          "execution_count": 104
        }
      ]
    },
    {
      "cell_type": "code",
      "source": [
        "plt.imshow(image_matrix, cmap='gray')\n",
        "plt.show()"
      ],
      "metadata": {
        "colab": {
          "base_uri": "https://localhost:8080/",
          "height": 430
        },
        "id": "_N9E4YYNosmV",
        "outputId": "09b2bcea-66f2-4a2d-8121-5e8d49b6cc05"
      },
      "execution_count": null,
      "outputs": [
        {
          "output_type": "display_data",
          "data": {
            "text/plain": [
              "<Figure size 640x480 with 1 Axes>"
            ],
            "image/png": "[encoded data removed]"
          },
          "metadata": {}
        }
      ]
    },
    {
      "cell_type": "code",
      "source": [
        "image_matrix_norm = minmax_scale(image_matrix, feature_range=(0, 255))\n"
      ],
      "metadata": {
        "id": "BTIBRsr2p7rd"
      },
      "execution_count": null,
      "outputs": []
    },
    {
      "cell_type": "code",
      "source": [
        "np.max(image_matrix_norm), np.min(image_matrix_norm)"
      ],
      "metadata": {
        "colab": {
          "base_uri": "https://localhost:8080/"
        },
        "id": "EZ5tk5u1qglW",
        "outputId": "8cee1ead-a117-4d99-c067-01d4e6834ca6"
      },
      "execution_count": null,
      "outputs": [
        {
          "output_type": "execute_result",
          "data": {
            "text/plain": [
              "(np.float64(255.00000000000003), np.float64(0.0))"
            ]
          },
          "metadata": {},
          "execution_count": 107
        }
      ]
    },
    {
      "cell_type": "code",
      "source": [
        "plt.imshow(image_matrix_norm, cmap='gray')\n",
        "plt.show()"
      ],
      "metadata": {
        "colab": {
          "base_uri": "https://localhost:8080/",
          "height": 430
        },
        "id": "kwCH8EoFrYzi",
        "outputId": "1eb57521-a09f-48fb-c1e5-4a76d0fa8497"
      },
      "execution_count": null,
      "outputs": [
        {
          "output_type": "display_data",
          "data": {
            "text/plain": [
              "<Figure size 640x480 with 1 Axes>"
            ],
            "image/png": "[encoded data removed]"
          },
          "metadata": {}
        }
      ]
    },
    {
      "cell_type": "code",
      "source": [
        "np.mean(image_matrix_norm)"
      ],
      "metadata": {
        "colab": {
          "base_uri": "https://localhost:8080/"
        },
        "id": "PmawTSimsw1_",
        "outputId": "6891b079-caf2-4330-ec2e-3fb7b0ea5f5d"
      },
      "execution_count": null,
      "outputs": [
        {
          "output_type": "execute_result",
          "data": {
            "text/plain": [
              "np.float64(133.34935230494585)"
            ]
          },
          "metadata": {},
          "execution_count": 118
        }
      ]
    }
  ]
}