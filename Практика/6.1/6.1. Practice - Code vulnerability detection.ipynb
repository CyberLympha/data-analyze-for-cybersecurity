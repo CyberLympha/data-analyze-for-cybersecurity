{
 "cells": [
  {
   "cell_type": "markdown",
   "metadata": {},
   "source": [
    "<h1> Материалы курса \"Анализ данных в инфромационной безопасности\" </h1>\n",
    "\n",
    "<h2> Практическое занятие № 6.1 </h2>\n",
    "\n",
    "<h2> Тема: \"Обнаружение уязвимостей в коде\" </h2>\n",
    "\n",
    "<h2>Автор:</h2>\n",
    "\n",
    "<p>Русинова Залина</p>\n",
    "<p>Младший исследователь исследовательского центра UDV Group</p>\n",
    "<p>zalina.rusinova@udv.group</p>"
   ]
  },
  {
   "cell_type": "markdown",
   "metadata": {},
   "source": [
    "## Оглавление <a name='toc'></a>\n",
    "<ol>\n",
    "<li><a href='#load'> Загрузка и подготовка данных</a></li>\n",
    "<li><a href='#bert'>СodeBert</a></li>\n",
    "</ol>"
   ]
  },
  {
   "cell_type": "code",
   "execution_count": 16,
   "metadata": {
    "execution": {
     "iopub.execute_input": "2023-12-08T03:35:20.937153Z",
     "iopub.status.busy": "2023-12-08T03:35:20.936606Z",
     "iopub.status.idle": "2023-12-08T03:35:34.110207Z",
     "shell.execute_reply": "2023-12-08T03:35:34.108911Z",
     "shell.execute_reply.started": "2023-12-08T03:35:20.937106Z"
    }
   },
   "outputs": [
    {
     "name": "stdout",
     "output_type": "stream",
     "text": [
      "Requirement already satisfied: evaluate in /opt/conda/lib/python3.10/site-packages (0.4.1)\n",
      "Requirement already satisfied: datasets>=2.0.0 in /opt/conda/lib/python3.10/site-packages (from evaluate) (2.1.0)\n",
      "Requirement already satisfied: numpy>=1.17 in /opt/conda/lib/python3.10/site-packages (from evaluate) (1.24.3)\n",
      "Requirement already satisfied: dill in /opt/conda/lib/python3.10/site-packages (from evaluate) (0.3.7)\n",
      "Requirement already satisfied: pandas in /opt/conda/lib/python3.10/site-packages (from evaluate) (2.0.3)\n",
      "Requirement already satisfied: requests>=2.19.0 in /opt/conda/lib/python3.10/site-packages (from evaluate) (2.31.0)\n",
      "Requirement already satisfied: tqdm>=4.62.1 in /opt/conda/lib/python3.10/site-packages (from evaluate) (4.66.1)\n",
      "Requirement already satisfied: xxhash in /opt/conda/lib/python3.10/site-packages (from evaluate) (3.4.1)\n",
      "Requirement already satisfied: multiprocess in /opt/conda/lib/python3.10/site-packages (from evaluate) (0.70.15)\n",
      "Requirement already satisfied: fsspec[http]>=2021.05.0 in /opt/conda/lib/python3.10/site-packages (from evaluate) (2023.12.1)\n",
      "Requirement already satisfied: huggingface-hub>=0.7.0 in /opt/conda/lib/python3.10/site-packages (from evaluate) (0.19.4)\n",
      "Requirement already satisfied: packaging in /opt/conda/lib/python3.10/site-packages (from evaluate) (21.3)\n",
      "Requirement already satisfied: responses<0.19 in /opt/conda/lib/python3.10/site-packages (from evaluate) (0.18.0)\n",
      "Requirement already satisfied: pyarrow>=5.0.0 in /opt/conda/lib/python3.10/site-packages (from datasets>=2.0.0->evaluate) (11.0.0)\n",
      "Requirement already satisfied: aiohttp in /opt/conda/lib/python3.10/site-packages (from datasets>=2.0.0->evaluate) (3.8.5)\n",
      "Requirement already satisfied: filelock in /opt/conda/lib/python3.10/site-packages (from huggingface-hub>=0.7.0->evaluate) (3.12.2)\n",
      "Requirement already satisfied: pyyaml>=5.1 in /opt/conda/lib/python3.10/site-packages (from huggingface-hub>=0.7.0->evaluate) (6.0.1)\n",
      "Requirement already satisfied: typing-extensions>=3.7.4.3 in /opt/conda/lib/python3.10/site-packages (from huggingface-hub>=0.7.0->evaluate) (4.5.0)\n",
      "Requirement already satisfied: pyparsing!=3.0.5,>=2.0.2 in /opt/conda/lib/python3.10/site-packages (from packaging->evaluate) (3.0.9)\n",
      "Requirement already satisfied: charset-normalizer<4,>=2 in /opt/conda/lib/python3.10/site-packages (from requests>=2.19.0->evaluate) (3.2.0)\n",
      "Requirement already satisfied: idna<4,>=2.5 in /opt/conda/lib/python3.10/site-packages (from requests>=2.19.0->evaluate) (3.4)\n",
      "Requirement already satisfied: urllib3<3,>=1.21.1 in /opt/conda/lib/python3.10/site-packages (from requests>=2.19.0->evaluate) (1.26.15)\n",
      "Requirement already satisfied: certifi>=2017.4.17 in /opt/conda/lib/python3.10/site-packages (from requests>=2.19.0->evaluate) (2023.11.17)\n",
      "Requirement already satisfied: python-dateutil>=2.8.2 in /opt/conda/lib/python3.10/site-packages (from pandas->evaluate) (2.8.2)\n",
      "Requirement already satisfied: pytz>=2020.1 in /opt/conda/lib/python3.10/site-packages (from pandas->evaluate) (2023.3)\n",
      "Requirement already satisfied: tzdata>=2022.1 in /opt/conda/lib/python3.10/site-packages (from pandas->evaluate) (2023.3)\n",
      "Requirement already satisfied: attrs>=17.3.0 in /opt/conda/lib/python3.10/site-packages (from aiohttp->datasets>=2.0.0->evaluate) (23.1.0)\n",
      "Requirement already satisfied: multidict<7.0,>=4.5 in /opt/conda/lib/python3.10/site-packages (from aiohttp->datasets>=2.0.0->evaluate) (6.0.4)\n",
      "Requirement already satisfied: async-timeout<5.0,>=4.0.0a3 in /opt/conda/lib/python3.10/site-packages (from aiohttp->datasets>=2.0.0->evaluate) (4.0.3)\n",
      "Requirement already satisfied: yarl<2.0,>=1.0 in /opt/conda/lib/python3.10/site-packages (from aiohttp->datasets>=2.0.0->evaluate) (1.9.2)\n",
      "Requirement already satisfied: frozenlist>=1.1.1 in /opt/conda/lib/python3.10/site-packages (from aiohttp->datasets>=2.0.0->evaluate) (1.4.0)\n",
      "Requirement already satisfied: aiosignal>=1.1.2 in /opt/conda/lib/python3.10/site-packages (from aiohttp->datasets>=2.0.0->evaluate) (1.3.1)\n",
      "Requirement already satisfied: six>=1.5 in /opt/conda/lib/python3.10/site-packages (from python-dateutil>=2.8.2->pandas->evaluate) (1.16.0)\n"
     ]
    }
   ],
   "source": [
    "from tqdm import tqdm, trange\n",
    "import multiprocessing\n",
    "\n",
    "from transformers import (WEIGHTS_NAME, AdamW, get_linear_schedule_with_warmup,\n",
    "                          RobertaConfig, RobertaForSequenceClassification, RobertaTokenizer)\n",
    "from datasets import Dataset\n",
    "from transformers import RobertaTokenizer, RobertaForMaskedLM, pipeline\n",
    "from transformers import DataCollatorWithPadding\n",
    "from transformers import AutoModelForSequenceClassification, TrainingArguments, Trainer\n",
    "\n",
    "import torch\n",
    "\n",
    "!pip install evaluate\n",
    "import evaluate\n",
    "import numpy as np\n",
    "import pandas as pd\n",
    "from sklearn.model_selection import train_test_split"
   ]
  },
  {
   "cell_type": "markdown",
   "metadata": {},
   "source": [
    "### 1. Загрузка и подготовка данных <a name='load'></a>"
   ]
  },
  {
   "cell_type": "markdown",
   "metadata": {},
   "source": [
    "Набор данных\n",
    "[SARD](https://www.kaggle.com/datasets/cerengen/securec-c-source-code-for-vulnerabilty-detection/)\n",
    "\n",
    "Software Assurance Reference Dataset (SARD) - представляет собой растущую коллекцию тестовых программ с документированными уязвимостями в коде. Тестовые примеры варьируются от небольших синтетических программ до крупных приложений. Программы написаны на C, C++, Java, PHP и C# и охватывают более 150 классов уязвимостей. \n",
    "- Коллекция из более чем 450000 примеров уязвимостей;\n",
    "- Охватывает более 150 классов Common Weakness Enumeration (CWE)"
   ]
  },
  {
   "cell_type": "code",
   "execution_count": 2,
   "metadata": {
    "execution": {
     "iopub.execute_input": "2023-12-08T02:46:47.865027Z",
     "iopub.status.busy": "2023-12-08T02:46:47.863830Z",
     "iopub.status.idle": "2023-12-08T02:46:50.464954Z",
     "shell.execute_reply": "2023-12-08T02:46:50.463805Z",
     "shell.execute_reply.started": "2023-12-08T02:46:47.864992Z"
    }
   },
   "outputs": [
    {
     "data": {
      "text/html": [
       "<div>\n",
       "<style scoped>\n",
       "    .dataframe tbody tr th:only-of-type {\n",
       "        vertical-align: middle;\n",
       "    }\n",
       "\n",
       "    .dataframe tbody tr th {\n",
       "        vertical-align: top;\n",
       "    }\n",
       "\n",
       "    .dataframe thead th {\n",
       "        text-align: right;\n",
       "    }\n",
       "</style>\n",
       "<table border=\"1\" class=\"dataframe\">\n",
       "  <thead>\n",
       "    <tr style=\"text-align: right;\">\n",
       "      <th></th>\n",
       "      <th>code</th>\n",
       "      <th>CWE-Type</th>\n",
       "      <th>DataType</th>\n",
       "    </tr>\n",
       "  </thead>\n",
       "  <tbody>\n",
       "    <tr>\n",
       "      <th>0</th>\n",
       "      <td>\\n \\n \\n #include \"IncludeMarker\"\\n \\n #include &lt;IncludeMarker&gt;\\n \\n #ifdef _WIN32\\n #include &lt;IncludeMarker&gt;\\n #include &lt;IncludeMarker&gt;\\n #include &lt;IncludeMarker&gt;\\n #pragma comment(lib, \"ws2_32\") \\n #define DefineMarker closesocket\\n #else \\n #include &lt;IncludeMarker&gt;\\n #include &lt;IncludeMarker&gt;\\n #include &lt;IncludeMarker&gt;\\n #include &lt;IncludeMarker&gt;\\n #include &lt;IncludeMarker&gt;\\n #define DefineMar...</td>\n",
       "      <td>CWE114</td>\n",
       "      <td>SARD</td>\n",
       "    </tr>\n",
       "    <tr>\n",
       "      <th>1</th>\n",
       "      <td>\\n \\n \\n #include \"IncludeMarker\"\\n \\n #include &lt;IncludeMarker&gt;\\n \\n #ifdef _WIN32\\n #include &lt;IncludeMarker&gt;\\n #include &lt;IncludeMarker&gt;\\n #include &lt;IncludeMarker&gt;\\n #pragma comment(lib, \"ws2_32\") \\n #define DefineMarker closesocket\\n #else \\n #include &lt;IncludeMarker&gt;\\n #include &lt;IncludeMarker&gt;\\n #include &lt;IncludeMarker&gt;\\n #include &lt;IncludeMarker&gt;\\n #include &lt;IncludeMarker&gt;\\n #define DefineMar...</td>\n",
       "      <td>CWE114</td>\n",
       "      <td>SARD</td>\n",
       "    </tr>\n",
       "    <tr>\n",
       "      <th>2</th>\n",
       "      <td>\\n \\n \\n #include \"IncludeMarker\"\\n \\n #include &lt;IncludeMarker&gt;\\n \\n #ifdef _WIN32\\n #include &lt;IncludeMarker&gt;\\n #include &lt;IncludeMarker&gt;\\n #include &lt;IncludeMarker&gt;\\n #pragma comment(lib, \"ws2_32\") \\n #define DefineMarker closesocket\\n #else \\n #include &lt;IncludeMarker&gt;\\n #include &lt;IncludeMarker&gt;\\n #include &lt;IncludeMarker&gt;\\n #include &lt;IncludeMarker&gt;\\n #include &lt;IncludeMarker&gt;\\n #define DefineMar...</td>\n",
       "      <td>CWE114</td>\n",
       "      <td>SARD</td>\n",
       "    </tr>\n",
       "    <tr>\n",
       "      <th>3</th>\n",
       "      <td>\\n \\n \\n #include \"IncludeMarker\"\\n \\n #include &lt;IncludeMarker&gt;\\n \\n #ifdef _WIN32\\n #include &lt;IncludeMarker&gt;\\n #include &lt;IncludeMarker&gt;\\n #include &lt;IncludeMarker&gt;\\n #pragma comment(lib, \"ws2_32\") \\n #define DefineMarker closesocket\\n #else \\n #include &lt;IncludeMarker&gt;\\n #include &lt;IncludeMarker&gt;\\n #include &lt;IncludeMarker&gt;\\n #include &lt;IncludeMarker&gt;\\n #include &lt;IncludeMarker&gt;\\n #define DefineMar...</td>\n",
       "      <td>CWE114</td>\n",
       "      <td>SARD</td>\n",
       "    </tr>\n",
       "    <tr>\n",
       "      <th>4</th>\n",
       "      <td>\\n \\n \\n #include \"IncludeMarker\"\\n \\n #include &lt;IncludeMarker&gt;\\n \\n #ifdef _WIN32\\n #include &lt;IncludeMarker&gt;\\n #include &lt;IncludeMarker&gt;\\n #include &lt;IncludeMarker&gt;\\n #pragma comment(lib, \"ws2_32\") \\n #define DefineMarker closesocket\\n #else \\n #include &lt;IncludeMarker&gt;\\n #include &lt;IncludeMarker&gt;\\n #include &lt;IncludeMarker&gt;\\n #include &lt;IncludeMarker&gt;\\n #include &lt;IncludeMarker&gt;\\n #define DefineMar...</td>\n",
       "      <td>CWE114</td>\n",
       "      <td>SARD</td>\n",
       "    </tr>\n",
       "  </tbody>\n",
       "</table>\n",
       "</div>"
      ],
      "text/plain": [
       "                                                                                                                                                                                                                                                                                                                                                                                                              code  \\\n",
       "0  \\n \\n \\n #include \"IncludeMarker\"\\n \\n #include <IncludeMarker>\\n \\n #ifdef _WIN32\\n #include <IncludeMarker>\\n #include <IncludeMarker>\\n #include <IncludeMarker>\\n #pragma comment(lib, \"ws2_32\") \\n #define DefineMarker closesocket\\n #else \\n #include <IncludeMarker>\\n #include <IncludeMarker>\\n #include <IncludeMarker>\\n #include <IncludeMarker>\\n #include <IncludeMarker>\\n #define DefineMar...   \n",
       "1  \\n \\n \\n #include \"IncludeMarker\"\\n \\n #include <IncludeMarker>\\n \\n #ifdef _WIN32\\n #include <IncludeMarker>\\n #include <IncludeMarker>\\n #include <IncludeMarker>\\n #pragma comment(lib, \"ws2_32\") \\n #define DefineMarker closesocket\\n #else \\n #include <IncludeMarker>\\n #include <IncludeMarker>\\n #include <IncludeMarker>\\n #include <IncludeMarker>\\n #include <IncludeMarker>\\n #define DefineMar...   \n",
       "2  \\n \\n \\n #include \"IncludeMarker\"\\n \\n #include <IncludeMarker>\\n \\n #ifdef _WIN32\\n #include <IncludeMarker>\\n #include <IncludeMarker>\\n #include <IncludeMarker>\\n #pragma comment(lib, \"ws2_32\") \\n #define DefineMarker closesocket\\n #else \\n #include <IncludeMarker>\\n #include <IncludeMarker>\\n #include <IncludeMarker>\\n #include <IncludeMarker>\\n #include <IncludeMarker>\\n #define DefineMar...   \n",
       "3  \\n \\n \\n #include \"IncludeMarker\"\\n \\n #include <IncludeMarker>\\n \\n #ifdef _WIN32\\n #include <IncludeMarker>\\n #include <IncludeMarker>\\n #include <IncludeMarker>\\n #pragma comment(lib, \"ws2_32\") \\n #define DefineMarker closesocket\\n #else \\n #include <IncludeMarker>\\n #include <IncludeMarker>\\n #include <IncludeMarker>\\n #include <IncludeMarker>\\n #include <IncludeMarker>\\n #define DefineMar...   \n",
       "4  \\n \\n \\n #include \"IncludeMarker\"\\n \\n #include <IncludeMarker>\\n \\n #ifdef _WIN32\\n #include <IncludeMarker>\\n #include <IncludeMarker>\\n #include <IncludeMarker>\\n #pragma comment(lib, \"ws2_32\") \\n #define DefineMarker closesocket\\n #else \\n #include <IncludeMarker>\\n #include <IncludeMarker>\\n #include <IncludeMarker>\\n #include <IncludeMarker>\\n #include <IncludeMarker>\\n #define DefineMar...   \n",
       "\n",
       "  CWE-Type DataType  \n",
       "0   CWE114     SARD  \n",
       "1   CWE114     SARD  \n",
       "2   CWE114     SARD  \n",
       "3   CWE114     SARD  \n",
       "4   CWE114     SARD  "
      ]
     },
     "execution_count": 2,
     "metadata": {},
     "output_type": "execute_result"
    }
   ],
   "source": [
    "pd.set_option('max_colwidth', 400)\n",
    "df = pd.read_csv('multi_sard_all_data_marked.csv')\n",
    "df.head()"
   ]
  },
  {
   "cell_type": "code",
   "execution_count": 3,
   "metadata": {
    "execution": {
     "iopub.execute_input": "2023-12-08T02:46:53.830679Z",
     "iopub.status.busy": "2023-12-08T02:46:53.829652Z",
     "iopub.status.idle": "2023-12-08T02:46:53.845904Z",
     "shell.execute_reply": "2023-12-08T02:46:53.844256Z",
     "shell.execute_reply.started": "2023-12-08T02:46:53.830642Z"
    }
   },
   "outputs": [
    {
     "name": "stdout",
     "output_type": "stream",
     "text": [
      "Количество записей в датасете: 52802\n",
      "Типов CWE: 109\n"
     ]
    }
   ],
   "source": [
    "unique = len(df['CWE-Type'].unique())\n",
    "print(f'Количество записей в датасете: {len(df)}')\n",
    "print(f'Типов CWE: {unique}')"
   ]
  },
  {
   "cell_type": "code",
   "execution_count": 4,
   "metadata": {
    "execution": {
     "iopub.execute_input": "2023-12-08T02:46:54.843034Z",
     "iopub.status.busy": "2023-12-08T02:46:54.842661Z",
     "iopub.status.idle": "2023-12-08T02:46:54.854164Z",
     "shell.execute_reply": "2023-12-08T02:46:54.852885Z",
     "shell.execute_reply.started": "2023-12-08T02:46:54.843004Z"
    }
   },
   "outputs": [],
   "source": [
    "id2label = dict()\n",
    "label2id = dict()\n",
    "ind = 0\n",
    "for i in df['CWE-Type'].unique():\n",
    "    id2label[ind] = i\n",
    "    label2id[i] = ind\n",
    "    ind+=1"
   ]
  },
  {
   "cell_type": "code",
   "execution_count": 5,
   "metadata": {
    "execution": {
     "iopub.execute_input": "2023-12-08T02:46:57.217725Z",
     "iopub.status.busy": "2023-12-08T02:46:57.217226Z",
     "iopub.status.idle": "2023-12-08T02:46:57.240613Z",
     "shell.execute_reply": "2023-12-08T02:46:57.239521Z",
     "shell.execute_reply.started": "2023-12-08T02:46:57.217689Z"
    }
   },
   "outputs": [
    {
     "data": {
      "text/html": [
       "<div>\n",
       "<style scoped>\n",
       "    .dataframe tbody tr th:only-of-type {\n",
       "        vertical-align: middle;\n",
       "    }\n",
       "\n",
       "    .dataframe tbody tr th {\n",
       "        vertical-align: top;\n",
       "    }\n",
       "\n",
       "    .dataframe thead th {\n",
       "        text-align: right;\n",
       "    }\n",
       "</style>\n",
       "<table border=\"1\" class=\"dataframe\">\n",
       "  <thead>\n",
       "    <tr style=\"text-align: right;\">\n",
       "      <th></th>\n",
       "      <th>code</th>\n",
       "      <th>CWE-Type</th>\n",
       "      <th>DataType</th>\n",
       "      <th>label</th>\n",
       "    </tr>\n",
       "  </thead>\n",
       "  <tbody>\n",
       "    <tr>\n",
       "      <th>0</th>\n",
       "      <td>\\n \\n \\n #include \"IncludeMarker\"\\n \\n #include &lt;IncludeMarker&gt;\\n \\n #ifdef _WIN32\\n #include &lt;IncludeMarker&gt;\\n #include &lt;IncludeMarker&gt;\\n #include &lt;IncludeMarker&gt;\\n #pragma comment(lib, \"ws2_32\") \\n #define DefineMarker closesocket\\n #else \\n #include &lt;IncludeMarker&gt;\\n #include &lt;IncludeMarker&gt;\\n #include &lt;IncludeMarker&gt;\\n #include &lt;IncludeMarker&gt;\\n #include &lt;IncludeMarker&gt;\\n #define DefineMar...</td>\n",
       "      <td>CWE114</td>\n",
       "      <td>SARD</td>\n",
       "      <td>0</td>\n",
       "    </tr>\n",
       "    <tr>\n",
       "      <th>1</th>\n",
       "      <td>\\n \\n \\n #include \"IncludeMarker\"\\n \\n #include &lt;IncludeMarker&gt;\\n \\n #ifdef _WIN32\\n #include &lt;IncludeMarker&gt;\\n #include &lt;IncludeMarker&gt;\\n #include &lt;IncludeMarker&gt;\\n #pragma comment(lib, \"ws2_32\") \\n #define DefineMarker closesocket\\n #else \\n #include &lt;IncludeMarker&gt;\\n #include &lt;IncludeMarker&gt;\\n #include &lt;IncludeMarker&gt;\\n #include &lt;IncludeMarker&gt;\\n #include &lt;IncludeMarker&gt;\\n #define DefineMar...</td>\n",
       "      <td>CWE114</td>\n",
       "      <td>SARD</td>\n",
       "      <td>0</td>\n",
       "    </tr>\n",
       "    <tr>\n",
       "      <th>2</th>\n",
       "      <td>\\n \\n \\n #include \"IncludeMarker\"\\n \\n #include &lt;IncludeMarker&gt;\\n \\n #ifdef _WIN32\\n #include &lt;IncludeMarker&gt;\\n #include &lt;IncludeMarker&gt;\\n #include &lt;IncludeMarker&gt;\\n #pragma comment(lib, \"ws2_32\") \\n #define DefineMarker closesocket\\n #else \\n #include &lt;IncludeMarker&gt;\\n #include &lt;IncludeMarker&gt;\\n #include &lt;IncludeMarker&gt;\\n #include &lt;IncludeMarker&gt;\\n #include &lt;IncludeMarker&gt;\\n #define DefineMar...</td>\n",
       "      <td>CWE114</td>\n",
       "      <td>SARD</td>\n",
       "      <td>0</td>\n",
       "    </tr>\n",
       "    <tr>\n",
       "      <th>3</th>\n",
       "      <td>\\n \\n \\n #include \"IncludeMarker\"\\n \\n #include &lt;IncludeMarker&gt;\\n \\n #ifdef _WIN32\\n #include &lt;IncludeMarker&gt;\\n #include &lt;IncludeMarker&gt;\\n #include &lt;IncludeMarker&gt;\\n #pragma comment(lib, \"ws2_32\") \\n #define DefineMarker closesocket\\n #else \\n #include &lt;IncludeMarker&gt;\\n #include &lt;IncludeMarker&gt;\\n #include &lt;IncludeMarker&gt;\\n #include &lt;IncludeMarker&gt;\\n #include &lt;IncludeMarker&gt;\\n #define DefineMar...</td>\n",
       "      <td>CWE114</td>\n",
       "      <td>SARD</td>\n",
       "      <td>0</td>\n",
       "    </tr>\n",
       "    <tr>\n",
       "      <th>4</th>\n",
       "      <td>\\n \\n \\n #include \"IncludeMarker\"\\n \\n #include &lt;IncludeMarker&gt;\\n \\n #ifdef _WIN32\\n #include &lt;IncludeMarker&gt;\\n #include &lt;IncludeMarker&gt;\\n #include &lt;IncludeMarker&gt;\\n #pragma comment(lib, \"ws2_32\") \\n #define DefineMarker closesocket\\n #else \\n #include &lt;IncludeMarker&gt;\\n #include &lt;IncludeMarker&gt;\\n #include &lt;IncludeMarker&gt;\\n #include &lt;IncludeMarker&gt;\\n #include &lt;IncludeMarker&gt;\\n #define DefineMar...</td>\n",
       "      <td>CWE114</td>\n",
       "      <td>SARD</td>\n",
       "      <td>0</td>\n",
       "    </tr>\n",
       "  </tbody>\n",
       "</table>\n",
       "</div>"
      ],
      "text/plain": [
       "                                                                                                                                                                                                                                                                                                                                                                                                              code  \\\n",
       "0  \\n \\n \\n #include \"IncludeMarker\"\\n \\n #include <IncludeMarker>\\n \\n #ifdef _WIN32\\n #include <IncludeMarker>\\n #include <IncludeMarker>\\n #include <IncludeMarker>\\n #pragma comment(lib, \"ws2_32\") \\n #define DefineMarker closesocket\\n #else \\n #include <IncludeMarker>\\n #include <IncludeMarker>\\n #include <IncludeMarker>\\n #include <IncludeMarker>\\n #include <IncludeMarker>\\n #define DefineMar...   \n",
       "1  \\n \\n \\n #include \"IncludeMarker\"\\n \\n #include <IncludeMarker>\\n \\n #ifdef _WIN32\\n #include <IncludeMarker>\\n #include <IncludeMarker>\\n #include <IncludeMarker>\\n #pragma comment(lib, \"ws2_32\") \\n #define DefineMarker closesocket\\n #else \\n #include <IncludeMarker>\\n #include <IncludeMarker>\\n #include <IncludeMarker>\\n #include <IncludeMarker>\\n #include <IncludeMarker>\\n #define DefineMar...   \n",
       "2  \\n \\n \\n #include \"IncludeMarker\"\\n \\n #include <IncludeMarker>\\n \\n #ifdef _WIN32\\n #include <IncludeMarker>\\n #include <IncludeMarker>\\n #include <IncludeMarker>\\n #pragma comment(lib, \"ws2_32\") \\n #define DefineMarker closesocket\\n #else \\n #include <IncludeMarker>\\n #include <IncludeMarker>\\n #include <IncludeMarker>\\n #include <IncludeMarker>\\n #include <IncludeMarker>\\n #define DefineMar...   \n",
       "3  \\n \\n \\n #include \"IncludeMarker\"\\n \\n #include <IncludeMarker>\\n \\n #ifdef _WIN32\\n #include <IncludeMarker>\\n #include <IncludeMarker>\\n #include <IncludeMarker>\\n #pragma comment(lib, \"ws2_32\") \\n #define DefineMarker closesocket\\n #else \\n #include <IncludeMarker>\\n #include <IncludeMarker>\\n #include <IncludeMarker>\\n #include <IncludeMarker>\\n #include <IncludeMarker>\\n #define DefineMar...   \n",
       "4  \\n \\n \\n #include \"IncludeMarker\"\\n \\n #include <IncludeMarker>\\n \\n #ifdef _WIN32\\n #include <IncludeMarker>\\n #include <IncludeMarker>\\n #include <IncludeMarker>\\n #pragma comment(lib, \"ws2_32\") \\n #define DefineMarker closesocket\\n #else \\n #include <IncludeMarker>\\n #include <IncludeMarker>\\n #include <IncludeMarker>\\n #include <IncludeMarker>\\n #include <IncludeMarker>\\n #define DefineMar...   \n",
       "\n",
       "  CWE-Type DataType  label  \n",
       "0   CWE114     SARD      0  \n",
       "1   CWE114     SARD      0  \n",
       "2   CWE114     SARD      0  \n",
       "3   CWE114     SARD      0  \n",
       "4   CWE114     SARD      0  "
      ]
     },
     "execution_count": 5,
     "metadata": {},
     "output_type": "execute_result"
    }
   ],
   "source": [
    "df['label']=df['CWE-Type'].map(label2id)\n",
    "df.head()"
   ]
  },
  {
   "cell_type": "markdown",
   "metadata": {},
   "source": [
    "Разобъем датасет на тренировочную и отложенную выборку"
   ]
  },
  {
   "cell_type": "code",
   "execution_count": 6,
   "metadata": {
    "execution": {
     "iopub.execute_input": "2023-12-08T02:47:00.722772Z",
     "iopub.status.busy": "2023-12-08T02:47:00.722384Z",
     "iopub.status.idle": "2023-12-08T02:47:00.743110Z",
     "shell.execute_reply": "2023-12-08T02:47:00.741923Z",
     "shell.execute_reply.started": "2023-12-08T02:47:00.722743Z"
    }
   },
   "outputs": [],
   "source": [
    "df_train, df_test = train_test_split(df, test_size=0.2, random_state=42)"
   ]
  },
  {
   "cell_type": "markdown",
   "metadata": {},
   "source": [
    "### 2. Модель CodeBert <a name='bert'></a>"
   ]
  },
  {
   "cell_type": "markdown",
   "metadata": {},
   "source": [
    "Для загрузки данных мы будем использовать библиотеку [Datasets](https://huggingface.co/docs/datasets/index). \n",
    "\n",
    "**Datasets** - это библиотека для простого доступа к наборам данных и совместного их использования для задач аудио, компьютерного зрения и обработки естественного языка (NLP).\n",
    "\n",
    "Позволяет загружать наборы данных и использовать встроенные методы обработки данных для подготовки датасетов для использования в обучении нейросетевых моделей. Библиотека поддерживает формат Apache Arrow и обрабатывает большие наборы данных без каких-либо ограничений памяти для оптимальной скорости и эффективности. Также библиотека интегрировна с Hugging Face Hub, что позволяет легко загружать набор данных и делиться им с сообществом."
   ]
  },
  {
   "cell_type": "code",
   "execution_count": 7,
   "metadata": {
    "execution": {
     "iopub.execute_input": "2023-12-08T02:47:03.519602Z",
     "iopub.status.busy": "2023-12-08T02:47:03.518324Z",
     "iopub.status.idle": "2023-12-08T02:47:04.145155Z",
     "shell.execute_reply": "2023-12-08T02:47:04.144113Z",
     "shell.execute_reply.started": "2023-12-08T02:47:03.519559Z"
    }
   },
   "outputs": [],
   "source": [
    "dataset = {}\n",
    "dataset['text'] = list(df_train['code'])\n",
    "dataset['label'] = list(df_train['label'])\n",
    "ds = Dataset.from_dict(dataset)\n",
    "ds = ds.train_test_split(test_size=0.1)"
   ]
  },
  {
   "cell_type": "markdown",
   "metadata": {},
   "source": [
    "Токенизируем входные последовательности с текстом программ с помощью обученного токенизатора Сodebert-base-mlm"
   ]
  },
  {
   "cell_type": "code",
   "execution_count": 8,
   "metadata": {
    "execution": {
     "iopub.execute_input": "2023-12-08T02:47:07.783796Z",
     "iopub.status.busy": "2023-12-08T02:47:07.782984Z",
     "iopub.status.idle": "2023-12-08T02:47:08.885330Z",
     "shell.execute_reply": "2023-12-08T02:47:08.884328Z",
     "shell.execute_reply.started": "2023-12-08T02:47:07.783761Z"
    }
   },
   "outputs": [
    {
     "data": {
      "application/vnd.jupyter.widget-view+json": {
       "model_id": "20ce86b83aa547aa9d680d9a247dcb18",
       "version_major": 2,
       "version_minor": 0
      },
      "text/plain": [
       "tokenizer_config.json:   0%|          | 0.00/25.0 [00:00<?, ?B/s]"
      ]
     },
     "metadata": {},
     "output_type": "display_data"
    },
    {
     "data": {
      "application/vnd.jupyter.widget-view+json": {
       "model_id": "d1d3bd8408324062b3a019befb9088f2",
       "version_major": 2,
       "version_minor": 0
      },
      "text/plain": [
       "vocab.json:   0%|          | 0.00/899k [00:00<?, ?B/s]"
      ]
     },
     "metadata": {},
     "output_type": "display_data"
    },
    {
     "data": {
      "application/vnd.jupyter.widget-view+json": {
       "model_id": "d7e19aefd2ae421683acdba998ff090d",
       "version_major": 2,
       "version_minor": 0
      },
      "text/plain": [
       "merges.txt:   0%|          | 0.00/456k [00:00<?, ?B/s]"
      ]
     },
     "metadata": {},
     "output_type": "display_data"
    },
    {
     "data": {
      "application/vnd.jupyter.widget-view+json": {
       "model_id": "2b5738bbcb574bfd8250b3a5762599a0",
       "version_major": 2,
       "version_minor": 0
      },
      "text/plain": [
       "special_tokens_map.json:   0%|          | 0.00/150 [00:00<?, ?B/s]"
      ]
     },
     "metadata": {},
     "output_type": "display_data"
    },
    {
     "data": {
      "application/vnd.jupyter.widget-view+json": {
       "model_id": "ace2c9d6c2a44a69a4463873f7d2fd3f",
       "version_major": 2,
       "version_minor": 0
      },
      "text/plain": [
       "config.json:   0%|          | 0.00/504 [00:00<?, ?B/s]"
      ]
     },
     "metadata": {},
     "output_type": "display_data"
    }
   ],
   "source": [
    "tokenizer = RobertaTokenizer.from_pretrained('microsoft/codebert-base-mlm')"
   ]
  },
  {
   "cell_type": "code",
   "execution_count": 9,
   "metadata": {
    "execution": {
     "iopub.execute_input": "2023-12-08T02:47:11.039720Z",
     "iopub.status.busy": "2023-12-08T02:47:11.039308Z",
     "iopub.status.idle": "2023-12-08T02:52:13.249342Z",
     "shell.execute_reply": "2023-12-08T02:52:13.248260Z",
     "shell.execute_reply.started": "2023-12-08T02:47:11.039688Z"
    }
   },
   "outputs": [
    {
     "data": {
      "application/vnd.jupyter.widget-view+json": {
       "model_id": "363e6a434f064272b138eafbbb9e3870",
       "version_major": 2,
       "version_minor": 0
      },
      "text/plain": [
       "  0%|          | 0/39 [00:00<?, ?ba/s]"
      ]
     },
     "metadata": {},
     "output_type": "display_data"
    },
    {
     "data": {
      "application/vnd.jupyter.widget-view+json": {
       "model_id": "e1d26c217363457fabf52cf84c9ee8f0",
       "version_major": 2,
       "version_minor": 0
      },
      "text/plain": [
       "  0%|          | 0/5 [00:00<?, ?ba/s]"
      ]
     },
     "metadata": {},
     "output_type": "display_data"
    }
   ],
   "source": [
    "def preprocess_function(examples):\n",
    "    return tokenizer(examples[\"text\"], truncation=True)\n",
    "\n",
    "tokenized_dataset = ds.map(preprocess_function, batched=True)"
   ]
  },
  {
   "cell_type": "markdown",
   "metadata": {},
   "source": [
    "**Data Collator**\n",
    "\n",
    "Data Collators - это объекты, которые будут формировать батчи (порции данных), используя список элементов набора данных в качестве входных данных. Эти элементы того же типа, что и элементы train_dataset или eval_dataset.\n",
    "\n",
    "Чтобы иметь возможность создавать батчи, сборщики данных могут применять некоторую обработку (например, padding). "
   ]
  },
  {
   "cell_type": "code",
   "execution_count": 10,
   "metadata": {
    "execution": {
     "iopub.execute_input": "2023-12-08T02:54:12.610780Z",
     "iopub.status.busy": "2023-12-08T02:54:12.610323Z",
     "iopub.status.idle": "2023-12-08T02:54:12.615869Z",
     "shell.execute_reply": "2023-12-08T02:54:12.614679Z",
     "shell.execute_reply.started": "2023-12-08T02:54:12.610729Z"
    }
   },
   "outputs": [],
   "source": [
    "data_collator = DataCollatorWithPadding(tokenizer=tokenizer)"
   ]
  },
  {
   "cell_type": "markdown",
   "metadata": {},
   "source": [
    "**Evaluate**\n",
    "Библиотека для простой оценки моделей машинного обучения и наборов данных.\n",
    "\n",
    "С помощью одной строки кода библиотека дает доступ к десяткам методов оценки для различных областей (NLP, компьютерное зрение, обучение с подкреплением и др.)"
   ]
  },
  {
   "cell_type": "code",
   "execution_count": 11,
   "metadata": {
    "execution": {
     "iopub.execute_input": "2023-12-08T02:54:18.056358Z",
     "iopub.status.busy": "2023-12-08T02:54:18.055951Z",
     "iopub.status.idle": "2023-12-08T02:54:18.508868Z",
     "shell.execute_reply": "2023-12-08T02:54:18.507999Z",
     "shell.execute_reply.started": "2023-12-08T02:54:18.056325Z"
    }
   },
   "outputs": [
    {
     "data": {
      "application/vnd.jupyter.widget-view+json": {
       "model_id": "728a0adeb65f4309acab59e07903f5bb",
       "version_major": 2,
       "version_minor": 0
      },
      "text/plain": [
       "Downloading builder script:   0%|          | 0.00/4.20k [00:00<?, ?B/s]"
      ]
     },
     "metadata": {},
     "output_type": "display_data"
    }
   ],
   "source": [
    "accuracy = evaluate.load(\"accuracy\")\n",
    "\n",
    "def compute_metrics(eval_pred):\n",
    "    predictions, labels = eval_pred\n",
    "    predictions = np.argmax(predictions, axis=1)\n",
    "    return accuracy.compute(predictions=predictions, references=labels)"
   ]
  },
  {
   "cell_type": "markdown",
   "metadata": {},
   "source": [
    "[CodeBert](https://github.com/microsoft/CodeBERT)\n",
    "\n",
    "Предварительно обученная модель, взятая из статьи исследовательского подразделения Microsoft. Для обучения этой модели использовался набор данных CodeSearchNet, но вместо генерирования комментариев он использовался для обучения модели на основе RoBERTa удобному для восприятия представлению кода и естественного языка."
   ]
  },
  {
   "cell_type": "code",
   "execution_count": 12,
   "metadata": {
    "execution": {
     "iopub.execute_input": "2023-12-08T02:54:21.831596Z",
     "iopub.status.busy": "2023-12-08T02:54:21.830808Z",
     "iopub.status.idle": "2023-12-08T02:54:39.859941Z",
     "shell.execute_reply": "2023-12-08T02:54:39.858839Z",
     "shell.execute_reply.started": "2023-12-08T02:54:21.831563Z"
    }
   },
   "outputs": [
    {
     "data": {
      "application/vnd.jupyter.widget-view+json": {
       "model_id": "cef3b76c026749f3ba5612decde8ae8e",
       "version_major": 2,
       "version_minor": 0
      },
      "text/plain": [
       "pytorch_model.bin:   0%|          | 0.00/501M [00:00<?, ?B/s]"
      ]
     },
     "metadata": {},
     "output_type": "display_data"
    },
    {
     "name": "stderr",
     "output_type": "stream",
     "text": [
      "Some weights of RobertaForSequenceClassification were not initialized from the model checkpoint at microsoft/codebert-base-mlm and are newly initialized: ['classifier.out_proj.weight', 'classifier.dense.bias', 'classifier.out_proj.bias', 'classifier.dense.weight']\n",
      "You should probably TRAIN this model on a down-stream task to be able to use it for predictions and inference.\n"
     ]
    }
   ],
   "source": [
    "model = AutoModelForSequenceClassification.from_pretrained(\n",
    "    \"microsoft/codebert-base-mlm\", num_labels=109, id2label=id2label, label2id=label2id\n",
    ")"
   ]
  },
  {
   "cell_type": "markdown",
   "metadata": {},
   "source": [
    "Класс **Trainer** предоставляет API для полнофункционального обучения в PyTorch для большинства стандартных вариантов использования. \n",
    "\n",
    "Перед созданием экземпляра Trainer необходимо создать аргументы для обучения, чтобы получить доступ ко всем точкам настройки во время обучения.\n",
    "\n",
    "API поддерживает распределенное обучение на нескольких графических процессорах, смешанную точность с помощью NVIDIA Apex и собственный ускоритель для PyTorch.\n",
    "\n",
    "Trainer содержит базовый цикл обучения, который поддерживает вышеуказанные функции. Чтобы внедрить пользовательские функции, можно переопределить следующие методы:\n",
    "- get_train_dataloader — Creates the training DataLoader.\n",
    "- get_eval_dataloader — Creates the evaluation DataLoader.\n",
    "- get_test_dataloader — Creates the test DataLoader.\n",
    "- log — Logs information on the various objects watching training.\n",
    "- create_optimizer_and_scheduler — Sets up the optimizer and learning rate scheduler if they were not passed at - init. Note, that you can also subclass or override the create_optimizer and create_scheduler methods separately.\n",
    "- create_optimizer — Sets up the optimizer if it wasn’t passed at init.\n",
    "- create_scheduler — Sets up the learning rate scheduler if it wasn’t passed at init.\n",
    "- compute_loss - Computes the loss on a batch of training inputs.\n",
    "- training_step — Performs a training step.\n",
    "- prediction_step — Performs an evaluation/test step.\n",
    "- evaluate — Runs an evaluation loop and returns metrics.\n",
    "- predict — Returns predictions (with metrics if labels are available) on a test set."
   ]
  },
  {
   "cell_type": "code",
   "execution_count": 13,
   "metadata": {
    "execution": {
     "iopub.execute_input": "2023-12-08T02:54:46.020004Z",
     "iopub.status.busy": "2023-12-08T02:54:46.018855Z",
     "iopub.status.idle": "2023-12-08T03:32:21.894190Z",
     "shell.execute_reply": "2023-12-08T03:32:21.893013Z",
     "shell.execute_reply.started": "2023-12-08T02:54:46.019954Z"
    }
   },
   "outputs": [
    {
     "name": "stderr",
     "output_type": "stream",
     "text": [
      "\u001b[34m\u001b[1mwandb\u001b[0m: Logging into wandb.ai. (Learn how to deploy a W&B server locally: https://wandb.me/wandb-server)\n",
      "\u001b[34m\u001b[1mwandb\u001b[0m: You can find your API key in your browser here: https://wandb.ai/authorize\n",
      "\u001b[34m\u001b[1mwandb\u001b[0m: Paste an API key from your profile and hit enter, or press ctrl+c to quit:"
     ]
    },
    {
     "name": "stdin",
     "output_type": "stream",
     "text": [
      "  ········································\n"
     ]
    },
    {
     "name": "stderr",
     "output_type": "stream",
     "text": [
      "\u001b[34m\u001b[1mwandb\u001b[0m: Appending key for api.wandb.ai to your netrc file: /root/.netrc\n"
     ]
    },
    {
     "data": {
      "text/html": [
       "Tracking run with wandb version 0.16.1"
      ],
      "text/plain": [
       "<IPython.core.display.HTML object>"
      ]
     },
     "metadata": {},
     "output_type": "display_data"
    },
    {
     "data": {
      "text/html": [
       "Run data is saved locally in <code>/kaggle/working/wandb/run-20231208_025616-jdv268vi</code>"
      ],
      "text/plain": [
       "<IPython.core.display.HTML object>"
      ]
     },
     "metadata": {},
     "output_type": "display_data"
    },
    {
     "data": {
      "text/html": [
       "Syncing run <strong><a href='https://wandb.ai/lina_team/huggingface/runs/jdv268vi' target=\"_blank\">restful-aardvark-9</a></strong> to <a href='https://wandb.ai/lina_team/huggingface' target=\"_blank\">Weights & Biases</a> (<a href='https://wandb.me/run' target=\"_blank\">docs</a>)<br/>"
      ],
      "text/plain": [
       "<IPython.core.display.HTML object>"
      ]
     },
     "metadata": {},
     "output_type": "display_data"
    },
    {
     "data": {
      "text/html": [
       " View project at <a href='https://wandb.ai/lina_team/huggingface' target=\"_blank\">https://wandb.ai/lina_team/huggingface</a>"
      ],
      "text/plain": [
       "<IPython.core.display.HTML object>"
      ]
     },
     "metadata": {},
     "output_type": "display_data"
    },
    {
     "data": {
      "text/html": [
       " View run at <a href='https://wandb.ai/lina_team/huggingface/runs/jdv268vi' target=\"_blank\">https://wandb.ai/lina_team/huggingface/runs/jdv268vi</a>"
      ],
      "text/plain": [
       "<IPython.core.display.HTML object>"
      ]
     },
     "metadata": {},
     "output_type": "display_data"
    },
    {
     "data": {
      "text/html": [
       "\n",
       "    <div>\n",
       "      \n",
       "      <progress value='2376' max='2376' style='width:300px; height:20px; vertical-align: middle;'></progress>\n",
       "      [2376/2376 35:31, Epoch 1/1]\n",
       "    </div>\n",
       "    <table border=\"1\" class=\"dataframe\">\n",
       "  <thead>\n",
       " <tr style=\"text-align: left;\">\n",
       "      <th>Epoch</th>\n",
       "      <th>Training Loss</th>\n",
       "      <th>Validation Loss</th>\n",
       "      <th>Accuracy</th>\n",
       "    </tr>\n",
       "  </thead>\n",
       "  <tbody>\n",
       "    <tr>\n",
       "      <td>1</td>\n",
       "      <td>0.669600</td>\n",
       "      <td>0.546267</td>\n",
       "      <td>0.864379</td>\n",
       "    </tr>\n",
       "  </tbody>\n",
       "</table><p>"
      ],
      "text/plain": [
       "<IPython.core.display.HTML object>"
      ]
     },
     "metadata": {},
     "output_type": "display_data"
    },
    {
     "data": {
      "text/plain": [
       "TrainOutput(global_step=2376, training_loss=1.275373895561655, metrics={'train_runtime': 2249.2394, 'train_samples_per_second': 16.902, 'train_steps_per_second': 1.056, 'total_flos': 1.0012039313227776e+16, 'train_loss': 1.275373895561655, 'epoch': 1.0})"
      ]
     },
     "execution_count": 13,
     "metadata": {},
     "output_type": "execute_result"
    }
   ],
   "source": [
    "training_args = TrainingArguments(\n",
    "    output_dir=\"trained_model\",\n",
    "    learning_rate=2e-5,\n",
    "    per_device_train_batch_size=16,\n",
    "    per_device_eval_batch_size=16,\n",
    "    num_train_epochs=1,\n",
    "    weight_decay=0.01,\n",
    "    evaluation_strategy=\"epoch\",\n",
    "    save_strategy=\"epoch\",\n",
    "    load_best_model_at_end=True,\n",
    "    report_to=\"wandb\"\n",
    ")\n",
    "\n",
    "trainer = Trainer(\n",
    "    model=model,\n",
    "    args=training_args,\n",
    "    train_dataset=tokenized_dataset[\"train\"],\n",
    "    eval_dataset=tokenized_dataset[\"test\"],\n",
    "    tokenizer=tokenizer,\n",
    "    data_collator=data_collator,\n",
    "    compute_metrics=compute_metrics,\n",
    ")\n",
    "\n",
    "trainer.train()"
   ]
  },
  {
   "cell_type": "markdown",
   "metadata": {},
   "source": [
    "### Тестирование обученной модели"
   ]
  },
  {
   "cell_type": "code",
   "execution_count": 18,
   "metadata": {
    "execution": {
     "iopub.execute_input": "2023-12-08T03:35:56.398932Z",
     "iopub.status.busy": "2023-12-08T03:35:56.398445Z",
     "iopub.status.idle": "2023-12-08T03:40:41.540626Z",
     "shell.execute_reply": "2023-12-08T03:40:41.539542Z",
     "shell.execute_reply.started": "2023-12-08T03:35:56.398897Z"
    }
   },
   "outputs": [],
   "source": [
    "device = 'cuda' if torch.cuda.is_available() else 'cpu'\n",
    "\n",
    "preds = []\n",
    "for i in df_test['code'].values:\n",
    "    with torch.no_grad():\n",
    "        inputs = tokenizer(i, return_tensors=\"pt\",  truncation=True).to(device)\n",
    "        logits = model(**inputs).logits\n",
    "        predicted_class_id = logits.argmax().item()\n",
    "        preds.append(predicted_class_id)"
   ]
  },
  {
   "cell_type": "code",
   "execution_count": 20,
   "metadata": {
    "execution": {
     "iopub.execute_input": "2023-12-08T03:47:02.626203Z",
     "iopub.status.busy": "2023-12-08T03:47:02.625392Z",
     "iopub.status.idle": "2023-12-08T03:47:02.641192Z",
     "shell.execute_reply": "2023-12-08T03:47:02.640036Z",
     "shell.execute_reply.started": "2023-12-08T03:47:02.626161Z"
    }
   },
   "outputs": [],
   "source": [
    "y_true = [id2label[i] for i in df_test['label'].values]\n",
    "y_pred = [id2label[i] for i in preds]"
   ]
  },
  {
   "cell_type": "code",
   "execution_count": 21,
   "metadata": {
    "execution": {
     "iopub.execute_input": "2023-12-08T03:47:07.883116Z",
     "iopub.status.busy": "2023-12-08T03:47:07.882700Z",
     "iopub.status.idle": "2023-12-08T03:47:08.076899Z",
     "shell.execute_reply": "2023-12-08T03:47:08.075816Z",
     "shell.execute_reply.started": "2023-12-08T03:47:07.883082Z"
    }
   },
   "outputs": [
    {
     "name": "stdout",
     "output_type": "stream",
     "text": [
      "              precision    recall  f1-score   support\n",
      "\n",
      "      CWE114       0.98      1.00      0.99       131\n",
      "      CWE121       0.84      0.97      0.90      1154\n",
      "      CWE122       1.00      0.83      0.90       734\n",
      "      CWE123       1.00      1.00      1.00        30\n",
      "      CWE124       0.77      0.65      0.71       351\n",
      "      CWE126       0.93      0.79      0.85       255\n",
      "      CWE127       0.80      0.77      0.78       376\n",
      "      CWE134       1.00      1.00      1.00       649\n",
      "       CWE15       0.00      0.00      0.00         9\n",
      "      CWE176       0.00      0.00      0.00        10\n",
      "      CWE188       0.00      0.00      0.00         9\n",
      "      CWE190       0.93      0.89      0.91       970\n",
      "      CWE191       0.83      0.95      0.89       739\n",
      "      CWE194       0.95      1.00      0.97       245\n",
      "      CWE195       0.63      0.98      0.77       259\n",
      "      CWE196       0.00      0.00      0.00         3\n",
      "      CWE197       0.96      0.71      0.81       194\n",
      "      CWE222       0.00      0.00      0.00         6\n",
      "      CWE223       0.00      0.00      0.00         3\n",
      "      CWE226       0.36      1.00      0.53        16\n",
      "      CWE242       0.00      0.00      0.00         1\n",
      "      CWE244       1.00      0.94      0.97        16\n",
      "      CWE247       0.00      0.00      0.00         2\n",
      "      CWE252       0.94      0.89      0.92       129\n",
      "      CWE253       0.82      1.00      0.90       146\n",
      "      CWE256       0.77      1.00      0.87        24\n",
      "      CWE259       0.75      0.56      0.64        16\n",
      "      CWE272       1.00      1.00      1.00        57\n",
      "      CWE273       0.00      0.00      0.00        10\n",
      "      CWE284       0.74      1.00      0.85        43\n",
      "      CWE319       0.64      0.98      0.77        45\n",
      "      CWE321       0.93      0.93      0.93        27\n",
      "      CWE325       0.50      1.00      0.67         9\n",
      "      CWE327       1.00      0.83      0.91        12\n",
      "      CWE328       1.00      0.83      0.91        12\n",
      "      CWE366       1.00      0.25      0.40         4\n",
      "      CWE367       0.00      0.00      0.00         5\n",
      "      CWE369       0.92      0.71      0.80       203\n",
      "      CWE377       0.66      1.00      0.79        27\n",
      "      CWE390       0.00      0.00      0.00        14\n",
      "      CWE391       0.00      0.00      0.00        17\n",
      "      CWE398       0.40      0.61      0.48        33\n",
      "      CWE400       0.90      1.00      0.95       151\n",
      "      CWE401       0.85      1.00      0.92       246\n",
      "      CWE404       0.47      0.94      0.63        86\n",
      "      CWE415       0.71      0.70      0.70        63\n",
      "      CWE416       0.00      0.00      0.00        25\n",
      "      CWE426       1.00      1.00      1.00        42\n",
      "      CWE427       1.00      1.00      1.00       103\n",
      "      CWE457       0.88      0.87      0.88       125\n",
      "      CWE459       0.00      0.00      0.00         9\n",
      "      CWE464       0.00      0.00      0.00        12\n",
      "      CWE467       0.00      0.00      0.00         7\n",
      "      CWE468       1.00      0.17      0.29         6\n",
      "      CWE469       1.00      0.83      0.91        12\n",
      "      CWE475       0.00      0.00      0.00        10\n",
      "      CWE476       0.80      0.90      0.85        73\n",
      "      CWE478       1.00      1.00      1.00         2\n",
      "      CWE479       0.00      0.00      0.00         5\n",
      "      CWE480       0.00      0.00      0.00         3\n",
      "      CWE481       0.00      0.00      0.00         2\n",
      "      CWE482       0.00      0.00      0.00         6\n",
      "      CWE483       0.00      0.00      0.00         3\n",
      "      CWE484       0.00      0.00      0.00         3\n",
      "      CWE506       0.42      0.58      0.48        26\n",
      "      CWE510       1.00      0.62      0.76        13\n",
      "      CWE511       1.00      0.65      0.79        17\n",
      "      CWE526       0.00      0.00      0.00         4\n",
      "      CWE534       0.00      0.00      0.00        10\n",
      "      CWE535       0.00      0.00      0.00         9\n",
      "      CWE546       0.76      0.79      0.78        24\n",
      "      CWE562       0.00      0.00      0.00         1\n",
      "      CWE563       0.61      1.00      0.76        72\n",
      "      CWE570       0.00      0.00      0.00         1\n",
      "      CWE571       0.00      0.00      0.00         1\n",
      "      CWE587       0.00      0.00      0.00         4\n",
      "      CWE588       0.00      0.00      0.00        10\n",
      "      CWE590       0.98      0.94      0.96       184\n",
      "      CWE591       1.00      0.76      0.86        21\n",
      "      CWE605       0.00      0.00      0.00         3\n",
      "      CWE606       0.99      1.00      0.99        99\n",
      "      CWE615       0.00      0.00      0.00         5\n",
      "      CWE617       1.00      0.96      0.98        69\n",
      "      CWE620       0.00      0.00      0.00         5\n",
      "      CWE665       0.91      0.71      0.79        41\n",
      "      CWE666       0.00      0.00      0.00        18\n",
      "      CWE667       0.00      0.00      0.00         5\n",
      "      CWE674       0.00      0.00      0.00         2\n",
      "      CWE675       1.00      0.45      0.62        38\n",
      "      CWE680       1.00      0.46      0.63        68\n",
      "      CWE681       1.00      0.88      0.93         8\n",
      "      CWE685       0.00      0.00      0.00         5\n",
      "      CWE688       0.00      0.00      0.00         1\n",
      "      CWE690       0.96      0.96      0.96       205\n",
      "      CWE758       0.84      0.96      0.89        75\n",
      "      CWE761       1.00      0.99      1.00       140\n",
      "      CWE773       0.00      0.00      0.00        36\n",
      "      CWE775       0.00      0.00      0.00        26\n",
      "       CWE78       1.00      1.00      1.00      1088\n",
      "      CWE780       0.00      0.00      0.00         2\n",
      "      CWE785       1.00      0.50      0.67         2\n",
      "      CWE789       1.00      1.00      1.00       104\n",
      "      CWE832       0.00      0.00      0.00         3\n",
      "      CWE835       0.00      0.00      0.00         1\n",
      "      CWE843       0.00      0.00      0.00        15\n",
      "       CWE90       0.86      1.00      0.92       111\n",
      "\n",
      "    accuracy                           0.88     10561\n",
      "   macro avg       0.50      0.49      0.48     10561\n",
      "weighted avg       0.87      0.88      0.87     10561\n",
      "\n"
     ]
    },
    {
     "name": "stderr",
     "output_type": "stream",
     "text": [
      "/opt/conda/lib/python3.10/site-packages/sklearn/metrics/_classification.py:1344: UndefinedMetricWarning: Precision and F-score are ill-defined and being set to 0.0 in labels with no predicted samples. Use `zero_division` parameter to control this behavior.\n",
      "  _warn_prf(average, modifier, msg_start, len(result))\n",
      "/opt/conda/lib/python3.10/site-packages/sklearn/metrics/_classification.py:1344: UndefinedMetricWarning: Precision and F-score are ill-defined and being set to 0.0 in labels with no predicted samples. Use `zero_division` parameter to control this behavior.\n",
      "  _warn_prf(average, modifier, msg_start, len(result))\n",
      "/opt/conda/lib/python3.10/site-packages/sklearn/metrics/_classification.py:1344: UndefinedMetricWarning: Precision and F-score are ill-defined and being set to 0.0 in labels with no predicted samples. Use `zero_division` parameter to control this behavior.\n",
      "  _warn_prf(average, modifier, msg_start, len(result))\n"
     ]
    }
   ],
   "source": [
    "from sklearn.metrics import classification_report\n",
    "print(classification_report(y_true, y_pred))"
   ]
  },
  {
   "cell_type": "code",
   "execution_count": null,
   "metadata": {},
   "outputs": [],
   "source": []
  }
 ],
 "metadata": {
  "kaggle": {
   "accelerator": "gpu",
   "dataSources": [
    {
     "datasetId": 2140221,
     "sourceId": 3561015,
     "sourceType": "datasetVersion"
    }
   ],
   "dockerImageVersionId": 30616,
   "isGpuEnabled": true,
   "isInternetEnabled": true,
   "language": "python",
   "sourceType": "notebook"
  },
  "kernelspec": {
   "display_name": "Python 3 (ipykernel)",
   "language": "python",
   "name": "python3"
  },
  "language_info": {
   "codemirror_mode": {
    "name": "ipython",
    "version": 3
   },
   "file_extension": ".py",
   "mimetype": "text/x-python",
   "name": "python",
   "nbconvert_exporter": "python",
   "pygments_lexer": "ipython3",
   "version": "3.9.13"
  }
 },
 "nbformat": 4,
 "nbformat_minor": 4
}
