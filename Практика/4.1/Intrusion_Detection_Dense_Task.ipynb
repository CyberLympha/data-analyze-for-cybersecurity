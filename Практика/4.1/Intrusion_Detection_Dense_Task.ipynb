{
  "nbformat": 4,
  "nbformat_minor": 0,
  "metadata": {
    "colab": {
      "provenance": []
    },
    "kernelspec": {
      "name": "python3",
      "display_name": "Python 3"
    },
    "language_info": {
      "name": "python"
    }
  },
  "cells": [
    {
      "cell_type": "markdown",
      "source": [
        "# Применение моделей машинного обучения для обнаружения сетевых атак"
      ],
      "metadata": {
        "id": "BvHANb2lxkzo"
      }
    },
    {
      "cell_type": "code",
      "execution_count": null,
      "metadata": {
        "id": "71IAMPZdwFJ_"
      },
      "outputs": [],
      "source": [
        "import pandas as pd\n",
        "from sklearn.preprocessing import RobustScaler\n",
        "import matplotlib.pyplot as plt\n",
        "import seaborn as sns\n",
        "import tensorflow as tf\n",
        "from keras import regularizers\n",
        "from keras import Sequential\n",
        "from keras.layers import Dense\n",
        "from keras.optimizers import Adam\n",
        "from sklearn.metrics import confusion_matrix, classification_report\n",
        "from sklearn.model_selection import train_test_split\n",
        "from sklearn.decomposition import PCA\n",
        "from sklearn import metrics"
      ]
    },
    {
      "cell_type": "markdown",
      "source": [
        "Описание датасета https://www.unb.ca/cic/datasets/nsl.html\n",
        "\n",
        "\n",
        "Файл с данными:\n",
        "https://drive.google.com/file/d/19SK6HfVjDTmvDB82mqpLjJPWmd7XHrVv/view?usp=sharing"
      ],
      "metadata": {
        "id": "QAgfSwauR4vY"
      }
    },
    {
      "cell_type": "markdown",
      "source": [
        "## Загрузка данных"
      ],
      "metadata": {
        "id": "mkIuowqlxhDE"
      }
    },
    {
      "cell_type": "markdown",
      "source": [
        "Загрузите датасет и получите информацию о нем."
      ],
      "metadata": {
        "id": "84SF9DxvxMKH"
      }
    },
    {
      "cell_type": "code",
      "source": [
        "df1 = ..."
      ],
      "metadata": {
        "id": "BUVTAENhxL2X"
      },
      "execution_count": 1,
      "outputs": []
    },
    {
      "cell_type": "code",
      "source": [
        "def pie_plot(df, cols_list, rows, cols):\n",
        "    fig, axes = plt.subplots(rows, cols)\n",
        "    for ax, col in zip(axes.ravel(), cols_list):\n",
        "        df[col].value_counts().plot(ax=ax, kind='pie', figsize=(15, 15), fontsize=10, autopct='%1.0f%%')\n",
        "        ax.set_title(str(col), fontsize = 12)\n",
        "    plt.show()\n",
        "pie_plot(df1, ['protocol_type', 'outcome'], 1, 2)"
      ],
      "metadata": {
        "id": "Ew1CMCRs8zA2"
      },
      "execution_count": null,
      "outputs": []
    },
    {
      "cell_type": "markdown",
      "source": [
        "## Предварительная обработка данных"
      ],
      "metadata": {
        "id": "jSKzhDSI6SXB"
      }
    },
    {
      "cell_type": "code",
      "source": [
        "df1.loc[df1['outcome'] == \"normal\", \"outcome\"] = 'normal'\n",
        "df1.loc[df1['outcome'] != 'normal', \"outcome\"] = 'attack'"
      ],
      "metadata": {
        "id": "AIRDLgwG2aE1"
      },
      "execution_count": null,
      "outputs": []
    },
    {
      "cell_type": "code",
      "source": [
        "df1['level'].unique(), df1['outcome'].unique()"
      ],
      "metadata": {
        "colab": {
          "base_uri": "https://localhost:8080/"
        },
        "id": "O1HmMP4j2gbT",
        "outputId": "493a269b-f7fb-45e0-df4d-cd173fa21957"
      },
      "execution_count": null,
      "outputs": [
        {
          "output_type": "execute_result",
          "data": {
            "text/plain": [
              "(array([20, 15, 19, 21, 18, 17, 16, 12, 14, 11,  2, 13, 10,  9,  8,  7,  3,\n",
              "         5,  1,  6,  0,  4]),\n",
              " array(['normal', 'attack'], dtype=object))"
            ]
          },
          "metadata": {},
          "execution_count": 58
        }
      ]
    },
    {
      "cell_type": "code",
      "source": [
        "def Scaling(df_num, cols):\n",
        "    std_scaler = RobustScaler()\n",
        "    ...\n",
        "    std_df = ...\n",
        "    return std_df"
      ],
      "metadata": {
        "id": "Jn0K6oZ84_1Q"
      },
      "execution_count": null,
      "outputs": []
    },
    {
      "cell_type": "code",
      "source": [
        "cat_cols = ['is_host_login','protocol_type','service','flag','land', 'logged_in','is_guest_login', 'level', 'outcome']\n",
        "def preprocess(dataframe):\n",
        "    df_num = dataframe.drop(cat_cols, axis=1)\n",
        "    num_cols = df_num.columns\n",
        "    scaled_df = Scaling(df_num, num_cols)\n",
        "\n",
        "    dataframe.drop(labels=num_cols, axis=\"columns\", inplace=True)\n",
        "    dataframe[num_cols] = scaled_df[num_cols]\n",
        "\n",
        "    dataframe.loc[dataframe['outcome'] == \"normal\", \"outcome\"] = 0\n",
        "    dataframe.loc[dataframe['outcome'] != 0, \"outcome\"] = 1\n",
        "\n",
        "    dataframe = pd.get_dummies(dataframe, columns = ['protocol_type', 'service', 'flag'])\n",
        "    return dataframe"
      ],
      "metadata": {
        "id": "ULwlYjxq5DCH"
      },
      "execution_count": null,
      "outputs": []
    },
    {
      "cell_type": "code",
      "source": [
        "df2 = preprocess(df1)"
      ],
      "metadata": {
        "id": "elp8IKfw5LEt"
      },
      "execution_count": null,
      "outputs": []
    },
    {
      "cell_type": "code",
      "source": [
        "df2.describe().style.background_gradient(cmap='Blues').set_properties(**{'font-family':'Segoe UI'})"
      ],
      "metadata": {
        "id": "rIs5Cj8O5Qmb"
      },
      "execution_count": null,
      "outputs": []
    },
    {
      "cell_type": "markdown",
      "source": [
        "## Анализ главных компонент"
      ],
      "metadata": {
        "id": "lvV2HtuD-EKJ"
      }
    },
    {
      "cell_type": "markdown",
      "source": [
        "Анализ главных компонент, или PCA, — это статистический метод преобразования данных высокой размерности в данные низкой размерности путем выбора наиболее важных признаков, которые содержат максимальную информацию о наборе данных. Признаки выбираются на основе дисперсии, которую они вызывают в выходных данных. Признак, который вызывает самую высокую дисперсию, является первым главным компонентом. Признак, который отвечает за вторую по величине дисперсию, считается вторым главным компонентом и т. д. Важно отметить, что главные компоненты не имеют никакой корреляции друг с другом.\n",
        "\n",
        "Преимущества PCA\n",
        "Существует два основных преимущества снижения размерности с помощью PCA.\n",
        "\n",
        "Время обучения алгоритмов значительно сокращается при меньшем количестве признаков.\n",
        "Не всегда возможно анализировать данные в высоких размерностях. Например, если в наборе данных 100 признаков. Общее количество диаграмм рассеяния, необходимых для визуализации данных, составит 100(100-1)2 = 4950. На практике анализировать данные таким образом невозможно.\n"
      ],
      "metadata": {
        "id": "4gfX3jDC78nE"
      }
    },
    {
      "cell_type": "code",
      "source": [
        "X = df2.drop(['outcome', 'level'] , axis = 1).values\n",
        "y = df2['outcome'].values\n",
        "\n",
        "pca = PCA(n_components=20)\n",
        "pca = ...\n",
        "x_reduced = pca.transform(X)\n",
        "print(\"Number of original features is {} and of reduced features is {}\".format(X.shape[1], x_reduced.shape[1]))"
      ],
      "metadata": {
        "id": "RdwpmMsZALGy"
      },
      "execution_count": null,
      "outputs": []
    },
    {
      "cell_type": "markdown",
      "source": [
        " ## Разделение данных на обучающую и тестовую выборки"
      ],
      "metadata": {
        "id": "tH8W4WWABfGl"
      }
    },
    {
      "cell_type": "code",
      "source": [
        "y = y.astype('int')\n",
        "x_train, x_test, y_train, y_test = ...\n",
        "x_train_reduced, x_test_reduced, y_train_reduced, y_test_reduced = ..."
      ],
      "metadata": {
        "id": "dJHWuG-3BnZg"
      },
      "execution_count": null,
      "outputs": []
    },
    {
      "cell_type": "code",
      "source": [
        "x_train_reduced.shape, x_train.shape"
      ],
      "metadata": {
        "id": "pmHa_KISBtrv"
      },
      "execution_count": null,
      "outputs": []
    },
    {
      "cell_type": "code",
      "source": [
        "y_train_reduced.shape, y_train.shape"
      ],
      "metadata": {
        "id": "wNdeulMrHhgW"
      },
      "execution_count": null,
      "outputs": []
    },
    {
      "cell_type": "markdown",
      "source": [
        "## Модель нейронной сети для задачи классификации"
      ],
      "metadata": {
        "id": "hNbwNRZ7CjZO"
      }
    },
    {
      "cell_type": "markdown",
      "source": [
        "Слои\n",
        "\n",
        "Плотный слой: полностью связанный слой, в котором каждый нейрон соединяется с каждым нейроном в следующем слое.\n",
        "Сверточный слой: необходим для обработки данных изображений, захвата пространственных иерархий.\n",
        "Рекуррентный слой: подходит для последовательных данных, таких как текст и временные ряды, позволяя сети сохранять информацию с течением времени.\n",
        "\n",
        "Компиляция\n",
        "\n",
        "Функции потерь: измеряют, насколько хорошо работает модель. Общие функции потерь включают binary_crossentropy, categorical_crossentropy для классификации и mean_squared_error для регрессии.\n",
        "\n",
        "Оптимизаторы: алгоритмы для обновления весов модели на основе функции потерь. Популярные оптимизаторы включают Adam, SGD и RMSprop.\n",
        "\n",
        "Метрики: используются для оценки производительности модели во время обучения и тестирования, например, точности.\n",
        "\n",
        "Обучение\n",
        "\n",
        "Fit: обучает модель на обучающих данных. Ключевые параметры включают:\n",
        "Размер пакета: количество образцов, обработанных до обновления модели.\n",
        "Эпохи: количество полных проходов через обучающий набор данных."
      ],
      "metadata": {
        "id": "sdwfeK3ME8DP"
      }
    },
    {
      "cell_type": "markdown",
      "source": [
        "**Подберите архитектуру и гиперпараметры полносвязной нейронной сети для достижения accuracy >= 0.98**"
      ],
      "metadata": {
        "id": "lLLOECQ00_LQ"
      }
    },
    {
      "cell_type": "markdown",
      "source": [
        "Используем данные, которые мы получили после понижения размерности (__reduced)"
      ],
      "metadata": {
        "id": "hot5MFJR5w63"
      }
    },
    {
      "cell_type": "code",
      "source": [
        "x_train_reduced = tf.convert_to_tensor(x_train_reduced)\n",
        "y_train_reduced = tf.convert_to_tensor(y_train_reduced)\n",
        "\n",
        "# Build the model\n",
        "model = Sequential()\n",
        "\n",
        "model.add(Dense(units=64, activation='relu', input_shape=...))\n",
        "model.add(Dense(units=128, activation='relu'))\n",
        "model.add(Dense(units=1, activation='sigmoid'))\n",
        "\n",
        "\n",
        "# Compile the model\n",
        "model.compile(optimizer='Adam', loss='binary_crossentropy', metrics=['accuracy'])\n",
        "\n",
        "# Train the model\n",
        "history = model.fit(x_train_reduced, y_train_reduced,\n",
        "                    epochs=10,\n",
        "                    batch_size=32,\n",
        "                    validation_split=0.2,\n",
        "                    verbose=1)\n",
        "\n",
        "\n",
        "model.summary()\n",
        "\n"
      ],
      "metadata": {
        "id": "G3644WscFY1V"
      },
      "execution_count": null,
      "outputs": []
    },
    {
      "cell_type": "code",
      "source": [
        "plt.plot(history.history['accuracy'], label='accuracy')\n",
        "plt.plot(history.history['val_accuracy'], label='val_accuracy')\n",
        "plt.xlabel('Epoch')\n",
        "plt.ylabel('accuracy')\n",
        "plt.legend()\n",
        "plt.grid(True)"
      ],
      "metadata": {
        "id": "XiYbYFp-KugV"
      },
      "execution_count": null,
      "outputs": []
    },
    {
      "cell_type": "markdown",
      "source": [
        "Постройте график\n",
        "Sparse Categorical Crossentropy Loss vs Epoch"
      ],
      "metadata": {
        "id": "7rVwKPnh1vjq"
      }
    },
    {
      "cell_type": "code",
      "source": [
        "..."
      ],
      "metadata": {
        "colab": {
          "base_uri": "https://localhost:8080/"
        },
        "id": "wtugIPvLPjwX",
        "outputId": "74447bd8-957d-41d0-bfcd-3c42653f3103",
        "collapsed": true
      },
      "execution_count": 2,
      "outputs": [
        {
          "output_type": "execute_result",
          "data": {
            "text/plain": [
              "Ellipsis"
            ]
          },
          "metadata": {},
          "execution_count": 2
        }
      ]
    },
    {
      "cell_type": "markdown",
      "source": [
        "Примените вашу модель на тестовых данных"
      ],
      "metadata": {
        "id": "M5JOlUBN4ZeW"
      }
    },
    {
      "cell_type": "code",
      "source": [
        "predicted = ..."
      ],
      "metadata": {
        "id": "CReTGCrgMNxg"
      },
      "execution_count": 3,
      "outputs": []
    },
    {
      "cell_type": "markdown",
      "source": [
        "Постройте confusion matrix"
      ],
      "metadata": {
        "id": "WTyppafM4quI"
      }
    },
    {
      "cell_type": "code",
      "source": [
        "confusion_matrix = ..."
      ],
      "metadata": {
        "id": "MiryB_4OMUD3"
      },
      "execution_count": 5,
      "outputs": []
    },
    {
      "cell_type": "markdown",
      "source": [
        "Выведете все метрики качества, сделайте выводы"
      ],
      "metadata": {
        "id": "nNrr_z9I4uIQ"
      }
    },
    {
      "cell_type": "code",
      "source": [
        "..."
      ],
      "metadata": {
        "colab": {
          "base_uri": "https://localhost:8080/"
        },
        "id": "qhllU91l44fO",
        "outputId": "c5d105f6-1fe2-48e9-98ce-f0560996a4ce"
      },
      "execution_count": 6,
      "outputs": [
        {
          "output_type": "execute_result",
          "data": {
            "text/plain": [
              "Ellipsis"
            ]
          },
          "metadata": {},
          "execution_count": 6
        }
      ]
    },
    {
      "cell_type": "markdown",
      "source": [
        "**Обучите вашу модель на выборке x_train, x_test, y_train, y_test и проделайте те же шаги, которые сделаны выше**"
      ],
      "metadata": {
        "id": "sE1PymSf5PN4"
      }
    },
    {
      "cell_type": "code",
      "source": [],
      "metadata": {
        "id": "UBWHR3oI5qZA"
      },
      "execution_count": null,
      "outputs": []
    }
  ]
}