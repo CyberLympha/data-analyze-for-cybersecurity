{
  "nbformat": 4,
  "nbformat_minor": 0,
  "metadata": {
    "colab": {
      "provenance": []
    },
    "kernelspec": {
      "name": "python3",
      "display_name": "Python 3"
    },
    "language_info": {
      "name": "python"
    }
  },
  "cells": [
    {
      "cell_type": "markdown",
      "source": [
        "# Сегментация объектов на изображении с использованием предобученной модели DeepLabV3\n",
        "## Цель:\n",
        "\n",
        "Использовать предобученную модель DeepLabV3 (с фреймворком PyTorch) для семантической сегментации изображений. Результатом должна быть карта сегментации с выделенными объектами (например, люди, машины, животные).\n",
        "\n",
        "### Исходные данные:\n",
        "\n",
        "    COCO (https://cocodataset.org) (Common Objects in Context) — это крупномасштабный набор данных распознавания изображений для задач обнаружения, сегментации и субтитрования объектов.\n",
        "\n",
        "    Предобученная модель DeepLabV3 (доступна в torchvision).\n",
        "\n",
        "    Библиотеки: Python (PyTorch, torchvision, OpenCV, matplotlib).\n",
        "\n",
        "### Задачи:\n",
        "\n",
        "    1. Загрузите и предобработайте изображение (нормализация, преобразование в тензор).\n",
        "\n",
        "    2. Загрузите предобученную модель DeepLabV3 с весами, обученными на датасете COCO.\n",
        "\n",
        "    3. Примените модель для сегментации изображения.\n",
        "\n",
        "    4. Визуализируйте результат:\n",
        "\n",
        "        Исходное изображение.\n",
        "\n",
        "        Маску сегментации (разными цветами для каждого класса).\n",
        "\n",
        "        Наложенную маску на изображение (полупрозрачную).\n",
        "\n",
        "    5. Определите, какие классы объектов были обнаружены (например, \"человек\", \"автомобиль\", \"собака\").\n",
        "\n"
      ],
      "metadata": {
        "id": "tW0TxJxwPGlN"
      }
    },
    {
      "cell_type": "code",
      "source": [
        "import torch\n",
        "import torchvision.transforms as T\n",
        "from torchvision.models.segmentation import deeplabv3_resnet50\n",
        "import numpy as np\n",
        "import cv2\n",
        "import matplotlib.pyplot as plt"
      ],
      "metadata": {
        "id": "0G5vfJNHP413"
      },
      "execution_count": null,
      "outputs": []
    },
    {
      "cell_type": "code",
      "source": [
        "# Загрузка модели (предобученной на COCO)\n",
        "model = deeplabv3_resnet50(weights=True)\n",
        "model.eval()\n",
        "\n",
        "# Загрузка и предобработка изображения\n",
        "\n",
        "image = cv2.imread(\"...\")  # Ваше изображение\n",
        "image = cv2.cvtColor(...)"
      ],
      "metadata": {
        "id": "IBQjE-aLPKvl"
      },
      "execution_count": null,
      "outputs": []
    },
    {
      "cell_type": "code",
      "source": [
        "# Преобразование image в тензор и нормализация\n",
        "transform = T.Compose([...])\n",
        "input_tensor = transform(image).unsqueeze(0)\n",
        "\n",
        "# Маска\n",
        "with torch.no_grad():\n",
        "    ...\n",
        "output_mask =\n",
        "\n",
        "# Визуализация\n",
        "\n",
        "\n",
        "# Определение классов (COCO)\n",
        "\n",
        "detected_classes = np.unique(output_mask)\n",
        "print(\"Обнаруженные классы:\",  ...)"
      ],
      "metadata": {
        "id": "0pF5sb_KRR5c"
      },
      "execution_count": null,
      "outputs": []
    }
  ]
}