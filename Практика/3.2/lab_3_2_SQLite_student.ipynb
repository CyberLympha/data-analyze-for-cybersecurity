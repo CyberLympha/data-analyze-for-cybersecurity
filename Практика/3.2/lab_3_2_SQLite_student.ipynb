{
 "cells": [
  {
   "cell_type": "markdown",
   "metadata": {},
   "source": [
    "<h1> Материалы курса \"Анализ данных в инфромационной безопасности\" </h1>\n",
    "\n",
    "<h2> Практическое занятие № 2.2 </h2>\n",
    "\n",
    "<h2> Тема: \"Python+SQLite\" </h2>\n",
    "\n",
    "<h2>Автор:</h2>\n",
    "\n",
    "<p>Синадский Алексей</p>\n",
    "<p>Исследователь исследовательского центра UDV Group</p>\n",
    "<p>aleksei.sinadskiy@udv.group</p>\n"
   ]
  },
  {
   "cell_type": "markdown",
   "metadata": {},
   "source": [
    "Содержание:\n",
    "- Чтение данных\n",
    "- Создание БД SQLite\n",
    "- Расследование\n",
    "- (допишите)\n",
    "- то\n",
    "- сё\n",
    "- пятое\n",
    "- десятое\n",
    "- Выводы"
   ]
  },
  {
   "cell_type": "markdown",
   "metadata": {},
   "source": [
    "# Легенда\n",
    "\n",
    "\n",
    "## Письмо-задание\n",
    "\n",
    "Добрый день, уважаемые коллеги!\n",
    "Вчера поступило сообщение об ограблении банкоматов банка «Надежный» в городе Калиниград. Цели расположены по адресам: улица Александра Невского, 193А, улица Кирова, 28 (Лицей № 49) и улица Октябрьская, 68-74. По предварительной информации, полученной от сотрудников безопасности банка, работала группа налетчиков в количестве более трех человек.\n",
    "Прошу оказать содействие в расследовании инцидента и выявить группу злоумышленников.\n",
    "\n",
    "P.S. Напоминаю, что в отчете необходимо указать алгоритм поиска и полностью воспроизвести цепочку событий.\n",
    "С уважением.\n",
    "\n",
    "\n",
    "## Рекомендации от ведущего аналитика\n",
    "\n",
    "Старшие коллеги (aka 5 курс) решают эту задачу без дополнительной информации. Тем не менее, для ускорения процесса рекомендую следующую последовательность действий:\n",
    "\n",
    "    Знакомство\n",
    "    a. Посмотреть, какие данные доступны. Скачать CSV, создать БД (можно использовать SQLite)\n",
    "    b. Посмотреть, как работать с данными в SQLite.\n",
    "    с. Для анализа использовать запросы к SQLite на SQL.\n",
    "    Привязка геокоординат\n",
    "    a. Посмотреть активные LAC и CellID, построить таблицу соответствий\n",
    "    b. Почитать про MCC-MNC коды (https://ru.wikipedia.org/wiki/MNC)\n",
    "    c. Получить координаты базовых станций по известным LAC и CellID, отметить их на Google Maps метками. Для поиска координат можно использовать внешний сервис (раньше работал https://cellidfinder.com/cells, сейчас можно попробовать https://www.opencellid.org или другой).\n",
    "    d. По известным в письме адресам выбрать вероятные точки, входящие в маршрут злоумышленников, по точкам выбрать вероятные базовые станции.\n",
    "    Поиск последовательно перемещающихся абонентов\n",
    "    a. Для всех абонентов, которые были на каждой из интересующих точек, выбрать последнее время посещения (можно использовать вспомогательные таблицы)\n",
    "    b. Из всех абонентов из запроса выше выбрать таких, которые последовательно побывали на всех трёх адресах, т.е. на следующий приходили в более позднее время.\n",
    "    c. Считать их потенциальными злоумышленниками («подозреваемыми»)\n",
    "    Поиск связей\n",
    "    a. Найти «друзей подозреваемых», т.е. всех, кто звонил и кому звонили «подозреваемые» (список уникальных абонентов)\n",
    "    b. Найти пересечения списков «друзей подозреваемых» и «подозреваемых»\n",
    "    Поиск маршрутов (или водителя-наблюдателя)\n",
    "    a. Поискать таких абонентов, которые были на тех же точках с большим допуском на время. Может быть, он связывался по результатам преступления с кем-то.\n",
    "    С уважением, Ведущий Аналитик.\n",
    "\n",
    "## Уточнение от организатора соревнования\n",
    "\n",
    "В связи с недоступностью известных сетевых ресурсов по обнаружению географических координат базовых станций по LAC и CellID и некорректной работой доступных аналогичных сервисов у ряда студентов возникли сложности с выполнением задачи \"найти LAC и CellID по адресу\".\n",
    "\n",
    "Технически это решаемо использованием API от Google с подменой личности, но это непрофильная для раздела про SQL задача, поэтому в лабораторной работе предлагаю использовать следующие LAC и CellID для каждого из мест:\n",
    "\n",
    "    Улица Александра Невского, 193А: LAC 2212, CellID 47805\n",
    "    Улица Кирова, 28 (Лицей № 49): [(LAC 3907, CellID 3134), (LAC 2212, CellID 37111), (LAC 2212, CellID 47536)]\n",
    "    Улица Октябрьская, 68-74: LAC 3907, CellID 39781\n",
    "\n",
    "Для адреса \"2\" БС несколько, т.к. области их действия перекрываются.\n",
    "\n",
    "Несмотря на то, что я привожу искомые LAC и CellID, в лабораторной работе необходимо описать методику их поиска по геокоординатам и привести примеры для тех базовых станций, которые получится обнаружить, и только после этого использовать приведённую выше подсказку."
   ]
  },
  {
   "cell_type": "markdown",
   "metadata": {},
   "source": [
    "# Импорт нужных модулей"
   ]
  },
  {
   "cell_type": "code",
   "execution_count": 1,
   "metadata": {},
   "outputs": [],
   "source": [
    "import pandas as pd  # для обработки данных в Python\n",
    "import sqlite3  # лёгкая БД - подробнее посмотреть можно тут: https://habr.com/ru/articles/754400/\n",
    "import contextlib  # для удобного открытия и закрытия подключеия к БД"
   ]
  },
  {
   "cell_type": "markdown",
   "metadata": {},
   "source": [
    "# Путь к файлам"
   ]
  },
  {
   "cell_type": "markdown",
   "metadata": {},
   "source": [
    "Нужно скачать файлы из соревнвания Kaggle"
   ]
  },
  {
   "cell_type": "code",
   "execution_count": 2,
   "metadata": {},
   "outputs": [],
   "source": [
    "data_billing_types = '../2024/kaggle студенты/billing_type.csv'\n",
    "data_persons = '../2024/kaggle студенты/persons.csv'\n",
    "data_main_billing = '../2024/kaggle студенты/main_billing.csv'\n",
    "db_file = 'billing.db'"
   ]
  },
  {
   "cell_type": "markdown",
   "metadata": {},
   "source": [
    "# Запись данных в БД\n",
    "\n",
    "Простой вариант - прочитать вcё сразу в ОЗУ. Но данные бывают разного размера, поэтому лучше записывать поэтапно (или просто сразу средствами SQLite).\n",
    "\n",
    "Общий план - прочитать данные, создать таблицу, заполнить"
   ]
  },
  {
   "cell_type": "code",
   "execution_count": 3,
   "metadata": {},
   "outputs": [],
   "source": [
    "chunksize = 1000  # для тренировки - как будто много данных и не входит в ОЗУ"
   ]
  },
  {
   "cell_type": "markdown",
   "metadata": {},
   "source": [
    "## Типы биллинга"
   ]
  },
  {
   "cell_type": "code",
   "execution_count": 4,
   "metadata": {},
   "outputs": [
    {
     "data": {
      "text/html": [
       "<div>\n",
       "<style scoped>\n",
       "    .dataframe tbody tr th:only-of-type {\n",
       "        vertical-align: middle;\n",
       "    }\n",
       "\n",
       "    .dataframe tbody tr th {\n",
       "        vertical-align: top;\n",
       "    }\n",
       "\n",
       "    .dataframe thead th {\n",
       "        text-align: right;\n",
       "    }\n",
       "</style>\n",
       "<table border=\"1\" class=\"dataframe\">\n",
       "  <thead>\n",
       "    <tr style=\"text-align: right;\">\n",
       "      <th></th>\n",
       "      <th>id</th>\n",
       "      <th>billing_type</th>\n",
       "    </tr>\n",
       "  </thead>\n",
       "  <tbody>\n",
       "    <tr>\n",
       "      <th>0</th>\n",
       "      <td>1</td>\n",
       "      <td>SMS Out</td>\n",
       "    </tr>\n",
       "    <tr>\n",
       "      <th>1</th>\n",
       "      <td>2</td>\n",
       "      <td>GPRS</td>\n",
       "    </tr>\n",
       "    <tr>\n",
       "      <th>2</th>\n",
       "      <td>3</td>\n",
       "      <td>Normal LocUpd</td>\n",
       "    </tr>\n",
       "  </tbody>\n",
       "</table>\n",
       "</div>"
      ],
      "text/plain": [
       "   id   billing_type\n",
       "0   1        SMS Out\n",
       "1   2           GPRS\n",
       "2   3  Normal LocUpd"
      ]
     },
     "execution_count": 4,
     "metadata": {},
     "output_type": "execute_result"
    }
   ],
   "source": [
    "df = pd.read_csv(data_billing_types, nrows=10)\n",
    "df.head(3)"
   ]
  },
  {
   "cell_type": "code",
   "execution_count": 5,
   "metadata": {},
   "outputs": [],
   "source": [
    "with contextlib.closing(sqlite3.connect(db_file)) as connection:\n",
    "    with contextlib.closing(connection.cursor()) as cursor:\n",
    "        cursor.execute('''\n",
    "            CREATE TABLE IF NOT EXISTS billing_types (\n",
    "                       id INTEGER PRIMARY KEY,\n",
    "                       billing_type TEXT NOT NULL\n",
    "            )\n",
    "            '''\n",
    "        )"
   ]
  },
  {
   "cell_type": "code",
   "execution_count": 6,
   "metadata": {},
   "outputs": [],
   "source": [
    "if True:\n",
    "    with contextlib.closing(sqlite3.connect(db_file)) as connection:\n",
    "        for chunk in pd.read_csv(data_billing_types, chunksize=chunksize):\n",
    "            chunk.to_sql('billing_types', connection, if_exists='append', index=False)\n",
    "        connection.commit()"
   ]
  },
  {
   "cell_type": "markdown",
   "metadata": {},
   "source": [
    "## Абоненты"
   ]
  },
  {
   "cell_type": "code",
   "execution_count": 7,
   "metadata": {},
   "outputs": [
    {
     "data": {
      "text/html": [
       "<div>\n",
       "<style scoped>\n",
       "    .dataframe tbody tr th:only-of-type {\n",
       "        vertical-align: middle;\n",
       "    }\n",
       "\n",
       "    .dataframe tbody tr th {\n",
       "        vertical-align: top;\n",
       "    }\n",
       "\n",
       "    .dataframe thead th {\n",
       "        text-align: right;\n",
       "    }\n",
       "</style>\n",
       "<table border=\"1\" class=\"dataframe\">\n",
       "  <thead>\n",
       "    <tr style=\"text-align: right;\">\n",
       "      <th></th>\n",
       "      <th>id</th>\n",
       "      <th>soc_st</th>\n",
       "      <th>surname</th>\n",
       "      <th>name</th>\n",
       "      <th>patronymic</th>\n",
       "      <th>move_template</th>\n",
       "      <th>mobile_operator</th>\n",
       "      <th>lac_id</th>\n",
       "      <th>cell_id</th>\n",
       "      <th>imsi</th>\n",
       "      <th>imei</th>\n",
       "      <th>msisdn</th>\n",
       "    </tr>\n",
       "  </thead>\n",
       "  <tbody>\n",
       "    <tr>\n",
       "      <th>0</th>\n",
       "      <td>1</td>\n",
       "      <td>51</td>\n",
       "      <td>Захаров</td>\n",
       "      <td>Дмитрий</td>\n",
       "      <td>Ярославович</td>\n",
       "      <td>0</td>\n",
       "      <td>4</td>\n",
       "      <td>1000</td>\n",
       "      <td>10021</td>\n",
       "      <td>250204722322322</td>\n",
       "      <td>11612001753630</td>\n",
       "      <td>79922233222</td>\n",
       "    </tr>\n",
       "    <tr>\n",
       "      <th>1</th>\n",
       "      <td>2</td>\n",
       "      <td>52</td>\n",
       "      <td>Захарова</td>\n",
       "      <td>София</td>\n",
       "      <td>Игоревна</td>\n",
       "      <td>0</td>\n",
       "      <td>3</td>\n",
       "      <td>2212</td>\n",
       "      <td>37035</td>\n",
       "      <td>250283722322323</td>\n",
       "      <td>358758053490950</td>\n",
       "      <td>79032233223</td>\n",
       "    </tr>\n",
       "    <tr>\n",
       "      <th>2</th>\n",
       "      <td>3</td>\n",
       "      <td>53</td>\n",
       "      <td>Захаров</td>\n",
       "      <td>Егор</td>\n",
       "      <td>Дмитриевич</td>\n",
       "      <td>2</td>\n",
       "      <td>4</td>\n",
       "      <td>1000</td>\n",
       "      <td>10621</td>\n",
       "      <td>250203622322333</td>\n",
       "      <td>355248034227300</td>\n",
       "      <td>79022233233</td>\n",
       "    </tr>\n",
       "  </tbody>\n",
       "</table>\n",
       "</div>"
      ],
      "text/plain": [
       "   id  soc_st   surname     name   patronymic  move_template  mobile_operator  \\\n",
       "0   1      51   Захаров  Дмитрий  Ярославович              0                4   \n",
       "1   2      52  Захарова    София     Игоревна              0                3   \n",
       "2   3      53   Захаров     Егор   Дмитриевич              2                4   \n",
       "\n",
       "   lac_id  cell_id             imsi             imei       msisdn  \n",
       "0    1000    10021  250204722322322   11612001753630  79922233222  \n",
       "1    2212    37035  250283722322323  358758053490950  79032233223  \n",
       "2    1000    10621  250203622322333  355248034227300  79022233233  "
      ]
     },
     "execution_count": 7,
     "metadata": {},
     "output_type": "execute_result"
    }
   ],
   "source": [
    "df = pd.read_csv(data_persons, nrows=10)\n",
    "df.head(3)"
   ]
  },
  {
   "cell_type": "markdown",
   "metadata": {},
   "source": [
    "Создание таблицы для пользователей"
   ]
  },
  {
   "cell_type": "code",
   "execution_count": 8,
   "metadata": {},
   "outputs": [],
   "source": [
    "with contextlib.closing(sqlite3.connect(db_file)) as connection:\n",
    "    with contextlib.closing(connection.cursor()) as cursor:\n",
    "        cursor.execute('''\n",
    "            CREATE TABLE IF NOT EXISTS persons (\n",
    "                       Допишите код\n",
    "            )\n",
    "            '''\n",
    "        )"
   ]
  },
  {
   "cell_type": "markdown",
   "metadata": {},
   "source": [
    "Запись информации о пользователях в таблицу"
   ]
  },
  {
   "cell_type": "code",
   "execution_count": 9,
   "metadata": {},
   "outputs": [],
   "source": [
    "if True:\n",
    "    with contextlib.closing(sqlite3.connect(db_file)) as connection:\n",
    "        # допишите тут\n",
    "        connection.commit()"
   ]
  },
  {
   "cell_type": "markdown",
   "metadata": {},
   "source": [
    "## Сам биллинг"
   ]
  },
  {
   "cell_type": "code",
   "execution_count": 10,
   "metadata": {},
   "outputs": [
    {
     "data": {
      "text/html": [
       "<div>\n",
       "<style scoped>\n",
       "    .dataframe tbody tr th:only-of-type {\n",
       "        vertical-align: middle;\n",
       "    }\n",
       "\n",
       "    .dataframe tbody tr th {\n",
       "        vertical-align: top;\n",
       "    }\n",
       "\n",
       "    .dataframe thead th {\n",
       "        text-align: right;\n",
       "    }\n",
       "</style>\n",
       "<table border=\"1\" class=\"dataframe\">\n",
       "  <thead>\n",
       "    <tr style=\"text-align: right;\">\n",
       "      <th></th>\n",
       "      <th>id</th>\n",
       "      <th>billtime</th>\n",
       "      <th>call_duration</th>\n",
       "      <th>billing_type_id</th>\n",
       "      <th>lac_id</th>\n",
       "      <th>cell_id</th>\n",
       "      <th>phone_b</th>\n",
       "      <th>abonent_id</th>\n",
       "      <th>abonentimei</th>\n",
       "      <th>abonentimsi</th>\n",
       "      <th>abonentphone</th>\n",
       "      <th>reverseabonentphone</th>\n",
       "      <th>reversephoneb</th>\n",
       "    </tr>\n",
       "  </thead>\n",
       "  <tbody>\n",
       "    <tr>\n",
       "      <th>0</th>\n",
       "      <td>1</td>\n",
       "      <td>2014-06-06 00:00:00</td>\n",
       "      <td>0</td>\n",
       "      <td>1</td>\n",
       "      <td>3907</td>\n",
       "      <td>3024</td>\n",
       "      <td>79222245677</td>\n",
       "      <td>2269</td>\n",
       "      <td>12542001965610</td>\n",
       "      <td>250281522334802</td>\n",
       "      <td>79052245705</td>\n",
       "      <td>0</td>\n",
       "      <td>0</td>\n",
       "    </tr>\n",
       "    <tr>\n",
       "      <th>1</th>\n",
       "      <td>2</td>\n",
       "      <td>2014-06-06 00:00:00</td>\n",
       "      <td>2</td>\n",
       "      <td>1</td>\n",
       "      <td>3907</td>\n",
       "      <td>39781</td>\n",
       "      <td>79922253992</td>\n",
       "      <td>3780</td>\n",
       "      <td>359206055062750</td>\n",
       "      <td>250023622343098</td>\n",
       "      <td>79222254003</td>\n",
       "      <td>0</td>\n",
       "      <td>0</td>\n",
       "    </tr>\n",
       "    <tr>\n",
       "      <th>2</th>\n",
       "      <td>3</td>\n",
       "      <td>2014-06-06 00:00:00</td>\n",
       "      <td>1</td>\n",
       "      <td>1</td>\n",
       "      <td>3901</td>\n",
       "      <td>39762</td>\n",
       "      <td>79022352703</td>\n",
       "      <td>4102</td>\n",
       "      <td>353160043883270</td>\n",
       "      <td>250280322344864</td>\n",
       "      <td>79052255766</td>\n",
       "      <td>0</td>\n",
       "      <td>0</td>\n",
       "    </tr>\n",
       "  </tbody>\n",
       "</table>\n",
       "</div>"
      ],
      "text/plain": [
       "   id             billtime  call_duration  billing_type_id  lac_id  cell_id  \\\n",
       "0   1  2014-06-06 00:00:00              0                1    3907     3024   \n",
       "1   2  2014-06-06 00:00:00              2                1    3907    39781   \n",
       "2   3  2014-06-06 00:00:00              1                1    3901    39762   \n",
       "\n",
       "       phone_b  abonent_id      abonentimei      abonentimsi  abonentphone  \\\n",
       "0  79222245677        2269   12542001965610  250281522334802   79052245705   \n",
       "1  79922253992        3780  359206055062750  250023622343098   79222254003   \n",
       "2  79022352703        4102  353160043883270  250280322344864   79052255766   \n",
       "\n",
       "   reverseabonentphone  reversephoneb  \n",
       "0                    0              0  \n",
       "1                    0              0  \n",
       "2                    0              0  "
      ]
     },
     "execution_count": 10,
     "metadata": {},
     "output_type": "execute_result"
    }
   ],
   "source": [
    "df = pd.read_csv(data_main_billing, nrows=10)\n",
    "df.head(3)"
   ]
  },
  {
   "cell_type": "markdown",
   "metadata": {},
   "source": [
    "Создание таблицы для биллинга"
   ]
  },
  {
   "cell_type": "code",
   "execution_count": 11,
   "metadata": {},
   "outputs": [],
   "source": [
    "# Допишите тут"
   ]
  },
  {
   "cell_type": "markdown",
   "metadata": {},
   "source": [
    "Заполнение таблицы с биллингом"
   ]
  },
  {
   "cell_type": "code",
   "execution_count": 12,
   "metadata": {},
   "outputs": [],
   "source": [
    "# Допишите тут"
   ]
  },
  {
   "cell_type": "markdown",
   "metadata": {},
   "source": [
    "## Результат"
   ]
  },
  {
   "cell_type": "markdown",
   "metadata": {},
   "source": [
    "Посмотрим результат"
   ]
  },
  {
   "cell_type": "code",
   "execution_count": 13,
   "metadata": {},
   "outputs": [
    {
     "data": {
      "text/plain": [
       "[(1, 'SMS Out'),\n",
       " (2, 'GPRS'),\n",
       " (3, 'Normal LocUpd'),\n",
       " (4, 'Call Out'),\n",
       " (5, 'SMS In'),\n",
       " (6, 'Call In')]"
      ]
     },
     "execution_count": 13,
     "metadata": {},
     "output_type": "execute_result"
    }
   ],
   "source": [
    "with contextlib.closing(sqlite3.connect(db_file)) as connection:\n",
    "    data = connection.execute('''SELECT * FROM billing_types''').fetchall()\n",
    "data"
   ]
  },
  {
   "cell_type": "code",
   "execution_count": 14,
   "metadata": {},
   "outputs": [
    {
     "data": {
      "text/plain": [
       "[(1,\n",
       "  '2014-06-06 00:00:00',\n",
       "  0,\n",
       "  1,\n",
       "  3907,\n",
       "  3024,\n",
       "  '79222245677',\n",
       "  2269,\n",
       "  '12542001965610',\n",
       "  '250281522334802',\n",
       "  '79052245705',\n",
       "  '0',\n",
       "  '0')]"
      ]
     },
     "execution_count": 14,
     "metadata": {},
     "output_type": "execute_result"
    }
   ],
   "source": [
    "with contextlib.closing(sqlite3.connect(db_file)) as connection:\n",
    "    data = connection.execute('''SELECT * FROM main_billing LIMIT 1''').fetchall()\n",
    "data"
   ]
  },
  {
   "cell_type": "markdown",
   "metadata": {},
   "source": [
    "# Расследование\n",
    "\n",
    "Тут начинается самое интересное - нужно проанализировать таблицу и понять, кто есть преступник. Напомню, начать можно с LAC и CellID"
   ]
  },
  {
   "cell_type": "code",
   "execution_count": 15,
   "metadata": {},
   "outputs": [
    {
     "data": {
      "text/plain": [
       "[('79122425621',),\n",
       " ('79122428306',),\n",
       " ('79022428420',),\n",
       " ('79222431479',),\n",
       " ('79052233251',)]"
      ]
     },
     "execution_count": 15,
     "metadata": {},
     "output_type": "execute_result"
    }
   ],
   "source": [
    "with contextlib.closing(sqlite3.connect(db_file)) as connection:\n",
    "    data = connection.execute('''SELECT abonentphone FROM main_billing WHERE lac_id == 2212 LIMIT 5''').fetchall()\n",
    "data"
   ]
  },
  {
   "cell_type": "code",
   "execution_count": null,
   "metadata": {},
   "outputs": [],
   "source": []
  },
  {
   "cell_type": "code",
   "execution_count": null,
   "metadata": {},
   "outputs": [],
   "source": []
  },
  {
   "cell_type": "code",
   "execution_count": null,
   "metadata": {},
   "outputs": [],
   "source": []
  },
  {
   "cell_type": "code",
   "execution_count": null,
   "metadata": {},
   "outputs": [],
   "source": []
  },
  {
   "cell_type": "code",
   "execution_count": null,
   "metadata": {},
   "outputs": [],
   "source": []
  },
  {
   "cell_type": "markdown",
   "metadata": {},
   "source": [
    "## Подготовка итогового ответа\n",
    "\n",
    "Сдавать данные на Kaggle нужно в определённом формате. Эта секция поможет вам подготовить данные для загрузки в систему оценивания."
   ]
  },
  {
   "cell_type": "markdown",
   "metadata": {},
   "source": [
    "Загрузим исходные данные"
   ]
  },
  {
   "cell_type": "code",
   "execution_count": 16,
   "metadata": {},
   "outputs": [
    {
     "data": {
      "text/html": [
       "<div>\n",
       "<style scoped>\n",
       "    .dataframe tbody tr th:only-of-type {\n",
       "        vertical-align: middle;\n",
       "    }\n",
       "\n",
       "    .dataframe tbody tr th {\n",
       "        vertical-align: top;\n",
       "    }\n",
       "\n",
       "    .dataframe thead th {\n",
       "        text-align: right;\n",
       "    }\n",
       "</style>\n",
       "<table border=\"1\" class=\"dataframe\">\n",
       "  <thead>\n",
       "    <tr style=\"text-align: right;\">\n",
       "      <th></th>\n",
       "      <th>id</th>\n",
       "      <th>surname</th>\n",
       "      <th>name</th>\n",
       "      <th>patronymic</th>\n",
       "    </tr>\n",
       "  </thead>\n",
       "  <tbody>\n",
       "    <tr>\n",
       "      <th>0</th>\n",
       "      <td>1</td>\n",
       "      <td>Захаров</td>\n",
       "      <td>Дмитрий</td>\n",
       "      <td>Ярославович</td>\n",
       "    </tr>\n",
       "    <tr>\n",
       "      <th>1</th>\n",
       "      <td>2</td>\n",
       "      <td>Захарова</td>\n",
       "      <td>София</td>\n",
       "      <td>Игоревна</td>\n",
       "    </tr>\n",
       "    <tr>\n",
       "      <th>2</th>\n",
       "      <td>3</td>\n",
       "      <td>Захаров</td>\n",
       "      <td>Егор</td>\n",
       "      <td>Дмитриевич</td>\n",
       "    </tr>\n",
       "  </tbody>\n",
       "</table>\n",
       "</div>"
      ],
      "text/plain": [
       "   id   surname     name   patronymic\n",
       "0   1   Захаров  Дмитрий  Ярославович\n",
       "1   2  Захарова    София     Игоревна\n",
       "2   3   Захаров     Егор   Дмитриевич"
      ]
     },
     "execution_count": 16,
     "metadata": {},
     "output_type": "execute_result"
    }
   ],
   "source": [
    "df_answer = pd.read_csv(data_persons, usecols=['id', 'surname',\t'name', 'patronymic'])\n",
    "df_answer.head(3)"
   ]
  },
  {
   "cell_type": "markdown",
   "metadata": {},
   "source": [
    "Добавим идентификатор для Kaggle и базвую разметку - \"все невиновны\" (у всех \"0\")"
   ]
  },
  {
   "cell_type": "code",
   "execution_count": 17,
   "metadata": {},
   "outputs": [
    {
     "data": {
      "text/html": [
       "<div>\n",
       "<style scoped>\n",
       "    .dataframe tbody tr th:only-of-type {\n",
       "        vertical-align: middle;\n",
       "    }\n",
       "\n",
       "    .dataframe tbody tr th {\n",
       "        vertical-align: top;\n",
       "    }\n",
       "\n",
       "    .dataframe thead th {\n",
       "        text-align: right;\n",
       "    }\n",
       "</style>\n",
       "<table border=\"1\" class=\"dataframe\">\n",
       "  <thead>\n",
       "    <tr style=\"text-align: right;\">\n",
       "      <th></th>\n",
       "      <th>id</th>\n",
       "      <th>surname</th>\n",
       "      <th>name</th>\n",
       "      <th>patronymic</th>\n",
       "      <th>ID</th>\n",
       "      <th>label</th>\n",
       "    </tr>\n",
       "  </thead>\n",
       "  <tbody>\n",
       "    <tr>\n",
       "      <th>0</th>\n",
       "      <td>1</td>\n",
       "      <td>Захаров</td>\n",
       "      <td>Дмитрий</td>\n",
       "      <td>Ярославович</td>\n",
       "      <td>1_Захаров_Дмитрий_Ярославович</td>\n",
       "      <td>0</td>\n",
       "    </tr>\n",
       "    <tr>\n",
       "      <th>1</th>\n",
       "      <td>2</td>\n",
       "      <td>Захарова</td>\n",
       "      <td>София</td>\n",
       "      <td>Игоревна</td>\n",
       "      <td>2_Захарова_София_Игоревна</td>\n",
       "      <td>0</td>\n",
       "    </tr>\n",
       "    <tr>\n",
       "      <th>2</th>\n",
       "      <td>3</td>\n",
       "      <td>Захаров</td>\n",
       "      <td>Егор</td>\n",
       "      <td>Дмитриевич</td>\n",
       "      <td>3_Захаров_Егор_Дмитриевич</td>\n",
       "      <td>0</td>\n",
       "    </tr>\n",
       "  </tbody>\n",
       "</table>\n",
       "</div>"
      ],
      "text/plain": [
       "   id   surname     name   patronymic                             ID  label\n",
       "0   1   Захаров  Дмитрий  Ярославович  1_Захаров_Дмитрий_Ярославович      0\n",
       "1   2  Захарова    София     Игоревна      2_Захарова_София_Игоревна      0\n",
       "2   3   Захаров     Егор   Дмитриевич      3_Захаров_Егор_Дмитриевич      0"
      ]
     },
     "execution_count": 17,
     "metadata": {},
     "output_type": "execute_result"
    }
   ],
   "source": [
    "df_answer['ID'] = df_answer.apply(lambda row: str(row['id']) + '_' + row['surname'] + '_' + row['name'] + '_' + row['patronymic'], axis=1)\n",
    "df_answer['label'] = 0\n",
    "df_answer.head(3)"
   ]
  },
  {
   "cell_type": "markdown",
   "metadata": {},
   "source": [
    "Тут надо разметить по id тех людей, которых вы считаете преступниками (указать для них label \"1\")"
   ]
  },
  {
   "cell_type": "code",
   "execution_count": 18,
   "metadata": {},
   "outputs": [
    {
     "data": {
      "text/html": [
       "<div>\n",
       "<style scoped>\n",
       "    .dataframe tbody tr th:only-of-type {\n",
       "        vertical-align: middle;\n",
       "    }\n",
       "\n",
       "    .dataframe tbody tr th {\n",
       "        vertical-align: top;\n",
       "    }\n",
       "\n",
       "    .dataframe thead th {\n",
       "        text-align: right;\n",
       "    }\n",
       "</style>\n",
       "<table border=\"1\" class=\"dataframe\">\n",
       "  <thead>\n",
       "    <tr style=\"text-align: right;\">\n",
       "      <th></th>\n",
       "      <th>id</th>\n",
       "      <th>surname</th>\n",
       "      <th>name</th>\n",
       "      <th>patronymic</th>\n",
       "      <th>ID</th>\n",
       "      <th>label</th>\n",
       "    </tr>\n",
       "  </thead>\n",
       "  <tbody>\n",
       "    <tr>\n",
       "      <th>0</th>\n",
       "      <td>1</td>\n",
       "      <td>Захаров</td>\n",
       "      <td>Дмитрий</td>\n",
       "      <td>Ярославович</td>\n",
       "      <td>1_Захаров_Дмитрий_Ярославович</td>\n",
       "      <td>0</td>\n",
       "    </tr>\n",
       "    <tr>\n",
       "      <th>1</th>\n",
       "      <td>2</td>\n",
       "      <td>Захарова</td>\n",
       "      <td>София</td>\n",
       "      <td>Игоревна</td>\n",
       "      <td>2_Захарова_София_Игоревна</td>\n",
       "      <td>0</td>\n",
       "    </tr>\n",
       "    <tr>\n",
       "      <th>2</th>\n",
       "      <td>3</td>\n",
       "      <td>Захаров</td>\n",
       "      <td>Егор</td>\n",
       "      <td>Дмитриевич</td>\n",
       "      <td>3_Захаров_Егор_Дмитриевич</td>\n",
       "      <td>1</td>\n",
       "    </tr>\n",
       "    <tr>\n",
       "      <th>3</th>\n",
       "      <td>4</td>\n",
       "      <td>Захаров</td>\n",
       "      <td>Данил</td>\n",
       "      <td>Дмитриевич</td>\n",
       "      <td>4_Захаров_Данил_Дмитриевич</td>\n",
       "      <td>0</td>\n",
       "    </tr>\n",
       "    <tr>\n",
       "      <th>4</th>\n",
       "      <td>5</td>\n",
       "      <td>Захарова</td>\n",
       "      <td>Арина</td>\n",
       "      <td>Дмитриевна</td>\n",
       "      <td>5_Захарова_Арина_Дмитриевна</td>\n",
       "      <td>1</td>\n",
       "    </tr>\n",
       "    <tr>\n",
       "      <th>5</th>\n",
       "      <td>6</td>\n",
       "      <td>Морозов</td>\n",
       "      <td>Григорий</td>\n",
       "      <td>Юрьевич</td>\n",
       "      <td>6_Морозов_Григорий_Юрьевич</td>\n",
       "      <td>0</td>\n",
       "    </tr>\n",
       "  </tbody>\n",
       "</table>\n",
       "</div>"
      ],
      "text/plain": [
       "   id   surname      name   patronymic                             ID  label\n",
       "0   1   Захаров   Дмитрий  Ярославович  1_Захаров_Дмитрий_Ярославович      0\n",
       "1   2  Захарова     София     Игоревна      2_Захарова_София_Игоревна      0\n",
       "2   3   Захаров      Егор   Дмитриевич      3_Захаров_Егор_Дмитриевич      1\n",
       "3   4   Захаров     Данил   Дмитриевич     4_Захаров_Данил_Дмитриевич      0\n",
       "4   5  Захарова     Арина   Дмитриевна    5_Захарова_Арина_Дмитриевна      1\n",
       "5   6   Морозов  Григорий      Юрьевич     6_Морозов_Григорий_Юрьевич      0"
      ]
     },
     "execution_count": 18,
     "metadata": {},
     "output_type": "execute_result"
    }
   ],
   "source": [
    "list_of_criminals_id = [0, 3, 5]  # сюда нужно добавить идентификаторы преступников\n",
    "df_answer.loc[df_answer['id'].isin(list_of_criminals_id), 'label'] = 1\n",
    "df_answer.head(6)"
   ]
  },
  {
   "cell_type": "markdown",
   "metadata": {},
   "source": [
    "Удалим лишние колонки"
   ]
  },
  {
   "cell_type": "code",
   "execution_count": 19,
   "metadata": {},
   "outputs": [
    {
     "data": {
      "text/html": [
       "<div>\n",
       "<style scoped>\n",
       "    .dataframe tbody tr th:only-of-type {\n",
       "        vertical-align: middle;\n",
       "    }\n",
       "\n",
       "    .dataframe tbody tr th {\n",
       "        vertical-align: top;\n",
       "    }\n",
       "\n",
       "    .dataframe thead th {\n",
       "        text-align: right;\n",
       "    }\n",
       "</style>\n",
       "<table border=\"1\" class=\"dataframe\">\n",
       "  <thead>\n",
       "    <tr style=\"text-align: right;\">\n",
       "      <th></th>\n",
       "      <th>ID</th>\n",
       "      <th>label</th>\n",
       "    </tr>\n",
       "  </thead>\n",
       "  <tbody>\n",
       "    <tr>\n",
       "      <th>0</th>\n",
       "      <td>1_Захаров_Дмитрий_Ярославович</td>\n",
       "      <td>0</td>\n",
       "    </tr>\n",
       "    <tr>\n",
       "      <th>1</th>\n",
       "      <td>2_Захарова_София_Игоревна</td>\n",
       "      <td>0</td>\n",
       "    </tr>\n",
       "    <tr>\n",
       "      <th>2</th>\n",
       "      <td>3_Захаров_Егор_Дмитриевич</td>\n",
       "      <td>1</td>\n",
       "    </tr>\n",
       "  </tbody>\n",
       "</table>\n",
       "</div>"
      ],
      "text/plain": [
       "                              ID  label\n",
       "0  1_Захаров_Дмитрий_Ярославович      0\n",
       "1      2_Захарова_София_Игоревна      0\n",
       "2      3_Захаров_Егор_Дмитриевич      1"
      ]
     },
     "execution_count": 19,
     "metadata": {},
     "output_type": "execute_result"
    }
   ],
   "source": [
    "df_answer = df_answer.drop(columns=['id', 'surname', 'name', 'patronymic'])\n",
    "df_answer.head(3)"
   ]
  },
  {
   "cell_type": "markdown",
   "metadata": {},
   "source": [
    "Подготовим файл для загрузки в Kaggle"
   ]
  },
  {
   "cell_type": "code",
   "execution_count": 20,
   "metadata": {},
   "outputs": [],
   "source": [
    "df_answer.to_csv('my_answer.csv', index=False)"
   ]
  },
  {
   "cell_type": "markdown",
   "metadata": {},
   "source": [
    "# Выводы"
   ]
  },
  {
   "cell_type": "markdown",
   "metadata": {},
   "source": [
    "Здесь напишите выводы по выполненной работе."
   ]
  }
 ],
 "metadata": {
  "kernelspec": {
   "display_name": "Python 3",
   "language": "python",
   "name": "python3"
  },
  "language_info": {
   "codemirror_mode": {
    "name": "ipython",
    "version": 3
   },
   "file_extension": ".py",
   "mimetype": "text/x-python",
   "name": "python",
   "nbconvert_exporter": "python",
   "pygments_lexer": "ipython3",
   "version": "3.10.6"
  }
 },
 "nbformat": 4,
 "nbformat_minor": 2
}
