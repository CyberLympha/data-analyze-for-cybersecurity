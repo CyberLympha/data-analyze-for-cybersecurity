{
 "cells": [
  {
   "cell_type": "markdown",
   "metadata": {},
   "source": [
    "<h1> Материалы курса \"Анализ данных в инфромационной безопасности\" </h1>\n",
    "\n",
    "<h2> Практическое занятие № 2.1 </h2>\n",
    "\n",
    "<h2> Тема: \"Python+SQLite\" </h2>\n",
    "\n",
    "<h2>Автор:</h2>\n",
    "\n",
    "<p>Синадский Алексей</p>\n",
    "<p>Исследователь исследовательского центра UDV Group</p>\n",
    "<p>aleksei.sinadskiy@udv.group</p>\n"
   ]
  },
  {
   "cell_type": "markdown",
   "metadata": {},
   "source": [
    "Содержание:\n",
    "- Чтение данных из Excel\n",
    "- Создание БД\n",
    "- Проектирование и создание таблиц\n",
    "- Вставка данных\n",
    "- Получение данных\n",
    "- Анализ имеющихся данных\n",
    "- Построение модели прогнозирования средствами SQL"
   ]
  },
  {
   "cell_type": "markdown",
   "metadata": {},
   "source": [
    "# Импорт нужных модулей"
   ]
  },
  {
   "cell_type": "code",
   "execution_count": null,
   "metadata": {},
   "outputs": [],
   "source": [
    "import pandas as pd  # для обработки данных в Python\n",
    "import sqlite3  # лёгкая БД - подробнее посмотреть можно тут: https://habr.com/ru/articles/754400/\n",
    "import contextlib  # для удобного открытия и закрытия подключеия к БД"
   ]
  },
  {
   "cell_type": "markdown",
   "metadata": {},
   "source": [
    "# Чтение и запись данных XLSX"
   ]
  },
  {
   "cell_type": "markdown",
   "metadata": {},
   "source": [
    "## Чтение"
   ]
  },
  {
   "cell_type": "markdown",
   "metadata": {},
   "source": [
    "Путь к файлу"
   ]
  },
  {
   "cell_type": "code",
   "execution_count": null,
   "metadata": {},
   "outputs": [],
   "source": [
    "xlsx_file_path = './Автосалон_амбарная_книга.xlsx'\n",
    "sheet_name = 'Sheet1'"
   ]
  },
  {
   "cell_type": "markdown",
   "metadata": {},
   "source": [
    "Прочитайте данные из файла с помощью Pandas"
   ]
  },
  {
   "cell_type": "code",
   "execution_count": null,
   "metadata": {},
   "outputs": [],
   "source": [
    "df = pd."
   ]
  },
  {
   "cell_type": "markdown",
   "metadata": {},
   "source": [
    "Посмотрите результат"
   ]
  },
  {
   "cell_type": "code",
   "execution_count": null,
   "metadata": {},
   "outputs": [],
   "source": [
    "df"
   ]
  },
  {
   "cell_type": "markdown",
   "metadata": {},
   "source": [
    "## Запись"
   ]
  },
  {
   "cell_type": "markdown",
   "metadata": {},
   "source": [
    "Запишите данные в файл XLSX с другим названием"
   ]
  },
  {
   "cell_type": "code",
   "execution_count": null,
   "metadata": {},
   "outputs": [],
   "source": [
    "df."
   ]
  },
  {
   "cell_type": "markdown",
   "metadata": {},
   "source": [
    "## Предобработка"
   ]
  },
  {
   "cell_type": "markdown",
   "metadata": {},
   "source": [
    "Выделите марку машины и её идентификатор в отдельные поля. Столбцы назовите `car_model` и `car_vin`"
   ]
  },
  {
   "cell_type": "code",
   "execution_count": null,
   "metadata": {},
   "outputs": [],
   "source": [
    "df['car_model'] = ...\n",
    "df['car_vin'] = ..."
   ]
  },
  {
   "cell_type": "markdown",
   "metadata": {},
   "source": [
    "Посмотрите результат"
   ]
  },
  {
   "cell_type": "code",
   "execution_count": null,
   "metadata": {},
   "outputs": [],
   "source": [
    "df.head(5)"
   ]
  },
  {
   "cell_type": "markdown",
   "metadata": {},
   "source": [
    "Выделите результат продажи в виде числа в формате float.\n",
    "\n",
    "Напишите функцию, которая по значению столбца Result возвращает численное значение, а затем примените её в `map`"
   ]
  },
  {
   "cell_type": "code",
   "execution_count": null,
   "metadata": {},
   "outputs": [],
   "source": [
    "def user_readable_result_to_numbers(result_str):\n",
    "    \"\"\"\n",
    "    Возваращает численное значение результата продажи по строковому из амбарной книги\n",
    "\n",
    "    Parameters\n",
    "    ----------\n",
    "    result_str : str\n",
    "        Строковое описание результата продажи из амбарной книги\n",
    "\n",
    "    Returns\n",
    "    -------\n",
    "    numeric_result : float\n",
    "        Численное значение результата продажи\n",
    "\n",
    "    Raises\n",
    "    ------\n",
    "    ValueError\n",
    "        Вызывается в случае, если встречено не интерпретируемое значение\n",
    "    \"\"\"\n",
    "    numeric_result = 0\n",
    "    ...\n",
    "    return numeric_result\n",
    "\n",
    "df['trade_result'] = df['Result'].map(user_readable_result_to_numbers)"
   ]
  },
  {
   "cell_type": "code",
   "execution_count": null,
   "metadata": {},
   "outputs": [],
   "source": [
    "df"
   ]
  },
  {
   "cell_type": "markdown",
   "metadata": {},
   "source": [
    "Выделите сотрудников в отдельный датафрейм. В нём должны быть колонки `name`, `age`, `marital_status`"
   ]
  },
  {
   "cell_type": "code",
   "execution_count": null,
   "metadata": {},
   "outputs": [],
   "source": [
    "def user_readable_worker_to_details(worker_str):\n",
    "    \"\"\"\n",
    "    Возвращает информационные поля по строковому описанию сотрудника из амбарной книги\n",
    "\n",
    "    Parameters\n",
    "    ----------\n",
    "    worker_str : str\n",
    "        Описание сотрудника из амбарной книги\n",
    "\n",
    "    Returns\n",
    "    -------\n",
    "    tuple\n",
    "        Набор свойств сотрдуника: имя, возраст, семейное положение\n",
    "    \"\"\"\n",
    "    ...\n",
    "    return name, age, marital_status\n",
    "\n",
    "df_workers = pd.DataFrame(columns=['name', 'age', 'marital_status'])\n",
    "df_workers[['name', 'age', 'marital_status']] = df['Worker']. ... (user_readable_worker_to_details).apply(pd.Series)\n",
    "df_workers = ...  # удаление полных дубликатов"
   ]
  },
  {
   "cell_type": "code",
   "execution_count": null,
   "metadata": {},
   "outputs": [],
   "source": [
    "df_workers"
   ]
  },
  {
   "cell_type": "markdown",
   "metadata": {},
   "source": [
    "# Проектирование и создание таблиц"
   ]
  },
  {
   "cell_type": "markdown",
   "metadata": {},
   "source": [
    "Общий синтаксис:\n",
    "```\n",
    "connection = sqlite3.connect('my_database.db')\n",
    "cursor = connection.cursor()\n",
    "cursor.execute('SQL statement')\n",
    "connection.commit()\n",
    "connection.close()\n",
    "```\n",
    "Для автозакрытия можно использовать \n",
    "```with contextlib.closing(sqlite3.connect(path_to_file)) as conn```\n",
    "\n",
    "Для автокоммита:\n",
    "```with contextlib.closing(conn.cursor()) as cursor```\n",
    "\n",
    "В итоге с автозакрытием подключения и автокоммитом:\n",
    "```\n",
    "with contextlib.closing(sqlite3.connect(path_to_file)) as conn:\n",
    "    with contextlib.closing(conn.cursor()) as cursor:\n",
    "        cursor.execute(SQL statement)\n",
    "```"
   ]
  },
  {
   "cell_type": "markdown",
   "metadata": {},
   "source": [
    "Не требуется в каждой записи хранить информацию о сотруднике - вынесем его в отдельную таблицу.\n",
    "\n",
    "Также не будем хранить старые поля - сохраним только вновь выделенные.\n",
    "\n",
    "Создадим две таблицы: \"Сотрудники\" и \"Продажи\"."
   ]
  },
  {
   "cell_type": "markdown",
   "metadata": {},
   "source": [
    "В таблице \"Сотрудники\" создайте поля \"Имя\", \"Возраст\", \"Семейное положение\""
   ]
  },
  {
   "cell_type": "code",
   "execution_count": null,
   "metadata": {},
   "outputs": [],
   "source": [
    "with contextlib.closing(sqlite3.connect('dealership.db')) as connection:\n",
    "    with contextlib.closing(connection.cursor()) as cursor:\n",
    "        cursor.execute('''\n",
    "            ...\n",
    "            '''\n",
    "        )"
   ]
  },
  {
   "cell_type": "markdown",
   "metadata": {},
   "source": [
    "В таблице \"Продажи\" создайте поля \"Модель машины\", \"Идентификатор машины\", \"Результат продажи\", \"Идентификатор продавца\""
   ]
  },
  {
   "cell_type": "code",
   "execution_count": null,
   "metadata": {},
   "outputs": [],
   "source": [
    "with contextlib.closing(sqlite3.connect('dealership.db')) as connection:\n",
    "    with contextlib.closing(connection.cursor()) as cursor:\n",
    "        cursor.execute('''\n",
    "            ...\n",
    "            '''\n",
    "        )\n"
   ]
  },
  {
   "cell_type": "markdown",
   "metadata": {},
   "source": [
    "# Вставка данных"
   ]
  },
  {
   "cell_type": "markdown",
   "metadata": {},
   "source": [
    "Добавьте данные о сотрудниках из `df_workers` в таблицу `Workers` БД"
   ]
  },
  {
   "cell_type": "code",
   "execution_count": null,
   "metadata": {},
   "outputs": [],
   "source": [
    "data = list(zip(df_workers['name'], df_workers['age'], df_workers['marital_status']))  # преобразуем столбцы DataFrame в кортежи\n",
    "\n",
    "with contextlib.closing(sqlite3.connect('dealership.db')) as connection:\n",
    "    cursor = connection.cursor()\n",
    "    cursor.executemany(  # executemany - для набора данных\n",
    "        '''\n",
    "        '''\n",
    "    )\n",
    "    connection.commit()\n",
    "data\n"
   ]
  },
  {
   "cell_type": "markdown",
   "metadata": {},
   "source": [
    "Добавьте данные о продажах в таблицу `Sales` (для каждой продажи нужно добавить ссылку на сотрудника в таблице сотрудников)"
   ]
  },
  {
   "cell_type": "code",
   "execution_count": null,
   "metadata": {},
   "outputs": [],
   "source": [
    "workers_saved = ...  # список всех работников, по которому можно будет выбрать индекс\n",
    "\n",
    "data = list(zip(df['car_model'], df['car_vin'], df['trade_result'],\n",
    "                ...идентификатор работника...))\n",
    "\n",
    "with contextlib.closing(sqlite3.connect('dealership.db')) as connection:\n",
    "    cursor = connection.cursor()\n",
    "    cursor.executemany(\n",
    "        '''\n",
    "        ...\n",
    "        '''\n",
    "    )\n",
    "    connection.commit()\n",
    "data"
   ]
  },
  {
   "cell_type": "markdown",
   "metadata": {},
   "source": [
    "# Получение данных"
   ]
  },
  {
   "cell_type": "markdown",
   "metadata": {},
   "source": [
    "Получите все данные из таблицы сотрудников"
   ]
  },
  {
   "cell_type": "code",
   "execution_count": null,
   "metadata": {},
   "outputs": [],
   "source": [
    "..."
   ]
  },
  {
   "cell_type": "markdown",
   "metadata": {},
   "source": [
    "Получите все данные из таблицы продаж"
   ]
  },
  {
   "cell_type": "code",
   "execution_count": null,
   "metadata": {},
   "outputs": [],
   "source": [
    "..."
   ]
  },
  {
   "cell_type": "markdown",
   "metadata": {},
   "source": [
    "# Анализ имеющихся данных"
   ]
  },
  {
   "cell_type": "markdown",
   "metadata": {},
   "source": [
    "Посмотрите, попробуйте разные запросы (в т.ч. группировку по моделям, продавцам). Попробуйте какие-нибудь выводы."
   ]
  },
  {
   "cell_type": "markdown",
   "metadata": {},
   "source": [
    "Примеры:"
   ]
  },
  {
   "cell_type": "markdown",
   "metadata": {},
   "source": [
    "Выведите среднее значение результата продаж"
   ]
  },
  {
   "cell_type": "code",
   "execution_count": null,
   "metadata": {},
   "outputs": [],
   "source": [
    "with contextlib.closing(sqlite3.connect('dealership.db')) as connection:\n",
    "    with contextlib.closing(connection.cursor()) as cursor:\n",
    "        cursor.execute('''\n",
    "                       ...\n",
    "                       ''')\n",
    "        data = cursor.fetchall()\n",
    "data"
   ]
  },
  {
   "cell_type": "markdown",
   "metadata": {},
   "source": [
    "Выведите среднее значение результата продаж для каждого работника в отдельности"
   ]
  },
  {
   "cell_type": "code",
   "execution_count": null,
   "metadata": {},
   "outputs": [],
   "source": [
    "with contextlib.closing(sqlite3.connect('dealership.db')) as connection:\n",
    "    with contextlib.closing(connection.cursor()) as cursor:\n",
    "        cursor.execute(\n",
    "            '''\n",
    "            '''\n",
    "        )\n",
    "        data = cursor.fetchall()\n",
    "data"
   ]
  },
  {
   "cell_type": "markdown",
   "metadata": {},
   "source": [
    "Выведите среднее значение результата продаж для каждого работника в отдельности, и для каждого результата выведите данные о работнике из таблицы `Workers`"
   ]
  },
  {
   "cell_type": "code",
   "execution_count": null,
   "metadata": {},
   "outputs": [],
   "source": [
    "with contextlib.closing(sqlite3.connect('dealership.db')) as connection:\n",
    "    with contextlib.closing(connection.cursor()) as cursor:\n",
    "        cursor.execute(\n",
    "            '''\n",
    "            '''\n",
    "        )\n",
    "        data = cursor.fetchall()\n",
    "data"
   ]
  },
  {
   "cell_type": "markdown",
   "metadata": {},
   "source": [
    "# Построение модели прогнозирования средствами SQL"
   ]
  },
  {
   "cell_type": "markdown",
   "metadata": {},
   "source": [
    "Собственник предприятия хотел бы выбрать наиболее перспективного сотрудника. Показатель успешности - вероятное значение продаж на следующий период."
   ]
  },
  {
   "cell_type": "markdown",
   "metadata": {},
   "source": [
    "Спрогнозируйте следующее значение продажи каждого сотрдуника. Используйте оконное скользящее среднее (поэкспериментируйте с размером окна)."
   ]
  },
  {
   "cell_type": "code",
   "execution_count": null,
   "metadata": {},
   "outputs": [],
   "source": [
    "with contextlib.closing(sqlite3.connect('dealership.db')) as connection:\n",
    "    with contextlib.closing(connection.cursor()) as cursor:\n",
    "        cursor.execute(\n",
    "            '''\n",
    "            '''\n",
    "        )\n",
    "        data = cursor.fetchall()\n",
    "data"
   ]
  },
  {
   "cell_type": "markdown",
   "metadata": {},
   "source": [
    "# Выводы"
   ]
  },
  {
   "cell_type": "markdown",
   "metadata": {},
   "source": [
    "Здесь напишите выводы по выполненной работе."
   ]
  }
 ],
 "metadata": {
  "kernelspec": {
   "display_name": "Python 3",
   "language": "python",
   "name": "python3"
  },
  "language_info": {
   "codemirror_mode": {
    "name": "ipython",
    "version": 3
   },
   "file_extension": ".py",
   "mimetype": "text/x-python",
   "name": "python",
   "nbconvert_exporter": "python",
   "pygments_lexer": "ipython3",
   "version": "3.10.6"
  }
 },
 "nbformat": 4,
 "nbformat_minor": 2
}
