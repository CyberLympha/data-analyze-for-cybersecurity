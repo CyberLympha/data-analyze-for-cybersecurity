{
 "cells": [
  {
   "cell_type": "markdown",
   "id": "56b8b824",
   "metadata": {},
   "source": [
    "<h1> Материалы курса \"Анализ данных в инфромационной безопасности\" </h1>\n",
    "\n",
    "<h2> Практическое занятие № 5.1 </h2>\n",
    "\n",
    "<h2> Тема: \"Классификация спама\" </h2>\n",
    "\n",
    "<h2>Автор:</h2>\n",
    "\n",
    "<p>Русинова Залина</p>\n",
    "<p>Младший исследователь исследовательского центра UDV Group</p>\n",
    "<p>zalina.rusinova@udv.group</p>"
   ]
  },
  {
   "cell_type": "code",
   "execution_count": 1,
   "id": "5b756dd8",
   "metadata": {},
   "outputs": [],
   "source": [
    "import pandas as pd\n",
    "import numpy as np\n",
    "import re\n",
    "import string\n",
    "import spacy\n",
    "from sklearn.model_selection import train_test_split\n",
    "import matplotlib.pyplot as plt"
   ]
  },
  {
   "cell_type": "code",
   "execution_count": 2,
   "id": "08a26338",
   "metadata": {},
   "outputs": [
    {
     "name": "stdout",
     "output_type": "stream",
     "text": [
      "Collecting en-core-web-sm==3.7.0\n",
      "  Downloading https://github.com/explosion/spacy-models/releases/download/en_core_web_sm-3.7.0/en_core_web_sm-3.7.0-py3-none-any.whl (12.8 MB)\n",
      "     ---------------------------------------- 12.8/12.8 MB 5.0 MB/s eta 0:00:00\n",
      "Requirement already satisfied: spacy<3.8.0,>=3.7.0 in c:\\users\\zrusinova\\anaconda3\\lib\\site-packages (from en-core-web-sm==3.7.0) (3.7.2)\n",
      "Requirement already satisfied: murmurhash<1.1.0,>=0.28.0 in c:\\users\\zrusinova\\anaconda3\\lib\\site-packages (from spacy<3.8.0,>=3.7.0->en-core-web-sm==3.7.0) (1.0.10)\n",
      "Requirement already satisfied: packaging>=20.0 in c:\\users\\zrusinova\\anaconda3\\lib\\site-packages (from spacy<3.8.0,>=3.7.0->en-core-web-sm==3.7.0) (21.3)\n",
      "Requirement already satisfied: thinc<8.3.0,>=8.1.8 in c:\\users\\zrusinova\\anaconda3\\lib\\site-packages (from spacy<3.8.0,>=3.7.0->en-core-web-sm==3.7.0) (8.2.1)\n",
      "Requirement already satisfied: spacy-loggers<2.0.0,>=1.0.0 in c:\\users\\zrusinova\\anaconda3\\lib\\site-packages (from spacy<3.8.0,>=3.7.0->en-core-web-sm==3.7.0) (1.0.5)\n",
      "Requirement already satisfied: wasabi<1.2.0,>=0.9.1 in c:\\users\\zrusinova\\anaconda3\\lib\\site-packages (from spacy<3.8.0,>=3.7.0->en-core-web-sm==3.7.0) (1.1.2)\n",
      "Requirement already satisfied: jinja2 in c:\\users\\zrusinova\\anaconda3\\lib\\site-packages (from spacy<3.8.0,>=3.7.0->en-core-web-sm==3.7.0) (3.1.2)\n",
      "Requirement already satisfied: srsly<3.0.0,>=2.4.3 in c:\\users\\zrusinova\\anaconda3\\lib\\site-packages (from spacy<3.8.0,>=3.7.0->en-core-web-sm==3.7.0) (2.4.8)\n",
      "Requirement already satisfied: spacy-legacy<3.1.0,>=3.0.11 in c:\\users\\zrusinova\\anaconda3\\lib\\site-packages (from spacy<3.8.0,>=3.7.0->en-core-web-sm==3.7.0) (3.0.12)\n",
      "Requirement already satisfied: langcodes<4.0.0,>=3.2.0 in c:\\users\\zrusinova\\anaconda3\\lib\\site-packages (from spacy<3.8.0,>=3.7.0->en-core-web-sm==3.7.0) (3.3.0)\n",
      "Requirement already satisfied: cymem<2.1.0,>=2.0.2 in c:\\users\\zrusinova\\anaconda3\\lib\\site-packages (from spacy<3.8.0,>=3.7.0->en-core-web-sm==3.7.0) (2.0.8)\n",
      "Requirement already satisfied: setuptools in c:\\users\\zrusinova\\anaconda3\\lib\\site-packages (from spacy<3.8.0,>=3.7.0->en-core-web-sm==3.7.0) (63.4.1)\n",
      "Requirement already satisfied: weasel<0.4.0,>=0.1.0 in c:\\users\\zrusinova\\anaconda3\\lib\\site-packages (from spacy<3.8.0,>=3.7.0->en-core-web-sm==3.7.0) (0.3.4)\n",
      "Requirement already satisfied: catalogue<2.1.0,>=2.0.6 in c:\\users\\zrusinova\\anaconda3\\lib\\site-packages (from spacy<3.8.0,>=3.7.0->en-core-web-sm==3.7.0) (2.0.10)\n",
      "Requirement already satisfied: requests<3.0.0,>=2.13.0 in c:\\users\\zrusinova\\anaconda3\\lib\\site-packages (from spacy<3.8.0,>=3.7.0->en-core-web-sm==3.7.0) (2.28.1)\n",
      "Requirement already satisfied: tqdm<5.0.0,>=4.38.0 in c:\\users\\zrusinova\\anaconda3\\lib\\site-packages (from spacy<3.8.0,>=3.7.0->en-core-web-sm==3.7.0) (4.64.1)\n",
      "Requirement already satisfied: pydantic!=1.8,!=1.8.1,<3.0.0,>=1.7.4 in c:\\users\\zrusinova\\anaconda3\\lib\\site-packages (from spacy<3.8.0,>=3.7.0->en-core-web-sm==3.7.0) (2.4.2)\n",
      "Requirement already satisfied: numpy>=1.19.0 in c:\\users\\zrusinova\\anaconda3\\lib\\site-packages (from spacy<3.8.0,>=3.7.0->en-core-web-sm==3.7.0) (1.21.5)\n",
      "Requirement already satisfied: typer<0.10.0,>=0.3.0 in c:\\users\\zrusinova\\anaconda3\\lib\\site-packages (from spacy<3.8.0,>=3.7.0->en-core-web-sm==3.7.0) (0.9.0)\n",
      "Requirement already satisfied: smart-open<7.0.0,>=5.2.1 in c:\\users\\zrusinova\\anaconda3\\lib\\site-packages (from spacy<3.8.0,>=3.7.0->en-core-web-sm==3.7.0) (5.2.1)\n",
      "Requirement already satisfied: preshed<3.1.0,>=3.0.2 in c:\\users\\zrusinova\\anaconda3\\lib\\site-packages (from spacy<3.8.0,>=3.7.0->en-core-web-sm==3.7.0) (3.0.9)\n",
      "Requirement already satisfied: pyparsing!=3.0.5,>=2.0.2 in c:\\users\\zrusinova\\anaconda3\\lib\\site-packages (from packaging>=20.0->spacy<3.8.0,>=3.7.0->en-core-web-sm==3.7.0) (3.0.9)\n",
      "Requirement already satisfied: pydantic-core==2.10.1 in c:\\users\\zrusinova\\anaconda3\\lib\\site-packages (from pydantic!=1.8,!=1.8.1,<3.0.0,>=1.7.4->spacy<3.8.0,>=3.7.0->en-core-web-sm==3.7.0) (2.10.1)\n",
      "Requirement already satisfied: annotated-types>=0.4.0 in c:\\users\\zrusinova\\anaconda3\\lib\\site-packages (from pydantic!=1.8,!=1.8.1,<3.0.0,>=1.7.4->spacy<3.8.0,>=3.7.0->en-core-web-sm==3.7.0) (0.6.0)\n",
      "Requirement already satisfied: typing-extensions>=4.6.1 in c:\\users\\zrusinova\\anaconda3\\lib\\site-packages (from pydantic!=1.8,!=1.8.1,<3.0.0,>=1.7.4->spacy<3.8.0,>=3.7.0->en-core-web-sm==3.7.0) (4.8.0)\n",
      "Requirement already satisfied: urllib3<1.27,>=1.21.1 in c:\\users\\zrusinova\\anaconda3\\lib\\site-packages (from requests<3.0.0,>=2.13.0->spacy<3.8.0,>=3.7.0->en-core-web-sm==3.7.0) (1.26.11)\n",
      "Requirement already satisfied: idna<4,>=2.5 in c:\\users\\zrusinova\\anaconda3\\lib\\site-packages (from requests<3.0.0,>=2.13.0->spacy<3.8.0,>=3.7.0->en-core-web-sm==3.7.0) (3.3)\n",
      "Requirement already satisfied: charset-normalizer<3,>=2 in c:\\users\\zrusinova\\anaconda3\\lib\\site-packages (from requests<3.0.0,>=2.13.0->spacy<3.8.0,>=3.7.0->en-core-web-sm==3.7.0) (2.0.4)\n",
      "Requirement already satisfied: certifi>=2017.4.17 in c:\\users\\zrusinova\\anaconda3\\lib\\site-packages (from requests<3.0.0,>=2.13.0->spacy<3.8.0,>=3.7.0->en-core-web-sm==3.7.0) (2022.9.14)\n",
      "Requirement already satisfied: blis<0.8.0,>=0.7.8 in c:\\users\\zrusinova\\anaconda3\\lib\\site-packages (from thinc<8.3.0,>=8.1.8->spacy<3.8.0,>=3.7.0->en-core-web-sm==3.7.0) (0.7.11)\n",
      "Requirement already satisfied: confection<1.0.0,>=0.0.1 in c:\\users\\zrusinova\\anaconda3\\lib\\site-packages (from thinc<8.3.0,>=8.1.8->spacy<3.8.0,>=3.7.0->en-core-web-sm==3.7.0) (0.1.3)\n",
      "Requirement already satisfied: colorama in c:\\users\\zrusinova\\anaconda3\\lib\\site-packages (from tqdm<5.0.0,>=4.38.0->spacy<3.8.0,>=3.7.0->en-core-web-sm==3.7.0) (0.4.6)\n",
      "Requirement already satisfied: click<9.0.0,>=7.1.1 in c:\\users\\zrusinova\\anaconda3\\lib\\site-packages (from typer<0.10.0,>=0.3.0->spacy<3.8.0,>=3.7.0->en-core-web-sm==3.7.0) (8.0.4)\n",
      "Requirement already satisfied: cloudpathlib<0.17.0,>=0.7.0 in c:\\users\\zrusinova\\anaconda3\\lib\\site-packages (from weasel<0.4.0,>=0.1.0->spacy<3.8.0,>=3.7.0->en-core-web-sm==3.7.0) (0.16.0)\n",
      "Requirement already satisfied: MarkupSafe>=2.0 in c:\\users\\zrusinova\\anaconda3\\lib\\site-packages (from jinja2->spacy<3.8.0,>=3.7.0->en-core-web-sm==3.7.0) (2.0.1)\n",
      "\u001b[38;5;2m[+] Download and installation successful\u001b[0m\n",
      "You can now load the package via spacy.load('en_core_web_sm')\n"
     ]
    }
   ],
   "source": [
    "!python -m spacy download en_core_web_sm"
   ]
  },
  {
   "cell_type": "markdown",
   "id": "74b72172",
   "metadata": {},
   "source": [
    "## Оглавление <a name='toc'></a>\n",
    "<ol>\n",
    "<li><a href='#load'> Загрузка и подготовка данных</a></li>\n",
    "<li><a href='#bow'>Bag of Words</a></li>\n",
    "<li><a href='#tfidf'>Tf-Idf</a></li>\n",
    "<li><a href='#interp'>Интерпретация</a></li>\n",
    "</ol>"
   ]
  },
  {
   "cell_type": "markdown",
   "id": "8a2288dc",
   "metadata": {},
   "source": [
    "### 1. Загрузка и подготовка данных <a name='load'></a>"
   ]
  },
  {
   "cell_type": "code",
   "execution_count": 3,
   "id": "a288e694",
   "metadata": {},
   "outputs": [
    {
     "data": {
      "text/html": [
       "<div>\n",
       "<style scoped>\n",
       "    .dataframe tbody tr th:only-of-type {\n",
       "        vertical-align: middle;\n",
       "    }\n",
       "\n",
       "    .dataframe tbody tr th {\n",
       "        vertical-align: top;\n",
       "    }\n",
       "\n",
       "    .dataframe thead th {\n",
       "        text-align: right;\n",
       "    }\n",
       "</style>\n",
       "<table border=\"1\" class=\"dataframe\">\n",
       "  <thead>\n",
       "    <tr style=\"text-align: right;\">\n",
       "      <th></th>\n",
       "      <th>label</th>\n",
       "      <th>text</th>\n",
       "    </tr>\n",
       "  </thead>\n",
       "  <tbody>\n",
       "    <tr>\n",
       "      <th>0</th>\n",
       "      <td>ham</td>\n",
       "      <td>Go until jurong point, crazy.. Available only ...</td>\n",
       "    </tr>\n",
       "    <tr>\n",
       "      <th>1</th>\n",
       "      <td>ham</td>\n",
       "      <td>Ok lar... Joking wif u oni...</td>\n",
       "    </tr>\n",
       "    <tr>\n",
       "      <th>2</th>\n",
       "      <td>spam</td>\n",
       "      <td>Free entry in 2 a wkly comp to win FA Cup fina...</td>\n",
       "    </tr>\n",
       "    <tr>\n",
       "      <th>3</th>\n",
       "      <td>ham</td>\n",
       "      <td>U dun say so early hor... U c already then say...</td>\n",
       "    </tr>\n",
       "    <tr>\n",
       "      <th>4</th>\n",
       "      <td>ham</td>\n",
       "      <td>Nah I don't think he goes to usf, he lives aro...</td>\n",
       "    </tr>\n",
       "  </tbody>\n",
       "</table>\n",
       "</div>"
      ],
      "text/plain": [
       "  label                                               text\n",
       "0   ham  Go until jurong point, crazy.. Available only ...\n",
       "1   ham                      Ok lar... Joking wif u oni...\n",
       "2  spam  Free entry in 2 a wkly comp to win FA Cup fina...\n",
       "3   ham  U dun say so early hor... U c already then say...\n",
       "4   ham  Nah I don't think he goes to usf, he lives aro..."
      ]
     },
     "execution_count": 3,
     "metadata": {},
     "output_type": "execute_result"
    }
   ],
   "source": [
    "data = pd.read_csv('spam.csv', encoding='iso-8859-1')[['v1', 'v2']].rename(columns={'v1': 'label', 'v2': 'text'})\n",
    "data.head()"
   ]
  },
  {
   "cell_type": "code",
   "execution_count": 4,
   "id": "508b4bb0",
   "metadata": {},
   "outputs": [
    {
     "data": {
      "text/plain": [
       "ham     4825\n",
       "spam     747\n",
       "Name: label, dtype: int64"
      ]
     },
     "execution_count": 4,
     "metadata": {},
     "output_type": "execute_result"
    }
   ],
   "source": [
    "data['label'].value_counts()"
   ]
  },
  {
   "cell_type": "code",
   "execution_count": 5,
   "id": "0253e90e",
   "metadata": {},
   "outputs": [],
   "source": [
    "data['label'] = data['label'].map({'ham': 0, 'spam': 1})"
   ]
  },
  {
   "cell_type": "markdown",
   "id": "f8600ec1",
   "metadata": {},
   "source": [
    "## Предобработка данных"
   ]
  },
  {
   "cell_type": "markdown",
   "id": "83836c90",
   "metadata": {},
   "source": [
    "### 1 вариант предобрабоки:\n",
    "\n",
    "Создадим пайплан обработки данных вручную с использованием библиотек pymorphy2 и nltk:\n",
    "\n",
    "1. **Токенизация** — самый первый шаг при обработке текста. \n",
    "2. **Нормализация** — приведение к одному регистру, удаляются пунктуации, исправление опечаток и т.д.\n",
    "3. \n",
    "    * **Стемминг** —  выделение псевдоосновы слова.\n",
    "    * **Лемматизация** — приведение слов к словарной (\"начальной\") форме.\n",
    "4. **Удаление стоп-слов** — слов, которые не несут никакой смысловой нагрузки (предлоги, союзы и т.п.) Список зависит от задачи!\n",
    "\n",
    "**Важно!** Не всегда нужны все этапы, все зависит от задачи!"
   ]
  },
  {
   "cell_type": "markdown",
   "id": "71015c18",
   "metadata": {},
   "source": [
    "### NLP-библиотеки\n",
    "\n",
    "NLP-библиотеки для питона:\n",
    "* Natural Language Toolkit (NLTK)\n",
    "* Apache OpenNLP\n",
    "* Stanford NLP suite\n",
    "* Gate NLP library\n",
    "* Spacy\n",
    "* Yargy\n",
    "* DeepPavlov\n",
    "* CLTK (для древних языков)\n",
    "* и т.д.\n",
    "\n",
    "Самая старая и известная — NLTK. В NLTK есть не только различные инструменты для обработки текста, но и данные — текстовые корпуса, предобученные модели для анализа тональности и морфологической разметки, списки стоп-слов для разных языков и т.п.\n",
    "\n",
    "* [Учебник по NLTK](https://www.nltk.org/book/) от авторов библиотеки и [тьюториалы](https://github.com/hb20007/hands-on-nltk-tutorial) по решению разных задач NLP с помощью NLTK.\n",
    "* [Документация Spacy](https://spacy.io/)\n",
    "* [Документация Yargy](https://yargy.readthedocs.io/)\n",
    "* [Документация DeepPavlop](http://docs.deeppavlov.ai/)"
   ]
  },
  {
   "cell_type": "code",
   "execution_count": 6,
   "id": "31849d0b",
   "metadata": {},
   "outputs": [],
   "source": [
    "import re\n",
    "from pymorphy2 import MorphAnalyzer\n",
    "from nltk.corpus import stopwords\n",
    "\n",
    "m = MorphAnalyzer()\n",
    "regex = re.compile(\"[А-Яа-яA-z]+\")"
   ]
  },
  {
   "cell_type": "markdown",
   "id": "06262aa5",
   "metadata": {},
   "source": [
    "Этап 1 - Нормализация текста. Удаляем пунктуацию и числа, приводим к нижнему регистру"
   ]
  },
  {
   "cell_type": "code",
   "execution_count": 7,
   "id": "c4330f4c",
   "metadata": {},
   "outputs": [],
   "source": [
    "def words_only(text, regex=regex):\n",
    "    try:\n",
    "        return regex.findall(text.lower())\n",
    "    except:\n",
    "        return []"
   ]
  },
  {
   "cell_type": "markdown",
   "id": "add3c703",
   "metadata": {},
   "source": [
    "<ins>Удаление стоп-слов</ins>\n",
    "\n",
    "**Стоп-слова** — высокочастотные слова, которые не дают нам никакой информации о конкретном тексте. Они составляют верхушку частотного списка в любом языке. Набор стоп-слов не универсален, он будет зависеть от вашей задачи!\n",
    "\n",
    "В NLTK есть готовые списки стоп-слов для многих языков."
   ]
  },
  {
   "cell_type": "code",
   "execution_count": 8,
   "id": "95d6bba1",
   "metadata": {},
   "outputs": [
    {
     "name": "stderr",
     "output_type": "stream",
     "text": [
      "[nltk_data] Downloading package stopwords to\n",
      "[nltk_data]     C:\\Users\\zrusinova\\AppData\\Roaming\\nltk_data...\n",
      "[nltk_data]   Package stopwords is already up-to-date!\n"
     ]
    },
    {
     "data": {
      "text/plain": [
       "True"
      ]
     },
     "execution_count": 8,
     "metadata": {},
     "output_type": "execute_result"
    }
   ],
   "source": [
    "import nltk\n",
    "nltk.download('stopwords')"
   ]
  },
  {
   "cell_type": "code",
   "execution_count": 9,
   "id": "69755483",
   "metadata": {},
   "outputs": [],
   "source": [
    "mystopwords = stopwords.words('english') \n",
    "def remove_stopwords(lemmas, stopwords = mystopwords):\n",
    "    return [w for w in lemmas if not w in stopwords and len(w) > 3]"
   ]
  },
  {
   "cell_type": "markdown",
   "id": "6ff48274",
   "metadata": {},
   "source": [
    "<ins>Лемматизация</ins>\n",
    "\n",
    "**Лемматизация** — процесс приведения словоформы к лемме, т.е. нормальной (словарной) форме. Это более сложная задача, чем стемминг, но и результаты дает гораздо более осмысленные, особенно для языков с богатой морфологией.\n",
    "\n",
    "* кошке, кошку, кошкам, кошкой $\\implies$ кошка\n",
    "* бежал, бежит, бегу $\\implies$  бежать\n",
    "* белому, белым, белыми $\\implies$ белый"
   ]
  },
  {
   "cell_type": "markdown",
   "id": "24e8e97b",
   "metadata": {},
   "source": [
    "###  pymorphy2\n",
    "\n",
    "**pymorphy2** — это полноценный морфологический анализатор, целиком написанный на Python. В отличие от Mystem, он не учитывает контекст, а значит, вопрос разрешения омонимии надо будет решать нам самим (об этом ниже). Он также умеет ставить слова в нужную форму (спрягать и склонять). \n",
    "\n",
    "[Документация pymorphy2](https://pymorphy2.readthedocs.io/en/latest/)"
   ]
  },
  {
   "cell_type": "code",
   "execution_count": 10,
   "id": "a94075a5",
   "metadata": {},
   "outputs": [],
   "source": [
    "def lemmatize_word(token, pymorphy=m):\n",
    "    return pymorphy.parse(token)[0].normal_form\n",
    "\n",
    "def lemmatize_text(text):\n",
    "    return [lemmatize_word(w) for w in text]"
   ]
  },
  {
   "cell_type": "markdown",
   "id": "c3c33b2b",
   "metadata": {},
   "source": [
    "Собираем пайплайн"
   ]
  },
  {
   "cell_type": "code",
   "execution_count": 11,
   "id": "51ad5047",
   "metadata": {},
   "outputs": [
    {
     "data": {
      "text/html": [
       "<div>\n",
       "<style scoped>\n",
       "    .dataframe tbody tr th:only-of-type {\n",
       "        vertical-align: middle;\n",
       "    }\n",
       "\n",
       "    .dataframe tbody tr th {\n",
       "        vertical-align: top;\n",
       "    }\n",
       "\n",
       "    .dataframe thead th {\n",
       "        text-align: right;\n",
       "    }\n",
       "</style>\n",
       "<table border=\"1\" class=\"dataframe\">\n",
       "  <thead>\n",
       "    <tr style=\"text-align: right;\">\n",
       "      <th></th>\n",
       "      <th>label</th>\n",
       "      <th>text</th>\n",
       "      <th>cleaned_text</th>\n",
       "    </tr>\n",
       "  </thead>\n",
       "  <tbody>\n",
       "    <tr>\n",
       "      <th>4962</th>\n",
       "      <td>0</td>\n",
       "      <td>I want to see your pretty pussy...</td>\n",
       "      <td>want pretty pussy</td>\n",
       "    </tr>\n",
       "    <tr>\n",
       "      <th>656</th>\n",
       "      <td>0</td>\n",
       "      <td>Sun cant come to earth but send luv as rays. c...</td>\n",
       "      <td>cant come earth send rays cloud cant come rive...</td>\n",
       "    </tr>\n",
       "    <tr>\n",
       "      <th>5086</th>\n",
       "      <td>0</td>\n",
       "      <td>Omg if its not one thing its another. My cat h...</td>\n",
       "      <td>thing another worms</td>\n",
       "    </tr>\n",
       "    <tr>\n",
       "      <th>2275</th>\n",
       "      <td>0</td>\n",
       "      <td>Is that on the telly? No its Brdget Jones!</td>\n",
       "      <td>telly brdget jones</td>\n",
       "    </tr>\n",
       "    <tr>\n",
       "      <th>4504</th>\n",
       "      <td>1</td>\n",
       "      <td>Mobile Club: Choose any of the top quality ite...</td>\n",
       "      <td>mobile club choose quality items mobile cfca</td>\n",
       "    </tr>\n",
       "  </tbody>\n",
       "</table>\n",
       "</div>"
      ],
      "text/plain": [
       "      label                                               text  \\\n",
       "4962      0                 I want to see your pretty pussy...   \n",
       "656       0  Sun cant come to earth but send luv as rays. c...   \n",
       "5086      0  Omg if its not one thing its another. My cat h...   \n",
       "2275      0         Is that on the telly? No its Brdget Jones!   \n",
       "4504      1  Mobile Club: Choose any of the top quality ite...   \n",
       "\n",
       "                                           cleaned_text  \n",
       "4962                                  want pretty pussy  \n",
       "656   cant come earth send rays cloud cant come rive...  \n",
       "5086                                thing another worms  \n",
       "2275                                 telly brdget jones  \n",
       "4504       mobile club choose quality items mobile cfca  "
      ]
     },
     "execution_count": 11,
     "metadata": {},
     "output_type": "execute_result"
    }
   ],
   "source": [
    "def clean_text(text):\n",
    "    tokens = words_only(text)\n",
    "    lemmas = lemmatize_text(tokens)\n",
    "    \n",
    "    return ' '.join(remove_stopwords(lemmas))\n",
    "lemmas = list(map(clean_text, data['text']))\n",
    "    \n",
    "data['cleaned_text'] = lemmas\n",
    "data.sample(5)"
   ]
  },
  {
   "cell_type": "markdown",
   "id": "7f2b494a",
   "metadata": {},
   "source": [
    "### 2 вариант предобрабоки:\n",
    "\n",
    "Использование готового пайплайна предобработки текста из библиотеки spacy.\n",
    "\n",
    "**Spacy** - это библиотека расширенной обработки естественного языка (NLP) с открытым исходным кодом на Python. Библиотека spaCy выделяется своей эффективностью и производительностью. Она разработана с акцентом на скорость и точность, что делает ее предпочтительным выбором для многих разработчиков и исследователей в области NLP."
   ]
  },
  {
   "cell_type": "markdown",
   "id": "ba98404a",
   "metadata": {},
   "source": [
    "Пайпланы обработки в **spacy** - это последовательность обработки компонентов текста. Пайплан обычно включает в себя теггер, лемматизатор, синтаксический анализатор и распознаватель сущностей. Каждый компонент конвейера возвращает обработанный документ, который затем передается следующему компоненту. \n",
    "\n",
    "<img src=\"https://spacy.io/images/pipeline.svg\" alt=\"pipeline.png\" style=\"width: 600px;\"/>"
   ]
  },
  {
   "cell_type": "markdown",
   "id": "52c640ea",
   "metadata": {},
   "source": [
    "Доспупные компоненты пайплана:\n",
    "\n",
    "| Название |    Компонент    |   Результат    |           Описание           |\n",
    "|----------|-----------------|----------------|------------------------------|\n",
    "|tokenizer |    Tokenizer    |      Doc       |Сегаментирует текст на токены |\n",
    "|tagger    |     Tagger      |   Token.tag    |Назначает POS-теги            |\n",
    "|parser    | DependencyParser|   Token.head,  |Назначает лейблы зависимостей |\n",
    "|          |                 |   Token.dep,   |                              |\n",
    "|          |                 |   Doc.sents,   |                              |\n",
    "|          |                 |Doc.noun_chunks |                              |\n",
    "|ner       | EntityRecognizer|   Doc.ents,    |Размещает именованные сущности|\n",
    "|          |                 | Token.ent_iob, |                              |\n",
    "|          |                 | Token.ent_type |                              |\n",
    "|lemmatizer|   Lemmatizer    |   Token.lemma  |Определяет базовую форму      |\n",
    "|textcat   | TextCategorizer |   Doc.cats     |Назначает лейблы документа    |\n",
    "|custom    |custom components|    custom      |Назначает кастомные аттрибуты |"
   ]
  },
  {
   "cell_type": "code",
   "execution_count": 14,
   "id": "84e19507",
   "metadata": {},
   "outputs": [
    {
     "name": "stdout",
     "output_type": "stream",
     "text": [
      "Spacy english stopwords size: 326\n",
      "\n"
     ]
    },
    {
     "data": {
      "text/plain": [
       "\"whole have move nor towards mostly least too make seeming latter these several had am 've alone a since various always back me myself most does neither during ’ll n't rather show whether nobody per whence regarding hereby as even ‘s do ever less ‘ve in so into whenever part ourselves together around us seem serious be though last it and also whereas much might sometime we call between until otherwise must take nevertheless front hereafter hereupon re thereby due via thru whither 's down your first no this made else ten on why however therefore upon were done cannot about without will ours beside thereupon five noone was give top empty its not my there becomes somewhere already few through four 'm 'd himself forty such unless just latterly thereafter put may within used our hundred anyhow when really hers if under enough whereafter both how could that three who onto herself herein amongst them say twenty toward wherever his 'll among mine seemed nowhere everywhere whom only thus been ‘m eleven beyond hence to every besides eight very would twelve became is can beforehand doing still along quite did n’t being by someone another here before or ’s go anyone elsewhere again than i amount other of seems everyone yourselves above therein below ‘d yours out whatever because next off using perhaps but ’ve further meanwhile six well then yet throughout side namely moreover full ’re at others 're fifty ‘ll becoming once name get those whoever except formerly all she itself everything keep each for now with anywhere what yourself should fifteen often their over from former two never n‘t either the sometimes him one same see you third more nine wherein behind whereupon ’m across any thence ’d although whose afterwards many almost where anyway nothing whereby ‘re themselves has ca up own against none they after become her something are while an some indeed sixty he please bottom anything which somehow\""
      ]
     },
     "execution_count": 14,
     "metadata": {},
     "output_type": "execute_result"
    }
   ],
   "source": [
    "nlp = spacy.load(\"en_core_web_sm\")\n",
    "stopwords = nlp.Defaults.stop_words\n",
    "print(f'Spacy english stopwords size: {len(stopwords)}', end='\\n\\n')\n",
    "' '.join(stopwords)"
   ]
  },
  {
   "cell_type": "code",
   "execution_count": 15,
   "id": "abccdf4a",
   "metadata": {},
   "outputs": [
    {
     "name": "stdout",
     "output_type": "stream",
     "text": [
      "Wall time: 28.9 s\n"
     ]
    },
    {
     "data": {
      "text/html": [
       "<div>\n",
       "<style scoped>\n",
       "    .dataframe tbody tr th:only-of-type {\n",
       "        vertical-align: middle;\n",
       "    }\n",
       "\n",
       "    .dataframe tbody tr th {\n",
       "        vertical-align: top;\n",
       "    }\n",
       "\n",
       "    .dataframe thead th {\n",
       "        text-align: right;\n",
       "    }\n",
       "</style>\n",
       "<table border=\"1\" class=\"dataframe\">\n",
       "  <thead>\n",
       "    <tr style=\"text-align: right;\">\n",
       "      <th></th>\n",
       "      <th>label</th>\n",
       "      <th>text</th>\n",
       "      <th>cleaned_text</th>\n",
       "      <th>cleaned_text2</th>\n",
       "    </tr>\n",
       "  </thead>\n",
       "  <tbody>\n",
       "    <tr>\n",
       "      <th>5376</th>\n",
       "      <td>0</td>\n",
       "      <td>I don't want you to leave. But i'm barely doin...</td>\n",
       "      <td>want leave barely stay sane fighting constantl...</td>\n",
       "      <td>want leave barely stay sane fight constantly help</td>\n",
       "    </tr>\n",
       "    <tr>\n",
       "      <th>2190</th>\n",
       "      <td>0</td>\n",
       "      <td>Ooh, 4got, i'm gonna start belly dancing in mo...</td>\n",
       "      <td>gonna start belly dancing moseley weds want jo...</td>\n",
       "      <td>ooh 4got gon na start belly dance moseley wed ...</td>\n",
       "    </tr>\n",
       "    <tr>\n",
       "      <th>4197</th>\n",
       "      <td>1</td>\n",
       "      <td>Want to funk up ur fone with a weekly new tone...</td>\n",
       "      <td>want funk fone weekly tone reply tones text ri...</td>\n",
       "      <td>want funk ur fone weekly new tone reply tones2...</td>\n",
       "    </tr>\n",
       "    <tr>\n",
       "      <th>509</th>\n",
       "      <td>0</td>\n",
       "      <td>Your opinion about me? 1. Over 2. Jada 3. Kusr...</td>\n",
       "      <td>opinion jada kusruthi lovable silent character...</td>\n",
       "      <td>opinion jada kusruthi lovable silent spl chara...</td>\n",
       "    </tr>\n",
       "    <tr>\n",
       "      <th>1906</th>\n",
       "      <td>0</td>\n",
       "      <td>And stop being an old man. You get to build sn...</td>\n",
       "      <td>stop build snowman snow angels snowball fights</td>\n",
       "      <td>stop old man build snowman snow angel snowball...</td>\n",
       "    </tr>\n",
       "  </tbody>\n",
       "</table>\n",
       "</div>"
      ],
      "text/plain": [
       "      label                                               text  \\\n",
       "5376      0  I don't want you to leave. But i'm barely doin...   \n",
       "2190      0  Ooh, 4got, i'm gonna start belly dancing in mo...   \n",
       "4197      1  Want to funk up ur fone with a weekly new tone...   \n",
       "509       0  Your opinion about me? 1. Over 2. Jada 3. Kusr...   \n",
       "1906      0  And stop being an old man. You get to build sn...   \n",
       "\n",
       "                                           cleaned_text  \\\n",
       "5376  want leave barely stay sane fighting constantl...   \n",
       "2190  gonna start belly dancing moseley weds want jo...   \n",
       "4197  want funk fone weekly tone reply tones text ri...   \n",
       "509   opinion jada kusruthi lovable silent character...   \n",
       "1906     stop build snowman snow angels snowball fights   \n",
       "\n",
       "                                          cleaned_text2  \n",
       "5376  want leave barely stay sane fight constantly help  \n",
       "2190  ooh 4got gon na start belly dance moseley wed ...  \n",
       "4197  want funk ur fone weekly new tone reply tones2...  \n",
       "509   opinion jada kusruthi lovable silent spl chara...  \n",
       "1906  stop old man build snowman snow angel snowball...  "
      ]
     },
     "execution_count": 15,
     "metadata": {},
     "output_type": "execute_result"
    }
   ],
   "source": [
    "%%time\n",
    "\n",
    "data['cleaned_text2'] = data['text'].apply(\n",
    "    lambda x: ' '.join(\n",
    "        token.lemma_.lower() for token in nlp(x) if\n",
    "        not token.is_stop\n",
    "        and not token.is_punct\n",
    "        and not token.is_digit\n",
    "        and not token.like_email\n",
    "        and not token.like_num\n",
    "        and not token.is_space\n",
    "    )\n",
    ")\n",
    "data.sample(5)"
   ]
  },
  {
   "cell_type": "code",
   "execution_count": 16,
   "id": "94aeb451",
   "metadata": {},
   "outputs": [
    {
     "data": {
      "text/plain": [
       "'u dun early hor u c'"
      ]
     },
     "execution_count": 16,
     "metadata": {},
     "output_type": "execute_result"
    }
   ],
   "source": [
    "data['cleaned_text2'].iloc[3]"
   ]
  },
  {
   "cell_type": "markdown",
   "id": "f5332c02",
   "metadata": {},
   "source": [
    "### 2. Bag of Words <a name='load'></a>"
   ]
  },
  {
   "cell_type": "markdown",
   "id": "725e67bc",
   "metadata": {},
   "source": [
    "#### CountVectorizer\n",
    "\n",
    "- приводит к нижнему регистру\n",
    "- проводит токенизацию - `r\"(?u)\\b\\w\\w+\\b\"` (токены из 2 или более буквенно-цифровых символов, пунктуация полностью игнорируется и всегда рассматривается как разделитель токенов)\n",
    "  - `(?u)` - флаг Unicode\n",
    "  - `\\b` - граница слова\n",
    "  - `\\w` - символы, которые могут входить в состав слов, включая числа и подчёркивание\n",
    "  - `\\+` - 1 и более повторений предшествующего выражения\n",
    "- фильтрует стоп-слова"
   ]
  },
  {
   "cell_type": "code",
   "execution_count": 19,
   "id": "6cf9fba3",
   "metadata": {},
   "outputs": [],
   "source": [
    "from sklearn.feature_extraction.text import CountVectorizer\n",
    "from sklearn.feature_extraction._stop_words import ENGLISH_STOP_WORDS"
   ]
  },
  {
   "cell_type": "code",
   "execution_count": 20,
   "id": "f702cf79",
   "metadata": {},
   "outputs": [
    {
     "name": "stdout",
     "output_type": "stream",
     "text": [
      "Sklearn english stopwords size: 318\n",
      "\n"
     ]
    },
    {
     "data": {
      "text/plain": [
       "'whole have move nor towards mostly least too mill seeming latter these several had am alone a since cry always back me myself most neither during rather show whether nobody per whence hereby as even do ever less in so into whenever part ourselves together around us seem serious be though last found and it also whereas much might sometime we call between until otherwise must take nevertheless front hereafter hereupon re thereby due via thru whither down your first no this made else fill ten on why however therefore upon were done cannot about without will ours bill beside thereupon five noone was give top co empty its not my there becomes somewhere already few through four hasnt himself forty such latterly thereafter put may within our hundred anyhow when cant hers de if under enough whereafter both how con could that three who onto thick un herself system herein amongst them twenty toward wherever his among interest mine seemed nowhere everywhere whom only thus been inc eleven thin beyond hence to every besides eight very would twelve became is can amoungst beforehand still along find being by someone another here before detail or eg go anyone elsewhere again than i amount other of seems everyone yourselves above therein below couldnt yours out whatever because next off perhaps but etc further meanwhile six well then yet throughout side namely moreover full at others fifty ltd becoming once name get those whoever except formerly all she itself everything ie keep each for now with anywhere what yourself sincere should fifteen often their describe over from former two never either the sometimes him one same see you third more nine wherein behind whereupon fire across any thence whose although afterwards many almost where anyway nothing whereby themselves has up own against none they after become her something are while an some indeed sixty he please bottom anything which somehow'"
      ]
     },
     "execution_count": 20,
     "metadata": {},
     "output_type": "execute_result"
    }
   ],
   "source": [
    "print(f'Sklearn english stopwords size: {len(ENGLISH_STOP_WORDS)}', end='\\n\\n')\n",
    "' '.join(ENGLISH_STOP_WORDS)"
   ]
  },
  {
   "cell_type": "code",
   "execution_count": 16,
   "id": "56425854",
   "metadata": {},
   "outputs": [],
   "source": [
    "X_train, X_test, y_train, y_test = train_test_split(data['cleaned_text'], data['label'], random_state=2023)"
   ]
  },
  {
   "cell_type": "code",
   "execution_count": 21,
   "id": "2403bdb2",
   "metadata": {},
   "outputs": [],
   "source": [
    "X_train, X_test, y_train, y_test = train_test_split(data['cleaned_text2'], data['label'], random_state=2023)"
   ]
  },
  {
   "cell_type": "code",
   "execution_count": 22,
   "id": "e0013e39",
   "metadata": {},
   "outputs": [],
   "source": [
    "vectorizer = CountVectorizer(max_df=0.7, min_df=0.003) # max_df фильтрует corpus-specific stop words\n",
    "X_train_vectorized = vectorizer.fit_transform(X_train)\n",
    "X_test_vectorized = vectorizer.transform(X_test)"
   ]
  },
  {
   "cell_type": "code",
   "execution_count": 24,
   "id": "00c41cb3",
   "metadata": {},
   "outputs": [],
   "source": [
    "from sklearn.dummy import DummyClassifier\n",
    "from sklearn.linear_model import LogisticRegression\n",
    "from sklearn.metrics import classification_report"
   ]
  },
  {
   "cell_type": "markdown",
   "id": "c79bfeb8",
   "metadata": {},
   "source": [
    "Бейзлайн"
   ]
  },
  {
   "cell_type": "code",
   "execution_count": 25,
   "id": "164ee871",
   "metadata": {},
   "outputs": [
    {
     "name": "stdout",
     "output_type": "stream",
     "text": [
      "              precision    recall  f1-score   support\n",
      "\n",
      "           0       0.87      1.00      0.93      1207\n",
      "           1       0.00      0.00      0.00       186\n",
      "\n",
      "    accuracy                           0.87      1393\n",
      "   macro avg       0.43      0.50      0.46      1393\n",
      "weighted avg       0.75      0.87      0.80      1393\n",
      "\n"
     ]
    }
   ],
   "source": [
    "dummy_clf = DummyClassifier(strategy=\"most_frequent\").fit(X_train_vectorized, y_train)\n",
    "preds = dummy_clf.predict(X_test_vectorized)\n",
    "print(classification_report(y_test, preds, zero_division=0))"
   ]
  },
  {
   "cell_type": "markdown",
   "id": "79529b6c",
   "metadata": {},
   "source": [
    "Логистическая регрессия"
   ]
  },
  {
   "cell_type": "code",
   "execution_count": 20,
   "id": "d75a3b24",
   "metadata": {},
   "outputs": [
    {
     "name": "stdout",
     "output_type": "stream",
     "text": [
      "              precision    recall  f1-score   support\n",
      "\n",
      "           0       0.97      1.00      0.98      1207\n",
      "           1       0.96      0.78      0.86       186\n",
      "\n",
      "    accuracy                           0.97      1393\n",
      "   macro avg       0.96      0.89      0.92      1393\n",
      "weighted avg       0.97      0.97      0.96      1393\n",
      "\n"
     ]
    }
   ],
   "source": [
    "logreg = LogisticRegression().fit(X_train_vectorized, y_train)\n",
    "preds = logreg.predict(X_test_vectorized)\n",
    "print(classification_report(y_test, preds))"
   ]
  },
  {
   "cell_type": "code",
   "execution_count": 26,
   "id": "cb5d9bd0",
   "metadata": {},
   "outputs": [
    {
     "name": "stdout",
     "output_type": "stream",
     "text": [
      "              precision    recall  f1-score   support\n",
      "\n",
      "           0       0.97      1.00      0.98      1207\n",
      "           1       0.97      0.82      0.89       186\n",
      "\n",
      "    accuracy                           0.97      1393\n",
      "   macro avg       0.97      0.91      0.94      1393\n",
      "weighted avg       0.97      0.97      0.97      1393\n",
      "\n"
     ]
    }
   ],
   "source": [
    "logreg = LogisticRegression().fit(X_train_vectorized, y_train)\n",
    "preds = logreg.predict(X_test_vectorized)\n",
    "print(classification_report(y_test, preds))"
   ]
  },
  {
   "cell_type": "markdown",
   "id": "c4be6ff5",
   "metadata": {},
   "source": [
    "### 3. Tf-Idf <a name='tfidf'></a>"
   ]
  },
  {
   "cell_type": "markdown",
   "id": "4f4aa228",
   "metadata": {},
   "source": [
    "В объемном корпусе некоторые слова будут присутствовать в большом количестве документов (текстов), а значит, они несут очень мало значимой информации о фактическом содержании документа.\n",
    "\n",
    "Для решения этой проблемы можно использовать Tf-Idf подход\n",
    "\n",
    "Цель использования tf-idf состоит в том, чтобы уменьшить влияние токенов, которые очень часто встречаются в данном корпусе и, следовательно, эмпирически менее информативны, чем признаки, которые встречаются малой части корпуса\n"
   ]
  },
  {
   "cell_type": "markdown",
   "id": "b7913a90",
   "metadata": {},
   "source": [
    "![image.png](data:image/png;base64,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)"
   ]
  },
  {
   "cell_type": "code",
   "execution_count": 18,
   "id": "5a0ffc2f",
   "metadata": {},
   "outputs": [],
   "source": [
    "from sklearn.feature_extraction.text import TfidfTransformer,  TfidfVectorizer\n",
    "from sklearn.pipeline import Pipeline"
   ]
  },
  {
   "cell_type": "markdown",
   "id": "0ac902f2",
   "metadata": {},
   "source": [
    "**TfidfTransformer** преобразует матрицу из CountVectorizer в tf-idf"
   ]
  },
  {
   "cell_type": "code",
   "execution_count": 19,
   "id": "b0404818",
   "metadata": {},
   "outputs": [
    {
     "name": "stdout",
     "output_type": "stream",
     "text": [
      "              precision    recall  f1-score   support\n",
      "\n",
      "           0       0.96      1.00      0.98      1207\n",
      "           1       0.99      0.70      0.82       186\n",
      "\n",
      "    accuracy                           0.96      1393\n",
      "   macro avg       0.97      0.85      0.90      1393\n",
      "weighted avg       0.96      0.96      0.96      1393\n",
      "\n"
     ]
    }
   ],
   "source": [
    "pipe = Pipeline(\n",
    "    steps=[\n",
    "        ('counter', CountVectorizer()),\n",
    "        ('tfidf', TfidfTransformer()),\n",
    "        ('clf', LogisticRegression())\n",
    "    ]\n",
    ").fit(X_train, y_train)\n",
    "preds = pipe.predict(X_test)\n",
    "print(classification_report(y_test, preds))"
   ]
  },
  {
   "cell_type": "markdown",
   "id": "7861c615",
   "metadata": {},
   "source": [
    "**TfidfVectorizer** работает end-to-end"
   ]
  },
  {
   "cell_type": "code",
   "execution_count": null,
   "id": "10c22199",
   "metadata": {},
   "outputs": [],
   "source": [
    "pipe = Pipeline(\n",
    "    steps=[\n",
    "        ('tfidf', TfidfVectorizer()),\n",
    "        ('clf', LogisticRegression())\n",
    "    ]\n",
    ").fit(X_train, y_train)\n",
    "preds = pipe.predict(X_test)\n",
    "print(classification_report(y_test, preds))"
   ]
  },
  {
   "cell_type": "markdown",
   "id": "3680d18b",
   "metadata": {},
   "source": [
    "#### Оптимизация гиперпараметров пайплайна целиком - HalvingGridSearchCV"
   ]
  },
  {
   "cell_type": "code",
   "execution_count": 20,
   "id": "2a578722",
   "metadata": {},
   "outputs": [],
   "source": [
    "pipe = Pipeline(\n",
    "    steps=[\n",
    "        ('counter', CountVectorizer()),\n",
    "        ('tfidf', TfidfTransformer()),\n",
    "        ('clf', LogisticRegression())\n",
    "    ]\n",
    ")"
   ]
  },
  {
   "cell_type": "code",
   "execution_count": 21,
   "id": "14d8a762",
   "metadata": {},
   "outputs": [],
   "source": [
    "parameter_grid = {\n",
    "    \"counter__max_df\": np.linspace(0.3, 0.7, 10),\n",
    "    \"counter__min_df\": [0.0, 0.001, 0.003, 0.005],\n",
    "    \"counter__ngram_range\": ((1, 1), (1, 2)),  # слова или биграммы\n",
    "    \"tfidf__norm\": (\"l1\", \"l2\"),\n",
    "    \"clf__C\": np.linspace(0.1, 1, 10),\n",
    "}"
   ]
  },
  {
   "cell_type": "code",
   "execution_count": 22,
   "id": "807c158b",
   "metadata": {},
   "outputs": [],
   "source": [
    "from sklearn.experimental import enable_halving_search_cv\n",
    "from sklearn.model_selection import HalvingGridSearchCV"
   ]
  },
  {
   "cell_type": "code",
   "execution_count": 23,
   "id": "e6a14a73",
   "metadata": {},
   "outputs": [
    {
     "name": "stdout",
     "output_type": "stream",
     "text": [
      "n_iterations: 6\n",
      "n_required_iterations: 7\n",
      "n_possible_iterations: 6\n",
      "min_resources_: 8\n",
      "max_resources_: 4179\n",
      "aggressive_elimination: False\n",
      "factor: 3\n",
      "----------\n",
      "iter: 0\n",
      "n_candidates: 1600\n",
      "n_resources: 8\n",
      "Fitting 2 folds for each of 1600 candidates, totalling 3200 fits\n"
     ]
    },
    {
     "name": "stderr",
     "output_type": "stream",
     "text": [
      "C:\\Users\\zrusinova\\Anaconda3\\lib\\site-packages\\sklearn\\model_selection\\_validation.py:372: FitFailedWarning: \n",
      "1760 fits failed out of a total of 3200.\n",
      "The score on these train-test partitions for these parameters will be set to nan.\n",
      "If these failures are not expected, you can try to debug them by setting error_score='raise'.\n",
      "\n",
      "Below are more details about the failures:\n",
      "--------------------------------------------------------------------------------\n",
      "160 fits failed with the following error:\n",
      "Traceback (most recent call last):\n",
      "  File \"C:\\Users\\zrusinova\\Anaconda3\\lib\\site-packages\\sklearn\\model_selection\\_validation.py\", line 680, in _fit_and_score\n",
      "    estimator.fit(X_train, y_train, **fit_params)\n",
      "  File \"C:\\Users\\zrusinova\\Anaconda3\\lib\\site-packages\\sklearn\\pipeline.py\", line 390, in fit\n",
      "    Xt = self._fit(X, y, **fit_params_steps)\n",
      "  File \"C:\\Users\\zrusinova\\Anaconda3\\lib\\site-packages\\sklearn\\pipeline.py\", line 348, in _fit\n",
      "    X, fitted_transformer = fit_transform_one_cached(\n",
      "  File \"C:\\Users\\zrusinova\\Anaconda3\\lib\\site-packages\\joblib\\memory.py\", line 349, in __call__\n",
      "    return self.func(*args, **kwargs)\n",
      "  File \"C:\\Users\\zrusinova\\Anaconda3\\lib\\site-packages\\sklearn\\pipeline.py\", line 893, in _fit_transform_one\n",
      "    res = transformer.fit_transform(X, y, **fit_params)\n",
      "  File \"C:\\Users\\zrusinova\\Anaconda3\\lib\\site-packages\\sklearn\\feature_extraction\\text.py\", line 1347, in fit_transform\n",
      "    X, self.stop_words_ = self._limit_features(\n",
      "  File \"C:\\Users\\zrusinova\\Anaconda3\\lib\\site-packages\\sklearn\\feature_extraction\\text.py\", line 1179, in _limit_features\n",
      "    raise ValueError(\n",
      "ValueError: After pruning, no terms remain. Try a lower min_df or a higher max_df.\n",
      "\n",
      "--------------------------------------------------------------------------------\n",
      "1600 fits failed with the following error:\n",
      "Traceback (most recent call last):\n",
      "  File \"C:\\Users\\zrusinova\\Anaconda3\\lib\\site-packages\\sklearn\\model_selection\\_validation.py\", line 680, in _fit_and_score\n",
      "    estimator.fit(X_train, y_train, **fit_params)\n",
      "  File \"C:\\Users\\zrusinova\\Anaconda3\\lib\\site-packages\\sklearn\\pipeline.py\", line 394, in fit\n",
      "    self._final_estimator.fit(Xt, y, **fit_params_last_step)\n",
      "  File \"C:\\Users\\zrusinova\\Anaconda3\\lib\\site-packages\\sklearn\\linear_model\\_logistic.py\", line 1554, in fit\n",
      "    raise ValueError(\n",
      "ValueError: This solver needs samples of at least 2 classes in the data, but the data contains only one class: 0\n",
      "\n",
      "  warnings.warn(some_fits_failed_message, FitFailedWarning)\n",
      "C:\\Users\\zrusinova\\Anaconda3\\lib\\site-packages\\sklearn\\model_selection\\_search.py:969: UserWarning: One or more of the test scores are non-finite: [nan nan nan ... nan nan nan]\n",
      "  warnings.warn(\n",
      "C:\\Users\\zrusinova\\Anaconda3\\lib\\site-packages\\sklearn\\model_selection\\_search.py:969: UserWarning: One or more of the train scores are non-finite: [nan nan nan ... nan nan nan]\n",
      "  warnings.warn(\n"
     ]
    },
    {
     "name": "stdout",
     "output_type": "stream",
     "text": [
      "----------\n",
      "iter: 1\n",
      "n_candidates: 534\n",
      "n_resources: 24\n",
      "Fitting 2 folds for each of 534 candidates, totalling 1068 fits\n"
     ]
    },
    {
     "name": "stderr",
     "output_type": "stream",
     "text": [
      "C:\\Users\\zrusinova\\Anaconda3\\lib\\site-packages\\sklearn\\model_selection\\_search.py:969: UserWarning: One or more of the test scores are non-finite: [       nan        nan        nan ... 0.78787879 0.78787879 0.78787879]\n",
      "  warnings.warn(\n",
      "C:\\Users\\zrusinova\\Anaconda3\\lib\\site-packages\\sklearn\\model_selection\\_search.py:969: UserWarning: One or more of the train scores are non-finite: [       nan        nan        nan ... 0.78787879 0.78787879 0.78787879]\n",
      "  warnings.warn(\n"
     ]
    },
    {
     "name": "stdout",
     "output_type": "stream",
     "text": [
      "----------\n",
      "iter: 2\n",
      "n_candidates: 178\n",
      "n_resources: 72\n",
      "Fitting 2 folds for each of 178 candidates, totalling 356 fits\n"
     ]
    },
    {
     "name": "stderr",
     "output_type": "stream",
     "text": [
      "C:\\Users\\zrusinova\\Anaconda3\\lib\\site-packages\\sklearn\\model_selection\\_search.py:969: UserWarning: One or more of the test scores are non-finite: [       nan        nan        nan ... 0.84563492 0.84563492 0.84563492]\n",
      "  warnings.warn(\n",
      "C:\\Users\\zrusinova\\Anaconda3\\lib\\site-packages\\sklearn\\model_selection\\_search.py:969: UserWarning: One or more of the train scores are non-finite: [       nan        nan        nan ... 0.84563492 0.84563492 0.84563492]\n",
      "  warnings.warn(\n"
     ]
    },
    {
     "name": "stdout",
     "output_type": "stream",
     "text": [
      "----------\n",
      "iter: 3\n",
      "n_candidates: 60\n",
      "n_resources: 216\n",
      "Fitting 2 folds for each of 60 candidates, totalling 120 fits\n"
     ]
    },
    {
     "name": "stderr",
     "output_type": "stream",
     "text": [
      "C:\\Users\\zrusinova\\Anaconda3\\lib\\site-packages\\sklearn\\model_selection\\_search.py:969: UserWarning: One or more of the test scores are non-finite: [       nan        nan        nan ... 0.84185704 0.84185704 0.84185704]\n",
      "  warnings.warn(\n",
      "C:\\Users\\zrusinova\\Anaconda3\\lib\\site-packages\\sklearn\\model_selection\\_search.py:969: UserWarning: One or more of the train scores are non-finite: [       nan        nan        nan ... 0.84185704 0.84185704 0.84185704]\n",
      "  warnings.warn(\n"
     ]
    },
    {
     "name": "stdout",
     "output_type": "stream",
     "text": [
      "----------\n",
      "iter: 4\n",
      "n_candidates: 20\n",
      "n_resources: 648\n",
      "Fitting 2 folds for each of 20 candidates, totalling 40 fits\n"
     ]
    },
    {
     "name": "stderr",
     "output_type": "stream",
     "text": [
      "C:\\Users\\zrusinova\\Anaconda3\\lib\\site-packages\\sklearn\\model_selection\\_search.py:969: UserWarning: One or more of the test scores are non-finite: [       nan        nan        nan ... 0.85628559 0.85628559 0.86557352]\n",
      "  warnings.warn(\n",
      "C:\\Users\\zrusinova\\Anaconda3\\lib\\site-packages\\sklearn\\model_selection\\_search.py:969: UserWarning: One or more of the train scores are non-finite: [       nan        nan        nan ... 0.85628559 0.85628559 0.8825345 ]\n",
      "  warnings.warn(\n",
      "C:\\Users\\zrusinova\\Anaconda3\\lib\\site-packages\\sklearn\\model_selection\\_search.py:969: UserWarning: One or more of the test scores are non-finite: [       nan        nan        nan ... 0.86310303 0.86310303 0.93052324]\n",
      "  warnings.warn(\n",
      "C:\\Users\\zrusinova\\Anaconda3\\lib\\site-packages\\sklearn\\model_selection\\_search.py:969: UserWarning: One or more of the train scores are non-finite: [       nan        nan        nan ... 0.86310303 0.86310303 0.9500748 ]\n",
      "  warnings.warn(\n"
     ]
    },
    {
     "name": "stdout",
     "output_type": "stream",
     "text": [
      "----------\n",
      "iter: 5\n",
      "n_candidates: 7\n",
      "n_resources: 1944\n",
      "Fitting 2 folds for each of 7 candidates, totalling 14 fits\n",
      "Wall time: 11.5 s\n"
     ]
    },
    {
     "data": {
      "text/plain": [
       "HalvingGridSearchCV(cv=2,\n",
       "                    estimator=Pipeline(steps=[('counter', CountVectorizer()),\n",
       "                                              ('tfidf', TfidfTransformer()),\n",
       "                                              ('clf', LogisticRegression())]),\n",
       "                    n_jobs=-1,\n",
       "                    param_grid={'clf__C': array([0.1, 0.2, 0.3, 0.4, 0.5, 0.6, 0.7, 0.8, 0.9, 1. ]),\n",
       "                                'counter__max_df': array([0.3       , 0.34444444, 0.38888889, 0.43333333, 0.47777778,\n",
       "       0.52222222, 0.56666667, 0.61111111, 0.65555556, 0.7       ]),\n",
       "                                'counter__min_df': [0.0, 0.001, 0.003, 0.005],\n",
       "                                'counter__ngram_range': ((1, 1), (1, 2)),\n",
       "                                'tfidf__norm': ('l1', 'l2')},\n",
       "                    random_state=42, scoring='accuracy', verbose=1)"
      ]
     },
     "execution_count": 23,
     "metadata": {},
     "output_type": "execute_result"
    }
   ],
   "source": [
    "%%time\n",
    "\n",
    "grid_search = HalvingGridSearchCV(\n",
    "    pipe,\n",
    "    param_grid=parameter_grid,\n",
    "    n_jobs=-1,\n",
    "    verbose=1,\n",
    "    cv=2,\n",
    "    scoring='accuracy',\n",
    "    random_state=42,\n",
    ")\n",
    "grid_search.fit(X_train, y_train)"
   ]
  },
  {
   "cell_type": "code",
   "execution_count": 24,
   "id": "e8f99ccb",
   "metadata": {},
   "outputs": [],
   "source": [
    "plt.rcParams[\"figure.figsize\"] = (12, 8)"
   ]
  },
  {
   "cell_type": "code",
   "execution_count": 25,
   "id": "9abc9238",
   "metadata": {},
   "outputs": [
    {
     "data": {
      "image/png": "[encoded data removed]",
      "text/plain": [
       "<Figure size 1200x800 with 1 Axes>"
      ]
     },
     "metadata": {},
     "output_type": "display_data"
    }
   ],
   "source": [
    "results = pd.DataFrame(grid_search.cv_results_)\n",
    "results[\"params_str\"] = results.params.apply(str)\n",
    "results.drop_duplicates(subset=(\"params_str\", \"iter\"), inplace=True)\n",
    "mean_scores = results.pivot(\n",
    "    index=\"iter\",\n",
    "    columns=\"params_str\",\n",
    "     values=\"mean_test_score\",\n",
    ")\n",
    "ax = mean_scores.plot(legend=False, alpha=0.6)\n",
    "\n",
    "labels = [\n",
    "    f\"iter={i}\\nn_samples={grid_search.n_resources_[i]}\\nn_candidates={grid_search.n_candidates_[i]}\"\n",
    "    for i in range(grid_search.n_iterations_)\n",
    "]\n",
    "\n",
    "ax.set_xticks(range(grid_search.n_iterations_))\n",
    "ax.set_xticklabels(labels, rotation=45, multialignment=\"left\")\n",
    "ax.set_title(\"Scores of candidates over iterations\")\n",
    "ax.set_ylabel(\"Mean test score\", fontsize=15)\n",
    "ax.set_xlabel(\"Iterations\", fontsize=15)\n",
    "plt.tight_layout()\n",
    "plt.grid()\n",
    "plt.show()"
   ]
  },
  {
   "cell_type": "code",
   "execution_count": 26,
   "id": "7cc9b3ca",
   "metadata": {},
   "outputs": [
    {
     "data": {
      "text/plain": [
       "0.9305232397977563"
      ]
     },
     "execution_count": 26,
     "metadata": {},
     "output_type": "execute_result"
    }
   ],
   "source": [
    "grid_search.best_score_"
   ]
  },
  {
   "cell_type": "code",
   "execution_count": 27,
   "id": "b86605c8",
   "metadata": {},
   "outputs": [
    {
     "name": "stdout",
     "output_type": "stream",
     "text": [
      "              precision    recall  f1-score   support\n",
      "\n",
      "           0       0.97      1.00      0.98      1207\n",
      "           1       0.99      0.77      0.87       186\n",
      "\n",
      "    accuracy                           0.97      1393\n",
      "   macro avg       0.98      0.89      0.92      1393\n",
      "weighted avg       0.97      0.97      0.97      1393\n",
      "\n"
     ]
    }
   ],
   "source": [
    "preds = grid_search.best_estimator_.predict(X_test)\n",
    "print(classification_report(y_test, preds))"
   ]
  },
  {
   "cell_type": "markdown",
   "id": "f918cea4",
   "metadata": {},
   "source": [
    "### 4. Интерпретация <a name='interp'></a>"
   ]
  },
  {
   "cell_type": "markdown",
   "id": "8f1552e8",
   "metadata": {},
   "source": [
    "**ELI5** – это библиотека в Python, которая позволяет визуализировать и отлаживать различные модели машинного обучения с помощью унифицированного API. Она имеет встроенную поддержку для нескольких ML-фреймворков и обеспечивает способы интерпретации black-box модели."
   ]
  },
  {
   "cell_type": "code",
   "execution_count": 28,
   "id": "712d49f8",
   "metadata": {},
   "outputs": [
    {
     "name": "stdout",
     "output_type": "stream",
     "text": [
      "Collecting eli5\n",
      "  Downloading eli5-0.13.0.tar.gz (216 kB)\n",
      "     ------------------------------------ 216.2/216.2 kB 346.8 kB/s eta 0:00:00\n",
      "  Preparing metadata (setup.py): started\n",
      "  Preparing metadata (setup.py): finished with status 'done'\n",
      "Requirement already satisfied: attrs>17.1.0 in c:\\users\\zrusinova\\anaconda3\\lib\\site-packages (from eli5) (21.4.0)\n",
      "Collecting jinja2>=3.0.0\n",
      "  Using cached Jinja2-3.1.2-py3-none-any.whl (133 kB)\n",
      "Requirement already satisfied: numpy>=1.9.0 in c:\\users\\zrusinova\\anaconda3\\lib\\site-packages (from eli5) (1.21.5)\n",
      "Requirement already satisfied: scipy in c:\\users\\zrusinova\\anaconda3\\lib\\site-packages (from eli5) (1.9.1)\n",
      "Requirement already satisfied: six in c:\\users\\zrusinova\\anaconda3\\lib\\site-packages (from eli5) (1.16.0)\n",
      "Requirement already satisfied: scikit-learn>=0.20 in c:\\users\\zrusinova\\anaconda3\\lib\\site-packages (from eli5) (1.0.2)\n",
      "Collecting graphviz\n",
      "  Using cached graphviz-0.20.1-py3-none-any.whl (47 kB)\n",
      "Requirement already satisfied: tabulate>=0.7.7 in c:\\users\\zrusinova\\anaconda3\\lib\\site-packages (from eli5) (0.8.10)\n",
      "Requirement already satisfied: MarkupSafe>=2.0 in c:\\users\\zrusinova\\anaconda3\\lib\\site-packages (from jinja2>=3.0.0->eli5) (2.0.1)\n",
      "Requirement already satisfied: threadpoolctl>=2.0.0 in c:\\users\\zrusinova\\anaconda3\\lib\\site-packages (from scikit-learn>=0.20->eli5) (2.2.0)\n",
      "Requirement already satisfied: joblib>=0.11 in c:\\users\\zrusinova\\anaconda3\\lib\\site-packages (from scikit-learn>=0.20->eli5) (1.1.0)\n",
      "Building wheels for collected packages: eli5\n",
      "  Building wheel for eli5 (setup.py): started\n",
      "  Building wheel for eli5 (setup.py): finished with status 'done'\n",
      "  Created wheel for eli5: filename=eli5-0.13.0-py2.py3-none-any.whl size=107728 sha256=9fb6e57487347467c2851ed876d4a6cc6392fda292fa4a2dcb22105e54eefc8a\n",
      "  Stored in directory: c:\\users\\zrusinova\\appdata\\local\\pip\\cache\\wheels\\7b\\26\\a5\\8460416695a992a2966b41caa5338e5e7fcea98c9d032d055c\n",
      "Successfully built eli5\n",
      "Installing collected packages: jinja2, graphviz, eli5\n",
      "  Attempting uninstall: jinja2\n",
      "    Found existing installation: Jinja2 2.11.3\n",
      "    Uninstalling Jinja2-2.11.3:\n",
      "      Successfully uninstalled Jinja2-2.11.3\n",
      "Successfully installed eli5-0.13.0 graphviz-0.20.1 jinja2-3.1.2\n"
     ]
    }
   ],
   "source": [
    "!pip install eli5"
   ]
  },
  {
   "cell_type": "code",
   "execution_count": 29,
   "id": "93b5b6ab",
   "metadata": {},
   "outputs": [],
   "source": [
    "import eli5"
   ]
  },
  {
   "cell_type": "code",
   "execution_count": 30,
   "id": "d8d3b95a",
   "metadata": {},
   "outputs": [
    {
     "data": {
      "text/plain": [
       "LogisticRegression()"
      ]
     },
     "execution_count": 30,
     "metadata": {},
     "output_type": "execute_result"
    }
   ],
   "source": [
    "grid_search.best_estimator_['clf']"
   ]
  },
  {
   "cell_type": "code",
   "execution_count": 31,
   "id": "e2dd53da",
   "metadata": {},
   "outputs": [
    {
     "data": {
      "text/html": [
       "\n",
       "    <style>\n",
       "    table.eli5-weights tr:hover {\n",
       "        filter: brightness(85%);\n",
       "    }\n",
       "</style>\n",
       "\n",
       "\n",
       "\n",
       "    \n",
       "\n",
       "    \n",
       "\n",
       "    \n",
       "\n",
       "    \n",
       "\n",
       "    \n",
       "\n",
       "    \n",
       "\n",
       "\n",
       "    \n",
       "\n",
       "    \n",
       "\n",
       "    \n",
       "\n",
       "    \n",
       "        \n",
       "\n",
       "    \n",
       "\n",
       "        \n",
       "            \n",
       "                \n",
       "                \n",
       "    \n",
       "        <p style=\"margin-bottom: 0.5em; margin-top: 0em\">\n",
       "            <b>\n",
       "    \n",
       "        y=1\n",
       "    \n",
       "</b>\n",
       "\n",
       "top features\n",
       "        </p>\n",
       "    \n",
       "    <table class=\"eli5-weights\"\n",
       "           style=\"border-collapse: collapse; border: none; margin-top: 0em; table-layout: auto; margin-bottom: 2em;\">\n",
       "        <thead>\n",
       "        <tr style=\"border: none;\">\n",
       "            \n",
       "                <th style=\"padding: 0 1em 0 0.5em; text-align: right; border: none;\" title=\"Feature weights. Note that weights do not account for feature value scales, so if feature values have different scales, features with highest weights might not be the most important.\">\n",
       "                    Weight<sup>?</sup>\n",
       "                </th>\n",
       "            \n",
       "            <th style=\"padding: 0 0.5em 0 0.5em; text-align: left; border: none;\">Feature</th>\n",
       "            \n",
       "        </tr>\n",
       "        </thead>\n",
       "        <tbody>\n",
       "        \n",
       "            <tr style=\"background-color: hsl(120, 100.00%, 80.00%); border: none;\">\n",
       "    <td style=\"padding: 0 1em 0 0.5em; text-align: right; border: none;\">\n",
       "        +4.360\n",
       "    </td>\n",
       "    <td style=\"padding: 0 0.5em 0 0.5em; text-align: left; border: none;\">\n",
       "        txt\n",
       "    </td>\n",
       "    \n",
       "</tr>\n",
       "        \n",
       "            <tr style=\"background-color: hsl(120, 100.00%, 81.66%); border: none;\">\n",
       "    <td style=\"padding: 0 1em 0 0.5em; text-align: right; border: none;\">\n",
       "        +3.852\n",
       "    </td>\n",
       "    <td style=\"padding: 0 0.5em 0 0.5em; text-align: left; border: none;\">\n",
       "        claim\n",
       "    </td>\n",
       "    \n",
       "</tr>\n",
       "        \n",
       "            <tr style=\"background-color: hsl(120, 100.00%, 82.14%); border: none;\">\n",
       "    <td style=\"padding: 0 1em 0 0.5em; text-align: right; border: none;\">\n",
       "        +3.710\n",
       "    </td>\n",
       "    <td style=\"padding: 0 0.5em 0 0.5em; text-align: left; border: none;\">\n",
       "        mobile\n",
       "    </td>\n",
       "    \n",
       "</tr>\n",
       "        \n",
       "            <tr style=\"background-color: hsl(120, 100.00%, 83.09%); border: none;\">\n",
       "    <td style=\"padding: 0 1em 0 0.5em; text-align: right; border: none;\">\n",
       "        +3.430\n",
       "    </td>\n",
       "    <td style=\"padding: 0 0.5em 0 0.5em; text-align: left; border: none;\">\n",
       "        www\n",
       "    </td>\n",
       "    \n",
       "</tr>\n",
       "        \n",
       "            <tr style=\"background-color: hsl(120, 100.00%, 83.60%); border: none;\">\n",
       "    <td style=\"padding: 0 1em 0 0.5em; text-align: right; border: none;\">\n",
       "        +3.285\n",
       "    </td>\n",
       "    <td style=\"padding: 0 0.5em 0 0.5em; text-align: left; border: none;\">\n",
       "        150p\n",
       "    </td>\n",
       "    \n",
       "</tr>\n",
       "        \n",
       "            <tr style=\"background-color: hsl(120, 100.00%, 83.85%); border: none;\">\n",
       "    <td style=\"padding: 0 1em 0 0.5em; text-align: right; border: none;\">\n",
       "        +3.214\n",
       "    </td>\n",
       "    <td style=\"padding: 0 0.5em 0 0.5em; text-align: left; border: none;\">\n",
       "        win\n",
       "    </td>\n",
       "    \n",
       "</tr>\n",
       "        \n",
       "            <tr style=\"background-color: hsl(120, 100.00%, 84.35%); border: none;\">\n",
       "    <td style=\"padding: 0 1em 0 0.5em; text-align: right; border: none;\">\n",
       "        +3.072\n",
       "    </td>\n",
       "    <td style=\"padding: 0 0.5em 0 0.5em; text-align: left; border: none;\">\n",
       "        free\n",
       "    </td>\n",
       "    \n",
       "</tr>\n",
       "        \n",
       "            <tr style=\"background-color: hsl(120, 100.00%, 84.47%); border: none;\">\n",
       "    <td style=\"padding: 0 1em 0 0.5em; text-align: right; border: none;\">\n",
       "        +3.038\n",
       "    </td>\n",
       "    <td style=\"padding: 0 0.5em 0 0.5em; text-align: left; border: none;\">\n",
       "        service\n",
       "    </td>\n",
       "    \n",
       "</tr>\n",
       "        \n",
       "            <tr style=\"background-color: hsl(120, 100.00%, 84.68%); border: none;\">\n",
       "    <td style=\"padding: 0 1em 0 0.5em; text-align: right; border: none;\">\n",
       "        +2.980\n",
       "    </td>\n",
       "    <td style=\"padding: 0 0.5em 0 0.5em; text-align: left; border: none;\">\n",
       "        stop\n",
       "    </td>\n",
       "    \n",
       "</tr>\n",
       "        \n",
       "            <tr style=\"background-color: hsl(120, 100.00%, 85.13%); border: none;\">\n",
       "    <td style=\"padding: 0 1em 0 0.5em; text-align: right; border: none;\">\n",
       "        +2.855\n",
       "    </td>\n",
       "    <td style=\"padding: 0 0.5em 0 0.5em; text-align: left; border: none;\">\n",
       "        chat\n",
       "    </td>\n",
       "    \n",
       "</tr>\n",
       "        \n",
       "            <tr style=\"background-color: hsl(120, 100.00%, 85.13%); border: none;\">\n",
       "    <td style=\"padding: 0 1em 0 0.5em; text-align: right; border: none;\">\n",
       "        +2.854\n",
       "    </td>\n",
       "    <td style=\"padding: 0 0.5em 0 0.5em; text-align: left; border: none;\">\n",
       "        50\n",
       "    </td>\n",
       "    \n",
       "</tr>\n",
       "        \n",
       "            <tr style=\"background-color: hsl(120, 100.00%, 85.18%); border: none;\">\n",
       "    <td style=\"padding: 0 1em 0 0.5em; text-align: right; border: none;\">\n",
       "        +2.841\n",
       "    </td>\n",
       "    <td style=\"padding: 0 0.5em 0 0.5em; text-align: left; border: none;\">\n",
       "        urgent\n",
       "    </td>\n",
       "    \n",
       "</tr>\n",
       "        \n",
       "            <tr style=\"background-color: hsl(120, 100.00%, 85.19%); border: none;\">\n",
       "    <td style=\"padding: 0 1em 0 0.5em; text-align: right; border: none;\">\n",
       "        +2.838\n",
       "    </td>\n",
       "    <td style=\"padding: 0 0.5em 0 0.5em; text-align: left; border: none;\">\n",
       "        reply\n",
       "    </td>\n",
       "    \n",
       "</tr>\n",
       "        \n",
       "            <tr style=\"background-color: hsl(120, 100.00%, 85.30%); border: none;\">\n",
       "    <td style=\"padding: 0 1em 0 0.5em; text-align: right; border: none;\">\n",
       "        +2.808\n",
       "    </td>\n",
       "    <td style=\"padding: 0 0.5em 0 0.5em; text-align: left; border: none;\">\n",
       "        uk\n",
       "    </td>\n",
       "    \n",
       "</tr>\n",
       "        \n",
       "            <tr style=\"background-color: hsl(120, 100.00%, 85.69%); border: none;\">\n",
       "    <td style=\"padding: 0 1em 0 0.5em; text-align: right; border: none;\">\n",
       "        +2.702\n",
       "    </td>\n",
       "    <td style=\"padding: 0 0.5em 0 0.5em; text-align: left; border: none;\">\n",
       "        award\n",
       "    </td>\n",
       "    \n",
       "</tr>\n",
       "        \n",
       "            <tr style=\"background-color: hsl(120, 100.00%, 86.00%); border: none;\">\n",
       "    <td style=\"padding: 0 1em 0 0.5em; text-align: right; border: none;\">\n",
       "        +2.620\n",
       "    </td>\n",
       "    <td style=\"padding: 0 0.5em 0 0.5em; text-align: left; border: none;\">\n",
       "        tone\n",
       "    </td>\n",
       "    \n",
       "</tr>\n",
       "        \n",
       "            <tr style=\"background-color: hsl(120, 100.00%, 86.12%); border: none;\">\n",
       "    <td style=\"padding: 0 1em 0 0.5em; text-align: right; border: none;\">\n",
       "        +2.586\n",
       "    </td>\n",
       "    <td style=\"padding: 0 0.5em 0 0.5em; text-align: left; border: none;\">\n",
       "        com\n",
       "    </td>\n",
       "    \n",
       "</tr>\n",
       "        \n",
       "            <tr style=\"background-color: hsl(120, 100.00%, 86.14%); border: none;\">\n",
       "    <td style=\"padding: 0 1em 0 0.5em; text-align: right; border: none;\">\n",
       "        +2.582\n",
       "    </td>\n",
       "    <td style=\"padding: 0 0.5em 0 0.5em; text-align: left; border: none;\">\n",
       "        prize\n",
       "    </td>\n",
       "    \n",
       "</tr>\n",
       "        \n",
       "            <tr style=\"background-color: hsl(120, 100.00%, 86.47%); border: none;\">\n",
       "    <td style=\"padding: 0 1em 0 0.5em; text-align: right; border: none;\">\n",
       "        +2.494\n",
       "    </td>\n",
       "    <td style=\"padding: 0 0.5em 0 0.5em; text-align: left; border: none;\">\n",
       "        min\n",
       "    </td>\n",
       "    \n",
       "</tr>\n",
       "        \n",
       "            <tr style=\"background-color: hsl(120, 100.00%, 86.51%); border: none;\">\n",
       "    <td style=\"padding: 0 1em 0 0.5em; text-align: right; border: none;\">\n",
       "        +2.485\n",
       "    </td>\n",
       "    <td style=\"padding: 0 0.5em 0 0.5em; text-align: left; border: none;\">\n",
       "        rate\n",
       "    </td>\n",
       "    \n",
       "</tr>\n",
       "        \n",
       "            <tr style=\"background-color: hsl(120, 100.00%, 87.16%); border: none;\">\n",
       "    <td style=\"padding: 0 1em 0 0.5em; text-align: right; border: none;\">\n",
       "        +2.315\n",
       "    </td>\n",
       "    <td style=\"padding: 0 0.5em 0 0.5em; text-align: left; border: none;\">\n",
       "        cash\n",
       "    </td>\n",
       "    \n",
       "</tr>\n",
       "        \n",
       "            <tr style=\"background-color: hsl(120, 100.00%, 87.35%); border: none;\">\n",
       "    <td style=\"padding: 0 1em 0 0.5em; text-align: right; border: none;\">\n",
       "        +2.266\n",
       "    </td>\n",
       "    <td style=\"padding: 0 0.5em 0 0.5em; text-align: left; border: none;\">\n",
       "        video\n",
       "    </td>\n",
       "    \n",
       "</tr>\n",
       "        \n",
       "            <tr style=\"background-color: hsl(120, 100.00%, 87.61%); border: none;\">\n",
       "    <td style=\"padding: 0 1em 0 0.5em; text-align: right; border: none;\">\n",
       "        +2.199\n",
       "    </td>\n",
       "    <td style=\"padding: 0 0.5em 0 0.5em; text-align: left; border: none;\">\n",
       "        text\n",
       "    </td>\n",
       "    \n",
       "</tr>\n",
       "        \n",
       "            <tr style=\"background-color: hsl(120, 100.00%, 87.62%); border: none;\">\n",
       "    <td style=\"padding: 0 1em 0 0.5em; text-align: right; border: none;\">\n",
       "        +2.198\n",
       "    </td>\n",
       "    <td style=\"padding: 0 0.5em 0 0.5em; text-align: left; border: none;\">\n",
       "        new\n",
       "    </td>\n",
       "    \n",
       "</tr>\n",
       "        \n",
       "            <tr style=\"background-color: hsl(120, 100.00%, 87.76%); border: none;\">\n",
       "    <td style=\"padding: 0 1em 0 0.5em; text-align: right; border: none;\">\n",
       "        +2.161\n",
       "    </td>\n",
       "    <td style=\"padding: 0 0.5em 0 0.5em; text-align: left; border: none;\">\n",
       "        cost\n",
       "    </td>\n",
       "    \n",
       "</tr>\n",
       "        \n",
       "            <tr style=\"background-color: hsl(120, 100.00%, 87.88%); border: none;\">\n",
       "    <td style=\"padding: 0 1em 0 0.5em; text-align: right; border: none;\">\n",
       "        +2.131\n",
       "    </td>\n",
       "    <td style=\"padding: 0 0.5em 0 0.5em; text-align: left; border: none;\">\n",
       "        account\n",
       "    </td>\n",
       "    \n",
       "</tr>\n",
       "        \n",
       "            <tr style=\"background-color: hsl(120, 100.00%, 87.89%); border: none;\">\n",
       "    <td style=\"padding: 0 1em 0 0.5em; text-align: right; border: none;\">\n",
       "        +2.130\n",
       "    </td>\n",
       "    <td style=\"padding: 0 0.5em 0 0.5em; text-align: left; border: none;\">\n",
       "        customer\n",
       "    </td>\n",
       "    \n",
       "</tr>\n",
       "        \n",
       "            <tr style=\"background-color: hsl(120, 100.00%, 88.32%); border: none;\">\n",
       "    <td style=\"padding: 0 1em 0 0.5em; text-align: right; border: none;\">\n",
       "        +2.021\n",
       "    </td>\n",
       "    <td style=\"padding: 0 0.5em 0 0.5em; text-align: left; border: none;\">\n",
       "        contact\n",
       "    </td>\n",
       "    \n",
       "</tr>\n",
       "        \n",
       "            <tr style=\"background-color: hsl(120, 100.00%, 88.34%); border: none;\">\n",
       "    <td style=\"padding: 0 1em 0 0.5em; text-align: right; border: none;\">\n",
       "        +2.016\n",
       "    </td>\n",
       "    <td style=\"padding: 0 0.5em 0 0.5em; text-align: left; border: none;\">\n",
       "        show\n",
       "    </td>\n",
       "    \n",
       "</tr>\n",
       "        \n",
       "            <tr style=\"background-color: hsl(120, 100.00%, 88.44%); border: none;\">\n",
       "    <td style=\"padding: 0 1em 0 0.5em; text-align: right; border: none;\">\n",
       "        +1.993\n",
       "    </td>\n",
       "    <td style=\"padding: 0 0.5em 0 0.5em; text-align: left; border: none;\">\n",
       "        ringtone\n",
       "    </td>\n",
       "    \n",
       "</tr>\n",
       "        \n",
       "            <tr style=\"background-color: hsl(120, 100.00%, 88.55%); border: none;\">\n",
       "    <td style=\"padding: 0 1em 0 0.5em; text-align: right; border: none;\">\n",
       "        +1.966\n",
       "    </td>\n",
       "    <td style=\"padding: 0 0.5em 0 0.5em; text-align: left; border: none;\">\n",
       "        landline\n",
       "    </td>\n",
       "    \n",
       "</tr>\n",
       "        \n",
       "            <tr style=\"background-color: hsl(120, 100.00%, 88.66%); border: none;\">\n",
       "    <td style=\"padding: 0 1em 0 0.5em; text-align: right; border: none;\">\n",
       "        +1.938\n",
       "    </td>\n",
       "    <td style=\"padding: 0 0.5em 0 0.5em; text-align: left; border: none;\">\n",
       "        camera\n",
       "    </td>\n",
       "    \n",
       "</tr>\n",
       "        \n",
       "            <tr style=\"background-color: hsl(120, 100.00%, 88.79%); border: none;\">\n",
       "    <td style=\"padding: 0 1em 0 0.5em; text-align: right; border: none;\">\n",
       "        +1.907\n",
       "    </td>\n",
       "    <td style=\"padding: 0 0.5em 0 0.5em; text-align: left; border: none;\">\n",
       "        nokia\n",
       "    </td>\n",
       "    \n",
       "</tr>\n",
       "        \n",
       "            <tr style=\"background-color: hsl(120, 100.00%, 88.90%); border: none;\">\n",
       "    <td style=\"padding: 0 1em 0 0.5em; text-align: right; border: none;\">\n",
       "        +1.880\n",
       "    </td>\n",
       "    <td style=\"padding: 0 0.5em 0 0.5em; text-align: left; border: none;\">\n",
       "        sms\n",
       "    </td>\n",
       "    \n",
       "</tr>\n",
       "        \n",
       "            <tr style=\"background-color: hsl(120, 100.00%, 88.93%); border: none;\">\n",
       "    <td style=\"padding: 0 1em 0 0.5em; text-align: right; border: none;\">\n",
       "        +1.872\n",
       "    </td>\n",
       "    <td style=\"padding: 0 0.5em 0 0.5em; text-align: left; border: none;\">\n",
       "        date\n",
       "    </td>\n",
       "    \n",
       "</tr>\n",
       "        \n",
       "            <tr style=\"background-color: hsl(120, 100.00%, 89.16%); border: none;\">\n",
       "    <td style=\"padding: 0 1em 0 0.5em; text-align: right; border: none;\">\n",
       "        +1.819\n",
       "    </td>\n",
       "    <td style=\"padding: 0 0.5em 0 0.5em; text-align: left; border: none;\">\n",
       "        co\n",
       "    </td>\n",
       "    \n",
       "</tr>\n",
       "        \n",
       "            <tr style=\"background-color: hsl(120, 100.00%, 89.30%); border: none;\">\n",
       "    <td style=\"padding: 0 1em 0 0.5em; text-align: right; border: none;\">\n",
       "        +1.784\n",
       "    </td>\n",
       "    <td style=\"padding: 0 0.5em 0 0.5em; text-align: left; border: none;\">\n",
       "        co uk\n",
       "    </td>\n",
       "    \n",
       "</tr>\n",
       "        \n",
       "            <tr style=\"background-color: hsl(120, 100.00%, 89.35%); border: none;\">\n",
       "    <td style=\"padding: 0 1em 0 0.5em; text-align: right; border: none;\">\n",
       "        +1.773\n",
       "    </td>\n",
       "    <td style=\"padding: 0 0.5em 0 0.5em; text-align: left; border: none;\">\n",
       "        mob\n",
       "    </td>\n",
       "    \n",
       "</tr>\n",
       "        \n",
       "            <tr style=\"background-color: hsl(120, 100.00%, 89.44%); border: none;\">\n",
       "    <td style=\"padding: 0 1em 0 0.5em; text-align: right; border: none;\">\n",
       "        +1.751\n",
       "    </td>\n",
       "    <td style=\"padding: 0 0.5em 0 0.5em; text-align: left; border: none;\">\n",
       "        line\n",
       "    </td>\n",
       "    \n",
       "</tr>\n",
       "        \n",
       "            <tr style=\"background-color: hsl(120, 100.00%, 89.49%); border: none;\">\n",
       "    <td style=\"padding: 0 1em 0 0.5em; text-align: right; border: none;\">\n",
       "        +1.738\n",
       "    </td>\n",
       "    <td style=\"padding: 0 0.5em 0 0.5em; text-align: left; border: none;\">\n",
       "        special\n",
       "    </td>\n",
       "    \n",
       "</tr>\n",
       "        \n",
       "            <tr style=\"background-color: hsl(120, 100.00%, 89.59%); border: none;\">\n",
       "    <td style=\"padding: 0 1em 0 0.5em; text-align: right; border: none;\">\n",
       "        +1.716\n",
       "    </td>\n",
       "    <td style=\"padding: 0 0.5em 0 0.5em; text-align: left; border: none;\">\n",
       "        help\n",
       "    </td>\n",
       "    \n",
       "</tr>\n",
       "        \n",
       "            <tr style=\"background-color: hsl(120, 100.00%, 89.66%); border: none;\">\n",
       "    <td style=\"padding: 0 1em 0 0.5em; text-align: right; border: none;\">\n",
       "        +1.699\n",
       "    </td>\n",
       "    <td style=\"padding: 0 0.5em 0 0.5em; text-align: left; border: none;\">\n",
       "        message\n",
       "    </td>\n",
       "    \n",
       "</tr>\n",
       "        \n",
       "            <tr style=\"background-color: hsl(120, 100.00%, 89.67%); border: none;\">\n",
       "    <td style=\"padding: 0 1em 0 0.5em; text-align: right; border: none;\">\n",
       "        +1.697\n",
       "    </td>\n",
       "    <td style=\"padding: 0 0.5em 0 0.5em; text-align: left; border: none;\">\n",
       "        await\n",
       "    </td>\n",
       "    \n",
       "</tr>\n",
       "        \n",
       "            <tr style=\"background-color: hsl(120, 100.00%, 89.80%); border: none;\">\n",
       "    <td style=\"padding: 0 1em 0 0.5em; text-align: right; border: none;\">\n",
       "        +1.667\n",
       "    </td>\n",
       "    <td style=\"padding: 0 0.5em 0 0.5em; text-align: left; border: none;\">\n",
       "        voucher\n",
       "    </td>\n",
       "    \n",
       "</tr>\n",
       "        \n",
       "            <tr style=\"background-color: hsl(120, 100.00%, 89.88%); border: none;\">\n",
       "    <td style=\"padding: 0 1em 0 0.5em; text-align: right; border: none;\">\n",
       "        +1.649\n",
       "    </td>\n",
       "    <td style=\"padding: 0 0.5em 0 0.5em; text-align: left; border: none;\">\n",
       "        collect\n",
       "    </td>\n",
       "    \n",
       "</tr>\n",
       "        \n",
       "            <tr style=\"background-color: hsl(120, 100.00%, 90.01%); border: none;\">\n",
       "    <td style=\"padding: 0 1em 0 0.5em; text-align: right; border: none;\">\n",
       "        +1.618\n",
       "    </td>\n",
       "    <td style=\"padding: 0 0.5em 0 0.5em; text-align: left; border: none;\">\n",
       "        holiday\n",
       "    </td>\n",
       "    \n",
       "</tr>\n",
       "        \n",
       "            <tr style=\"background-color: hsl(120, 100.00%, 90.17%); border: none;\">\n",
       "    <td style=\"padding: 0 1em 0 0.5em; text-align: right; border: none;\">\n",
       "        +1.581\n",
       "    </td>\n",
       "    <td style=\"padding: 0 0.5em 0 0.5em; text-align: left; border: none;\">\n",
       "        live\n",
       "    </td>\n",
       "    \n",
       "</tr>\n",
       "        \n",
       "            <tr style=\"background-color: hsl(120, 100.00%, 90.19%); border: none;\">\n",
       "    <td style=\"padding: 0 1em 0 0.5em; text-align: right; border: none;\">\n",
       "        +1.576\n",
       "    </td>\n",
       "    <td style=\"padding: 0 0.5em 0 0.5em; text-align: left; border: none;\">\n",
       "        box\n",
       "    </td>\n",
       "    \n",
       "</tr>\n",
       "        \n",
       "            <tr style=\"background-color: hsl(120, 100.00%, 90.27%); border: none;\">\n",
       "    <td style=\"padding: 0 1em 0 0.5em; text-align: right; border: none;\">\n",
       "        +1.559\n",
       "    </td>\n",
       "    <td style=\"padding: 0 0.5em 0 0.5em; text-align: left; border: none;\">\n",
       "        msg\n",
       "    </td>\n",
       "    \n",
       "</tr>\n",
       "        \n",
       "            <tr style=\"background-color: hsl(120, 100.00%, 90.42%); border: none;\">\n",
       "    <td style=\"padding: 0 1em 0 0.5em; text-align: right; border: none;\">\n",
       "        +1.524\n",
       "    </td>\n",
       "    <td style=\"padding: 0 0.5em 0 0.5em; text-align: left; border: none;\">\n",
       "        sexy\n",
       "    </td>\n",
       "    \n",
       "</tr>\n",
       "        \n",
       "        \n",
       "            <tr style=\"background-color: hsl(120, 100.00%, 90.42%); border: none;\">\n",
       "                <td colspan=\"2\" style=\"padding: 0 0.5em 0 0.5em; text-align: center; border: none; white-space: nowrap;\">\n",
       "                    <i>&hellip; 77 more positive &hellip;</i>\n",
       "                </td>\n",
       "            </tr>\n",
       "        \n",
       "\n",
       "        \n",
       "            <tr style=\"background-color: hsl(0, 100.00%, 91.93%); border: none;\">\n",
       "                <td colspan=\"2\" style=\"padding: 0 0.5em 0 0.5em; text-align: center; border: none; white-space: nowrap;\">\n",
       "                    <i>&hellip; 160 more negative &hellip;</i>\n",
       "                </td>\n",
       "            </tr>\n",
       "        \n",
       "        \n",
       "            <tr style=\"background-color: hsl(0, 100.00%, 91.93%); border: none;\">\n",
       "    <td style=\"padding: 0 1em 0 0.5em; text-align: right; border: none;\">\n",
       "        -1.193\n",
       "    </td>\n",
       "    <td style=\"padding: 0 0.5em 0 0.5em; text-align: left; border: none;\">\n",
       "        lt gt\n",
       "    </td>\n",
       "    \n",
       "</tr>\n",
       "        \n",
       "            <tr style=\"background-color: hsl(0, 100.00%, 91.13%); border: none;\">\n",
       "    <td style=\"padding: 0 1em 0 0.5em; text-align: right; border: none;\">\n",
       "        -1.365\n",
       "    </td>\n",
       "    <td style=\"padding: 0 0.5em 0 0.5em; text-align: left; border: none;\">\n",
       "        lt\n",
       "    </td>\n",
       "    \n",
       "</tr>\n",
       "        \n",
       "            <tr style=\"background-color: hsl(0, 100.00%, 91.11%); border: none;\">\n",
       "    <td style=\"padding: 0 1em 0 0.5em; text-align: right; border: none;\">\n",
       "        -1.369\n",
       "    </td>\n",
       "    <td style=\"padding: 0 0.5em 0 0.5em; text-align: left; border: none;\">\n",
       "        gt\n",
       "    </td>\n",
       "    \n",
       "</tr>\n",
       "        \n",
       "            <tr style=\"background-color: hsl(0, 100.00%, 90.27%); border: none;\">\n",
       "    <td style=\"padding: 0 1em 0 0.5em; text-align: right; border: none;\">\n",
       "        -1.557\n",
       "    </td>\n",
       "    <td style=\"padding: 0 0.5em 0 0.5em; text-align: left; border: none;\">\n",
       "        ok\n",
       "    </td>\n",
       "    \n",
       "</tr>\n",
       "        \n",
       "            <tr style=\"background-color: hsl(0, 100.00%, 84.61%); border: none;\">\n",
       "    <td style=\"padding: 0 1em 0 0.5em; text-align: right; border: none;\">\n",
       "        -2.998\n",
       "    </td>\n",
       "    <td style=\"padding: 0 0.5em 0 0.5em; text-align: left; border: none;\">\n",
       "        &lt;BIAS&gt;\n",
       "    </td>\n",
       "    \n",
       "</tr>\n",
       "        \n",
       "\n",
       "        </tbody>\n",
       "    </table>\n",
       "\n",
       "            \n",
       "        \n",
       "\n",
       "        \n",
       "\n",
       "\n",
       "\n",
       "    \n",
       "\n",
       "    \n",
       "\n",
       "    \n",
       "\n",
       "    \n",
       "\n",
       "\n",
       "    \n",
       "\n",
       "    \n",
       "\n",
       "    \n",
       "\n",
       "    \n",
       "\n",
       "    \n",
       "\n",
       "    \n",
       "\n",
       "\n",
       "    \n",
       "\n",
       "    \n",
       "\n",
       "    \n",
       "\n",
       "    \n",
       "\n",
       "    \n",
       "\n",
       "    \n",
       "\n",
       "\n",
       "\n"
      ],
      "text/plain": [
       "<IPython.core.display.HTML object>"
      ]
     },
     "execution_count": 31,
     "metadata": {},
     "output_type": "execute_result"
    }
   ],
   "source": [
    "eli5.show_weights(\n",
    "    estimator=grid_search.best_estimator_['clf'],\n",
    "    feature_names= list(grid_search.best_estimator_['counter'].get_feature_names_out()),\n",
    "    top=(50, 5)\n",
    ")"
   ]
  },
  {
   "cell_type": "code",
   "execution_count": null,
   "id": "d6a9bd2b",
   "metadata": {},
   "outputs": [],
   "source": []
  }
 ],
 "metadata": {
  "kernelspec": {
   "display_name": "Python 3 (ipykernel)",
   "language": "python",
   "name": "python3"
  },
  "language_info": {
   "codemirror_mode": {
    "name": "ipython",
    "version": 3
   },
   "file_extension": ".py",
   "mimetype": "text/x-python",
   "name": "python",
   "nbconvert_exporter": "python",
   "pygments_lexer": "ipython3",
   "version": "3.9.13"
  }
 },
 "nbformat": 4,
 "nbformat_minor": 5
}
