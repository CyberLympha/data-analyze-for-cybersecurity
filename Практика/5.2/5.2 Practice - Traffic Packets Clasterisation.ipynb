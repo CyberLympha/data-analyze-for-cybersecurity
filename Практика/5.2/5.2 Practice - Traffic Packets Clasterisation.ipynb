{
 "cells": [
  {
   "cell_type": "markdown",
   "id": "d92c39f7",
   "metadata": {},
   "source": [
    "<h1> Материалы курса \"Анализ данных в инфромационной безопасности\" </h1>\n",
    "\n",
    "<h2> Практическое занятие № 5.2 </h2>\n",
    "\n",
    "<h2> Тема: \"Кластеризация пакетов траффика\" </h2>\n",
    "\n",
    "<h2>Автор:</h2>\n",
    "\n",
    "<p>Русинова Залина</p>\n",
    "<p>Младший исследователь исследовательского центра UDV Group</p>\n",
    "<p>zalina.rusinova@udv.group</p>"
   ]
  },
  {
   "cell_type": "markdown",
   "id": "25fd730b",
   "metadata": {},
   "source": [
    "## Оглавление <a name='toc'></a>\n",
    "<ol>\n",
    "<li><a href='#intro'>Описание идеи</a></li>\n",
    "<li><a href='#load'> Загрузка и подготовка данных</a></li>\n",
    "<li><a href='#emb'>Получение векторных представлений пакетов</a></li>\n",
    "</ol>"
   ]
  },
  {
   "cell_type": "code",
   "execution_count": 48,
   "id": "2b602f82",
   "metadata": {},
   "outputs": [],
   "source": [
    "#!pip install scapy\n",
    "import scapy\n",
    "from scapy.all import rdpcap, wrpcap\n",
    "\n",
    "import numpy as np\n",
    "from sklearn.cluster import KMeans\n",
    "from sklearn import metrics\n",
    "from sklearn.manifold import TSNE\n",
    "\n",
    "from matplotlib import pyplot as plt\n",
    "from matplotlib.colors import ListedColormap\n",
    "\n",
    "import gensim\n",
    "from gensim.models import word2vec\n",
    "from gensim.models import FastText\n",
    "\n",
    "import collections"
   ]
  },
  {
   "cell_type": "markdown",
   "id": "de33d3c5",
   "metadata": {},
   "source": [
    "### 1. Описание идеи <a name='intro'></a>"
   ]
  },
  {
   "cell_type": "markdown",
   "id": "c2fb583c",
   "metadata": {},
   "source": [
    "В данном примере мы увидим, как можно применять методы обработки естественного языка к данным, которые не являются тестами на естетсвенном языке. Мы применим алгоритмы построения векторных представлений тестов к пакетом сетевого трафика, для того, чтобы разделить пакеты трафика на группы с одинаковыми стеками протоколов."
   ]
  },
  {
   "cell_type": "markdown",
   "id": "d2be681a",
   "metadata": {},
   "source": [
    "### 2. Загрузка и подготовка данных <a name='load'></a>"
   ]
  },
  {
   "cell_type": "markdown",
   "id": "e4801c95",
   "metadata": {},
   "source": [
    "***Набор данных***\n",
    "[Capture files from 4SICS Geek Lounge](https://www.netresec.com/?page=PCAP4SICS)\n",
    "\n",
    "Датасет с конференции промышленной кибербезопасности 4SICS. Трафик получен в ICS лаборатории, где есть следующие виды устройств: PLC, RTU (Remote Terminal Unit), серверы, промышленное сетевое оборудование (коммутаторы, межсетевые экраны и т.д.)"
   ]
  },
  {
   "cell_type": "code",
   "execution_count": 49,
   "id": "e8cfa11a",
   "metadata": {},
   "outputs": [],
   "source": [
    "filename = './4SICS-GeekLounge-151020.pcap'"
   ]
  },
  {
   "cell_type": "markdown",
   "id": "22cf7137",
   "metadata": {},
   "source": [
    "Для чтения pcap-файлов и работы с сетевыми пакетами мы будем использовать библиотеку Scapy.\n",
    "\n",
    "**Scapy** – интерактивная оболочка и программная библиотека для манипулирования сетевыми пакетами на языке программирования Python. \n",
    "Scapy использует библиотеку libpcap и может использоваться как сниффер для перехвата и анализа сетевого трафика, так и как конструктор пакетов. Помимо использование стандартных протоколов, в Scapy есть возможность создавать собственные и использовать их при анализе и генерации пакетов"
   ]
  },
  {
   "cell_type": "code",
   "execution_count": 50,
   "id": "84e5d45d",
   "metadata": {},
   "outputs": [
    {
     "data": {
      "text/plain": [
       "<Ether  dst=00:07:7c:1a:61:83 src=00:90:e8:27:8c:37 type=IPv4 |<IP  version=4 ihl=5 tos=0x0 len=59 id=44816 flags= frag=0 ttl=64 proto=udp chksum=0x9a12 src=192.168.88.61 dst=192.168.88.1 |<UDP  sport=949 dport=domain len=39 chksum=0xf45d |<DNS  id=43814 qr=0 opcode=QUERY aa=0 tc=0 rd=1 ra=0 z=0 ad=0 cd=0 rcode=ok qdcount=1 ancount=0 nscount=0 arcount=0 qd=<DNSQR  qname='time.nist.gov.' qtype=A qclass=IN |> an=None ns=None ar=None |>>>>"
      ]
     },
     "execution_count": 50,
     "metadata": {},
     "output_type": "execute_result"
    }
   ],
   "source": [
    "# Функция rdcap - читает сообщения из pcap-файла и создает список из прочитанных сообщений.\n",
    "packet = rdpcap(filename, count=1)[0]\n",
    "packet"
   ]
  },
  {
   "cell_type": "code",
   "execution_count": 51,
   "id": "0842e711",
   "metadata": {},
   "outputs": [
    {
     "data": {
      "text/plain": [
       "[scapy.layers.l2.Ether,\n",
       " scapy.layers.inet.IP,\n",
       " scapy.layers.inet.UDP,\n",
       " scapy.layers.dns.DNS]"
      ]
     },
     "execution_count": 51,
     "metadata": {},
     "output_type": "execute_result"
    }
   ],
   "source": [
    "packet.layers()"
   ]
  },
  {
   "cell_type": "code",
   "execution_count": 52,
   "id": "7774762c",
   "metadata": {},
   "outputs": [
    {
     "data": {
      "text/plain": [
       "'0 7 124 26 97 131 0 144 232 39 140 55 8 0 69 0 0 59 175 16 0 0 64 17 154 18 192 168 88 61 192 168 88 1 3 181 0 53 0 39 244 93 171 38 1 0 0 1 0 0 0 0 0 0 4 116 105 109 101 4 110 105 115 116 3 103 111 118 0 0 1 0 1'"
      ]
     },
     "execution_count": 52,
     "metadata": {},
     "output_type": "execute_result"
    }
   ],
   "source": [
    "' '.join([str(byte) for byte in bytes(packet)]) "
   ]
  },
  {
   "cell_type": "markdown",
   "id": "4c6fd0c8",
   "metadata": {},
   "source": [
    "Напишем функцию, которая будет читать сообщения из pcap-файла, преобразовывать сообщения в байтовый формат, удалять байты, которые относятся к протоколам транспортного уровня и ниже, а также формировать списки схем протоколов и метки для каждого пакета рассматриваемого дампа трафика"
   ]
  },
  {
   "cell_type": "code",
   "execution_count": 53,
   "id": "1c1a18d9",
   "metadata": {},
   "outputs": [],
   "source": [
    "def load_dumps(filename, count=10000):\n",
    "    # создать переменную  packets, в которую будут записаны сообщения из pcap файла \n",
    "    #(количество сообщений задано переменной count)\n",
    "    packets = rdpcap(filename, count=count)\n",
    "    croped_packets = []\n",
    "    for i in packets:\n",
    "        packet = i\n",
    "        if len(i.layers())>1 and scapy.layers.l2.Ether in i.layers():\n",
    "            packet = packet.payload\n",
    "            if len(i.layers())>2 and scapy.layers.inet.IP in i.layers():\n",
    "                packet = packet.payload\n",
    "                if len(i.layers())>3 and ((scapy.layers.inet.TCP in i.layers()) or (scapy.layers.inet.UDP in i.layers())):\n",
    "                    packet = packet.payload\n",
    "        croped_packets.append(packet)\n",
    "    str_packets = []\n",
    "    for packet in croped_packets:\n",
    "        # заполнить список str_packets строками, в которых содержатся байты пакета, соединенные через пробел\n",
    "        str_packets.append(' '.join([str(byte) for byte in bytes(packet)]))\n",
    "        \n",
    "    schemes = list(set([tuple(packet.layers()) for packet in packets]))\n",
    "    dict_schemes = dict()\n",
    "    for count, schema in enumerate(schemes):\n",
    "            dict_schemes[schema] = count\n",
    "            \n",
    "    labels = []\n",
    "    for packet in packets:\n",
    "        layres = tuple(packet.layers())\n",
    "        labels.append(dict_schemes[layres])\n",
    "    \n",
    "    return str_packets, labels, schemes"
   ]
  },
  {
   "cell_type": "code",
   "execution_count": 54,
   "id": "ff0f6ca7",
   "metadata": {},
   "outputs": [
    {
     "name": "stdout",
     "output_type": "stream",
     "text": [
      "Wall time: 7.51 s\n"
     ]
    }
   ],
   "source": [
    "%%time\n",
    "packets_4SICS, labels_4SICS, schemas_4SICS = load_dumps(filename, count=30000)"
   ]
  },
  {
   "cell_type": "code",
   "execution_count": 61,
   "id": "9741e572",
   "metadata": {},
   "outputs": [
    {
     "data": {
      "text/plain": [
       "[(scapy.layers.l2.Ether,\n",
       "  scapy.layers.inet.IP,\n",
       "  scapy.layers.inet.UDP,\n",
       "  scapy.layers.dns.DNS),\n",
       " (scapy.layers.l2.Ether,\n",
       "  scapy.layers.inet.IP,\n",
       "  scapy.layers.inet.TCP,\n",
       "  scapy.packet.Raw,\n",
       "  scapy.packet.Padding),\n",
       " (scapy.layers.l2.Ether,\n",
       "  scapy.layers.inet.IP,\n",
       "  scapy.layers.inet.ICMP,\n",
       "  scapy.layers.inet.IPerror,\n",
       "  scapy.layers.inet.UDPerror,\n",
       "  scapy.layers.ntp.NTPHeader),\n",
       " (scapy.layers.l2.Ether, scapy.packet.Raw),\n",
       " (scapy.layers.l2.Ether,\n",
       "  scapy.layers.inet.IP,\n",
       "  scapy.layers.inet.TCP,\n",
       "  scapy.packet.Padding),\n",
       " (scapy.layers.l2.Ether,\n",
       "  scapy.layers.inet.IP,\n",
       "  scapy.layers.inet.TCP,\n",
       "  scapy.packet.Raw),\n",
       " (scapy.layers.l2.Ether,\n",
       "  scapy.layers.inet.IP,\n",
       "  scapy.layers.inet.UDP,\n",
       "  scapy.packet.Raw,\n",
       "  scapy.packet.Padding),\n",
       " (scapy.layers.l2.Ether,\n",
       "  scapy.layers.inet.IP,\n",
       "  scapy.layers.inet.UDP,\n",
       "  scapy.layers.ntp.NTPHeader),\n",
       " (scapy.layers.l2.Ether, scapy.layers.l2.ARP, scapy.packet.Padding),\n",
       " (scapy.layers.l2.Ether, scapy.layers.inet.IP, scapy.layers.inet.TCP),\n",
       " (scapy.layers.l2.Ether,\n",
       "  scapy.layers.inet.IP,\n",
       "  scapy.layers.inet.ICMP,\n",
       "  scapy.layers.inet.IPerror,\n",
       "  scapy.layers.inet.UDPerror,\n",
       "  scapy.layers.dns.DNS)]"
      ]
     },
     "execution_count": 61,
     "metadata": {},
     "output_type": "execute_result"
    }
   ],
   "source": [
    "schemas_4SICS"
   ]
  },
  {
   "cell_type": "code",
   "execution_count": 55,
   "id": "184a06fb",
   "metadata": {},
   "outputs": [
    {
     "data": {
      "text/plain": [
       "'171 38 1 0 0 1 0 0 0 0 0 0 4 116 105 109 101 4 110 105 115 116 3 103 111 118 0 0 1 0 1'"
      ]
     },
     "execution_count": 55,
     "metadata": {},
     "output_type": "execute_result"
    }
   ],
   "source": [
    "packets_4SICS[0]"
   ]
  },
  {
   "cell_type": "code",
   "execution_count": 56,
   "id": "ef14abc0",
   "metadata": {},
   "outputs": [
    {
     "data": {
      "text/plain": [
       "[0,\n",
       " 0,\n",
       " 0,\n",
       " 0,\n",
       " 0,\n",
       " 0,\n",
       " 0,\n",
       " 0,\n",
       " 0,\n",
       " 0,\n",
       " 0,\n",
       " 10,\n",
       " 3,\n",
       " 0,\n",
       " 0,\n",
       " 0,\n",
       " 0,\n",
       " 0,\n",
       " 0,\n",
       " 0,\n",
       " 10,\n",
       " 0,\n",
       " 0,\n",
       " 0,\n",
       " 0,\n",
       " 0,\n",
       " 10,\n",
       " 0,\n",
       " 10,\n",
       " 8,\n",
       " 8,\n",
       " 3,\n",
       " 0,\n",
       " 0,\n",
       " 0,\n",
       " 0,\n",
       " 0,\n",
       " 0,\n",
       " 0,\n",
       " 10,\n",
       " 0,\n",
       " 0,\n",
       " 0,\n",
       " 0,\n",
       " 0,\n",
       " 10,\n",
       " 8,\n",
       " 8,\n",
       " 3,\n",
       " 0,\n",
       " 0,\n",
       " 0,\n",
       " 0,\n",
       " 0,\n",
       " 0,\n",
       " 8,\n",
       " 8,\n",
       " 0,\n",
       " 0,\n",
       " 0,\n",
       " 0,\n",
       " 0,\n",
       " 10,\n",
       " 3,\n",
       " 0,\n",
       " 0,\n",
       " 0,\n",
       " 0,\n",
       " 0,\n",
       " 0,\n",
       " 0,\n",
       " 0,\n",
       " 0,\n",
       " 0,\n",
       " 0,\n",
       " 10,\n",
       " 3,\n",
       " 0,\n",
       " 0,\n",
       " 0,\n",
       " 0,\n",
       " 8,\n",
       " 8,\n",
       " 0,\n",
       " 0,\n",
       " 0,\n",
       " 0,\n",
       " 0,\n",
       " 10,\n",
       " 0,\n",
       " 0,\n",
       " 3,\n",
       " 0,\n",
       " 0,\n",
       " 0,\n",
       " 0,\n",
       " 0,\n",
       " 0,\n",
       " 0,\n",
       " 0,\n",
       " 0,\n",
       " 10,\n",
       " 0,\n",
       " 0,\n",
       " 3,\n",
       " 0,\n",
       " 0,\n",
       " 8,\n",
       " 8,\n",
       " 0,\n",
       " 0,\n",
       " 8,\n",
       " 8,\n",
       " 0,\n",
       " 0,\n",
       " 0,\n",
       " 0,\n",
       " 0,\n",
       " 10,\n",
       " 0,\n",
       " 0,\n",
       " 3,\n",
       " 0,\n",
       " 0,\n",
       " 0,\n",
       " 0,\n",
       " 0,\n",
       " 0,\n",
       " 0,\n",
       " 0,\n",
       " 0,\n",
       " 10,\n",
       " 0,\n",
       " 0,\n",
       " 3,\n",
       " 0,\n",
       " 0,\n",
       " 0,\n",
       " 0,\n",
       " 0,\n",
       " 0,\n",
       " 0,\n",
       " 0,\n",
       " 0,\n",
       " 10,\n",
       " 0,\n",
       " 0,\n",
       " 3,\n",
       " 0,\n",
       " 0,\n",
       " 0,\n",
       " 0,\n",
       " 8,\n",
       " 8,\n",
       " 0,\n",
       " 0,\n",
       " 8,\n",
       " 8,\n",
       " 0,\n",
       " 0,\n",
       " 0,\n",
       " 10,\n",
       " 0,\n",
       " 0,\n",
       " 3,\n",
       " 0,\n",
       " 0,\n",
       " 0,\n",
       " 0,\n",
       " 8,\n",
       " 8,\n",
       " 0,\n",
       " 0,\n",
       " 0,\n",
       " 0,\n",
       " 0,\n",
       " 10,\n",
       " 0,\n",
       " 0,\n",
       " 3,\n",
       " 0,\n",
       " 0,\n",
       " 0,\n",
       " 0,\n",
       " 0,\n",
       " 0,\n",
       " 0,\n",
       " 0,\n",
       " 0,\n",
       " 10,\n",
       " 0,\n",
       " 0,\n",
       " 3,\n",
       " 0,\n",
       " 0,\n",
       " 0,\n",
       " 0,\n",
       " 0,\n",
       " 0,\n",
       " 0,\n",
       " 0,\n",
       " 0,\n",
       " 10,\n",
       " 0,\n",
       " 0,\n",
       " 8,\n",
       " 8,\n",
       " 3,\n",
       " 0,\n",
       " 0,\n",
       " 0,\n",
       " 0,\n",
       " 0,\n",
       " 0,\n",
       " 0,\n",
       " 0,\n",
       " 0,\n",
       " 10,\n",
       " 0,\n",
       " 0,\n",
       " 3,\n",
       " 0,\n",
       " 0,\n",
       " 0,\n",
       " 0,\n",
       " 8,\n",
       " 8,\n",
       " 0,\n",
       " 0,\n",
       " 0,\n",
       " 0,\n",
       " 0,\n",
       " 10,\n",
       " 0,\n",
       " 0,\n",
       " 3,\n",
       " 0,\n",
       " 0,\n",
       " 0,\n",
       " 0,\n",
       " 8,\n",
       " 8,\n",
       " 0,\n",
       " 0,\n",
       " 0,\n",
       " 0,\n",
       " 0,\n",
       " 10,\n",
       " 0,\n",
       " 0,\n",
       " 3,\n",
       " 0,\n",
       " 0,\n",
       " 0,\n",
       " 0,\n",
       " 8,\n",
       " 8,\n",
       " 0,\n",
       " 0,\n",
       " 0,\n",
       " 0,\n",
       " 0,\n",
       " 10,\n",
       " 0,\n",
       " 0,\n",
       " 3,\n",
       " 0,\n",
       " 0,\n",
       " 0,\n",
       " 0,\n",
       " 0,\n",
       " 0,\n",
       " 0,\n",
       " 0,\n",
       " 0,\n",
       " 10,\n",
       " 0,\n",
       " 0,\n",
       " 3,\n",
       " 0,\n",
       " 0,\n",
       " 0,\n",
       " 0,\n",
       " 0,\n",
       " 0,\n",
       " 0,\n",
       " 0,\n",
       " 0,\n",
       " 10,\n",
       " 0,\n",
       " 0,\n",
       " 3,\n",
       " 0,\n",
       " 0,\n",
       " 0,\n",
       " 0,\n",
       " 8,\n",
       " 8,\n",
       " 0,\n",
       " 0,\n",
       " 0,\n",
       " 0,\n",
       " 8,\n",
       " 8,\n",
       " 0,\n",
       " 10,\n",
       " 0,\n",
       " 0,\n",
       " 3,\n",
       " 0,\n",
       " 0,\n",
       " 0,\n",
       " 0,\n",
       " 8,\n",
       " 8,\n",
       " 0,\n",
       " 0,\n",
       " 0,\n",
       " 0,\n",
       " 0,\n",
       " 10,\n",
       " 0,\n",
       " 0,\n",
       " 3,\n",
       " 0,\n",
       " 0,\n",
       " 0,\n",
       " 0,\n",
       " 0,\n",
       " 0,\n",
       " 0,\n",
       " 0,\n",
       " 0,\n",
       " 10,\n",
       " 0,\n",
       " 0,\n",
       " 3,\n",
       " 0,\n",
       " 0,\n",
       " 0,\n",
       " 0,\n",
       " 0,\n",
       " 0,\n",
       " 0,\n",
       " 0,\n",
       " 0,\n",
       " 10,\n",
       " 0,\n",
       " 0,\n",
       " 3,\n",
       " 0,\n",
       " 0,\n",
       " 8,\n",
       " 8,\n",
       " 0,\n",
       " 0,\n",
       " 0,\n",
       " 0,\n",
       " 0,\n",
       " 0,\n",
       " 0,\n",
       " 10,\n",
       " 0,\n",
       " 0,\n",
       " 3,\n",
       " 0,\n",
       " 0,\n",
       " 0,\n",
       " 0,\n",
       " 8,\n",
       " 8,\n",
       " 0,\n",
       " 0,\n",
       " 0,\n",
       " 0,\n",
       " 0,\n",
       " 10,\n",
       " 0,\n",
       " 0,\n",
       " 3,\n",
       " 0,\n",
       " 0,\n",
       " 0,\n",
       " 0,\n",
       " 8,\n",
       " 8,\n",
       " 0,\n",
       " 0,\n",
       " 0,\n",
       " 0,\n",
       " 0,\n",
       " 10,\n",
       " 0,\n",
       " 0,\n",
       " 3,\n",
       " 0,\n",
       " 0,\n",
       " 0,\n",
       " 0,\n",
       " 0,\n",
       " 0,\n",
       " 8,\n",
       " 8,\n",
       " 0,\n",
       " 0,\n",
       " 0,\n",
       " 10,\n",
       " 0,\n",
       " 0,\n",
       " 3,\n",
       " 0,\n",
       " 0,\n",
       " 0,\n",
       " 0,\n",
       " 0,\n",
       " 0,\n",
       " 0,\n",
       " 0,\n",
       " 0,\n",
       " 10,\n",
       " 0,\n",
       " 0,\n",
       " 3,\n",
       " 0,\n",
       " 0,\n",
       " 0,\n",
       " 0,\n",
       " 0,\n",
       " 0,\n",
       " 0,\n",
       " 0,\n",
       " 0,\n",
       " 10,\n",
       " 0,\n",
       " 0,\n",
       " 3,\n",
       " 0,\n",
       " 0,\n",
       " 0,\n",
       " 0,\n",
       " 0,\n",
       " 0,\n",
       " 8,\n",
       " 8,\n",
       " 0,\n",
       " 0,\n",
       " 0,\n",
       " 10,\n",
       " 0,\n",
       " 0,\n",
       " 3,\n",
       " 8,\n",
       " 8,\n",
       " 0,\n",
       " 0,\n",
       " 0,\n",
       " 0,\n",
       " 8,\n",
       " 8,\n",
       " 0,\n",
       " 10,\n",
       " 0,\n",
       " 0,\n",
       " 0,\n",
       " 0,\n",
       " 0,\n",
       " 10,\n",
       " 0,\n",
       " 0,\n",
       " 0,\n",
       " 10,\n",
       " 3,\n",
       " 0,\n",
       " 0,\n",
       " 0,\n",
       " 0,\n",
       " 0,\n",
       " 10,\n",
       " 0,\n",
       " 0,\n",
       " 0,\n",
       " 0,\n",
       " 0,\n",
       " 10,\n",
       " 0,\n",
       " 0,\n",
       " 3,\n",
       " 0,\n",
       " 0,\n",
       " 0,\n",
       " 0,\n",
       " 0,\n",
       " 0,\n",
       " 0,\n",
       " 0,\n",
       " 0,\n",
       " 10,\n",
       " 0,\n",
       " 0,\n",
       " 3,\n",
       " 0,\n",
       " 0,\n",
       " 0,\n",
       " 0,\n",
       " 8,\n",
       " 8,\n",
       " 0,\n",
       " 0,\n",
       " 0,\n",
       " 0,\n",
       " 0,\n",
       " 10,\n",
       " 0,\n",
       " 0,\n",
       " 3,\n",
       " 0,\n",
       " 0,\n",
       " 8,\n",
       " 8,\n",
       " 0,\n",
       " 0,\n",
       " 0,\n",
       " 0,\n",
       " 0,\n",
       " 0,\n",
       " 0,\n",
       " 10,\n",
       " 0,\n",
       " 0,\n",
       " 3,\n",
       " 0,\n",
       " 0,\n",
       " 8,\n",
       " 8,\n",
       " 0,\n",
       " 0,\n",
       " 0,\n",
       " 0,\n",
       " 0,\n",
       " 0,\n",
       " 0,\n",
       " 10,\n",
       " 0,\n",
       " 0,\n",
       " 3,\n",
       " 0,\n",
       " 0,\n",
       " 0,\n",
       " 0,\n",
       " 0,\n",
       " 0,\n",
       " 0,\n",
       " 0,\n",
       " 0,\n",
       " 10,\n",
       " 8,\n",
       " 8,\n",
       " 0,\n",
       " 0,\n",
       " 3,\n",
       " 0,\n",
       " 0,\n",
       " 0,\n",
       " 0,\n",
       " 0,\n",
       " 0,\n",
       " 0,\n",
       " 0,\n",
       " 0,\n",
       " 10,\n",
       " 0,\n",
       " 0,\n",
       " 3,\n",
       " 0,\n",
       " 0,\n",
       " 8,\n",
       " 8,\n",
       " 0,\n",
       " 0,\n",
       " 0,\n",
       " 0,\n",
       " 0,\n",
       " 0,\n",
       " 0,\n",
       " 10,\n",
       " 0,\n",
       " 0,\n",
       " 3,\n",
       " 0,\n",
       " 0,\n",
       " 0,\n",
       " 0,\n",
       " 0,\n",
       " 0,\n",
       " 0,\n",
       " 0,\n",
       " 0,\n",
       " 10,\n",
       " 0,\n",
       " 0,\n",
       " 3,\n",
       " 0,\n",
       " 0,\n",
       " 8,\n",
       " 8,\n",
       " 0,\n",
       " 0,\n",
       " 0,\n",
       " 0,\n",
       " 0,\n",
       " 0,\n",
       " 0,\n",
       " 10,\n",
       " 0,\n",
       " 0,\n",
       " 3,\n",
       " 0,\n",
       " 0,\n",
       " 0,\n",
       " 0,\n",
       " 0,\n",
       " 0,\n",
       " 0,\n",
       " 0,\n",
       " 0,\n",
       " 10,\n",
       " 0,\n",
       " 0,\n",
       " 3,\n",
       " 0,\n",
       " 0,\n",
       " 8,\n",
       " 8,\n",
       " 0,\n",
       " 0,\n",
       " 0,\n",
       " 0,\n",
       " 0,\n",
       " 0,\n",
       " 0,\n",
       " 10,\n",
       " 0,\n",
       " 0,\n",
       " 3,\n",
       " 0,\n",
       " 0,\n",
       " 8,\n",
       " 8,\n",
       " 0,\n",
       " 0,\n",
       " 0,\n",
       " 0,\n",
       " 8,\n",
       " 8,\n",
       " 0,\n",
       " 0,\n",
       " 0,\n",
       " 10,\n",
       " 0,\n",
       " 0,\n",
       " 3,\n",
       " 0,\n",
       " 0,\n",
       " 0,\n",
       " 0,\n",
       " 0,\n",
       " 10,\n",
       " 0,\n",
       " 0,\n",
       " 3,\n",
       " 0,\n",
       " 0,\n",
       " 0,\n",
       " 0,\n",
       " 8,\n",
       " 8,\n",
       " 0,\n",
       " 0,\n",
       " 0,\n",
       " 0,\n",
       " 0,\n",
       " 10,\n",
       " 0,\n",
       " 0,\n",
       " 3,\n",
       " 0,\n",
       " 0,\n",
       " 8,\n",
       " 8,\n",
       " 0,\n",
       " 0,\n",
       " 0,\n",
       " 0,\n",
       " 0,\n",
       " 0,\n",
       " 0,\n",
       " 10,\n",
       " 0,\n",
       " 0,\n",
       " 3,\n",
       " 0,\n",
       " 0,\n",
       " 0,\n",
       " 0,\n",
       " 0,\n",
       " 0,\n",
       " 0,\n",
       " 0,\n",
       " 0,\n",
       " 10,\n",
       " 0,\n",
       " 0,\n",
       " 0,\n",
       " 0,\n",
       " 0,\n",
       " 0,\n",
       " 0,\n",
       " 10,\n",
       " 0,\n",
       " 0,\n",
       " 3,\n",
       " 0,\n",
       " 0,\n",
       " 0,\n",
       " 0,\n",
       " 8,\n",
       " 8,\n",
       " 8,\n",
       " 8,\n",
       " 0,\n",
       " 0,\n",
       " 0,\n",
       " 0,\n",
       " 0,\n",
       " 10,\n",
       " 0,\n",
       " 0,\n",
       " 3,\n",
       " 0,\n",
       " 0,\n",
       " 0,\n",
       " 0,\n",
       " 0,\n",
       " 0,\n",
       " 0,\n",
       " 0,\n",
       " 0,\n",
       " 10,\n",
       " 0,\n",
       " 0,\n",
       " 3,\n",
       " 0,\n",
       " 0,\n",
       " 0,\n",
       " 0,\n",
       " 0,\n",
       " 0,\n",
       " 0,\n",
       " 0,\n",
       " 0,\n",
       " 10,\n",
       " 0,\n",
       " 0,\n",
       " 3,\n",
       " 0,\n",
       " 0,\n",
       " 0,\n",
       " 0,\n",
       " 0,\n",
       " 0,\n",
       " 0,\n",
       " 0,\n",
       " 0,\n",
       " 10,\n",
       " 0,\n",
       " 0,\n",
       " 3,\n",
       " 0,\n",
       " 0,\n",
       " 0,\n",
       " 0,\n",
       " 0,\n",
       " 0,\n",
       " 8,\n",
       " 8,\n",
       " 0,\n",
       " 0,\n",
       " 0,\n",
       " 10,\n",
       " 0,\n",
       " 0,\n",
       " 3,\n",
       " 0,\n",
       " 0,\n",
       " 0,\n",
       " 0,\n",
       " 8,\n",
       " 8,\n",
       " 0,\n",
       " 0,\n",
       " 0,\n",
       " 0,\n",
       " 0,\n",
       " 10,\n",
       " 0,\n",
       " 0,\n",
       " 3,\n",
       " 0,\n",
       " 0,\n",
       " 0,\n",
       " 0,\n",
       " 8,\n",
       " 8,\n",
       " 0,\n",
       " 0,\n",
       " 0,\n",
       " 0,\n",
       " 0,\n",
       " 10,\n",
       " 0,\n",
       " 0,\n",
       " 3,\n",
       " 0,\n",
       " 0,\n",
       " 0,\n",
       " 0,\n",
       " 0,\n",
       " 0,\n",
       " 0,\n",
       " 0,\n",
       " 0,\n",
       " 10,\n",
       " 0,\n",
       " 0,\n",
       " 3,\n",
       " 0,\n",
       " 0,\n",
       " 0,\n",
       " 0,\n",
       " 0,\n",
       " 0,\n",
       " 0,\n",
       " 0,\n",
       " 8,\n",
       " 8,\n",
       " 0,\n",
       " 10,\n",
       " 0,\n",
       " 0,\n",
       " 3,\n",
       " 0,\n",
       " 0,\n",
       " 0,\n",
       " 0,\n",
       " 0,\n",
       " 0,\n",
       " 0,\n",
       " 0,\n",
       " 0,\n",
       " 10,\n",
       " 0,\n",
       " 0,\n",
       " 3,\n",
       " 0,\n",
       " 0,\n",
       " 0,\n",
       " 0,\n",
       " 0,\n",
       " 0,\n",
       " 0,\n",
       " 0,\n",
       " 0,\n",
       " 10,\n",
       " 0,\n",
       " 0,\n",
       " 3,\n",
       " 0,\n",
       " 0,\n",
       " 0,\n",
       " 0,\n",
       " 8,\n",
       " 8,\n",
       " 0,\n",
       " 0,\n",
       " 0,\n",
       " 0,\n",
       " 0,\n",
       " 10,\n",
       " 0,\n",
       " 0,\n",
       " 3,\n",
       " 0,\n",
       " 0,\n",
       " 0,\n",
       " 0,\n",
       " 0,\n",
       " 0,\n",
       " 0,\n",
       " 0,\n",
       " 0,\n",
       " 10,\n",
       " 0,\n",
       " 0,\n",
       " 3,\n",
       " 0,\n",
       " 0,\n",
       " 5,\n",
       " 5,\n",
       " 5,\n",
       " 5,\n",
       " 4,\n",
       " 4,\n",
       " 1,\n",
       " 4,\n",
       " 9,\n",
       " 4,\n",
       " 4,\n",
       " 1,\n",
       " 1,\n",
       " 4,\n",
       " 4,\n",
       " 5,\n",
       " 5,\n",
       " 5,\n",
       " 5,\n",
       " 4,\n",
       " 4,\n",
       " 9,\n",
       " 4,\n",
       " 4,\n",
       " 1,\n",
       " 4,\n",
       " 5,\n",
       " 5,\n",
       " 5,\n",
       " 5,\n",
       " 4,\n",
       " 4,\n",
       " 1,\n",
       " 4,\n",
       " 9,\n",
       " 4,\n",
       " 4,\n",
       " 0,\n",
       " 0,\n",
       " 0,\n",
       " 0,\n",
       " 0,\n",
       " 10,\n",
       " 0,\n",
       " 0,\n",
       " 3,\n",
       " 0,\n",
       " 0,\n",
       " 8,\n",
       " 8,\n",
       " 0,\n",
       " 0,\n",
       " 0,\n",
       " 0,\n",
       " 8,\n",
       " 8,\n",
       " 0,\n",
       " 0,\n",
       " 0,\n",
       " 10,\n",
       " 0,\n",
       " 0,\n",
       " 3,\n",
       " 0,\n",
       " 0,\n",
       " 8,\n",
       " 8,\n",
       " 0,\n",
       " 0,\n",
       " 0,\n",
       " 0,\n",
       " 0,\n",
       " 0,\n",
       " 0,\n",
       " 10,\n",
       " 0,\n",
       " 0,\n",
       " 3,\n",
       " 0,\n",
       " 0,\n",
       " 0,\n",
       " 0,\n",
       " 0,\n",
       " 0,\n",
       " 0,\n",
       " 0,\n",
       " 0,\n",
       " 10,\n",
       " 0,\n",
       " 0,\n",
       " 3,\n",
       " 0,\n",
       " 0,\n",
       " 0,\n",
       " ...]"
      ]
     },
     "execution_count": 56,
     "metadata": {},
     "output_type": "execute_result"
    }
   ],
   "source": [
    "labels_4SICS"
   ]
  },
  {
   "cell_type": "markdown",
   "id": "0d1cd674",
   "metadata": {},
   "source": [
    "### 3. Получение векторных представлений пакетов <a name='emb'></a>"
   ]
  },
  {
   "cell_type": "markdown",
   "id": "7211eb43",
   "metadata": {},
   "source": [
    "## Tf-Idf"
   ]
  },
  {
   "cell_type": "markdown",
   "id": "908bef5f",
   "metadata": {},
   "source": [
    "Распределение числа пакетов по классам, соответствующим разным схемам:"
   ]
  },
  {
   "cell_type": "code",
   "execution_count": 14,
   "id": "0bd75463",
   "metadata": {},
   "outputs": [
    {
     "name": "stdout",
     "output_type": "stream",
     "text": [
      "Counter({4: 11862, 5: 7578, 1: 4198, 0: 3308, 9: 1880, 8: 547, 10: 326, 3: 298, 7: 1, 2: 1, 6: 1})\n"
     ]
    }
   ],
   "source": [
    "count_lables = collections.Counter(np.array(labels_4SICS))\n",
    "print(count_lables)"
   ]
  },
  {
   "cell_type": "markdown",
   "id": "409362c6",
   "metadata": {},
   "source": [
    "Для кластеризации возьмем только пакеты пяти наиболее распространенных схем:"
   ]
  },
  {
   "cell_type": "code",
   "execution_count": 15,
   "id": "a7ac9446",
   "metadata": {},
   "outputs": [],
   "source": [
    "sorted_count_lables = sorted(count_lables.items(), key=lambda x: x[1], reverse=True)\n",
    "top_5 = [i[0] for i in sorted_count_lables][:5]\n",
    "indices = [i for i, x in enumerate(labels_4SICS) if x in top_5 and schemas_4SICS[x]!='eth:ethertype:ip:tcp']\n",
    "top5_labels = [labels_4SICS[i] for i in range(len(indices)) if i in indices]\n",
    "top5_packets = [packets_4SICS[i] for i in range(len(indices)) if i in indices]"
   ]
  },
  {
   "cell_type": "markdown",
   "id": "9cdf80c9",
   "metadata": {},
   "source": [
    "Векторизуем данные с помощью TfidfVectorizer"
   ]
  },
  {
   "cell_type": "code",
   "execution_count": 16,
   "id": "9eb467b8",
   "metadata": {},
   "outputs": [],
   "source": [
    "from sklearn.feature_extraction.text import TfidfVectorizer\n",
    "\n",
    "packets_vectorised = TfidfVectorizer().fit_transform(top5_packets)"
   ]
  },
  {
   "cell_type": "code",
   "execution_count": 59,
   "id": "69bafcd7",
   "metadata": {},
   "outputs": [
    {
     "data": {
      "text/plain": [
       "array([[0.        , 0.        , 0.21661808, ..., 0.        , 0.        ,\n",
       "        0.        ],\n",
       "       [0.        , 0.        , 0.20321847, ..., 0.        , 0.        ,\n",
       "        0.        ],\n",
       "       [0.        , 0.        , 0.21609838, ..., 0.        , 0.        ,\n",
       "        0.        ],\n",
       "       ...,\n",
       "       [0.        , 0.        , 0.        , ..., 0.        , 0.        ,\n",
       "        0.        ],\n",
       "       [0.        , 0.        , 0.        , ..., 0.        , 0.        ,\n",
       "        0.        ],\n",
       "       [0.        , 0.        , 0.        , ..., 0.        , 0.        ,\n",
       "        0.        ]])"
      ]
     },
     "execution_count": 59,
     "metadata": {},
     "output_type": "execute_result"
    }
   ],
   "source": [
    "packets_vectorised.toarray()"
   ]
  },
  {
   "cell_type": "markdown",
   "id": "bd962100",
   "metadata": {},
   "source": [
    "Кластеризуем полученные векторные представления пакетов с помощью KMeans (K-средних)\n",
    "\n",
    "**KMeans** - Наиболее простой из методов кластеризации. Он разбивает множество элементов векторного пространства на заранее известное число кластеров k. Основная идея алгоритма заключается в том, что на каждой итерации перевычисляется центр масс для каждого кластера, полученного на предыдущем шаге, затем векторы разбиваются на кластеры вновь в соответствии с тем, какой из новых центров оказался ближе по выбранной метрике. Алгоритм завершается, когда на какой-то итерации не происходит изменения кластеров.\n",
    "\n",
    "\n",
    "\n",
    "<img src=\"https://imgconvert.csdnimg.cn/aHR0cDovL3BiMy5wc3RhdHAuY29tL2xhcmdlL3BnYy1pbWFnZS8wNDMwMzc1Mjg4ZjU0MTVmOWIxM2NlMDM5OGRmZGFhYw?x-oss-process=image/format,png\" width=500 height=500 />"
   ]
  },
  {
   "cell_type": "code",
   "execution_count": 17,
   "id": "fef90d7b",
   "metadata": {},
   "outputs": [
    {
     "name": "stdout",
     "output_type": "stream",
     "text": [
      "Wall time: 3.29 s\n"
     ]
    }
   ],
   "source": [
    "%%time\n",
    "clusters = KMeans(n_clusters=5).fit(packets_vectorised)"
   ]
  },
  {
   "cell_type": "markdown",
   "id": "d3ee8eec",
   "metadata": {},
   "source": [
    "Оценим результаты кластеризации"
   ]
  },
  {
   "cell_type": "code",
   "execution_count": 18,
   "id": "a32a7220",
   "metadata": {},
   "outputs": [
    {
     "name": "stdout",
     "output_type": "stream",
     "text": [
      "Homogeniety: 0.7336108921539071\n",
      "Completeness: 0.8249512637316058\n",
      "V_measure: 0.776604552194827\n"
     ]
    }
   ],
   "source": [
    "tfidf_metrics = metrics.homogeneity_completeness_v_measure(top5_labels, clusters.labels_)\n",
    "print(f'Homogeniety: {tfidf_metrics[0]}')\n",
    "print(f'Completeness: {tfidf_metrics[1]}')\n",
    "print(f'V_measure: {tfidf_metrics[2]}')"
   ]
  },
  {
   "cell_type": "markdown",
   "id": "014050ef",
   "metadata": {},
   "source": [
    "**Метод локтя** - это метод, который мы используем для определения числа центроидов (k) для использования в алгоритме кластеризации k-средних."
   ]
  },
  {
   "cell_type": "code",
   "execution_count": 19,
   "id": "100600b7",
   "metadata": {},
   "outputs": [
    {
     "data": {
      "image/png": "[encoded data removed]",
      "text/plain": [
       "<Figure size 640x480 with 1 Axes>"
      ]
     },
     "metadata": {},
     "output_type": "display_data"
    }
   ],
   "source": [
    "# Список для инерций\n",
    "inertias = []\n",
    "\n",
    "# Мы будем проверять от 1 до 10 кластеров\n",
    "for k in range(1, 11):\n",
    "    kmeans = KMeans(n_clusters=k, random_state=1).fit(packets_vectorised)\n",
    "    inertias.append(kmeans.inertia_)\n",
    "\n",
    "# Строим график зависимости инерции от числа кластеров\n",
    "plt.plot(range(1, 11), inertias, marker='s');\n",
    "plt.xlabel('$k$')\n",
    "plt.ylabel('$J(C_k)$');"
   ]
  },
  {
   "cell_type": "code",
   "execution_count": 20,
   "id": "af3db8ef",
   "metadata": {},
   "outputs": [
    {
     "name": "stdout",
     "output_type": "stream",
     "text": [
      "Wall time: 5.05 s\n"
     ]
    }
   ],
   "source": [
    "%%time\n",
    "clusters = KMeans(n_clusters=4).fit(packets_vectorised)"
   ]
  },
  {
   "cell_type": "code",
   "execution_count": 21,
   "id": "a46b42bc",
   "metadata": {},
   "outputs": [
    {
     "name": "stdout",
     "output_type": "stream",
     "text": [
      "Homogeniety: 0.5865379728459246\n",
      "Completeness: 0.7902641748323344\n",
      "V_measure: 0.6733283324703723\n"
     ]
    }
   ],
   "source": [
    "tfidf_metrics = metrics.homogeneity_completeness_v_measure(top5_labels, clusters.labels_)\n",
    "print(f'Homogeniety: {tfidf_metrics[0]}')\n",
    "print(f'Completeness: {tfidf_metrics[1]}')\n",
    "print(f'V_measure: {tfidf_metrics[2]}')"
   ]
  },
  {
   "cell_type": "markdown",
   "id": "762044b8",
   "metadata": {},
   "source": [
    "Изобразим полученные векторные представления, а также исходные метки, и метки, которые соответствуют полученным кластерам.\n",
    "\n",
    "Для уменьшения размерности кластеров будем использовать алгоритм **t-sne**.\n",
    "**t-sne** (t-distributed stochastic neighbor embedding) — техника нелинейного снижения размерности и визуализации многомерных переменных."
   ]
  },
  {
   "cell_type": "code",
   "execution_count": 22,
   "id": "23df56bb",
   "metadata": {},
   "outputs": [],
   "source": [
    "def visualize_with_TSNE(X, labels, title, random_state=100):\n",
    "    n_iter = 1000 #@param {type:\"slider\", min:250, max:1500, step:25}\n",
    "    perplexity = 40 #@param {type:\"slider\", min:5, max:50, step:5}\n",
    "\n",
    "    tsne = TSNE(n_components=2, verbose=0, \n",
    "            perplexity=perplexity, n_iter=n_iter,\n",
    "            learning_rate = 'auto', init = 'random', random_state=random_state)\n",
    "    tsne_results = tsne.fit_transform(X)\n",
    "    x = [i[0] for i in tsne_results]\n",
    "    y = [i[1] for i in tsne_results]\n",
    "    dict_lables = dict()\n",
    "    lab_list = list(set(labels))\n",
    "    for count, schema in enumerate(lab_list):\n",
    "            dict_lables[schema] = count\n",
    "    labs = [dict_lables[i] for i in labels]\n",
    "    import matplotlib.colors as colors\n",
    "    colors_list = ['#1E90FF','#00FF7F','#FFFF00','#FF0000','#FFA500','#0000FF','#008000','#FF00FF','#9370DB','#00FFFF', '#FF1493', '#9ACD32','#9932CC','#1effcb']\n",
    "#     colours = ['r','b','g','c','m','y','k']\n",
    "    print(lab_list)\n",
    "    scatter = plt.scatter(x=x, y=y, c = labs, cmap=ListedColormap(colors_list[:len(labs)]))\n",
    "    plt.legend(handles=scatter.legend_elements()[0], labels=lab_list, loc=\"upper left\")\n",
    "    plt.title(title)"
   ]
  },
  {
   "cell_type": "code",
   "execution_count": 23,
   "id": "fba49ecb",
   "metadata": {},
   "outputs": [
    {
     "name": "stdout",
     "output_type": "stream",
     "text": [
      "[0, 1, 4, 5, 9]\n"
     ]
    },
    {
     "data": {
      "image/png": "[encoded data removed]",
      "text/plain": [
       "<Figure size 640x480 with 1 Axes>"
      ]
     },
     "metadata": {},
     "output_type": "display_data"
    }
   ],
   "source": [
    "visualize_with_TSNE(packets_vectorised, top5_labels, 'Векторные представления Tf-Idf, реальные метки')"
   ]
  },
  {
   "cell_type": "markdown",
   "id": "337734be",
   "metadata": {},
   "source": [
    "## FastText\n",
    "\n",
    "fastText – модель машинного обучения для построения векторных представлений слов и одноименная библиотека с открытым исходным кодом для классификации текстов, которая была опубликована в 2015 году исследовательской лабораторией искусственного интеллекта Facebook. Компания также предоставляет модели: English word vectors (предварительно обучена английскому webcrawl и Википедии) и Multi-lingual word vectors (обученные модели для 157 различных языков), которые позволяют создать алгоритмы Supervised и Unsupervised learning для получения векторных представлений слов. "
   ]
  },
  {
   "cell_type": "markdown",
   "id": "cfbd413e",
   "metadata": {},
   "source": [
    "<img src=\"fasttext.png\" width=400 height=400 />"
   ]
  },
  {
   "cell_type": "markdown",
   "id": "fc213c80",
   "metadata": {},
   "source": [
    "**Gensim** – это библиотека с открытым исходным кодом на Python, написанная Радимом Рехуреком, которая используется для тематического моделирования без учителя и обработки естественного языка (NLP). Она предназначена для извлечения семантических тем из документов.\n",
    "Примеры приложений из библиотеки Gensim:\n",
    "- Создание корпуса из заданного датасета.\n",
    "- Матрицы TFIDF.\n",
    "- Создание биграммы и триграммы.\n",
    "- Модели Word2Vec.\n",
    "- Модели Doc2Vec.\n",
    "- Создание тематической модели с LDA (Латентное размещение Дирихле).\n",
    "- Создание тематической модели с LSI (Латентно-семантическое индексирование)."
   ]
  },
  {
   "cell_type": "code",
   "execution_count": 24,
   "id": "f8447fe1",
   "metadata": {},
   "outputs": [],
   "source": [
    "class mean_vectorizer(object):\n",
    "    def __init__(self, word2vec):\n",
    "        self.word2vec = word2vec\n",
    "        self.dim = len(next(iter(word2vec.values())))\n",
    "\n",
    "    def fit(self, X):\n",
    "        return self\n",
    "\n",
    "    def transform(self, X):\n",
    "        return np.array([\n",
    "            np.mean([self.word2vec[w] for w in words if w in self.word2vec]\n",
    "                    or [np.zeros(self.dim)], axis=0)\n",
    "            for words in X\n",
    "        ])"
   ]
  },
  {
   "cell_type": "code",
   "execution_count": 25,
   "id": "e946b44d",
   "metadata": {},
   "outputs": [],
   "source": [
    "splited_gen_packets = [i.split(' ') for i in top5_packets]"
   ]
  },
  {
   "cell_type": "code",
   "execution_count": 26,
   "id": "d418a8ad",
   "metadata": {},
   "outputs": [
    {
     "name": "stdout",
     "output_type": "stream",
     "text": [
      "Wall time: 7.24 s\n"
     ]
    },
    {
     "data": {
      "text/plain": [
       "(27683, 256)"
      ]
     },
     "execution_count": 26,
     "metadata": {},
     "output_type": "execute_result"
    }
   ],
   "source": [
    "%%time\n",
    "model2 = FastText(vector_size=256, window=1, min_count=1, sentences=splited_gen_packets, epochs=15)\n",
    "wv = dict(zip(model2.wv.index_to_key , model2.wv.vectors))\n",
    "packet_ft_1=mean_vectorizer(wv).fit(splited_gen_packets).transform(splited_gen_packets)\n",
    "packet_ft_1.shape"
   ]
  },
  {
   "cell_type": "code",
   "execution_count": 27,
   "id": "bfeb7292",
   "metadata": {},
   "outputs": [
    {
     "data": {
      "text/plain": [
       "array([-0.26795933,  0.22302595,  0.04427125,  0.24190044,  0.17200005,\n",
       "        0.1919602 , -0.16663666, -0.22017393, -0.00668796, -0.3015332 ,\n",
       "       -0.06859075, -0.21491091, -0.5310421 ,  0.02495101,  0.03618365,\n",
       "       -0.42382237,  0.40277007, -0.28498232, -0.37855232, -0.02069174,\n",
       "        0.30454376, -0.37832427,  0.00615609,  0.31135374, -0.5841263 ,\n",
       "        0.04108882,  0.21781176, -0.04511445,  0.15095404,  0.07593656,\n",
       "        0.20105992,  0.13401338,  0.13813631,  0.09431996,  0.3672761 ,\n",
       "        0.03742587, -0.06416298, -0.07575183, -0.01367002, -0.0139058 ,\n",
       "       -0.1543951 ,  0.24669525, -0.3116599 ,  0.15547596,  0.12220753,\n",
       "        0.10328108,  0.252478  ,  0.00949391, -0.4790957 ,  0.19346285,\n",
       "       -0.32175127,  0.0499901 ,  0.07620942,  0.02913495,  0.15568468,\n",
       "        0.01289146,  0.01581627, -0.17970999, -0.21842179, -0.08531994,\n",
       "        0.22275692,  0.40722594,  0.16030753, -0.21562555, -0.25424924,\n",
       "       -0.2643565 , -0.1837662 ,  0.14710087,  0.12453526,  0.01413132,\n",
       "        0.38512495, -0.08332895,  0.14295645, -0.09269322, -0.30994356,\n",
       "       -0.35804975,  0.21470937, -0.00224407,  0.16186947, -0.1814061 ,\n",
       "        0.23073015, -0.09658204, -0.09061304, -0.497148  , -0.02727719,\n",
       "       -0.28740487,  0.11660761, -0.06999158, -0.01845488, -0.0913483 ,\n",
       "       -0.09758063,  0.05262756, -0.33706218,  0.12836403, -0.0825774 ,\n",
       "       -0.19495097,  0.04903162,  0.06435043,  0.28850153, -0.2508284 ,\n",
       "       -0.12248941, -0.1170167 ,  0.40879288,  0.04609591,  0.2124549 ,\n",
       "       -0.39641434, -0.18917228, -0.03891551,  0.35084343, -0.22509031,\n",
       "       -0.03782337, -0.09067179, -0.08136419, -0.280332  ,  0.19345056,\n",
       "       -0.13157406, -0.06166747, -0.44149294, -0.4346556 ,  0.18592663,\n",
       "       -0.22382498, -0.04729655,  0.2588262 , -0.01927224, -0.20807673,\n",
       "       -0.44900888, -0.27512076,  0.1619605 ,  0.107899  ,  0.27856687,\n",
       "       -0.18551801,  0.09356623, -0.05211818,  0.08518099, -0.14312363,\n",
       "        0.03321094, -0.1885587 , -0.10896111, -0.19319905,  0.07573155,\n",
       "       -0.24282277,  0.14065562,  0.18379065, -0.0947354 ,  0.02563404,\n",
       "       -0.13911816, -0.02820351, -0.01967056,  0.27097738, -0.20423749,\n",
       "       -0.39312494, -0.04085549,  0.36163482, -0.27939862,  0.39490405,\n",
       "       -0.02061234,  0.05236813, -0.08186538, -0.20363003, -0.02131617,\n",
       "       -0.02995919, -0.15768118, -0.04276012,  0.23763974, -0.17017706,\n",
       "       -0.29253885, -0.27135763, -0.10380571, -0.03171469,  0.26532167,\n",
       "        0.06228584, -0.40341625, -0.12125263, -0.18258457, -0.0136758 ,\n",
       "        0.18865034, -0.00938075,  0.11442741,  0.04198102, -0.09647849,\n",
       "        0.04066966,  0.2855257 , -0.3452957 ,  0.03400652, -0.1124761 ,\n",
       "        0.502155  ,  0.0378673 ,  0.1355376 , -0.20979677,  0.1767607 ,\n",
       "        0.14341266,  0.13450013, -0.08660401,  0.16299862,  0.03887882,\n",
       "        0.12642035, -0.04945264,  0.04655197,  0.2015949 , -0.1155059 ,\n",
       "       -0.12408701,  0.03813365,  0.15315251,  0.24449565,  0.13969469,\n",
       "        0.02127217,  0.11232053,  0.01560625,  0.14046304,  0.092145  ,\n",
       "       -0.04563508, -0.12553056, -0.37779772, -0.2879737 ,  0.09166347,\n",
       "        0.14056781,  0.07287436, -0.06155842, -0.13996764, -0.11737411,\n",
       "        0.29175586, -0.19290997, -0.31066173,  0.1920963 ,  0.10627113,\n",
       "       -0.02077794,  0.01442669,  0.06387752,  0.13423958,  0.06296773,\n",
       "       -0.12638198, -0.03123054,  0.08580247,  0.01770976, -0.13149486,\n",
       "       -0.2712993 , -0.20599094, -0.15927146,  0.20128702,  0.05664652,\n",
       "       -0.00751812,  0.05500261, -0.08521   , -0.35356006, -0.16802725,\n",
       "        0.07909077,  0.05957048,  0.1365481 , -0.00758988,  0.05649726,\n",
       "       -0.1827748 ,  0.0489584 ,  0.25071388,  0.11522113,  0.20329256,\n",
       "        0.28587547], dtype=float32)"
      ]
     },
     "execution_count": 27,
     "metadata": {},
     "output_type": "execute_result"
    }
   ],
   "source": [
    "packet_ft_1[0]"
   ]
  },
  {
   "cell_type": "code",
   "execution_count": 28,
   "id": "31d50375",
   "metadata": {},
   "outputs": [
    {
     "name": "stdout",
     "output_type": "stream",
     "text": [
      "Wall time: 2.16 s\n"
     ]
    }
   ],
   "source": [
    "%%time\n",
    "clusters = KMeans(n_clusters=5).fit(packet_ft_1)"
   ]
  },
  {
   "cell_type": "code",
   "execution_count": 29,
   "id": "f0abeca7",
   "metadata": {},
   "outputs": [
    {
     "name": "stdout",
     "output_type": "stream",
     "text": [
      "Homogeniety: 0.9124271700135196\n",
      "Completeness: 0.8772603141283543\n",
      "V_measure: 0.8944982326555204\n"
     ]
    }
   ],
   "source": [
    "ft_metrics = metrics.homogeneity_completeness_v_measure(top5_labels, clusters.labels_)\n",
    "print(f'Homogeniety: {ft_metrics[0]}')\n",
    "print(f'Completeness: {ft_metrics[1]}')\n",
    "print(f'V_measure: {ft_metrics[2]}')"
   ]
  },
  {
   "cell_type": "code",
   "execution_count": 30,
   "id": "8322c92a",
   "metadata": {},
   "outputs": [
    {
     "name": "stdout",
     "output_type": "stream",
     "text": [
      "[0, 1, 4, 5, 9]\n"
     ]
    },
    {
     "data": {
      "image/png": "[encoded data removed]",
      "text/plain": [
       "<Figure size 640x480 with 1 Axes>"
      ]
     },
     "metadata": {},
     "output_type": "display_data"
    }
   ],
   "source": [
    "visualize_with_TSNE(packet_ft_1, top5_labels, 'Эмбеддинги Fasttext, реальные метки')"
   ]
  },
  {
   "cell_type": "code",
   "execution_count": 34,
   "id": "adcbd94b",
   "metadata": {},
   "outputs": [
    {
     "name": "stdout",
     "output_type": "stream",
     "text": [
      "[0, 1, 2, 3, 4]\n"
     ]
    },
    {
     "data": {
      "image/png": "[encoded data removed]",
      "text/plain": [
       "<Figure size 640x480 with 1 Axes>"
      ]
     },
     "metadata": {},
     "output_type": "display_data"
    }
   ],
   "source": [
    "visualize_with_TSNE(packet_ft_1, clusters.labels_, 'Эмбеддинги Fasttext, метки кластеров')"
   ]
  },
  {
   "cell_type": "code",
   "execution_count": 43,
   "id": "85a8cea5",
   "metadata": {},
   "outputs": [
    {
     "data": {
      "image/png": "[encoded data removed]",
      "text/plain": [
       "<Figure size 640x480 with 1 Axes>"
      ]
     },
     "metadata": {},
     "output_type": "display_data"
    }
   ],
   "source": [
    "# Список для инерций\n",
    "inertias = []\n",
    "# Список для коэффициентов ситуэта\n",
    "silhouette_scores = []\n",
    "\n",
    "# Мы будем проверять от 1 до 10 кластеров\n",
    "for k in range(3, 10):\n",
    "    kmeans = KMeans(n_clusters=k, random_state=1).fit(packet_ft_1)\n",
    "    inertias.append(kmeans.inertia_)\n",
    "    silhouette_scores.append(metrics.silhouette_score(packet_ft_1, kmeans.labels_))\n",
    "\n",
    "# Строим график зависимости инерции от числа кластеров\n",
    "plt.plot(range(3, 10), inertias, marker='s');\n",
    "plt.xlabel('$k$')\n",
    "plt.ylabel('$J(C_k)$');"
   ]
  },
  {
   "cell_type": "code",
   "execution_count": 44,
   "id": "71ba76b4",
   "metadata": {},
   "outputs": [
    {
     "data": {
      "image/png": "[encoded data removed]",
      "text/plain": [
       "<Figure size 640x480 with 1 Axes>"
      ]
     },
     "metadata": {},
     "output_type": "display_data"
    }
   ],
   "source": [
    "# Строим график зависимости коэффициента силуэта от числа кластеров\n",
    "plt.plot(range(3, 10), silhouette_scores, marker='s');\n",
    "plt.xlabel('$k$')\n",
    "plt.ylabel('$Коэффициент силуэта$');"
   ]
  },
  {
   "cell_type": "code",
   "execution_count": 45,
   "id": "d2b03790",
   "metadata": {},
   "outputs": [
    {
     "name": "stdout",
     "output_type": "stream",
     "text": [
      "Wall time: 2.31 s\n"
     ]
    }
   ],
   "source": [
    "%%time\n",
    "clusters = KMeans(n_clusters=7).fit(packet_ft_1)"
   ]
  },
  {
   "cell_type": "code",
   "execution_count": 46,
   "id": "ff24ce2c",
   "metadata": {},
   "outputs": [
    {
     "name": "stdout",
     "output_type": "stream",
     "text": [
      "Homogeniety: 0.9989811850971264\n",
      "Completeness: 0.866570514371014\n",
      "V_measure: 0.9280768146638715\n"
     ]
    }
   ],
   "source": [
    "ft_metrics = metrics.homogeneity_completeness_v_measure(top5_labels, clusters.labels_)\n",
    "print(f'Homogeniety: {ft_metrics[0]}')\n",
    "print(f'Completeness: {ft_metrics[1]}')\n",
    "print(f'V_measure: {ft_metrics[2]}')"
   ]
  },
  {
   "cell_type": "code",
   "execution_count": null,
   "id": "6cfc3ec9",
   "metadata": {},
   "outputs": [],
   "source": []
  }
 ],
 "metadata": {
  "kernelspec": {
   "display_name": "Python 3 (ipykernel)",
   "language": "python",
   "name": "python3"
  },
  "language_info": {
   "codemirror_mode": {
    "name": "ipython",
    "version": 3
   },
   "file_extension": ".py",
   "mimetype": "text/x-python",
   "name": "python",
   "nbconvert_exporter": "python",
   "pygments_lexer": "ipython3",
   "version": "3.9.13"
  }
 },
 "nbformat": 4,
 "nbformat_minor": 5
}
