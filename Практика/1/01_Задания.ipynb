{
 "cells": [
  {
   "cell_type": "markdown",
   "metadata": {},
   "source": [
    "<h1> Материалы курса \"Анализ данных в инфромационной безопасности\" </h1>\n",
    "\n",
    "<h2> Задания к презентации \"Основы Python\"</h2>\n",
    "\n",
    "<p>Андрей Скороходов, UDV Group</p>\n",
    "<p>mail: andrei.skorokhodov@udv.group, telegram: @Spongillas</p>"
   ]
  },
  {
   "cell_type": "markdown",
   "metadata": {},
   "source": [
    "## Задание 1"
   ]
  },
  {
   "cell_type": "markdown",
   "metadata": {},
   "source": [
    "1. Создайте переменную с именем var1 и присвойте ей значение 10. Переменная – это ссылка на объект 10.\n",
    "2. Выведите в консоль идентификатор объекта (id(<переменная>)), на который ссылается переменная var1.\n",
    "3. Преобразуйте идентификатор в hex формат при помощи функции hex().\n",
    "4. Присвойте переменной var2 значение 20. \n",
    "5. Выведите в консоль идентификатор для var1, объекта 10 и объекта 20."
   ]
  },
  {
   "cell_type": "code",
   "execution_count": 1,
   "metadata": {},
   "outputs": [
    {
     "data": {
      "text/plain": [
       "1991300704848"
      ]
     },
     "execution_count": 1,
     "metadata": {},
     "output_type": "execute_result"
    }
   ],
   "source": [
    "var1 = 10\n",
    "id(var1)"
   ]
  },
  {
   "cell_type": "code",
   "execution_count": 2,
   "metadata": {},
   "outputs": [
    {
     "data": {
      "text/plain": [
       "'0x1cfa2c56a50'"
      ]
     },
     "execution_count": 2,
     "metadata": {},
     "output_type": "execute_result"
    }
   ],
   "source": [
    "hex(id(var1))"
   ]
  },
  {
   "cell_type": "code",
   "execution_count": 3,
   "metadata": {},
   "outputs": [
    {
     "data": {
      "text/plain": [
       "('0x1cfa2c56a50', '0x1cfa2c56a50', '0x1cfa2c56b90')"
      ]
     },
     "execution_count": 3,
     "metadata": {},
     "output_type": "execute_result"
    }
   ],
   "source": [
    "var2 = 20\n",
    "hex(id(var1)), hex(id(10)), hex(id(20))"
   ]
  },
  {
   "cell_type": "markdown",
   "metadata": {},
   "source": [
    "## Задание 2"
   ]
  },
  {
   "cell_type": "markdown",
   "metadata": {},
   "source": [
    "1. Создайте переменную с именем var1 и присвойте ей значение 10. Выведите в консоль тип var1.\n",
    "2. Присвойте переменной var1 ее значение, разделенное на 3. Выведите в консоль тип var1.\n",
    "3. Создайте переменную var2 и присвойте ей значение остатка от деления переменной var1 на 2. Выведите в консоль тип var2.\n",
    "4. Измените тип переменной var2 на строковый. Сложите var1 и var2\n",
    "5. Присвойте переменной var1 результат целочисленного деления этой переменной на 1. Выведите в консоль тип var1. Если результат не является целочисленным значением, преобразуйте его в int. \n",
    "6. Измените тип переменной var1 на строковый. Сложите var1 и var2. Выведите в консоль тип получившегося результата"
   ]
  },
  {
   "cell_type": "code",
   "execution_count": 4,
   "metadata": {},
   "outputs": [
    {
     "data": {
      "text/plain": [
       "int"
      ]
     },
     "execution_count": 4,
     "metadata": {},
     "output_type": "execute_result"
    }
   ],
   "source": [
    "var1 = 10\n",
    "type(var1)"
   ]
  },
  {
   "cell_type": "code",
   "execution_count": 5,
   "metadata": {},
   "outputs": [
    {
     "data": {
      "text/plain": [
       "(3.3333333333333335, float)"
      ]
     },
     "execution_count": 5,
     "metadata": {},
     "output_type": "execute_result"
    }
   ],
   "source": [
    "var1 = var1 / 3\n",
    "var1, type(var1)"
   ]
  },
  {
   "cell_type": "code",
   "execution_count": 6,
   "metadata": {},
   "outputs": [
    {
     "data": {
      "text/plain": [
       "(1.3333333333333335, float)"
      ]
     },
     "execution_count": 6,
     "metadata": {},
     "output_type": "execute_result"
    }
   ],
   "source": [
    "var2 = var1 % 2\n",
    "var2, type(var2)"
   ]
  },
  {
   "cell_type": "code",
   "execution_count": 7,
   "metadata": {},
   "outputs": [
    {
     "ename": "TypeError",
     "evalue": "unsupported operand type(s) for +: 'float' and 'str'",
     "output_type": "error",
     "traceback": [
      "\u001b[1;31m---------------------------------------------------------------------------\u001b[0m",
      "\u001b[1;31mTypeError\u001b[0m                                 Traceback (most recent call last)",
      "\u001b[1;32mC:\\Users\\ASKORO~1\\AppData\\Local\\Temp/ipykernel_21084/1266792935.py\u001b[0m in \u001b[0;36m<module>\u001b[1;34m\u001b[0m\n\u001b[0;32m      1\u001b[0m \u001b[0mvar2\u001b[0m \u001b[1;33m=\u001b[0m \u001b[0mstr\u001b[0m\u001b[1;33m(\u001b[0m\u001b[0mvar2\u001b[0m\u001b[1;33m)\u001b[0m\u001b[1;33m\u001b[0m\u001b[1;33m\u001b[0m\u001b[0m\n\u001b[1;32m----> 2\u001b[1;33m \u001b[0mvar1\u001b[0m \u001b[1;33m+\u001b[0m \u001b[0mvar2\u001b[0m\u001b[1;33m\u001b[0m\u001b[1;33m\u001b[0m\u001b[0m\n\u001b[0m",
      "\u001b[1;31mTypeError\u001b[0m: unsupported operand type(s) for +: 'float' and 'str'"
     ]
    }
   ],
   "source": [
    "var2 = str(var2)\n",
    "var1 + var2"
   ]
  },
  {
   "cell_type": "code",
   "execution_count": 8,
   "metadata": {},
   "outputs": [
    {
     "data": {
      "text/plain": [
       "(3.0, float)"
      ]
     },
     "execution_count": 8,
     "metadata": {},
     "output_type": "execute_result"
    }
   ],
   "source": [
    "var1 = var1 // 1\n",
    "var1, type(var1)"
   ]
  },
  {
   "cell_type": "code",
   "execution_count": 9,
   "metadata": {},
   "outputs": [],
   "source": [
    "var1 = int(var1)"
   ]
  },
  {
   "cell_type": "code",
   "execution_count": 10,
   "metadata": {},
   "outputs": [
    {
     "data": {
      "text/plain": [
       "('31.3333333333333335', str)"
      ]
     },
     "execution_count": 10,
     "metadata": {},
     "output_type": "execute_result"
    }
   ],
   "source": [
    "var1 = str(var1)\n",
    "var1 + var2, type(var1 + var2)"
   ]
  },
  {
   "cell_type": "markdown",
   "metadata": {},
   "source": [
    "## Задание 3"
   ]
  },
  {
   "cell_type": "markdown",
   "metadata": {},
   "source": [
    "1. Создайте целочисленную переменную a, равную десяти, выведите в консоль ее значение и тип.\n",
    "2. Создайте переменную с плавающей запятой b, также равную десяти, выведите в консоль ее значение и тип. \n",
    "3. Создайте строковую переменную с, равную восьми, выведите в консоль ее значение и тип. \n",
    "4. Возведите в квадрат переменную a и сложите ее с переменной b, и из полученного значения извлеките квадратный корень. Присвойте значение этого выражения переменной x.\n",
    "6. Сложите переменную x с переменной c, найдите остаток от деления на 2 и присвойте это значение переменной y.\n",
    "7. Выведите идентификаторы полученных переменных (id()) и сравните их\n",
    "8. Выполните шаги 1..6, но предварительно преобразуйте переменную b в int."
   ]
  },
  {
   "cell_type": "code",
   "execution_count": 25,
   "metadata": {},
   "outputs": [
    {
     "data": {
      "text/plain": [
       "(10, int)"
      ]
     },
     "execution_count": 25,
     "metadata": {},
     "output_type": "execute_result"
    }
   ],
   "source": [
    "a = 10\n",
    "\n",
    "a, type(a)"
   ]
  },
  {
   "cell_type": "code",
   "execution_count": 34,
   "metadata": {},
   "outputs": [
    {
     "data": {
      "text/plain": [
       "(10.0, float)"
      ]
     },
     "execution_count": 34,
     "metadata": {},
     "output_type": "execute_result"
    }
   ],
   "source": [
    "b = 10.0\n",
    "\n",
    "b, type(b)"
   ]
  },
  {
   "cell_type": "code",
   "execution_count": 35,
   "metadata": {},
   "outputs": [
    {
     "data": {
      "text/plain": [
       "10.488088481701515"
      ]
     },
     "execution_count": 35,
     "metadata": {},
     "output_type": "execute_result"
    }
   ],
   "source": [
    "x = (a**2 + b)**0.5\n",
    "\n",
    "x"
   ]
  },
  {
   "cell_type": "code",
   "execution_count": 36,
   "metadata": {},
   "outputs": [
    {
     "data": {
      "text/plain": [
       "1.588088481701515"
      ]
     },
     "execution_count": 36,
     "metadata": {},
     "output_type": "execute_result"
    }
   ],
   "source": [
    "y = (x + c) % 2\n",
    "\n",
    "y"
   ]
  },
  {
   "cell_type": "code",
   "execution_count": 37,
   "metadata": {},
   "outputs": [
    {
     "data": {
      "text/plain": [
       "(2262409952560, 2262409950960, 2262278629968, 2262409952688)"
      ]
     },
     "execution_count": 37,
     "metadata": {},
     "output_type": "execute_result"
    }
   ],
   "source": [
    "id(x), id(y), id(a), id(b)"
   ]
  },
  {
   "cell_type": "code",
   "execution_count": 41,
   "metadata": {},
   "outputs": [
    {
     "data": {
      "text/plain": [
       "(10, 10, 10.488088481701515, 1.588088481701515)"
      ]
     },
     "execution_count": 41,
     "metadata": {},
     "output_type": "execute_result"
    }
   ],
   "source": [
    "a = 10\n",
    "b = int(10.0)\n",
    "x = (a**2 + b)**0.5\n",
    "y = (x + c) % 2\n",
    "\n",
    "a, b, x, y"
   ]
  },
  {
   "cell_type": "code",
   "execution_count": 39,
   "metadata": {},
   "outputs": [
    {
     "data": {
      "text/plain": [
       "(2262409952048, 2262411371056, 2262278629968, 2262278629968)"
      ]
     },
     "execution_count": 39,
     "metadata": {},
     "output_type": "execute_result"
    }
   ],
   "source": [
    "id(x), id(y), id(a), id(b)"
   ]
  },
  {
   "cell_type": "markdown",
   "metadata": {},
   "source": [
    "## Задание 4\n",
    "\n",
    "1. Присвойте строковой переменной s любой текст из нескольких (>2) предложений длиной не менее 20 символов.\n",
    "2. Выведите на экран длину переменной s.\n",
    "3. Приведите весь текст к нижнему регистру, выведите на экран.\n",
    "4. Замените все пробелы в переменной на знак @, выведите на экран.\n",
    "5. Разбейте ваш текст на предложения и выведите их на экран в виде списка\n",
    "6. Проверьте, состоит ли ваше первое предложение только из букв. Выведите результат на экран.\n",
    "7. Выведите на экран второе слово первого предложения вашего текста в обратном порядке.\n",
    "8. Разбейте ваше второе предложение и выведите на экран слова с первого по пятое включительно, через одно."
   ]
  },
  {
   "cell_type": "code",
   "execution_count": 21,
   "metadata": {},
   "outputs": [],
   "source": [
    "s = '''\n",
    "Присвойте строковой переменной s любой текст из нескольких (>2) предложений длиной не менее 20 символов.\n",
    "Выведите на экран длину переменной s.\n",
    "Приведите весь текст к нижнему регистру, выведите на экран.\n",
    "Замените все пробелы в переменной на знак @, выведите на экран.\n",
    "Разбейте ваш текст на предложения и выведите их на экран в виде списка\n",
    "Проверьте, состоит ли ваше первое предложение только из букв. Выведите результат на экран.\n",
    "Выведите на экран второе слово первой строки вашего текста в обратном порядке.\n",
    "Разбейте ваше второе предложение и выведите на экран слова с первого по пятое включительно, через одно.\n",
    "\n",
    "'''"
   ]
  },
  {
   "cell_type": "code",
   "execution_count": 22,
   "metadata": {},
   "outputs": [
    {
     "data": {
      "text/plain": [
       "614"
      ]
     },
     "execution_count": 22,
     "metadata": {},
     "output_type": "execute_result"
    }
   ],
   "source": [
    "len(s)"
   ]
  },
  {
   "cell_type": "code",
   "execution_count": 23,
   "metadata": {},
   "outputs": [
    {
     "data": {
      "text/plain": [
       "'\\nприсвойте строковой переменной s любой текст из нескольких (>2) предложений длиной не менее 20 символов.\\nвыведите на экран длину переменной s.\\nприведите весь текст к нижнему регистру, выведите на экран.\\nзамените все пробелы в переменной на знак @, выведите на экран.\\nразбейте ваш текст на предложения и выведите их на экран в виде списка\\nпроверьте, состоит ли ваше первое предложение только из букв. выведите результат на экран.\\nвыведите на экран второе слово первой строки вашего текста в обратном порядке.\\nразбейте ваше второе предложение и выведите на экран слова с первого по пятое включительно, через одно.\\n\\n'"
      ]
     },
     "execution_count": 23,
     "metadata": {},
     "output_type": "execute_result"
    }
   ],
   "source": [
    "s.lower()"
   ]
  },
  {
   "cell_type": "code",
   "execution_count": 24,
   "metadata": {},
   "outputs": [
    {
     "data": {
      "text/plain": [
       "'Присвойте строковой переменной s любой текст из нескольких (>2) предложений длиной не менее 20 символов.Выведите на экран длину переменной s.Приведите весь текст к нижнему регистру, выведите на экран.Замените все пробелы в переменной на знак @, выведите на экран.Разбейте ваш текст на предложения и выведите их на экран в виде спискаПроверьте, состоит ли ваше первое предложение только из букв. Выведите результат на экран.Выведите на экран второе слово первой строки вашего текста в обратном порядке.Разбейте ваше второе предложение и выведите на экран слова с первого по пятое включительно, через одно.'"
      ]
     },
     "execution_count": 24,
     "metadata": {},
     "output_type": "execute_result"
    }
   ],
   "source": [
    "s.replace('\\n','')"
   ]
  },
  {
   "cell_type": "code",
   "execution_count": 25,
   "metadata": {},
   "outputs": [
    {
     "data": {
      "text/plain": [
       "'\\nПрисвойте@строковой@переменной@s@любой@текст@из@нескольких@(>2)@предложений@длиной@не@менее@20@символов.\\nВыведите@на@экран@длину@переменной@s.\\nПриведите@весь@текст@к@нижнему@регистру,@выведите@на@экран.\\nЗамените@все@пробелы@в@переменной@на@знак@@,@выведите@на@экран.\\nРазбейте@ваш@текст@на@предложения@и@выведите@их@на@экран@в@виде@списка\\nПроверьте,@состоит@ли@ваше@первое@предложение@только@из@букв.@Выведите@результат@на@экран.\\nВыведите@на@экран@второе@слово@первой@строки@вашего@текста@в@обратном@порядке.\\nРазбейте@ваше@второе@предложение@и@выведите@на@экран@слова@с@первого@по@пятое@включительно,@через@одно.\\n\\n'"
      ]
     },
     "execution_count": 25,
     "metadata": {},
     "output_type": "execute_result"
    }
   ],
   "source": [
    "s.replace(' ','@')"
   ]
  },
  {
   "cell_type": "code",
   "execution_count": 27,
   "metadata": {},
   "outputs": [
    {
     "data": {
      "text/plain": [
       "['\\nПрисвойте строковой переменной s любой текст из нескольких (>2) предложений длиной не менее 20 символов',\n",
       " '\\nВыведите на экран длину переменной s',\n",
       " '\\nПриведите весь текст к нижнему регистру, выведите на экран',\n",
       " '\\nЗамените все пробелы в переменной на знак @, выведите на экран',\n",
       " '\\nРазбейте ваш текст на предложения и выведите их на экран в виде списка\\nПроверьте, состоит ли ваше первое предложение только из букв',\n",
       " ' Выведите результат на экран',\n",
       " '\\nВыведите на экран второе слово первой строки вашего текста в обратном порядке',\n",
       " '\\nРазбейте ваше второе предложение и выведите на экран слова с первого по пятое включительно, через одно',\n",
       " '\\n\\n']"
      ]
     },
     "execution_count": 27,
     "metadata": {},
     "output_type": "execute_result"
    }
   ],
   "source": [
    "s.split('.')"
   ]
  },
  {
   "cell_type": "code",
   "execution_count": 18,
   "metadata": {},
   "outputs": [
    {
     "data": {
      "text/plain": [
       "False"
      ]
     },
     "execution_count": 18,
     "metadata": {},
     "output_type": "execute_result"
    }
   ],
   "source": [
    "s.replace('@','').isalpha()"
   ]
  },
  {
   "cell_type": "code",
   "execution_count": 19,
   "metadata": {},
   "outputs": [
    {
     "data": {
      "text/plain": [
       "False"
      ]
     },
     "execution_count": 19,
     "metadata": {},
     "output_type": "execute_result"
    }
   ],
   "source": [
    "s.replace('\\n','').replace('@','').replace('>','').isalnum()"
   ]
  },
  {
   "cell_type": "code",
   "execution_count": 20,
   "metadata": {},
   "outputs": [
    {
     "data": {
      "text/plain": [
       "'Присвойте строковой переменной s любой текст из нескольких (>2) предложений длиной не менее 20 символов'"
      ]
     },
     "execution_count": 20,
     "metadata": {},
     "output_type": "execute_result"
    }
   ],
   "source": [
    "s.replace('\\n','').split('.')[0]"
   ]
  },
  {
   "cell_type": "code",
   "execution_count": 28,
   "metadata": {},
   "outputs": [
    {
     "data": {
      "text/plain": [
       "'йовокортс'"
      ]
     },
     "execution_count": 28,
     "metadata": {},
     "output_type": "execute_result"
    }
   ],
   "source": [
    "s.replace('\\n','').split('.')[0].split()[1][::-1]"
   ]
  },
  {
   "cell_type": "code",
   "execution_count": 89,
   "metadata": {},
   "outputs": [
    {
     "data": {
      "text/plain": [
       "'Выведите на экран длину переменной s'"
      ]
     },
     "execution_count": 89,
     "metadata": {},
     "output_type": "execute_result"
    }
   ],
   "source": [
    "s.replace('\\n','').split('.')[1]"
   ]
  },
  {
   "cell_type": "code",
   "execution_count": 90,
   "metadata": {},
   "outputs": [
    {
     "data": {
      "text/plain": [
       "['на', 'длину', 's']"
      ]
     },
     "execution_count": 90,
     "metadata": {},
     "output_type": "execute_result"
    }
   ],
   "source": [
    "s.replace('\\n','').split('.')[1].split()[1:6:2]"
   ]
  },
  {
   "cell_type": "code",
   "execution_count": 29,
   "metadata": {},
   "outputs": [
    {
     "data": {
      "text/plain": [
       "104"
      ]
     },
     "execution_count": 29,
     "metadata": {},
     "output_type": "execute_result"
    }
   ],
   "source": [
    "len(list(s.split('.')[0])) # количество символов в предложении"
   ]
  },
  {
   "cell_type": "code",
   "execution_count": 30,
   "metadata": {},
   "outputs": [
    {
     "data": {
      "text/plain": [
       "29"
      ]
     },
     "execution_count": 30,
     "metadata": {},
     "output_type": "execute_result"
    }
   ],
   "source": [
    "len(set(list(s.split('.')[0]))) # количество уникальных символов в предложении"
   ]
  },
  {
   "cell_type": "markdown",
   "metadata": {},
   "source": [
    "## Задание 5"
   ]
  },
  {
   "cell_type": "markdown",
   "metadata": {},
   "source": [
    "1. Создайте два множества st1 и st2, каждое из которых заполните 10 случайными (модуль random функция randint) целочисленными значениями от 0 до 20.\n",
    "2. Выведите в консоль длины множеств.\n",
    "3. Выведите в консоль элементы, которые есть в множестве st1, но нет в st2.\n",
    "4. Выведите в консоль элементы, которые встречаются только в одном множестве.\n",
    "5. Выведите элементы, которые встречаются в обоих множествах."
   ]
  },
  {
   "cell_type": "code",
   "execution_count": 16,
   "metadata": {},
   "outputs": [],
   "source": [
    "import random"
   ]
  },
  {
   "cell_type": "code",
   "execution_count": 17,
   "metadata": {},
   "outputs": [
    {
     "data": {
      "text/plain": [
       "({0, 2, 5, 10, 17, 18, 19}, {2, 7, 8, 11, 12, 13, 16, 18})"
      ]
     },
     "execution_count": 17,
     "metadata": {},
     "output_type": "execute_result"
    }
   ],
   "source": [
    "st1 = {random.randint(0, 20) for i in range(10)}\n",
    "st2 = {random.randint(0, 20) for i in range(10)}\n",
    "\n",
    "st1, st2"
   ]
  },
  {
   "cell_type": "code",
   "execution_count": 16,
   "metadata": {},
   "outputs": [
    {
     "data": {
      "text/plain": [
       "(9, 7)"
      ]
     },
     "execution_count": 16,
     "metadata": {},
     "output_type": "execute_result"
    }
   ],
   "source": [
    "len(st1), len(st2)"
   ]
  },
  {
   "cell_type": "code",
   "execution_count": 17,
   "metadata": {},
   "outputs": [
    {
     "data": {
      "text/plain": [
       "{0, 2, 3, 9, 16, 17, 20}"
      ]
     },
     "execution_count": 17,
     "metadata": {},
     "output_type": "execute_result"
    }
   ],
   "source": [
    "st1 - st2"
   ]
  },
  {
   "cell_type": "code",
   "execution_count": 18,
   "metadata": {},
   "outputs": [
    {
     "data": {
      "text/plain": [
       "{0, 1, 2, 3, 4, 9, 13, 15, 16, 17, 19, 20}"
      ]
     },
     "execution_count": 18,
     "metadata": {},
     "output_type": "execute_result"
    }
   ],
   "source": [
    "st1 ^ st2"
   ]
  },
  {
   "cell_type": "code",
   "execution_count": 20,
   "metadata": {},
   "outputs": [
    {
     "data": {
      "text/plain": [
       "{0, 1, 2, 3, 4, 5, 6, 9, 13, 15, 16, 17, 19, 20}"
      ]
     },
     "execution_count": 20,
     "metadata": {},
     "output_type": "execute_result"
    }
   ],
   "source": [
    "st1 | st2"
   ]
  },
  {
   "cell_type": "markdown",
   "metadata": {
    "tags": []
   },
   "source": [
    "## Задание 6\n",
    "\n",
    "1. Создайте словарь employees, где ключом будет выступать кортеж из имени и фамилии сотрудника, а значениями – словарь из возраста (‘age’) и должности (‘position’)\n",
    "2. Добавьте еще одного сотрудника в словарь\n",
    "3. Выведите на экран запрос несуществующего сотрудника, чтобы запрос вернул (None)\n",
    "4. Выведите на экран всех сотрудников\n"
   ]
  },
  {
   "cell_type": "code",
   "execution_count": 32,
   "metadata": {},
   "outputs": [
    {
     "data": {
      "text/plain": [
       "{('иван', 'иванов'): {'age': 35, 'position': 'сотрудник'},\n",
       " ('иван1', 'иванов1'): {'age': 36, 'position': 'сотрудник'},\n",
       " ('иван2', 'иванов2'): {'age': 37, 'position': 'сотрудник'},\n",
       " ('иван3', 'иванов3'): {'age': 38, 'position': 'сотрудник'}}"
      ]
     },
     "execution_count": 32,
     "metadata": {},
     "output_type": "execute_result"
    }
   ],
   "source": [
    "employees = {\n",
    "    ('иван', 'иванов'): {'age': 35, 'position': 'сотрудник'},\n",
    "    ('иван1', 'иванов1'): {'age': 36, 'position': 'сотрудник'},\n",
    "    ('иван2', 'иванов2'): {'age': 37, 'position': 'сотрудник'},\n",
    "    ('иван3', 'иванов3'): {'age': 38, 'position': 'сотрудник'},\n",
    "}\n",
    "\n",
    "employees"
   ]
  },
  {
   "cell_type": "code",
   "execution_count": 33,
   "metadata": {},
   "outputs": [
    {
     "data": {
      "text/plain": [
       "{'age': 35, 'position': 'сотрудник'}"
      ]
     },
     "execution_count": 33,
     "metadata": {},
     "output_type": "execute_result"
    }
   ],
   "source": [
    "employees[('иван', 'иванов')]"
   ]
  },
  {
   "cell_type": "code",
   "execution_count": 34,
   "metadata": {},
   "outputs": [],
   "source": [
    "employees.update({('Алексей', 'Петров'): {'age': 40, 'position': 'сотрудник1'}})"
   ]
  },
  {
   "cell_type": "code",
   "execution_count": 35,
   "metadata": {},
   "outputs": [
    {
     "data": {
      "text/plain": [
       "{('иван', 'иванов'): {'age': 35, 'position': 'сотрудник'},\n",
       " ('иван1', 'иванов1'): {'age': 36, 'position': 'сотрудник'},\n",
       " ('иван2', 'иванов2'): {'age': 37, 'position': 'сотрудник'},\n",
       " ('иван3', 'иванов3'): {'age': 38, 'position': 'сотрудник'},\n",
       " ('Алексей', 'Петров'): {'age': 40, 'position': 'сотрудник1'}}"
      ]
     },
     "execution_count": 35,
     "metadata": {},
     "output_type": "execute_result"
    }
   ],
   "source": [
    "employees"
   ]
  },
  {
   "cell_type": "code",
   "execution_count": 36,
   "metadata": {},
   "outputs": [
    {
     "ename": "KeyError",
     "evalue": "('иван', 'иван9999999ов')",
     "output_type": "error",
     "traceback": [
      "\u001b[1;31m---------------------------------------------------------------------------\u001b[0m",
      "\u001b[1;31mKeyError\u001b[0m                                  Traceback (most recent call last)",
      "\u001b[1;32mC:\\Users\\ASKORO~1\\AppData\\Local\\Temp/ipykernel_39944/722999618.py\u001b[0m in \u001b[0;36m<module>\u001b[1;34m\u001b[0m\n\u001b[1;32m----> 1\u001b[1;33m \u001b[0memployees\u001b[0m\u001b[1;33m[\u001b[0m\u001b[1;33m(\u001b[0m\u001b[1;34m'иван'\u001b[0m\u001b[1;33m,\u001b[0m \u001b[1;34m'иван9999999ов'\u001b[0m\u001b[1;33m)\u001b[0m\u001b[1;33m]\u001b[0m\u001b[1;33m\u001b[0m\u001b[1;33m\u001b[0m\u001b[0m\n\u001b[0m",
      "\u001b[1;31mKeyError\u001b[0m: ('иван', 'иван9999999ов')"
     ]
    }
   ],
   "source": [
    "employees[('иван', 'иван9999999ов')]"
   ]
  },
  {
   "cell_type": "code",
   "execution_count": 37,
   "metadata": {},
   "outputs": [
    {
     "name": "stdout",
     "output_type": "stream",
     "text": [
      "иван иванов\n",
      "иван1 иванов1\n",
      "иван2 иванов2\n",
      "иван3 иванов3\n",
      "Алексей Петров\n"
     ]
    }
   ],
   "source": [
    "for key in employees.keys():\n",
    "    print(\" \".join(key))"
   ]
  },
  {
   "cell_type": "markdown",
   "metadata": {},
   "source": [
    "## Задание 7\n",
    "\n",
    "1. Используйте ваш словарь employees из задания 6, добавьте каждому сотруднику в словарь его параметров параметр «зарплата» (‘salary’) с произвольными целочисленными значениями.\n",
    "2. Найдите (for) самого низкооплачиваемого и высокооплачиваемого сотрудника, выведите на экран (например, “Петров получает 100000, а Сидоров 10000”). Для форматирования можно воспользоваться f-string:\n",
    "3. Повышайте зарплату самому низкооплачиваемому сотруднику до тех пор, пока (while) она не сравняется или не станет выше зарплаты самого высокооплачиваемого сотрудника. Шаг повышения зарплаты должен быть равен одной десятой разницы между зарплатами указанных сотрудников. После каждого повышения выводите на экран новую зарплату, а в конце – увольте сотрудника путем удаления его из словаря.\n"
   ]
  },
  {
   "cell_type": "code",
   "execution_count": 38,
   "metadata": {},
   "outputs": [
    {
     "data": {
      "text/plain": [
       "{('иван', 'иванов'): {'age': 35, 'position': 'сотрудник'},\n",
       " ('иван1', 'иванов1'): {'age': 36, 'position': 'сотрудник'},\n",
       " ('иван2', 'иванов2'): {'age': 37, 'position': 'сотрудник'},\n",
       " ('иван3', 'иванов3'): {'age': 38, 'position': 'сотрудник'},\n",
       " ('Алексей', 'Петров'): {'age': 40, 'position': 'сотрудник1'}}"
      ]
     },
     "execution_count": 38,
     "metadata": {},
     "output_type": "execute_result"
    }
   ],
   "source": [
    "employees"
   ]
  },
  {
   "cell_type": "code",
   "execution_count": 39,
   "metadata": {},
   "outputs": [
    {
     "data": {
      "text/plain": [
       "{('иван', 'иванов'): {'age': 35, 'position': 'сотрудник', 'salary': 59984},\n",
       " ('иван1', 'иванов1'): {'age': 36, 'position': 'сотрудник', 'salary': 79110},\n",
       " ('иван2', 'иванов2'): {'age': 37, 'position': 'сотрудник', 'salary': 73764},\n",
       " ('иван3', 'иванов3'): {'age': 38, 'position': 'сотрудник', 'salary': 66740},\n",
       " ('Алексей', 'Петров'): {'age': 40, 'position': 'сотрудник1', 'salary': 90029}}"
      ]
     },
     "execution_count": 39,
     "metadata": {},
     "output_type": "execute_result"
    }
   ],
   "source": [
    "import random\n",
    "\n",
    "for key, value in employees.items():\n",
    "    employees[key]['salary'] = random.randint(50_000, 100_000)\n",
    "    \n",
    "employees"
   ]
  },
  {
   "cell_type": "code",
   "execution_count": 40,
   "metadata": {},
   "outputs": [
    {
     "name": "stdout",
     "output_type": "stream",
     "text": [
      "Петров получает 90029 р, а иванов получает 59984!\n"
     ]
    }
   ],
   "source": [
    "key_max = None\n",
    "key_min = None\n",
    "\n",
    "salary_min = 100_000\n",
    "salary_max = 0\n",
    "\n",
    "for key, value in employees.items():\n",
    "    \n",
    "    if value['salary'] > salary_max:\n",
    "        key_max = key\n",
    "        salary_max = value['salary']\n",
    "        \n",
    "\n",
    "    if value['salary'] < salary_min:\n",
    "        key_min = key\n",
    "        salary_min = value['salary']\n",
    "        \n",
    "print(f\"{key_max[1]} получает {salary_max} р, а {key_min[1]} получает \"\n",
    "      f\"{employees[key_min]['salary']}!\")        "
   ]
  },
  {
   "cell_type": "code",
   "execution_count": 41,
   "metadata": {},
   "outputs": [
    {
     "name": "stdout",
     "output_type": "stream",
     "text": [
      "шаг повышения ЗП: 3004\n",
      "62988\n",
      "65992\n",
      "68996\n",
      "72000\n",
      "75004\n",
      "78008\n",
      "81012\n",
      "84016\n",
      "87020\n",
      "90024\n",
      "93028\n"
     ]
    },
    {
     "data": {
      "text/plain": [
       "{('иван1', 'иванов1'): {'age': 36, 'position': 'сотрудник', 'salary': 79110},\n",
       " ('иван2', 'иванов2'): {'age': 37, 'position': 'сотрудник', 'salary': 73764},\n",
       " ('иван3', 'иванов3'): {'age': 38, 'position': 'сотрудник', 'salary': 66740},\n",
       " ('Алексей', 'Петров'): {'age': 40, 'position': 'сотрудник1', 'salary': 90029}}"
      ]
     },
     "execution_count": 41,
     "metadata": {},
     "output_type": "execute_result"
    }
   ],
   "source": [
    "delta = round(0.1 * (salary_max - salary_min))\n",
    "print('шаг повышения ЗП:', delta)\n",
    "\n",
    "while employees[key_min]['salary'] < employees[key_max]['salary']:\n",
    "    employees[key_min]['salary'] = employees[key_min]['salary'] + delta\n",
    "    print(employees[key_min]['salary'])\n",
    "    \n",
    "employees.pop(key_min)\n",
    "employees"
   ]
  },
  {
   "cell_type": "markdown",
   "metadata": {},
   "source": [
    "## Задание 8\n",
    "\n",
    "1. При помощи list comprehension создайте список из целочисленных значений от 1 до 20.\n",
    "2. При помощи list comprehension создайте список из целочисленных значений от 1 до 20, но только нечетные числа.\n",
    "3. При помощи dict comprehension создайте новый словарь из словаря employees, где ключом будет фамилия, а значением – должность сотрудника.\n",
    "4. При помощи dict comprehension создайте новый словарь из словаря employees, где ключом будет фамилия, а значением – должность сотрудника, если его зарплата больше 50000.\n"
   ]
  },
  {
   "cell_type": "code",
   "execution_count": 42,
   "metadata": {},
   "outputs": [
    {
     "data": {
      "text/plain": [
       "[1, 2, 3, 4, 5, 6, 7, 8, 9, 10, 11, 12, 13, 14, 15, 16, 17, 18, 19, 20]"
      ]
     },
     "execution_count": 42,
     "metadata": {},
     "output_type": "execute_result"
    }
   ],
   "source": [
    "[i for i in range(1,21)]"
   ]
  },
  {
   "cell_type": "code",
   "execution_count": 44,
   "metadata": {},
   "outputs": [
    {
     "data": {
      "text/plain": [
       "[1, 3, 5, 7, 9, 11, 13, 15, 17, 19]"
      ]
     },
     "execution_count": 44,
     "metadata": {},
     "output_type": "execute_result"
    }
   ],
   "source": [
    "[i for i in range(1,21) if i%2==1]"
   ]
  },
  {
   "cell_type": "code",
   "execution_count": 50,
   "metadata": {},
   "outputs": [
    {
     "data": {
      "text/plain": [
       "{('иван1', 'иванов1'): {'age': 36, 'position': 'сотрудник', 'salary': 79110},\n",
       " ('иван2', 'иванов2'): {'age': 37, 'position': 'сотрудник', 'salary': 73764},\n",
       " ('иван3', 'иванов3'): {'age': 38, 'position': 'сотрудник', 'salary': 66740},\n",
       " ('Алексей', 'Петров'): {'age': 40, 'position': 'сотрудник1', 'salary': 90029}}"
      ]
     },
     "execution_count": 50,
     "metadata": {},
     "output_type": "execute_result"
    }
   ],
   "source": [
    "employees"
   ]
  },
  {
   "cell_type": "code",
   "execution_count": 48,
   "metadata": {},
   "outputs": [
    {
     "data": {
      "text/plain": [
       "{'иванов1': 'сотрудник',\n",
       " 'иванов2': 'сотрудник',\n",
       " 'иванов3': 'сотрудник',\n",
       " 'Петров': 'сотрудник1'}"
      ]
     },
     "execution_count": 48,
     "metadata": {},
     "output_type": "execute_result"
    }
   ],
   "source": [
    "{key[1]: value['position'] for key, value in employees.items()}"
   ]
  },
  {
   "cell_type": "code",
   "execution_count": 49,
   "metadata": {},
   "outputs": [
    {
     "data": {
      "text/plain": [
       "{'иванов1': 'сотрудник',\n",
       " 'иванов2': 'сотрудник',\n",
       " 'иванов3': 'сотрудник',\n",
       " 'Петров': 'сотрудник1'}"
      ]
     },
     "execution_count": 49,
     "metadata": {},
     "output_type": "execute_result"
    }
   ],
   "source": [
    "{key[1]: value['position'] for key, value in employees.items() if value['salary']>50000}"
   ]
  },
  {
   "cell_type": "markdown",
   "metadata": {},
   "source": [
    "## Задание 9\n",
    "\n",
    "1. Создайте функцию calculate_bmi(), которая рассчитывает индекс массы тела (ИМТ, bmi). На вход функция будет принимать вес (weight: float) в килограммах и рост (height: float) в метрах.\n",
    "2. Предусмотрите проверку отрицательных, нулевых и нечисловых значений для аргументов функции. В случае некорректных входных аргументов необходимо вывести на экран, например «Вес и/или рост имеют некорректные значения!», и остановить выполнение функции.\n",
    "3. ИМТ – отношение массы человека к квадрату его роста. Функция должна возвращать значение ИМТ и выводить его на экран."
   ]
  },
  {
   "cell_type": "code",
   "execution_count": 23,
   "metadata": {},
   "outputs": [],
   "source": [
    "def calculate_bmi(weight, height):\n",
    "    if type(weight) in [int, float] and type(height) in [int, float] and \\\n",
    "        weight > 0 and height > 0:\n",
    "        \n",
    "        return weight / height**2\n",
    "\n",
    "    else:\n",
    "        print(\"Вес и/или рост имеют некорректные значения!\")\n",
    "        return"
   ]
  },
  {
   "cell_type": "code",
   "execution_count": 24,
   "metadata": {},
   "outputs": [
    {
     "data": {
      "text/plain": [
       "12.5"
      ]
     },
     "execution_count": 24,
     "metadata": {},
     "output_type": "execute_result"
    }
   ],
   "source": [
    "calculate_bmi(50, 2)"
   ]
  },
  {
   "cell_type": "markdown",
   "metadata": {},
   "source": [
    "## Задание 10\n",
    "1. Для словаря employees из предыдущей части напишите функцию change_currency(), которая будет переводить зарплату работников в доллары. \n",
    "2. В качестве параметров функции нужно передать валюту (“currency”) и обменный курс (“exchange_rate”), новое значение зарплаты будет вычисляться как текущее значение salary, умноженное на exchange_rate.\n",
    "3. Для того, чтобы понимать в какой валюте работник получает зарплату, нужно добавить в словарь каждого сотрудника ключ “currency”, изначально равный “rub”. При смене валюты значение ключа меняется на соответствующую валюту (например, “usd”).\n",
    "4. Также напишите функцию show_salary(), которая будет принимать на вход элемент словаря employees и выводить на экран сообщение формата: {должность} {фамилия} получает {зарплата} {валюта}."
   ]
  },
  {
   "cell_type": "code",
   "execution_count": 26,
   "metadata": {},
   "outputs": [
    {
     "data": {
      "text/plain": [
       "{('иван', 'иванов'): {'age': 35, 'position': 'сотрудник', 'salary': 59984},\n",
       " ('иван1', 'иванов1'): {'age': 36, 'position': 'сотрудник', 'salary': 79110},\n",
       " ('иван2', 'иванов2'): {'age': 37, 'position': 'сотрудник', 'salary': 73764},\n",
       " ('иван3', 'иванов3'): {'age': 38, 'position': 'сотрудник', 'salary': 66740},\n",
       " ('Алексей', 'Петров'): {'age': 40, 'position': 'сотрудник1', 'salary': 90029}}"
      ]
     },
     "execution_count": 26,
     "metadata": {},
     "output_type": "execute_result"
    }
   ],
   "source": [
    "employees = {('иван', 'иванов'): {'age': 35, 'position': 'сотрудник', 'salary': 59984},\n",
    " ('иван1', 'иванов1'): {'age': 36, 'position': 'сотрудник', 'salary': 79110},\n",
    " ('иван2', 'иванов2'): {'age': 37, 'position': 'сотрудник', 'salary': 73764},\n",
    " ('иван3', 'иванов3'): {'age': 38, 'position': 'сотрудник', 'salary': 66740},\n",
    " ('Алексей', 'Петров'): {'age': 40, 'position': 'сотрудник1', 'salary': 90029}}\n",
    "\n",
    "employees"
   ]
  },
  {
   "cell_type": "code",
   "execution_count": 27,
   "metadata": {},
   "outputs": [],
   "source": [
    "def change_currency(employee, currency, exchange_rate):\n",
    "\n",
    "    if employee.setdefault('currency', 'rub') != currency:\n",
    "        employee['currency'] = currency\n",
    "        employee['salary'] *= exchange_rate\n",
    "\n",
    "    return employee\n",
    "\n",
    "def show_salary(employee, info):\n",
    "    print(f\"{info['position']} {employee[1]} получает {info['salary']} {info['currency']}\")"
   ]
  },
  {
   "cell_type": "code",
   "execution_count": 28,
   "metadata": {},
   "outputs": [
    {
     "name": "stdout",
     "output_type": "stream",
     "text": [
      "сотрудник иванов получает 599.84 usd\n",
      "сотрудник иванов1 получает 791.1 usd\n",
      "сотрудник иванов2 получает 737.64 usd\n",
      "сотрудник иванов3 получает 667.4 usd\n",
      "сотрудник1 Петров получает 900.29 usd\n"
     ]
    }
   ],
   "source": [
    "for key, value in employees.items():\n",
    "    employees[key] = change_currency(value, 'usd', 0.01)\n",
    "    show_salary(key, employees[key])"
   ]
  },
  {
   "cell_type": "markdown",
   "metadata": {},
   "source": [
    "## Задание 11\n",
    "1. Для словаря employees из задания 4 напишите функцию add_employee(), которая будет добавлять сотрудников в исходный словарь. \n",
    "2. В качестве обязательных параметров в функцию нужно передать исходный словарь (employees: dict), имя (name: str), фамилию (surname: str), должность (position: str), возраст (age: int), в качестве необязательных параметров – зарплату (salary: float, по умолчанию 50000) и валюту (currency: str, по умолчанию “rub”), в которой выплачивается зарплата.\n",
    "3. Функция должна добавлять сотрудника в исходный словарь в принятом для словаря формате. Если добавляемый сотрудник уже существует в исходном словаре, следует вывести на экран предупреждение и прекратить выполнение функции.\n",
    "4. Также напишите функцию fire_employee(), которая будет удалять сотрудника по его имени и фамилии. Если указанный сотрудник отсутствует, следует вывести на экран предупреждение и прекратить выполнение функции."
   ]
  },
  {
   "cell_type": "code",
   "execution_count": 29,
   "metadata": {},
   "outputs": [],
   "source": [
    "def add_employee(employees, name, surname, position, age, salary=50000, currency='rub'):\n",
    "    \n",
    "    if (name, surname) in employees.keys():\n",
    "        print(\"Сотрудник уже есть!\")\n",
    "        return\n",
    "    \n",
    "    employees[(name, surname)] = {\n",
    "        'age': age, \n",
    "        'position': position, \n",
    "        'salary': salary,\n",
    "        'currency': currency\n",
    "        }\n",
    "\n",
    "def fire_employee(employees, key):\n",
    "    if key not in employees.keys():\n",
    "        print('Такого сотрудника нет')\n",
    "        return\n",
    "        \n",
    "    employees.pop(key)"
   ]
  },
  {
   "cell_type": "code",
   "execution_count": 30,
   "metadata": {},
   "outputs": [
    {
     "data": {
      "text/plain": [
       "{('иван', 'иванов'): {'age': 35,\n",
       "  'position': 'сотрудник',\n",
       "  'salary': 599.84,\n",
       "  'currency': 'usd'},\n",
       " ('иван1', 'иванов1'): {'age': 36,\n",
       "  'position': 'сотрудник',\n",
       "  'salary': 791.1,\n",
       "  'currency': 'usd'},\n",
       " ('иван2', 'иванов2'): {'age': 37,\n",
       "  'position': 'сотрудник',\n",
       "  'salary': 737.64,\n",
       "  'currency': 'usd'},\n",
       " ('иван3', 'иванов3'): {'age': 38,\n",
       "  'position': 'сотрудник',\n",
       "  'salary': 667.4,\n",
       "  'currency': 'usd'},\n",
       " ('Алексей', 'Петров'): {'age': 40,\n",
       "  'position': 'сотрудник1',\n",
       "  'salary': 900.29,\n",
       "  'currency': 'usd'}}"
      ]
     },
     "execution_count": 30,
     "metadata": {},
     "output_type": "execute_result"
    }
   ],
   "source": [
    "employees"
   ]
  },
  {
   "cell_type": "code",
   "execution_count": 31,
   "metadata": {},
   "outputs": [
    {
     "data": {
      "text/plain": [
       "{('иван', 'иванов'): {'age': 35,\n",
       "  'position': 'сотрудник',\n",
       "  'salary': 599.84,\n",
       "  'currency': 'usd'},\n",
       " ('иван1', 'иванов1'): {'age': 36,\n",
       "  'position': 'сотрудник',\n",
       "  'salary': 791.1,\n",
       "  'currency': 'usd'},\n",
       " ('иван2', 'иванов2'): {'age': 37,\n",
       "  'position': 'сотрудник',\n",
       "  'salary': 737.64,\n",
       "  'currency': 'usd'},\n",
       " ('иван3', 'иванов3'): {'age': 38,\n",
       "  'position': 'сотрудник',\n",
       "  'salary': 667.4,\n",
       "  'currency': 'usd'},\n",
       " ('Алексей', 'Петров'): {'age': 40,\n",
       "  'position': 'сотрудник1',\n",
       "  'salary': 900.29,\n",
       "  'currency': 'usd'},\n",
       " ('ivan', 'ivanov'): {'age': 22,\n",
       "  'position': 'engineer',\n",
       "  'salary': 50000,\n",
       "  'currency': 'rub'}}"
      ]
     },
     "execution_count": 31,
     "metadata": {},
     "output_type": "execute_result"
    }
   ],
   "source": [
    "add_employee(employees, 'ivan', 'ivanov', 'engineer', 22, )\n",
    "employees"
   ]
  },
  {
   "cell_type": "code",
   "execution_count": 32,
   "metadata": {},
   "outputs": [
    {
     "data": {
      "text/plain": [
       "{('иван', 'иванов'): {'age': 35,\n",
       "  'position': 'сотрудник',\n",
       "  'salary': 599.84,\n",
       "  'currency': 'usd'},\n",
       " ('иван1', 'иванов1'): {'age': 36,\n",
       "  'position': 'сотрудник',\n",
       "  'salary': 791.1,\n",
       "  'currency': 'usd'},\n",
       " ('иван2', 'иванов2'): {'age': 37,\n",
       "  'position': 'сотрудник',\n",
       "  'salary': 737.64,\n",
       "  'currency': 'usd'},\n",
       " ('иван3', 'иванов3'): {'age': 38,\n",
       "  'position': 'сотрудник',\n",
       "  'salary': 667.4,\n",
       "  'currency': 'usd'},\n",
       " ('Алексей', 'Петров'): {'age': 40,\n",
       "  'position': 'сотрудник1',\n",
       "  'salary': 900.29,\n",
       "  'currency': 'usd'}}"
      ]
     },
     "execution_count": 32,
     "metadata": {},
     "output_type": "execute_result"
    }
   ],
   "source": [
    "fire_employee(employees, ('ivan', 'ivanov'))\n",
    "employees"
   ]
  },
  {
   "cell_type": "markdown",
   "metadata": {},
   "source": [
    "## Задание 12\n",
    "\n",
    "1. Создайте функцию group_types(), которая будет принимать на вход любое количество позиционных аргументов и группировать их по типу. Аргументы могут быть типов str, int, float, другие типы игнорируются.\n",
    "2. Функция должна возвращать словарь, в котором ключи – это типы данных, а значения –  отсортированные по убыванию значения соответствующих типов."
   ]
  },
  {
   "cell_type": "code",
   "execution_count": 33,
   "metadata": {},
   "outputs": [],
   "source": [
    "def group_types(*args):\n",
    "    result = {'int': [], 'float': [], 'str': []}\n",
    "\n",
    "    for arg in args:\n",
    "        if type(arg)==int:\n",
    "            result['int'].append(arg)\n",
    "        elif type(arg)==float:\n",
    "            result['float'].append(arg)\n",
    "        elif type(arg)==str:\n",
    "            result['str'].append(arg)\n",
    "\n",
    "    for key in result:\n",
    "        result[key] = sorted(result[key], reverse=True)\n",
    "\n",
    "    return result"
   ]
  },
  {
   "cell_type": "code",
   "execution_count": 34,
   "metadata": {},
   "outputs": [
    {
     "data": {
      "text/plain": [
       "{'int': [4, 3, 2], 'float': [99.2, 6.5, 5.0], 'str': ['dog', 'cat', 'bee']}"
      ]
     },
     "execution_count": 34,
     "metadata": {},
     "output_type": "execute_result"
    }
   ],
   "source": [
    "group_types(4, 2, 3, 5.0, 6.5, 99.2, 'cat', 'dog', 'bee')"
   ]
  },
  {
   "cell_type": "markdown",
   "metadata": {},
   "source": [
    "## Задание 13\n",
    "\n",
    "1. При помощи конструкции List Comprehension и модуля random создайте список lst из 1 миллиона случайных целочисленных значений. \n",
    "2. При помощи функции map() и лямбда-выражений сгенерируйте список lst1, в котором каждый элемент будет равен квадратному корню соответствующего значения списка lst.\n",
    "3. Выполните пункт 2, используя цикл for\n",
    "4. Выполните пункт 2, используя List Comprehension \n",
    "5. Сравните время выполнения формирования списка lst1, для этого можно использовать модуль datetime (datetime.datetime.now() – получение текущего времени в формате datetime, времена можно вычитать), выведите на экран время выполнения для каждого варианта.\n",
    "6. При помощи функции filter() и лямбда-выражений сгенерируйте список lst2, в котором будут только те элементы списка lst, которые больше среднего значения списка lst."
   ]
  },
  {
   "cell_type": "code",
   "execution_count": 35,
   "metadata": {},
   "outputs": [
    {
     "name": "stdout",
     "output_type": "stream",
     "text": [
      "240.711 ms\n",
      "201.632 ms\n",
      "171.419 ms\n"
     ]
    }
   ],
   "source": [
    "import random\n",
    "import datetime\n",
    "\n",
    "lst = [random.randint(1, 1000) for i in range(1_000_000)]\n",
    "\n",
    "start_time = datetime.datetime.now()\n",
    "\n",
    "lst1 = []\n",
    "\n",
    "for element in lst:\n",
    "    lst1.append(element**0.5)\n",
    "\n",
    "print((datetime.datetime.now() - start_time).microseconds / 1000, \"ms\")\n",
    "\n",
    "start_time = datetime.datetime.now()\n",
    "\n",
    "lst1 = list(map(lambda x: x**0.5, lst))\n",
    "print((datetime.datetime.now() - start_time).microseconds / 1000, \"ms\")\n",
    "\n",
    "start_time = datetime.datetime.now()\n",
    "lst1 = [x**0.5 for x in lst]\n",
    "print((datetime.datetime.now() - start_time).microseconds / 1000, \"ms\")"
   ]
  },
  {
   "cell_type": "code",
   "execution_count": 36,
   "metadata": {},
   "outputs": [
    {
     "data": {
      "text/plain": [
       "500486"
      ]
     },
     "execution_count": 36,
     "metadata": {},
     "output_type": "execute_result"
    }
   ],
   "source": [
    "lst_mean = sum(lst) / len(lst)\n",
    "\n",
    "lst2 = list(filter(lambda x: x>lst_mean, lst))\n",
    "len(lst2)"
   ]
  },
  {
   "cell_type": "markdown",
   "metadata": {},
   "source": [
    "## Задание 14\n",
    "1. Создайте функцию create_multiplier(factor), которая принимает на вход число, которое будет являться множителем.\n",
    "2. Внутри функции create_multiplier() создайте функцию multiplier(x), которая принимает на вход число, которое нужно умножить на множитель.\n",
    "3. Используя концепцию замыкания функций объявите два объекта double и triple, которые будут ссылаться на функцию create_multiplier, но передавать в нее  разные аргументы: 2 и 3 соответственно.\n",
    "5. Присвойте значения функций double и triple переменным result1 и result2 соответственно. В функции double и triple в качестве аргумента передайте одинаковое число, например, 10.\n"
   ]
  },
  {
   "cell_type": "code",
   "execution_count": 37,
   "metadata": {},
   "outputs": [
    {
     "name": "stdout",
     "output_type": "stream",
     "text": [
      "20\n",
      "30\n"
     ]
    }
   ],
   "source": [
    "def create_multiplier(factor):\n",
    "    # Внешняя функция, которая принимает фактор\n",
    "    def multiplier(x):\n",
    "        # Внутренняя функция, которая умножает x на фактор\n",
    "        return x * factor\n",
    "    return multiplier  # Возвращаем внутреннюю функцию\n",
    "\n",
    "# Создаем две функции для умножения на разные факторы\n",
    "double = create_multiplier(2)\n",
    "triple = create_multiplier(3)\n",
    "\n",
    "# Используем созданные функции\n",
    "result1 = double(10)\n",
    "result2 = triple(10) \n",
    "\n",
    "print(result1)\n",
    "print(result2)"
   ]
  },
  {
   "cell_type": "markdown",
   "metadata": {},
   "source": [
    "## Задание 15"
   ]
  },
  {
   "cell_type": "markdown",
   "metadata": {},
   "source": [
    "1. Напишите собственную функцию get_value_by_key() для получения значения из словаря по ключу.\n",
    "2. Функция должна принимать на вход словарь (dictionary), ключ (key) и значение (def_value, по умолчанию None), которое будет возвращаться, если ключ в словаре отсутствует. Т.е. вести себя схожим образом со стандартной функцией dict.get ().\n",
    "3. В случае, если ключ есть, то функция возвращает его значение.\n",
    "4. В случае, если на вход функции в качестве dictionary передается не словарь, в консоль должно выводиться сообщение о недопустимом аргументе функции, а функция должна возвращать None.\n",
    "5. В случае, если ключ key в словаре отсутствует, функция должна выводить в консоль сообщение, что такого ключа нет, но все равно возвращать значение, указанное в def_value."
   ]
  },
  {
   "cell_type": "code",
   "execution_count": 1,
   "metadata": {},
   "outputs": [
    {
     "data": {
      "text/plain": [
       "'1'"
      ]
     },
     "execution_count": 1,
     "metadata": {},
     "output_type": "execute_result"
    }
   ],
   "source": [
    "def get_value_by_key(dictionary, key, def_value=None):\n",
    "    if type(dictionary) != dict:\n",
    "        print('Недопустимый аргумент функции')\n",
    "        return None\n",
    "    \n",
    "    try:\n",
    "        return dictionary[key]\n",
    "    except KeyError:\n",
    "        print('Такого ключа нет!')\n",
    "        return def_value\n",
    "        \n",
    "get_value_by_key({1: '1', 2: '2'}, 1, 'none')"
   ]
  },
  {
   "cell_type": "code",
   "execution_count": 2,
   "metadata": {},
   "outputs": [
    {
     "name": "stdout",
     "output_type": "stream",
     "text": [
      "Такого ключа нет!\n"
     ]
    },
    {
     "data": {
      "text/plain": [
       "'none'"
      ]
     },
     "execution_count": 2,
     "metadata": {},
     "output_type": "execute_result"
    }
   ],
   "source": [
    "get_value_by_key({1: '1', 2: '2'}, 3, 'none')"
   ]
  },
  {
   "cell_type": "markdown",
   "metadata": {},
   "source": [
    "## Задание 16"
   ]
  },
  {
   "cell_type": "markdown",
   "metadata": {},
   "source": [
    "1. Напишите функцию check_value(), которая будет проверять соответствие переданного ей значения определенным критериям и две функции check_number(), check_str(), в которых будет выполняться обработка исключений.\n",
    "2. На вход функция check_value() будет принимать значение (value), а также неопределенное количество именованных аргументов.\n",
    "3. В случае, если на вход пришло число и среди именованных аргументов есть аргумент limits (список из верхней и нижней границы разрешенного диапазона), должна вызываться функция check_number().\n",
    "4. В случае если на вход пришла строка и среди именованных аргументов есть аргумент lenght (максимальная длина строки), должна вызываться функция check_str().\n",
    "5. Функции check_str() и check_number() должны проверять строку и число на соответствие длине и диапазону соответственно. При превышении максимальной длины строки или выходе числа за диапазон функции должны генерировать исключение AttributeError.\n",
    "6. При возникновении исключения в функции check_value(), исключение нужно обработать и вывести его текст в консоль.\n",
    "7. В любом случае в конце выполнения функции она должна выводить в консоль сообщение о завершенной проверке, значение value и его тип."
   ]
  },
  {
   "cell_type": "code",
   "execution_count": 14,
   "metadata": {},
   "outputs": [
    {
     "name": "stdout",
     "output_type": "stream",
     "text": [
      "Проверка завершена для значения 10 <class 'int'>\n",
      "Значение выходит за диапазон\n",
      "Проверка завершена для значения 12 <class 'int'>\n",
      "Проверка завершена для значения 10 <class 'str'>\n",
      "Проверка завершена для значения 1000 <class 'str'>\n",
      "длина строки больше разрешенной\n",
      "Проверка завершена для значения 1000 <class 'str'>\n"
     ]
    }
   ],
   "source": [
    "def check_str(value, lenght):\n",
    "    if len(value) > lenght:\n",
    "        raise AttributeError(\"длина строки больше разрешенной\")\n",
    "\n",
    "def check_number(value, limits):\n",
    "    if not (limits[0] <= value <= limits[1]):\n",
    "        raise AttributeError('Значение выходит за диапазон')\n",
    "    \n",
    "def check_value(value, **kwargs):\n",
    "    \n",
    "    try:\n",
    "        if type(value) in [int, float] and kwargs.get('limits', False):\n",
    "            check_number(value, kwargs['limits'])\n",
    "\n",
    "        if type(value)==str and kwargs.get('lenght', False):\n",
    "            check_str(value, kwargs['lenght'])\n",
    "            \n",
    "    except AttributeError as exc:\n",
    "        print(exc)\n",
    "        \n",
    "    finally:\n",
    "        print(\"Проверка завершена для значения\", value, type(value))\n",
    "    \n",
    "check_value(10, limits=[1, 11])\n",
    "check_value(12, limits=[1, 11])\n",
    "check_value('10')\n",
    "check_value('1000', lenght=5)\n",
    "check_value('1000', lenght=3)"
   ]
  },
  {
   "cell_type": "markdown",
   "metadata": {},
   "source": [
    "# Домашнее задание"
   ]
  },
  {
   "cell_type": "code",
   "execution_count": 1,
   "metadata": {},
   "outputs": [
    {
     "name": "stdout",
     "output_type": "stream",
     "text": [
      "Alex Ivanov\n"
     ]
    }
   ],
   "source": [
    "from homework_employee import Manager, Engineer\n",
    "\n",
    "manager1 = Manager('Alex', 'Ivanov', 'manager', 33, currency='rub', salary=100_000)\n",
    "print(manager1)"
   ]
  },
  {
   "cell_type": "code",
   "execution_count": 2,
   "metadata": {},
   "outputs": [
    {
     "name": "stdout",
     "output_type": "stream",
     "text": [
      "Сотрудник Alex уже идет к вам.\n"
     ]
    }
   ],
   "source": [
    "manager1()"
   ]
  },
  {
   "cell_type": "code",
   "execution_count": 3,
   "metadata": {},
   "outputs": [
    {
     "name": "stdout",
     "output_type": "stream",
     "text": [
      "100000 rub\n",
      "1000.0 eur\n"
     ]
    }
   ],
   "source": [
    "print(manager1.salary, manager1.currency)\n",
    "manager1.change_currency('eur')\n",
    "print(manager1.salary, manager1.currency)"
   ]
  },
  {
   "cell_type": "code",
   "execution_count": 4,
   "metadata": {},
   "outputs": [
    {
     "name": "stdout",
     "output_type": "stream",
     "text": [
      "Возраст сотрудника не удовлетворяет корп.стандартам\n"
     ]
    }
   ],
   "source": [
    "engineer1 = Engineer('Ivan', 'Popov', 'engineer', 89)"
   ]
  },
  {
   "cell_type": "code",
   "execution_count": 5,
   "metadata": {},
   "outputs": [],
   "source": [
    "manager2 = Manager('Alex', 'Ivanov', 'manager', 33, currency='rub', salary=100_000)"
   ]
  },
  {
   "cell_type": "code",
   "execution_count": 6,
   "metadata": {},
   "outputs": [
    {
     "name": "stdout",
     "output_type": "stream",
     "text": [
      "Некорректное значение возраста, объект не создан\n"
     ]
    }
   ],
   "source": [
    "manager3 = Manager('Alex', 'Ivanov', 'manager', 133, currency='rub', salary=100_000)"
   ]
  },
  {
   "cell_type": "code",
   "execution_count": 7,
   "metadata": {},
   "outputs": [
    {
     "data": {
      "text/plain": [
       "True"
      ]
     },
     "execution_count": 7,
     "metadata": {},
     "output_type": "execute_result"
    }
   ],
   "source": [
    "manager1 == manager2"
   ]
  },
  {
   "cell_type": "code",
   "execution_count": 8,
   "metadata": {},
   "outputs": [
    {
     "data": {
      "text/plain": [
       "['Ivan Popov', 'Petr Petrov']"
      ]
     },
     "execution_count": 8,
     "metadata": {},
     "output_type": "execute_result"
    }
   ],
   "source": [
    "manager1.add_engineer(engineer1)\n",
    "manager1.add_engineer(Engineer('Petr', 'Petrov', 'engineer', 40))\n",
    "[str(engineer) for engineer in manager1.engineers]"
   ]
  },
  {
   "cell_type": "code",
   "execution_count": 9,
   "metadata": {},
   "outputs": [
    {
     "name": "stdout",
     "output_type": "stream",
     "text": [
      "Alex Ivanov\n"
     ]
    }
   ],
   "source": [
    "print(engineer1.manager)"
   ]
  },
  {
   "cell_type": "code",
   "execution_count": 10,
   "metadata": {},
   "outputs": [
    {
     "name": "stdout",
     "output_type": "stream",
     "text": [
      "manager Alex Ivanov получил премию в размере 9000.0 eur\n",
      "engineer Ivan Popov получил премию в размере 5000.0 rub\n",
      "manager Alex Ivanov получил премию в размере 0.0 rub\n"
     ]
    },
    {
     "data": {
      "text/plain": [
       "0.0"
      ]
     },
     "execution_count": 10,
     "metadata": {},
     "output_type": "execute_result"
    }
   ],
   "source": [
    "manager1.give_premium()\n",
    "engineer1.give_premium()\n",
    "manager2.give_premium()"
   ]
  },
  {
   "cell_type": "code",
   "execution_count": null,
   "metadata": {},
   "outputs": [],
   "source": []
  }
 ],
 "metadata": {
  "kernelspec": {
   "display_name": "Python 3 (ipykernel)",
   "language": "python",
   "name": "python3"
  },
  "language_info": {
   "codemirror_mode": {
    "name": "ipython",
    "version": 3
   },
   "file_extension": ".py",
   "mimetype": "text/x-python",
   "name": "python",
   "nbconvert_exporter": "python",
   "pygments_lexer": "ipython3",
   "version": "3.11.5"
  }
 },
 "nbformat": 4,
 "nbformat_minor": 4
}
