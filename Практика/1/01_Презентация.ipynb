{
 "cells": [
  {
   "cell_type": "markdown",
   "metadata": {},
   "source": [
    "<h1> Материалы курса \"Анализ данных в инфромационной безопасности\" </h1>\n",
    "\n",
    "<h2> Ноутбук к презентации \"Основы Python\"</h2>\n",
    "\n",
    "<p>Андрей Скороходов, UDV Group</p>\n",
    "<p>mail: andrei.skorokhodov@udv.group, telegram: @Spongillas</p>"
   ]
  },
  {
   "cell_type": "markdown",
   "metadata": {},
   "source": [
    "# 01. Основы Python"
   ]
  },
  {
   "cell_type": "markdown",
   "metadata": {
    "tags": []
   },
   "source": [
    "## 01.01. Введение"
   ]
  },
  {
   "cell_type": "markdown",
   "metadata": {},
   "source": [
    "Пример кода функции:"
   ]
  },
  {
   "cell_type": "code",
   "execution_count": 1,
   "metadata": {},
   "outputs": [],
   "source": [
    "import random\n",
    "\n",
    "class Person:\n",
    "\n",
    "    def __init__(\n",
    "            self, \n",
    "            name,\n",
    "            gender, \n",
    "            age, \n",
    "            favorite_things, \n",
    "            happyness_level=50\n",
    "            ):\n",
    "        \n",
    "        self.name = name\n",
    "        self.gender = gender\n",
    "        self.age = age\n",
    "        self.favorite_things = favorite_things\n",
    "        self.happyness_level = happyness_level\n",
    "\n",
    "    def make_happier(self):\n",
    "        if self.favorite_things:\n",
    "            thing = random.choice(self.favorite_things)\n",
    "            self.buy_thing(thing)\n",
    "\n",
    "            self.happyness_level = self.happyness_level + 10\n",
    "\n",
    "            if self.gender == 'М':\n",
    "                verb = \"стал\"\n",
    "            else:\n",
    "                verb = \"стала\"\n",
    "\n",
    "            print(f\"{self.name} {verb} счастливее, уровень счастья: {self.happyness_level}\")\n",
    "\n",
    "    def buy_thing(self, thing):\n",
    "        if self.gender == 'М':\n",
    "            verb = \"купил\"\n",
    "        else:\n",
    "            verb = \"купила\"\n",
    "\n",
    "        print(f\"{self.name} {verb} {thing}\")"
   ]
  },
  {
   "cell_type": "code",
   "execution_count": 2,
   "metadata": {},
   "outputs": [
    {
     "name": "stdout",
     "output_type": "stream",
     "text": [
      "Алена купила шоколад\n",
      "Алена стала счастливее, уровень счастья: 60\n"
     ]
    }
   ],
   "source": [
    "person1 = Person('Алена', 'Ж', '30', [\"духи\", \"цветы\", \"шоколад\"])\n",
    "person1.make_happier()"
   ]
  },
  {
   "cell_type": "markdown",
   "metadata": {},
   "source": [
    "## 01.02. Библиотеки (модули, пакеты)"
   ]
  },
  {
   "cell_type": "code",
   "execution_count": 3,
   "metadata": {},
   "outputs": [
    {
     "name": "stdout",
     "output_type": "stream",
     "text": [
      "Текущее время:  2023-09-07 21:06:10.760909\n",
      "Год:  2023\n",
      "Месяц:  9\n",
      "День:  7\n",
      "10 дней назад:  2023-08-28 21:06:10.762862\n"
     ]
    }
   ],
   "source": [
    "import datetime\n",
    "\n",
    "print('Текущее время: ', datetime.datetime.now())\n",
    "print('Год: ', datetime.datetime.now().year)\n",
    "print('Месяц: ', datetime.datetime.now().month)\n",
    "print('День: ', datetime.datetime.now().day)\n",
    "print('10 дней назад: ', datetime.datetime.now() - datetime.timedelta(days=10))"
   ]
  },
  {
   "cell_type": "code",
   "execution_count": 4,
   "metadata": {},
   "outputs": [
    {
     "name": "stdout",
     "output_type": "stream",
     "text": [
      "randint:  7\n",
      "choice:  32\n",
      "random:  0.5438225348073612\n",
      "uniform:  162.58133564034563\n"
     ]
    }
   ],
   "source": [
    "import random\n",
    "\n",
    "print('randint: ', random.randint(1, 10))\n",
    "print('choice: ', random.choice([10, 21, 32, 41, 5, 6, 7]))\n",
    "print('random: ', random.random())\n",
    "print('uniform: ', random.uniform(100,200))"
   ]
  },
  {
   "cell_type": "code",
   "execution_count": 5,
   "metadata": {},
   "outputs": [
    {
     "name": "stdout",
     "output_type": "stream",
     "text": [
      "cos:  0.8775825618903728\n",
      "exp:  7.38905609893065\n",
      "sqrt:  11.0\n",
      "e:  2.718281828459045\n"
     ]
    }
   ],
   "source": [
    "import math\n",
    "\n",
    "print('cos: ', math.cos(0.5))\n",
    "print('exp: ', math.exp(2))\n",
    "print('sqrt: ', math.sqrt(121))\n",
    "print('e: ', math.e)"
   ]
  },
  {
   "cell_type": "code",
   "execution_count": 6,
   "metadata": {},
   "outputs": [
    {
     "data": {
      "text/html": [
       "<div>\n",
       "<style scoped>\n",
       "    .dataframe tbody tr th:only-of-type {\n",
       "        vertical-align: middle;\n",
       "    }\n",
       "\n",
       "    .dataframe tbody tr th {\n",
       "        vertical-align: top;\n",
       "    }\n",
       "\n",
       "    .dataframe thead th {\n",
       "        text-align: right;\n",
       "    }\n",
       "</style>\n",
       "<table border=\"1\" class=\"dataframe\">\n",
       "  <thead>\n",
       "    <tr style=\"text-align: right;\">\n",
       "      <th></th>\n",
       "      <th>Ограничение</th>\n",
       "      <th>Локация</th>\n",
       "    </tr>\n",
       "  </thead>\n",
       "  <tbody>\n",
       "    <tr>\n",
       "      <th>0</th>\n",
       "      <td>60</td>\n",
       "      <td>Город</td>\n",
       "    </tr>\n",
       "    <tr>\n",
       "      <th>1</th>\n",
       "      <td>90</td>\n",
       "      <td>Трасса</td>\n",
       "    </tr>\n",
       "    <tr>\n",
       "      <th>2</th>\n",
       "      <td>40</td>\n",
       "      <td>Ямы</td>\n",
       "    </tr>\n",
       "    <tr>\n",
       "      <th>3</th>\n",
       "      <td>20</td>\n",
       "      <td>Лежачий полицейский</td>\n",
       "    </tr>\n",
       "  </tbody>\n",
       "</table>\n",
       "</div>"
      ],
      "text/plain": [
       "   Ограничение              Локация\n",
       "0           60                Город\n",
       "1           90               Трасса\n",
       "2           40                  Ямы\n",
       "3           20  Лежачий полицейский"
      ]
     },
     "execution_count": 6,
     "metadata": {},
     "output_type": "execute_result"
    }
   ],
   "source": [
    "import pandas\n",
    "\n",
    "data = {\n",
    "  \"Ограничение\": [60, 90, 40, 20],\n",
    "  \"Локация\": ['Город', 'Трасса', 'Ямы', 'Лежачий полицейский']\n",
    "}\n",
    "\n",
    "df = pandas.DataFrame(data)\n",
    "df"
   ]
  },
  {
   "cell_type": "markdown",
   "metadata": {
    "tags": []
   },
   "source": [
    "## 01.03. Структуры и типы данных"
   ]
  },
  {
   "cell_type": "markdown",
   "metadata": {},
   "source": [
    "### 01.03.01. Динамическая типизация"
   ]
  },
  {
   "cell_type": "markdown",
   "metadata": {},
   "source": [
    "- Можно менять типы данных в процессе выполнения программы\n",
    "- Все в Python - объекты, имена переменных содержат ссылки на эти объекты\n",
    "- Для получения типа данных объекта необходимо выполнить команду type(<объект>)\n",
    "- при отсутствии ссылок на объект (переменных, ссылающихся на объект), объект будет удален из памяти"
   ]
  },
  {
   "cell_type": "code",
   "execution_count": 9,
   "metadata": {},
   "outputs": [
    {
     "name": "stdout",
     "output_type": "stream",
     "text": [
      "13 <class 'int'> 0x20eba506ab0\n",
      "24 <class 'int'> 0x20eba506c10\n",
      "some_string <class 'str'> 0x20ec22a51b0\n"
     ]
    }
   ],
   "source": [
    "var1 = 13\n",
    "print(var1, type(var1), hex(id(var1)))\n",
    "\n",
    "var1 = 24\n",
    "print(var1, type(var1), hex(id(var1)))\n",
    "\n",
    "var1 = 'some_string'\n",
    "print(var1, type(var1), hex(id(var1)))\n"
   ]
  },
  {
   "cell_type": "code",
   "execution_count": 10,
   "metadata": {},
   "outputs": [
    {
     "name": "stdout",
     "output_type": "stream",
     "text": [
      "0x20eba506ab0\n",
      "0x20eba506c10\n",
      "0x20ec22a51b0\n"
     ]
    }
   ],
   "source": [
    "print(hex(id(13)))\n",
    "print(hex(id(24)))\n",
    "print(hex(id('some_string')))"
   ]
  },
  {
   "cell_type": "markdown",
   "metadata": {},
   "source": [
    "### 01.03.02. Преобразования типов"
   ]
  },
  {
   "cell_type": "code",
   "execution_count": 11,
   "metadata": {},
   "outputs": [
    {
     "data": {
      "text/plain": [
       "(5.1, float)"
      ]
     },
     "execution_count": 11,
     "metadata": {},
     "output_type": "execute_result"
    }
   ],
   "source": [
    "a = 2\n",
    "b = 3.1\n",
    "c = a + b\n",
    "\n",
    "c, type(c)"
   ]
  },
  {
   "cell_type": "code",
   "execution_count": 12,
   "metadata": {},
   "outputs": [
    {
     "ename": "TypeError",
     "evalue": "unsupported operand type(s) for +: 'int' and 'str'",
     "output_type": "error",
     "traceback": [
      "\u001b[1;31m---------------------------------------------------------------------------\u001b[0m",
      "\u001b[1;31mTypeError\u001b[0m                                 Traceback (most recent call last)",
      "\u001b[1;32mC:\\Users\\ASKORO~1\\AppData\\Local\\Temp/ipykernel_62848/1450308203.py\u001b[0m in \u001b[0;36m<module>\u001b[1;34m\u001b[0m\n\u001b[0;32m      1\u001b[0m \u001b[0mb\u001b[0m \u001b[1;33m=\u001b[0m \u001b[1;34m'3.1'\u001b[0m\u001b[1;33m\u001b[0m\u001b[1;33m\u001b[0m\u001b[0m\n\u001b[1;32m----> 2\u001b[1;33m \u001b[0mc\u001b[0m \u001b[1;33m=\u001b[0m \u001b[0ma\u001b[0m \u001b[1;33m+\u001b[0m \u001b[0mb\u001b[0m\u001b[1;33m\u001b[0m\u001b[1;33m\u001b[0m\u001b[0m\n\u001b[0m",
      "\u001b[1;31mTypeError\u001b[0m: unsupported operand type(s) for +: 'int' and 'str'"
     ]
    }
   ],
   "source": [
    "b = '3.1'\n",
    "c = a + b"
   ]
  },
  {
   "cell_type": "code",
   "execution_count": 15,
   "metadata": {},
   "outputs": [
    {
     "data": {
      "text/plain": [
       "(3.1, 5.1)"
      ]
     },
     "execution_count": 15,
     "metadata": {},
     "output_type": "execute_result"
    }
   ],
   "source": [
    "b = float(b)\n",
    "c = a + b\n",
    "\n",
    "b, c"
   ]
  },
  {
   "cell_type": "code",
   "execution_count": 18,
   "metadata": {},
   "outputs": [
    {
     "data": {
      "text/plain": [
       "3"
      ]
     },
     "execution_count": 18,
     "metadata": {},
     "output_type": "execute_result"
    }
   ],
   "source": [
    "a = int(b)\n",
    "\n",
    "a"
   ]
  },
  {
   "cell_type": "code",
   "execution_count": 21,
   "metadata": {},
   "outputs": [
    {
     "ename": "ValueError",
     "evalue": "invalid literal for int() with base 10: '3.1x'",
     "output_type": "error",
     "traceback": [
      "\u001b[1;31m---------------------------------------------------------------------------\u001b[0m",
      "\u001b[1;31mValueError\u001b[0m                                Traceback (most recent call last)",
      "\u001b[1;32mC:\\Users\\ASKORO~1\\AppData\\Local\\Temp/ipykernel_62848/3769115242.py\u001b[0m in \u001b[0;36m<module>\u001b[1;34m\u001b[0m\n\u001b[1;32m----> 1\u001b[1;33m \u001b[0mb\u001b[0m \u001b[1;33m=\u001b[0m \u001b[0mint\u001b[0m\u001b[1;33m(\u001b[0m\u001b[1;34m\"3.1x\"\u001b[0m\u001b[1;33m)\u001b[0m\u001b[1;33m\u001b[0m\u001b[1;33m\u001b[0m\u001b[0m\n\u001b[0m",
      "\u001b[1;31mValueError\u001b[0m: invalid literal for int() with base 10: '3.1x'"
     ]
    }
   ],
   "source": [
    "b = int(\"3.1x\")"
   ]
  },
  {
   "cell_type": "code",
   "execution_count": 22,
   "metadata": {},
   "outputs": [
    {
     "data": {
      "text/plain": [
       "(1, 0, 1.0, 0.0)"
      ]
     },
     "execution_count": 22,
     "metadata": {},
     "output_type": "execute_result"
    }
   ],
   "source": [
    "int(True), int(False), float(True), float(False)"
   ]
  },
  {
   "cell_type": "code",
   "execution_count": 23,
   "metadata": {},
   "outputs": [
    {
     "ename": "TypeError",
     "evalue": "can only concatenate str (not \"int\") to str",
     "output_type": "error",
     "traceback": [
      "\u001b[1;31m---------------------------------------------------------------------------\u001b[0m",
      "\u001b[1;31mTypeError\u001b[0m                                 Traceback (most recent call last)",
      "\u001b[1;32mC:\\Users\\ASKORO~1\\AppData\\Local\\Temp/ipykernel_62848/3717153303.py\u001b[0m in \u001b[0;36m<module>\u001b[1;34m\u001b[0m\n\u001b[1;32m----> 1\u001b[1;33m \u001b[1;34m\"a\"\u001b[0m \u001b[1;33m+\u001b[0m \u001b[1;36m2\u001b[0m\u001b[1;33m\u001b[0m\u001b[1;33m\u001b[0m\u001b[0m\n\u001b[0m",
      "\u001b[1;31mTypeError\u001b[0m: can only concatenate str (not \"int\") to str"
     ]
    }
   ],
   "source": [
    "\"a\" + 2"
   ]
  },
  {
   "cell_type": "code",
   "execution_count": 24,
   "metadata": {},
   "outputs": [
    {
     "data": {
      "text/plain": [
       "'a2'"
      ]
     },
     "execution_count": 24,
     "metadata": {},
     "output_type": "execute_result"
    }
   ],
   "source": [
    "\"a\" + str(2)"
   ]
  },
  {
   "cell_type": "markdown",
   "metadata": {},
   "source": [
    "### 01.03.03. Изменяемые и неизменяемые объекты"
   ]
  },
  {
   "cell_type": "markdown",
   "metadata": {},
   "source": [
    "Незменяемые"
   ]
  },
  {
   "cell_type": "code",
   "execution_count": 45,
   "metadata": {},
   "outputs": [
    {
     "name": "stdout",
     "output_type": "stream",
     "text": [
      "1 0x20eba506930 1 0x20eba506930\n",
      "2 0x20eba506950 1 0x20eba506930\n",
      "0x20eba506950 0x20eba506930\n"
     ]
    }
   ],
   "source": [
    "x = 1\n",
    "y = x\n",
    "\n",
    "print(x, hex(id(x)), y, hex(id(y)))\n",
    "\n",
    "x = x + 1\n",
    "\n",
    "print(x, hex(id(x)), y, hex(id(y)))\n",
    "\n",
    "print(hex(id(2)), hex(id(1)))\n"
   ]
  },
  {
   "cell_type": "markdown",
   "metadata": {},
   "source": [
    "Изменяемые (List, dict)"
   ]
  },
  {
   "cell_type": "code",
   "execution_count": 47,
   "metadata": {},
   "outputs": [
    {
     "name": "stdout",
     "output_type": "stream",
     "text": [
      "[1, 2, 3] 0x20ec22ad980 [1, 2, 3] 0x20ec22ad980 [1, 2, 3] 0x20ec22945c0\n",
      "[1, 2, 3, 4] 0x20ec22ad980 [1, 2, 3, 4] 0x20ec22ad980 [1, 2, 3] 0x20ec22945c0\n"
     ]
    }
   ],
   "source": [
    "x = list([1, 2, 3])\n",
    "y = x\n",
    "z = x.copy()\n",
    "\n",
    "print(x, hex(id(x)), y, hex(id(y)), z, hex(id(z)))\n",
    "\n",
    "x.append(4)\n",
    "\n",
    "print(x, hex(id(x)), y, hex(id(y)), z, hex(id(z)))\n"
   ]
  },
  {
   "cell_type": "markdown",
   "metadata": {},
   "source": [
    "### 01.03.04 Списки (list)"
   ]
  },
  {
   "cell_type": "code",
   "execution_count": 48,
   "metadata": {},
   "outputs": [
    {
     "data": {
      "text/plain": [
       "[1, 2, 3]"
      ]
     },
     "execution_count": 48,
     "metadata": {},
     "output_type": "execute_result"
    }
   ],
   "source": [
    "lst = [1, 2, 3]\n",
    "\n",
    "lst"
   ]
  },
  {
   "cell_type": "code",
   "execution_count": 50,
   "metadata": {},
   "outputs": [
    {
     "data": {
      "text/plain": [
       "[1, 2, 3]"
      ]
     },
     "execution_count": 50,
     "metadata": {},
     "output_type": "execute_result"
    }
   ],
   "source": [
    "lst = list((1, 2, 3))\n",
    "\n",
    "lst"
   ]
  },
  {
   "cell_type": "code",
   "execution_count": 53,
   "metadata": {},
   "outputs": [
    {
     "data": {
      "text/plain": [
       "[1, 2, 'one', ['three', 'four', 'five'], 'two']"
      ]
     },
     "execution_count": 53,
     "metadata": {},
     "output_type": "execute_result"
    }
   ],
   "source": [
    "lst = [1, 2, 'one', ['three', 'four', 'five'], 'two']\n",
    "lst"
   ]
  },
  {
   "cell_type": "code",
   "execution_count": 61,
   "metadata": {},
   "outputs": [
    {
     "data": {
      "text/plain": [
       "1"
      ]
     },
     "execution_count": 61,
     "metadata": {},
     "output_type": "execute_result"
    }
   ],
   "source": [
    "lst[0]"
   ]
  },
  {
   "cell_type": "code",
   "execution_count": 62,
   "metadata": {},
   "outputs": [
    {
     "data": {
      "text/plain": [
       "'two'"
      ]
     },
     "execution_count": 62,
     "metadata": {},
     "output_type": "execute_result"
    }
   ],
   "source": [
    "lst[-1]"
   ]
  },
  {
   "cell_type": "code",
   "execution_count": 63,
   "metadata": {},
   "outputs": [
    {
     "data": {
      "text/plain": [
       "['three', 'four', 'five']"
      ]
     },
     "execution_count": 63,
     "metadata": {},
     "output_type": "execute_result"
    }
   ],
   "source": [
    "lst[3]"
   ]
  },
  {
   "cell_type": "code",
   "execution_count": 64,
   "metadata": {},
   "outputs": [
    {
     "data": {
      "text/plain": [
       "'one'"
      ]
     },
     "execution_count": 64,
     "metadata": {},
     "output_type": "execute_result"
    }
   ],
   "source": [
    "lst[-3]"
   ]
  },
  {
   "cell_type": "code",
   "execution_count": 66,
   "metadata": {},
   "outputs": [
    {
     "data": {
      "text/plain": [
       "[1, 2]"
      ]
     },
     "execution_count": 66,
     "metadata": {},
     "output_type": "execute_result"
    }
   ],
   "source": [
    "lst[:2] # =lst[0:2]"
   ]
  },
  {
   "cell_type": "code",
   "execution_count": 68,
   "metadata": {},
   "outputs": [
    {
     "data": {
      "text/plain": [
       "[['three', 'four', 'five'], 'two']"
      ]
     },
     "execution_count": 68,
     "metadata": {},
     "output_type": "execute_result"
    }
   ],
   "source": [
    "lst[-2:] # =lst[-2:len(lst)]"
   ]
  },
  {
   "cell_type": "code",
   "execution_count": 69,
   "metadata": {},
   "outputs": [
    {
     "data": {
      "text/plain": [
       "[1, 'one', 'two']"
      ]
     },
     "execution_count": 69,
     "metadata": {},
     "output_type": "execute_result"
    }
   ],
   "source": [
    "lst[::2]"
   ]
  },
  {
   "cell_type": "code",
   "execution_count": 65,
   "metadata": {},
   "outputs": [
    {
     "data": {
      "text/plain": [
       "['one', ['three', 'four', 'five']]"
      ]
     },
     "execution_count": 65,
     "metadata": {},
     "output_type": "execute_result"
    }
   ],
   "source": [
    "lst[2:4]"
   ]
  },
  {
   "cell_type": "code",
   "execution_count": 70,
   "metadata": {},
   "outputs": [
    {
     "data": {
      "text/plain": [
       "['two', ['three', 'four', 'five'], 'one', 2, 1]"
      ]
     },
     "execution_count": 70,
     "metadata": {},
     "output_type": "execute_result"
    }
   ],
   "source": [
    "lst[::-1]"
   ]
  },
  {
   "cell_type": "code",
   "execution_count": 71,
   "metadata": {},
   "outputs": [
    {
     "data": {
      "text/plain": [
       "'атапол'"
      ]
     },
     "execution_count": 71,
     "metadata": {},
     "output_type": "execute_result"
    }
   ],
   "source": [
    "'лопата'[::-1]"
   ]
  },
  {
   "cell_type": "code",
   "execution_count": 83,
   "metadata": {},
   "outputs": [
    {
     "data": {
      "text/plain": [
       "('0x20ec23c2a00', '0x20ec23c2a00', '0x20ec2391bc0', '0x20ec23b8840')"
      ]
     },
     "execution_count": 83,
     "metadata": {},
     "output_type": "execute_result"
    }
   ],
   "source": [
    "lst1 = [1, 1, 1]\n",
    "lst2 = lst1\n",
    "lst3 = lst1.copy()\n",
    "lst4 = lst1[:] # = копировать\n",
    "\n",
    "hex(id(lst1)), hex(id(lst2)), hex(id(lst3)), hex(id(lst4))"
   ]
  },
  {
   "cell_type": "code",
   "execution_count": 84,
   "metadata": {},
   "outputs": [
    {
     "name": "stdout",
     "output_type": "stream",
     "text": [
      "[1, 1, 1]\n",
      "[1, 1, 1, '99']\n"
     ]
    }
   ],
   "source": [
    "print(lst1)\n",
    "\n",
    "lst1.append('99')\n",
    "\n",
    "print(lst1)"
   ]
  },
  {
   "cell_type": "code",
   "execution_count": 85,
   "metadata": {},
   "outputs": [
    {
     "data": {
      "text/plain": [
       "[1, 2, 3, 'a', 'b', 'c']"
      ]
     },
     "execution_count": 85,
     "metadata": {},
     "output_type": "execute_result"
    }
   ],
   "source": [
    "lst1 = [1, 2, 3]\n",
    "lst2 = ['a', 'b', 'c']\n",
    "\n",
    "lst1.extend(lst2)\n",
    "lst1"
   ]
  },
  {
   "cell_type": "code",
   "execution_count": 86,
   "metadata": {},
   "outputs": [
    {
     "data": {
      "text/plain": [
       "[1, 2, 3, 'a', 'b', 'c', 'a', 'b', 'c']"
      ]
     },
     "execution_count": 86,
     "metadata": {},
     "output_type": "execute_result"
    }
   ],
   "source": [
    "lst1 + lst2"
   ]
  },
  {
   "cell_type": "code",
   "execution_count": 87,
   "metadata": {},
   "outputs": [
    {
     "data": {
      "text/plain": [
       "[1, 2, 3, 'работа insert', 'a', 'b', 'c']"
      ]
     },
     "execution_count": 87,
     "metadata": {},
     "output_type": "execute_result"
    }
   ],
   "source": [
    "lst1.insert(3, 'работа insert')\n",
    "lst1 "
   ]
  },
  {
   "cell_type": "code",
   "execution_count": 88,
   "metadata": {},
   "outputs": [
    {
     "data": {
      "text/plain": [
       "[1, 3, 'работа insert', 'a', 'b', 'c']"
      ]
     },
     "execution_count": 88,
     "metadata": {},
     "output_type": "execute_result"
    }
   ],
   "source": [
    "lst1.remove(2)\n",
    "lst1"
   ]
  },
  {
   "cell_type": "code",
   "execution_count": 89,
   "metadata": {},
   "outputs": [
    {
     "data": {
      "text/plain": [
       "('работа insert', [1, 3, 'a', 'b', 'c'])"
      ]
     },
     "execution_count": 89,
     "metadata": {},
     "output_type": "execute_result"
    }
   ],
   "source": [
    "t = lst1.pop(2)\n",
    "t, lst1"
   ]
  },
  {
   "cell_type": "code",
   "execution_count": 91,
   "metadata": {},
   "outputs": [
    {
     "data": {
      "text/plain": [
       "2"
      ]
     },
     "execution_count": 91,
     "metadata": {},
     "output_type": "execute_result"
    }
   ],
   "source": [
    "lst1.index('a')"
   ]
  },
  {
   "cell_type": "code",
   "execution_count": 92,
   "metadata": {},
   "outputs": [
    {
     "data": {
      "text/plain": [
       "1"
      ]
     },
     "execution_count": 92,
     "metadata": {},
     "output_type": "execute_result"
    }
   ],
   "source": [
    "lst1.count('a')"
   ]
  },
  {
   "cell_type": "code",
   "execution_count": 93,
   "metadata": {},
   "outputs": [
    {
     "ename": "TypeError",
     "evalue": "'<' not supported between instances of 'str' and 'int'",
     "output_type": "error",
     "traceback": [
      "\u001b[1;31m---------------------------------------------------------------------------\u001b[0m",
      "\u001b[1;31mTypeError\u001b[0m                                 Traceback (most recent call last)",
      "\u001b[1;32mC:\\Users\\ASKORO~1\\AppData\\Local\\Temp/ipykernel_62848/3639686397.py\u001b[0m in \u001b[0;36m<module>\u001b[1;34m\u001b[0m\n\u001b[1;32m----> 1\u001b[1;33m \u001b[0mlst1\u001b[0m\u001b[1;33m.\u001b[0m\u001b[0msort\u001b[0m\u001b[1;33m(\u001b[0m\u001b[1;33m)\u001b[0m\u001b[1;33m\u001b[0m\u001b[1;33m\u001b[0m\u001b[0m\n\u001b[0m",
      "\u001b[1;31mTypeError\u001b[0m: '<' not supported between instances of 'str' and 'int'"
     ]
    }
   ],
   "source": [
    "lst1.sort()"
   ]
  },
  {
   "cell_type": "code",
   "execution_count": 95,
   "metadata": {},
   "outputs": [
    {
     "data": {
      "text/plain": [
       "[1, 1, 2, 3, 4]"
      ]
     },
     "execution_count": 95,
     "metadata": {},
     "output_type": "execute_result"
    }
   ],
   "source": [
    "lst3 = [1, 4, 3, 2, 1]\n",
    "lst3.sort()\n",
    "lst3"
   ]
  },
  {
   "cell_type": "code",
   "execution_count": 96,
   "metadata": {},
   "outputs": [
    {
     "data": {
      "text/plain": [
       "[4, 3, 2, 1, 1]"
      ]
     },
     "execution_count": 96,
     "metadata": {},
     "output_type": "execute_result"
    }
   ],
   "source": [
    "lst3.reverse()\n",
    "lst3"
   ]
  },
  {
   "cell_type": "markdown",
   "metadata": {},
   "source": [
    "### 01.03.05. Кортежи (tuple)"
   ]
  },
  {
   "cell_type": "code",
   "execution_count": 10,
   "metadata": {},
   "outputs": [
    {
     "data": {
      "text/plain": [
       "(1, 2, 'one', ['three', 'four', 'five'], 'two')"
      ]
     },
     "execution_count": 10,
     "metadata": {},
     "output_type": "execute_result"
    }
   ],
   "source": [
    "tpl = (1, 2, 'one', ['three', 'four', 'five'], 'two')\n",
    "tpl"
   ]
  },
  {
   "cell_type": "code",
   "execution_count": 11,
   "metadata": {},
   "outputs": [
    {
     "data": {
      "text/plain": [
       "2"
      ]
     },
     "execution_count": 11,
     "metadata": {},
     "output_type": "execute_result"
    }
   ],
   "source": [
    "tpl[1]"
   ]
  },
  {
   "cell_type": "code",
   "execution_count": 12,
   "metadata": {},
   "outputs": [
    {
     "data": {
      "text/plain": [
       "(1,\n",
       " 2,\n",
       " 'one',\n",
       " ['three', 'four', 'five'],\n",
       " 'two',\n",
       " 1,\n",
       " 2,\n",
       " 'one',\n",
       " ['three', 'four', 'five'],\n",
       " 'two')"
      ]
     },
     "execution_count": 12,
     "metadata": {},
     "output_type": "execute_result"
    }
   ],
   "source": [
    "tpl * 2"
   ]
  },
  {
   "cell_type": "code",
   "execution_count": 13,
   "metadata": {},
   "outputs": [
    {
     "data": {
      "text/plain": [
       "(1,\n",
       " 2,\n",
       " 'one',\n",
       " ['three', 'four', 'five'],\n",
       " 'two',\n",
       " 1,\n",
       " 2,\n",
       " 'one',\n",
       " ['three', 'four', 'five'],\n",
       " 'two')"
      ]
     },
     "execution_count": 13,
     "metadata": {},
     "output_type": "execute_result"
    }
   ],
   "source": [
    "tpl + tpl"
   ]
  },
  {
   "cell_type": "code",
   "execution_count": 14,
   "metadata": {},
   "outputs": [
    {
     "name": "stdout",
     "output_type": "stream",
     "text": [
      "['three', 'four', 'five']\n"
     ]
    },
    {
     "data": {
      "text/plain": [
       "(1, 2, 'one', [11111111, 'four', 'five'], 'two')"
      ]
     },
     "execution_count": 14,
     "metadata": {},
     "output_type": "execute_result"
    }
   ],
   "source": [
    "print(tpl[-2])\n",
    "tpl[-2][0] = 11111111\n",
    "tpl"
   ]
  },
  {
   "cell_type": "code",
   "execution_count": 15,
   "metadata": {},
   "outputs": [
    {
     "name": "stdout",
     "output_type": "stream",
     "text": [
      "2\n"
     ]
    },
    {
     "ename": "TypeError",
     "evalue": "'tuple' object does not support item assignment",
     "output_type": "error",
     "traceback": [
      "\u001b[1;31m---------------------------------------------------------------------------\u001b[0m",
      "\u001b[1;31mTypeError\u001b[0m                                 Traceback (most recent call last)",
      "\u001b[1;32mC:\\Users\\ASKORO~1\\AppData\\Local\\Temp/ipykernel_57832/4171039018.py\u001b[0m in \u001b[0;36m<module>\u001b[1;34m\u001b[0m\n\u001b[0;32m      1\u001b[0m \u001b[0mprint\u001b[0m\u001b[1;33m(\u001b[0m\u001b[0mtpl\u001b[0m\u001b[1;33m[\u001b[0m\u001b[1;36m1\u001b[0m\u001b[1;33m]\u001b[0m\u001b[1;33m)\u001b[0m\u001b[1;33m\u001b[0m\u001b[1;33m\u001b[0m\u001b[0m\n\u001b[1;32m----> 2\u001b[1;33m \u001b[0mtpl\u001b[0m\u001b[1;33m[\u001b[0m\u001b[1;36m1\u001b[0m\u001b[1;33m]\u001b[0m \u001b[1;33m=\u001b[0m \u001b[1;36m5\u001b[0m\u001b[1;33m\u001b[0m\u001b[1;33m\u001b[0m\u001b[0m\n\u001b[0m",
      "\u001b[1;31mTypeError\u001b[0m: 'tuple' object does not support item assignment"
     ]
    }
   ],
   "source": [
    "print(tpl[1])\n",
    "tpl[1] = 5"
   ]
  },
  {
   "cell_type": "markdown",
   "metadata": {},
   "source": [
    "### 01.03.06. Операции над строками"
   ]
  },
  {
   "cell_type": "code",
   "execution_count": 19,
   "metadata": {},
   "outputs": [
    {
     "name": "stdout",
     "output_type": "stream",
     "text": [
      "<class 'str'>\n",
      "1. Пример строки\n",
      "2. Можно использовать одинарные кавычки\n",
      "3. Если текст длинный, можно использовать\n",
      "вариант с тремя кавычками и переносом строки\n"
     ]
    }
   ],
   "source": [
    "s = \"1. Пример строки\"\n",
    "print(type(s))\n",
    "print(s)\n",
    "\n",
    "s = '2. Можно использовать одинарные кавычки'\n",
    "print(s)\n",
    "\n",
    "s = '''3. Если текст длинный, можно использовать\n",
    "вариант с тремя кавычками и переносом строки'''\n",
    "print(s)"
   ]
  },
  {
   "cell_type": "code",
   "execution_count": 20,
   "metadata": {},
   "outputs": [
    {
     "name": "stdout",
     "output_type": "stream",
     "text": [
      "4. Можно вычислять длину строки: 86\n",
      "5. Строки можно складывать\n",
      "6. И даже умножать умножать умножать\n"
     ]
    }
   ],
   "source": [
    "print('4. Можно вычислять длину строки:', len(s))\n",
    "print('5. Строки' + ' можно' + ' складывать')\n",
    "print('6. И даже' + ' умножать'*3)"
   ]
  },
  {
   "cell_type": "code",
   "execution_count": 24,
   "metadata": {},
   "outputs": [
    {
     "name": "stdout",
     "output_type": "stream",
     "text": [
      "7. Можно искать вхождение подстроки: True\n",
      "8. Если подстрока не найдена, то возвращается False: False\n",
      "9. Строки можно разделять в списки: ['3.', 'Если', 'текст', 'длинный,', 'можно', 'использовать', 'вариант', 'с', 'тремя', 'кавычками', 'и', 'переносом', 'строки']\n",
      "10. И, наоборот, соединять список в строку: 3. Если текст длинный, можно использовать вариант с тремя кавычками и переносом строки\n"
     ]
    }
   ],
   "source": [
    "print('7. Можно искать вхождение подстроки:', 'Если' in s)\n",
    "print('8. Если подстрока не найдена, то возвращается False:', '999' in s)\n",
    "print('9. Строки можно разделять в списки:', s.split())\n",
    "print('10. И, наоборот, соединять список в строку:', ' '.join(s.split()))"
   ]
  },
  {
   "cell_type": "code",
   "execution_count": 27,
   "metadata": {},
   "outputs": [
    {
     "name": "stdout",
     "output_type": "stream",
     "text": [
      "11. Можно все сделать заглавными буквами: 3. ЕСЛИ ТЕКСТ ДЛИННЫЙ, МОЖНО ИСПОЛЬЗОВАТЬ\n",
      "ВАРИАНТ С ТРЕМЯ КАВЫЧКАМИ И ПЕРЕНОСОМ СТРОКИ\n",
      "12. Или, наоборот, маленькими: 3. если текст длинный, можно использовать\n",
      "вариант с тремя кавычками и переносом строки\n",
      "13. Или как в предложении: 3. если текст длинный, можно использовать\n",
      "вариант с тремя кавычками и переносом строки\n"
     ]
    }
   ],
   "source": [
    "print('11. Можно все сделать заглавными буквами:', s.upper())\n",
    "print('12. Или, наоборот, маленькими:', s.lower())\n",
    "print('13. Или как в предложении:', s.capitalize())"
   ]
  },
  {
   "cell_type": "markdown",
   "metadata": {},
   "source": [
    "Строка - итерируемый объект"
   ]
  },
  {
   "cell_type": "code",
   "execution_count": 28,
   "metadata": {},
   "outputs": [
    {
     "data": {
      "text/plain": [
       "'Е'"
      ]
     },
     "execution_count": 28,
     "metadata": {},
     "output_type": "execute_result"
    }
   ],
   "source": [
    "s[3]"
   ]
  },
  {
   "cell_type": "code",
   "execution_count": 29,
   "metadata": {},
   "outputs": [
    {
     "data": {
      "text/plain": [
       "'3. Если те'"
      ]
     },
     "execution_count": 29,
     "metadata": {},
     "output_type": "execute_result"
    }
   ],
   "source": [
    "s[:10]"
   ]
  },
  {
   "cell_type": "code",
   "execution_count": 31,
   "metadata": {},
   "outputs": [
    {
     "data": {
      "text/plain": [
       "'сом строки'"
      ]
     },
     "execution_count": 31,
     "metadata": {},
     "output_type": "execute_result"
    }
   ],
   "source": [
    "s[-10:]"
   ]
  },
  {
   "cell_type": "code",
   "execution_count": 32,
   "metadata": {},
   "outputs": [
    {
     "data": {
      "text/plain": [
       "'3 ситктдинй он соьоаьвратстеяквчаиипрнсмсрк'"
      ]
     },
     "execution_count": 32,
     "metadata": {},
     "output_type": "execute_result"
    }
   ],
   "source": [
    "s[::2]"
   ]
  },
  {
   "cell_type": "code",
   "execution_count": 33,
   "metadata": {},
   "outputs": [
    {
     "name": "stdout",
     "output_type": "stream",
     "text": [
      "К\n",
      "а\n",
      "к\n",
      "а\n",
      "я\n",
      "-\n",
      "т\n",
      "о\n",
      " \n",
      "с\n",
      "т\n",
      "р\n",
      "о\n",
      "к\n",
      "а\n"
     ]
    }
   ],
   "source": [
    "for element in 'Какая-то строка':\n",
    "    print(element)"
   ]
  },
  {
   "cell_type": "code",
   "execution_count": 34,
   "metadata": {},
   "outputs": [
    {
     "data": {
      "text/plain": [
       "'*bcd*f'"
      ]
     },
     "execution_count": 34,
     "metadata": {},
     "output_type": "execute_result"
    }
   ],
   "source": [
    "s = 'abcdaf'\n",
    "s.replace('a', '*')"
   ]
  },
  {
   "cell_type": "code",
   "execution_count": 42,
   "metadata": {},
   "outputs": [
    {
     "data": {
      "text/plain": [
       "(False, True)"
      ]
     },
     "execution_count": 42,
     "metadata": {},
     "output_type": "execute_result"
    }
   ],
   "source": [
    "s = 'Примерстроки'\n",
    "s.isdigit(), s.isalpha()"
   ]
  },
  {
   "cell_type": "code",
   "execution_count": 45,
   "metadata": {},
   "outputs": [
    {
     "data": {
      "text/plain": [
       "(3, -1)"
      ]
     },
     "execution_count": 45,
     "metadata": {},
     "output_type": "execute_result"
    }
   ],
   "source": [
    "s.find('мер'), s.find('9')"
   ]
  },
  {
   "cell_type": "code",
   "execution_count": 49,
   "metadata": {},
   "outputs": [
    {
     "data": {
      "text/plain": [
       "True"
      ]
     },
     "execution_count": 49,
     "metadata": {},
     "output_type": "execute_result"
    }
   ],
   "source": [
    "s.startswith('П')"
   ]
  },
  {
   "cell_type": "code",
   "execution_count": 52,
   "metadata": {},
   "outputs": [
    {
     "data": {
      "text/plain": [
       "'Удалили лишние пробелы'"
      ]
     },
     "execution_count": 52,
     "metadata": {},
     "output_type": "execute_result"
    }
   ],
   "source": [
    "\"      Удалили лишние пробелы         \".strip()"
   ]
  },
  {
   "cell_type": "markdown",
   "metadata": {},
   "source": [
    "Форматирование строк"
   ]
  },
  {
   "cell_type": "code",
   "execution_count": 157,
   "metadata": {},
   "outputs": [],
   "source": [
    "dist = 99 # км\n",
    "speed = 10.8 # км/ч\n",
    "name = 'Alex'"
   ]
  },
  {
   "cell_type": "code",
   "execution_count": 155,
   "metadata": {},
   "outputs": [
    {
     "name": "stdout",
     "output_type": "stream",
     "text": [
      "Alex : 99 км 10.8 км/ч\n"
     ]
    }
   ],
   "source": [
    "print(c, \":\", a, \"км\", b, \"км/ч\") # вариант 1"
   ]
  },
  {
   "cell_type": "code",
   "execution_count": 162,
   "metadata": {},
   "outputs": [
    {
     "data": {
      "text/plain": [
       "'Alex: 99 км, 10.8 км/ч'"
      ]
     },
     "execution_count": 162,
     "metadata": {},
     "output_type": "execute_result"
    }
   ],
   "source": [
    "\"%s: %d км, %.1f км/ч\" % (name, dist, speed) # вариант 2"
   ]
  },
  {
   "cell_type": "code",
   "execution_count": 163,
   "metadata": {},
   "outputs": [
    {
     "data": {
      "text/plain": [
       "'Alex: 99 км, 10.8 км/ч'"
      ]
     },
     "execution_count": 163,
     "metadata": {},
     "output_type": "execute_result"
    }
   ],
   "source": [
    "\"{}: {} км, {} км/ч\".format(name, dist, speed) # вариант 3"
   ]
  },
  {
   "cell_type": "code",
   "execution_count": 172,
   "metadata": {},
   "outputs": [
    {
     "data": {
      "text/plain": [
       "'Alex: 099 км, 10.800 км/ч'"
      ]
     },
     "execution_count": 172,
     "metadata": {},
     "output_type": "execute_result"
    }
   ],
   "source": [
    "f\"{name}: {dist:03d} км, {speed:2.3f} км/ч\" # вариант 4"
   ]
  },
  {
   "cell_type": "markdown",
   "metadata": {},
   "source": [
    "### 01.03.07 Множества (set)"
   ]
  },
  {
   "cell_type": "code",
   "execution_count": 53,
   "metadata": {},
   "outputs": [],
   "source": [
    "st1 = {1, 2, 3, 4}\n",
    "st2 = {4, 5, 6, 7, 8}"
   ]
  },
  {
   "cell_type": "code",
   "execution_count": 55,
   "metadata": {},
   "outputs": [
    {
     "data": {
      "text/plain": [
       "{1, 2}"
      ]
     },
     "execution_count": 55,
     "metadata": {},
     "output_type": "execute_result"
    }
   ],
   "source": [
    "st3 = {1, 2, 2, 2, 2}\n",
    "st3"
   ]
  },
  {
   "cell_type": "code",
   "execution_count": 54,
   "metadata": {},
   "outputs": [
    {
     "data": {
      "text/plain": [
       "4"
      ]
     },
     "execution_count": 54,
     "metadata": {},
     "output_type": "execute_result"
    }
   ],
   "source": [
    "len(st1)"
   ]
  },
  {
   "cell_type": "code",
   "execution_count": 56,
   "metadata": {},
   "outputs": [
    {
     "data": {
      "text/plain": [
       "True"
      ]
     },
     "execution_count": 56,
     "metadata": {},
     "output_type": "execute_result"
    }
   ],
   "source": [
    "7 in st2"
   ]
  },
  {
   "cell_type": "code",
   "execution_count": 57,
   "metadata": {},
   "outputs": [
    {
     "data": {
      "text/plain": [
       "{1, 2, 3, 4, 5, 6, 7, 8}"
      ]
     },
     "execution_count": 57,
     "metadata": {},
     "output_type": "execute_result"
    }
   ],
   "source": [
    "# объединение (union)\n",
    "st1 | st2"
   ]
  },
  {
   "cell_type": "code",
   "execution_count": 58,
   "metadata": {},
   "outputs": [
    {
     "data": {
      "text/plain": [
       "{4}"
      ]
     },
     "execution_count": 58,
     "metadata": {},
     "output_type": "execute_result"
    }
   ],
   "source": [
    "# пересечение (intersection)\n",
    "st1 & st2"
   ]
  },
  {
   "cell_type": "code",
   "execution_count": 59,
   "metadata": {},
   "outputs": [
    {
     "data": {
      "text/plain": [
       "{1, 2, 3}"
      ]
     },
     "execution_count": 59,
     "metadata": {},
     "output_type": "execute_result"
    }
   ],
   "source": [
    "# есть в st1, но нет в st2\n",
    "st1 - st2"
   ]
  },
  {
   "cell_type": "code",
   "execution_count": 60,
   "metadata": {},
   "outputs": [
    {
     "data": {
      "text/plain": [
       "{1, 2, 3, 5, 6, 7, 8}"
      ]
     },
     "execution_count": 60,
     "metadata": {},
     "output_type": "execute_result"
    }
   ],
   "source": [
    "# есть только в st1 или только  в st2\n",
    "st1 ^ st2"
   ]
  },
  {
   "cell_type": "code",
   "execution_count": 62,
   "metadata": {},
   "outputs": [
    {
     "data": {
      "text/plain": [
       "{1, 2, 3, 4, 10}"
      ]
     },
     "execution_count": 62,
     "metadata": {},
     "output_type": "execute_result"
    }
   ],
   "source": [
    "st1.add(10)\n",
    "st1"
   ]
  },
  {
   "cell_type": "code",
   "execution_count": 65,
   "metadata": {},
   "outputs": [
    {
     "ename": "TypeError",
     "evalue": "'set' object is not subscriptable",
     "output_type": "error",
     "traceback": [
      "\u001b[1;31m---------------------------------------------------------------------------\u001b[0m",
      "\u001b[1;31mTypeError\u001b[0m                                 Traceback (most recent call last)",
      "\u001b[1;32mC:\\Users\\ASKORO~1\\AppData\\Local\\Temp/ipykernel_57832/2094024645.py\u001b[0m in \u001b[0;36m<module>\u001b[1;34m\u001b[0m\n\u001b[1;32m----> 1\u001b[1;33m \u001b[0mst1\u001b[0m\u001b[1;33m[\u001b[0m\u001b[1;36m0\u001b[0m\u001b[1;33m]\u001b[0m \u001b[1;31m# неупорядоченная коллекция\u001b[0m\u001b[1;33m\u001b[0m\u001b[1;33m\u001b[0m\u001b[0m\n\u001b[0m",
      "\u001b[1;31mTypeError\u001b[0m: 'set' object is not subscriptable"
     ]
    }
   ],
   "source": [
    "st1[0] # неупорядоченная коллекция"
   ]
  },
  {
   "cell_type": "markdown",
   "metadata": {},
   "source": [
    "### 01.03.08 Словари (dict)"
   ]
  },
  {
   "cell_type": "code",
   "execution_count": 1,
   "metadata": {},
   "outputs": [
    {
     "name": "stdout",
     "output_type": "stream",
     "text": [
      "Тип объекта: <class 'dict'>\n"
     ]
    }
   ],
   "source": [
    "d = {\"Вася\": 5, \"Алена\": 10, \"Петя\": 28}\n",
    "print(\"Тип объекта:\", type(d))"
   ]
  },
  {
   "cell_type": "code",
   "execution_count": 9,
   "metadata": {},
   "outputs": [
    {
     "name": "stdout",
     "output_type": "stream",
     "text": [
      "Получение ключей словаря:\n",
      " dict_keys(['Вася', 'Алена', 'Марина', 'Сергей'])\n",
      "Получение значений словаря:\n",
      " dict_values([55, 15, 29, 0])\n",
      "Получение элементов словаря:\n",
      " dict_items([('Вася', 55), ('Алена', 15), ('Марина', 29), ('Сергей', 0)])\n"
     ]
    }
   ],
   "source": [
    "print(\"Получение ключей словаря:\\n\", d.keys())\n",
    "print(\"Получение значений словаря:\\n\", d.values())\n",
    "print(\"Получение элементов словаря:\\n\", d.items())"
   ]
  },
  {
   "cell_type": "code",
   "execution_count": 4,
   "metadata": {},
   "outputs": [
    {
     "data": {
      "text/plain": [
       "5"
      ]
     },
     "execution_count": 4,
     "metadata": {},
     "output_type": "execute_result"
    }
   ],
   "source": [
    "d[\"Вася\"]"
   ]
  },
  {
   "cell_type": "code",
   "execution_count": 5,
   "metadata": {},
   "outputs": [
    {
     "data": {
      "text/plain": [
       "28"
      ]
     },
     "execution_count": 5,
     "metadata": {},
     "output_type": "execute_result"
    }
   ],
   "source": [
    "petya = d.pop('Петя')\n",
    "petya"
   ]
  },
  {
   "cell_type": "code",
   "execution_count": 6,
   "metadata": {},
   "outputs": [
    {
     "data": {
      "text/plain": [
       "{'Вася': 5, 'Алена': 10, 'Марина': 29}"
      ]
     },
     "execution_count": 6,
     "metadata": {},
     "output_type": "execute_result"
    }
   ],
   "source": [
    "d[\"Марина\"] = 29\n",
    "d"
   ]
  },
  {
   "cell_type": "code",
   "execution_count": 7,
   "metadata": {},
   "outputs": [
    {
     "data": {
      "text/plain": [
       "{'Вася': 55, 'Алена': 15, 'Марина': 29, 'Сергей': 0}"
      ]
     },
     "execution_count": 7,
     "metadata": {},
     "output_type": "execute_result"
    }
   ],
   "source": [
    "d.update({\"Вася\": 55, \"Алена\": 15, \"Сергей\": 0})\n",
    "d"
   ]
  },
  {
   "cell_type": "code",
   "execution_count": 75,
   "metadata": {},
   "outputs": [
    {
     "ename": "KeyError",
     "evalue": "'Кто-то'",
     "output_type": "error",
     "traceback": [
      "\u001b[1;31m---------------------------------------------------------------------------\u001b[0m",
      "\u001b[1;31mKeyError\u001b[0m                                  Traceback (most recent call last)",
      "\u001b[1;32mC:\\Users\\ASKORO~1\\AppData\\Local\\Temp/ipykernel_57832/1575178425.py\u001b[0m in \u001b[0;36m<module>\u001b[1;34m\u001b[0m\n\u001b[1;32m----> 1\u001b[1;33m \u001b[0md\u001b[0m\u001b[1;33m[\u001b[0m\u001b[1;34m'Кто-то'\u001b[0m\u001b[1;33m]\u001b[0m\u001b[1;33m\u001b[0m\u001b[1;33m\u001b[0m\u001b[0m\n\u001b[0m",
      "\u001b[1;31mKeyError\u001b[0m: 'Кто-то'"
     ]
    }
   ],
   "source": [
    "d['Кто-то']"
   ]
  },
  {
   "cell_type": "code",
   "execution_count": 76,
   "metadata": {},
   "outputs": [
    {
     "data": {
      "text/plain": [
       "' Нет такого'"
      ]
     },
     "execution_count": 76,
     "metadata": {},
     "output_type": "execute_result"
    }
   ],
   "source": [
    "d.get('Кто-то', \" Нет такого\")"
   ]
  },
  {
   "cell_type": "code",
   "execution_count": 78,
   "metadata": {},
   "outputs": [
    {
     "data": {
      "text/plain": [
       "{'Вася': 55, 'Алена': 15, 'Марина': 29, 'Сергей': 0, 'Владимир': '!!!'}"
      ]
     },
     "execution_count": 78,
     "metadata": {},
     "output_type": "execute_result"
    }
   ],
   "source": [
    "d.setdefault(\"Владимир\", \"!!!\")\n",
    "d"
   ]
  },
  {
   "cell_type": "markdown",
   "metadata": {},
   "source": [
    "## 01.04. Условные выражения и циклы\n",
    "### 01.04.01 Условные выражения"
   ]
  },
  {
   "cell_type": "code",
   "execution_count": 83,
   "metadata": {},
   "outputs": [
    {
     "name": "stdout",
     "output_type": "stream",
     "text": [
      "True\n",
      "True\n",
      "True\n",
      "True\n",
      "True\n",
      "False\n",
      "False\n",
      "False\n",
      "False\n"
     ]
    }
   ],
   "source": [
    "# TRUE\n",
    "print(1==1)\n",
    "print(bool([0,0]))\n",
    "print(bool('слово'))\n",
    "print('a' in ['a', 'b', 'c'])\n",
    "a = 1; b = 1; print(a is b)\n",
    "\n",
    "# FALSE\n",
    "print(1=='1')\n",
    "print(bool(0))\n",
    "print(bool([]))\n",
    "a = 1; b = 2; print(a is b)"
   ]
  },
  {
   "cell_type": "code",
   "execution_count": 5,
   "metadata": {},
   "outputs": [
    {
     "name": "stdout",
     "output_type": "stream",
     "text": [
      "98\n",
      "Условие elif\n"
     ]
    }
   ],
   "source": [
    "from random import randint, choice\n",
    "\n",
    "a = randint(50,100)\n",
    "print(a)\n",
    "\n",
    "if a > 100:\n",
    "    print('Условие if')\n",
    "elif a > 90:\n",
    "    print('Условие elif')\n",
    "elif a > 80:\n",
    "    print('Условие elif')\n",
    "else:\n",
    "    print('Не выполнилось ни одно условие')"
   ]
  },
  {
   "cell_type": "code",
   "execution_count": 11,
   "metadata": {},
   "outputs": [
    {
     "name": "stdout",
     "output_type": "stream",
     "text": [
      "ничего нет\n"
     ]
    }
   ],
   "source": [
    "match choice(['a', 'c', 'e', 'f']):\n",
    "    case 'a':\n",
    "        print('a')\n",
    "    case 'c':\n",
    "        print('с')\n",
    "    case _:\n",
    "        print('ничего нет')"
   ]
  },
  {
   "cell_type": "markdown",
   "metadata": {},
   "source": [
    "### 01.04.02. Циклы"
   ]
  },
  {
   "cell_type": "code",
   "execution_count": 12,
   "metadata": {},
   "outputs": [
    {
     "name": "stdout",
     "output_type": "stream",
     "text": [
      "0\n",
      "1\n",
      "2\n",
      "3\n",
      "4\n"
     ]
    }
   ],
   "source": [
    "for i in range(5):\n",
    "    print(i)"
   ]
  },
  {
   "cell_type": "code",
   "execution_count": 13,
   "metadata": {},
   "outputs": [
    {
     "name": "stdout",
     "output_type": "stream",
     "text": [
      "0\n",
      "1\n",
      "2\n",
      "3\n",
      "4\n"
     ]
    }
   ],
   "source": [
    "i = 0\n",
    "\n",
    "while i < 5:\n",
    "    print(i)\n",
    "    i += 1"
   ]
  },
  {
   "cell_type": "code",
   "execution_count": 15,
   "metadata": {},
   "outputs": [
    {
     "name": "stdout",
     "output_type": "stream",
     "text": [
      "100\n",
      "80\n",
      "67\n",
      "55\n",
      "51\n",
      "31\n",
      "13\n"
     ]
    }
   ],
   "source": [
    "i = 100\n",
    "\n",
    "while i > 0:\n",
    "    print(i)\n",
    "    i -= randint(0,20)\n"
   ]
  },
  {
   "cell_type": "code",
   "execution_count": 17,
   "metadata": {},
   "outputs": [
    {
     "name": "stdout",
     "output_type": "stream",
     "text": [
      "dog\n",
      "table - лишнее слово, continue\n",
      "cat\n",
      "лошадь мы не ожидали, break\n"
     ]
    }
   ],
   "source": [
    "for word in ['dog', 'table', 'cat', 'horse', 'tiger']:\n",
    "\n",
    "    if word=='table':\n",
    "        print(\"table - лишнее слово, continue\")\n",
    "        continue\n",
    "\n",
    "    if word=='horse':\n",
    "        print(\"лошадь мы не ожидали, break\")\n",
    "        break\n",
    "\n",
    "    print(word)"
   ]
  },
  {
   "cell_type": "code",
   "execution_count": 18,
   "metadata": {},
   "outputs": [
    {
     "name": "stdout",
     "output_type": "stream",
     "text": [
      "1 dog\n",
      "2 table\n",
      "3 cat\n",
      "4 horse\n",
      "5 tiger\n"
     ]
    }
   ],
   "source": [
    "for i, word in enumerate(['dog', 'table', 'cat', 'horse', 'tiger']):\n",
    "    print(i+1, word)"
   ]
  },
  {
   "cell_type": "code",
   "execution_count": 19,
   "metadata": {},
   "outputs": [
    {
     "name": "stdout",
     "output_type": "stream",
     "text": [
      "A =  range(0, 5)\n",
      "B =  range(10, 15)\n",
      "a = 0, b = 10\n",
      "a = 1, b = 11\n",
      "a = 2, b = 12\n",
      "a = 3, b = 13\n",
      "a = 4, b = 14\n"
     ]
    }
   ],
   "source": [
    "A = range(5)\n",
    "print('A = ', A)\n",
    "B = range(10,15)\n",
    "print('B = ', B)\n",
    "\n",
    "for a, b in zip(A, B):\n",
    "    print(f\"a = {a}, b = {b}\")"
   ]
  },
  {
   "cell_type": "code",
   "execution_count": 22,
   "metadata": {},
   "outputs": [
    {
     "name": "stdout",
     "output_type": "stream",
     "text": [
      "1 3 5\n",
      "1 3 6\n",
      "1 4 5\n",
      "1 4 6\n",
      "2 3 5\n",
      "2 3 6\n",
      "2 4 5\n",
      "2 4 6\n"
     ]
    }
   ],
   "source": [
    "A = [1, 2]\n",
    "B = [3, 4]\n",
    "C = [5, 6]\n",
    "\n",
    "for a in A:\n",
    "    for b in B:\n",
    "        for c in C:\n",
    "            print(f\"{a} {b} {c}\")"
   ]
  },
  {
   "cell_type": "markdown",
   "metadata": {},
   "source": [
    "### 01.04.03 List/Dict Comprehension"
   ]
  },
  {
   "cell_type": "code",
   "execution_count": 23,
   "metadata": {},
   "outputs": [
    {
     "name": "stdout",
     "output_type": "stream",
     "text": [
      "CPU times: total: 1.47 s\n",
      "Wall time: 1.52 s\n"
     ]
    }
   ],
   "source": [
    "%%time\n",
    "lst_1 = []\n",
    "\n",
    "for i in range(10_000_000):\n",
    "    if i%2==0:\n",
    "        lst_1.append(i)"
   ]
  },
  {
   "cell_type": "code",
   "execution_count": 25,
   "metadata": {},
   "outputs": [
    {
     "name": "stdout",
     "output_type": "stream",
     "text": [
      "CPU times: total: 875 ms\n",
      "Wall time: 889 ms\n"
     ]
    }
   ],
   "source": [
    "%%time\n",
    "lst_2 = [i for i in range(10_000_000) if i%2==0]"
   ]
  },
  {
   "cell_type": "code",
   "execution_count": 27,
   "metadata": {},
   "outputs": [
    {
     "name": "stdout",
     "output_type": "stream",
     "text": [
      "CPU times: total: 3.84 s\n",
      "Wall time: 3.99 s\n"
     ]
    }
   ],
   "source": [
    "%%time\n",
    "dict1 = {}\n",
    "\n",
    "for i in range(10_000_000):\n",
    "    if i%2==0:\n",
    "        dict1[str(i)] = i"
   ]
  },
  {
   "cell_type": "code",
   "execution_count": 1,
   "metadata": {},
   "outputs": [
    {
     "name": "stdout",
     "output_type": "stream",
     "text": [
      "Wall time: 2.61 s\n"
     ]
    }
   ],
   "source": [
    "%%time\n",
    "\n",
    "dict1 = {str(i): i for i in range(10_000_000) if i%2==0}"
   ]
  },
  {
   "cell_type": "markdown",
   "metadata": {},
   "source": [
    "# 02. Функции"
   ]
  },
  {
   "cell_type": "markdown",
   "metadata": {},
   "source": [
    "## 02.01. Сравнение реализации с функцией и без"
   ]
  },
  {
   "cell_type": "code",
   "execution_count": 2,
   "metadata": {},
   "outputs": [
    {
     "name": "stdout",
     "output_type": "stream",
     "text": [
      "Сумма НДС: 200.0\n",
      "Сумма НДС: 36.0\n",
      "Сумма НДС: 699.6\n"
     ]
    }
   ],
   "source": [
    "price = 1000\n",
    "vat_rate = 20\n",
    "\n",
    "if price < 0 or vat_rate < 0:\n",
    "    print(\"Некорректные входные данные.\")\n",
    "\n",
    "vat = (price * vat_rate) / 100\n",
    "print(\"Сумма НДС:\", vat)\n",
    "\n",
    "price = 200\n",
    "vat_rate = 18\n",
    "\n",
    "if price < 0 or vat_rate < 0:\n",
    "    print(\"Некорректные входные данные.\")\n",
    "\n",
    "vat = (price * vat_rate) / 100\n",
    "print(\"Сумма НДС:\", vat)\n",
    "\n",
    "price = 2120\n",
    "vat_rate = 33\n",
    "\n",
    "if price < 0 or vat_rate < 0:\n",
    "    print(\"Некорректные входные данные.\")\n",
    "\n",
    "vat = (price * vat_rate) / 100\n",
    "print(\"Сумма НДС:\", vat)"
   ]
  },
  {
   "cell_type": "markdown",
   "metadata": {},
   "source": [
    "Пример кода с использованием функций"
   ]
  },
  {
   "cell_type": "code",
   "execution_count": 3,
   "metadata": {},
   "outputs": [
    {
     "name": "stdout",
     "output_type": "stream",
     "text": [
      "Сумма НДС: 200.0\n",
      "Сумма НДС: 36.0\n",
      "Сумма НДС: 699.6\n"
     ]
    }
   ],
   "source": [
    "def calculate_vat(price, vat_rate):\n",
    "    if price < 0 or vat_rate < 0:\n",
    "        print(\"Некорректные входные данные.\")\n",
    "        return None\n",
    "    \n",
    "    vat = (price * vat_rate) / 100\n",
    "    print(\"Сумма НДС:\", vat)\n",
    "\n",
    "    return vat\n",
    "\n",
    "vat_rate = 20\n",
    "\n",
    "vat_amount = calculate_vat(price=1000, vat_rate=20)\n",
    "vat_amount = calculate_vat(price=200, vat_rate=18)\n",
    "vat_amount = calculate_vat(price=2120, vat_rate=33)"
   ]
  },
  {
   "cell_type": "markdown",
   "metadata": {},
   "source": [
    "## 02.02. Встроенные функции"
   ]
  },
  {
   "cell_type": "code",
   "execution_count": 4,
   "metadata": {},
   "outputs": [
    {
     "name": "stdout",
     "output_type": "stream",
     "text": [
      "Hello world\n",
      "len(s): 11\n",
      "abs(-11): 11\n",
      "any[list]: True\n",
      "max[list]: 10\n",
      "sorted[list]: [1, 2.5, 8, 10]\n",
      "Help on built-in function dir in module builtins:\n",
      "\n",
      "dir(...)\n",
      "    dir([object]) -> list of strings\n",
      "    \n",
      "    If called without an argument, return the names in the current scope.\n",
      "    Else, return an alphabetized list of names comprising (some of) the attributes\n",
      "    of the given object, and of attributes reachable from it.\n",
      "    If the object supplies a method named __dir__, it will be used; otherwise\n",
      "    the default dir() logic is used and returns:\n",
      "      for a module object: the module's attributes.\n",
      "      for a class object:  its attributes, and recursively the attributes\n",
      "        of its bases.\n",
      "      for any other object: its attributes, its class's attributes, and\n",
      "        recursively the attributes of its class's base classes.\n",
      "\n"
     ]
    }
   ],
   "source": [
    "s = 'Hello world'\n",
    "print(s)\n",
    "print(f\"len(s): {len(s)}\")\n",
    "print(f\"abs(-11): {abs(-11)}\")\n",
    "print(f'any[list]: {any([True, False, False, False])}')\n",
    "print(f'max[list]: {max([1, 10, 2.5, 8])}')\n",
    "print(f'sorted[list]: {sorted([1, 10, 2.5, 8])}')\n",
    "help(dir)"
   ]
  },
  {
   "cell_type": "code",
   "execution_count": 5,
   "metadata": {},
   "outputs": [
    {
     "data": {
      "text/plain": [
       "['__add__',\n",
       " '__class__',\n",
       " '__contains__',\n",
       " '__delattr__',\n",
       " '__dir__',\n",
       " '__doc__',\n",
       " '__eq__',\n",
       " '__format__',\n",
       " '__ge__',\n",
       " '__getattribute__',\n",
       " '__getitem__',\n",
       " '__getnewargs__',\n",
       " '__gt__',\n",
       " '__hash__',\n",
       " '__init__',\n",
       " '__init_subclass__',\n",
       " '__iter__',\n",
       " '__le__',\n",
       " '__len__',\n",
       " '__lt__',\n",
       " '__mod__',\n",
       " '__mul__',\n",
       " '__ne__',\n",
       " '__new__',\n",
       " '__reduce__',\n",
       " '__reduce_ex__',\n",
       " '__repr__',\n",
       " '__rmod__',\n",
       " '__rmul__',\n",
       " '__setattr__',\n",
       " '__sizeof__',\n",
       " '__str__',\n",
       " '__subclasshook__',\n",
       " 'capitalize',\n",
       " 'casefold',\n",
       " 'center',\n",
       " 'count',\n",
       " 'encode',\n",
       " 'endswith',\n",
       " 'expandtabs',\n",
       " 'find',\n",
       " 'format',\n",
       " 'format_map',\n",
       " 'index',\n",
       " 'isalnum',\n",
       " 'isalpha',\n",
       " 'isascii',\n",
       " 'isdecimal',\n",
       " 'isdigit',\n",
       " 'isidentifier',\n",
       " 'islower',\n",
       " 'isnumeric',\n",
       " 'isprintable',\n",
       " 'isspace',\n",
       " 'istitle',\n",
       " 'isupper',\n",
       " 'join',\n",
       " 'ljust',\n",
       " 'lower',\n",
       " 'lstrip',\n",
       " 'maketrans',\n",
       " 'partition',\n",
       " 'removeprefix',\n",
       " 'removesuffix',\n",
       " 'replace',\n",
       " 'rfind',\n",
       " 'rindex',\n",
       " 'rjust',\n",
       " 'rpartition',\n",
       " 'rsplit',\n",
       " 'rstrip',\n",
       " 'split',\n",
       " 'splitlines',\n",
       " 'startswith',\n",
       " 'strip',\n",
       " 'swapcase',\n",
       " 'title',\n",
       " 'translate',\n",
       " 'upper',\n",
       " 'zfill']"
      ]
     },
     "execution_count": 5,
     "metadata": {},
     "output_type": "execute_result"
    }
   ],
   "source": [
    "dir(s)"
   ]
  },
  {
   "cell_type": "markdown",
   "metadata": {},
   "source": [
    "## 02.03. Пользовательские функции"
   ]
  },
  {
   "cell_type": "code",
   "execution_count": 6,
   "metadata": {},
   "outputs": [
    {
     "name": "stdout",
     "output_type": "stream",
     "text": [
      "Вызов функции simple_fun с аргументами 10 21\n"
     ]
    },
    {
     "data": {
      "text/plain": [
       "31"
      ]
     },
     "execution_count": 6,
     "metadata": {},
     "output_type": "execute_result"
    }
   ],
   "source": [
    "# объявление функции\n",
    "def simple_fun(a: any, b: any) -> any:\n",
    "    \"\"\"Пример простой функции, возвращающей сумму\n",
    "\n",
    "    Args:\n",
    "        a (any): аргумент 1\n",
    "        b (any): аргумент 2\n",
    "\n",
    "    Returns:\n",
    "        any: сумма\n",
    "    \"\"\"\n",
    "\n",
    "    print('Вызов функции simple_fun с аргументами', a, b)\n",
    "    \n",
    "    return a + b\n",
    "\n",
    "# вызов функции\n",
    "simple_fun(10, 21)"
   ]
  },
  {
   "cell_type": "code",
   "execution_count": 7,
   "metadata": {},
   "outputs": [
    {
     "name": "stdout",
     "output_type": "stream",
     "text": [
      "Help on function simple_fun in module __main__:\n",
      "\n",
      "simple_fun(a: <built-in function any>, b: <built-in function any>) -> <built-in function any>\n",
      "    Пример простой функции, возвращающей сумму\n",
      "    \n",
      "    Args:\n",
      "        a (any): аргумент 1\n",
      "        b (any): аргумент 2\n",
      "    \n",
      "    Returns:\n",
      "        any: сумма\n",
      "\n"
     ]
    }
   ],
   "source": [
    "help(simple_fun)"
   ]
  },
  {
   "cell_type": "markdown",
   "metadata": {},
   "source": [
    "## 02.04. Аргументы функции"
   ]
  },
  {
   "cell_type": "code",
   "execution_count": 8,
   "metadata": {},
   "outputs": [
    {
     "name": "stdout",
     "output_type": "stream",
     "text": [
      "Сумма НДС: 200.0\n",
      "Сумма НДС: 36.0\n",
      "Сумма НДС: 699.6\n",
      "Некорректные входные данные.\n"
     ]
    }
   ],
   "source": [
    "def calculate_vat(price, vat_rate=20):\n",
    "    if price < 0 or vat_rate < 0:\n",
    "        print(\"Некорректные входные данные.\")\n",
    "        return None\n",
    "    \n",
    "    vat = (price * vat_rate) / 100\n",
    "    print(\"Сумма НДС:\", vat)\n",
    "\n",
    "    return vat\n",
    "\n",
    "vat_rate = 20\n",
    "\n",
    "vat_amount = calculate_vat(price=1000)\n",
    "vat_amount = calculate_vat(price=200, vat_rate=18)\n",
    "vat_amount = calculate_vat(price=2120, vat_rate=33)\n",
    "vat_amount = calculate_vat(price=-2120, vat_rate=33)\n"
   ]
  },
  {
   "cell_type": "code",
   "execution_count": 9,
   "metadata": {},
   "outputs": [
    {
     "name": "stdout",
     "output_type": "stream",
     "text": [
      "Сумма НДС: 200.0\n",
      "(200.0, 1000) <class 'tuple'>\n",
      "Сумма НДС: 200.0\n",
      "200.0 1000\n"
     ]
    }
   ],
   "source": [
    "def calculate_vat(price, vat_rate=20):\n",
    "    if price < 0 or vat_rate < 0:\n",
    "        print(\"Некорректные входные данные.\")\n",
    "        return None\n",
    "    \n",
    "    vat = (price * vat_rate) / 100\n",
    "    print(\"Сумма НДС:\", vat)\n",
    "\n",
    "    return vat, price\n",
    "\n",
    "result = calculate_vat(price=1000)\n",
    "print(result, type(result))\n",
    "vat_amount, price = calculate_vat(price=1000)\n",
    "print(vat_amount, price)"
   ]
  },
  {
   "cell_type": "code",
   "execution_count": null,
   "metadata": {},
   "outputs": [],
   "source": [
    "def calculate_vat(price, discount=10, vat=20):\n",
    "    ...\n",
    "\n",
    "calculate_vat(1234)\n",
    "calculate_vat(1234, discount=20)\n",
    "calculate_vat(1234, vat=30)\n",
    "calculate_vat(1234, vat=30, discount=20)"
   ]
  },
  {
   "cell_type": "code",
   "execution_count": 10,
   "metadata": {},
   "outputs": [
    {
     "name": "stdout",
     "output_type": "stream",
     "text": [
      "*args: ['1', 1234]\n",
      "**kwargs: {}\n",
      "*args: ['2', 1234]\n",
      "**kwargs: {'discount': 20}\n",
      "*args: ['3', 1234]\n",
      "**kwargs: {'vat': 30}\n",
      "*args: ['4', 1234]\n",
      "**kwargs: {'vat': 30, 'discount': 20}\n"
     ]
    }
   ],
   "source": [
    "def calculate_vat(*args, **kwargs):\n",
    "    print('*args:', [arg for arg in args])\n",
    "    print('**kwargs:', {key: value for key, value in kwargs.items()})\n",
    "\n",
    "calculate_vat('1', 1234)\n",
    "calculate_vat('2', 1234, discount=20)\n",
    "calculate_vat('3', 1234, vat=30)\n",
    "calculate_vat('4', 1234, vat=30, discount=20)"
   ]
  },
  {
   "cell_type": "code",
   "execution_count": 11,
   "metadata": {},
   "outputs": [
    {
     "name": "stdout",
     "output_type": "stream",
     "text": [
      "a b c d\n",
      "a b c d\n"
     ]
    }
   ],
   "source": [
    "lst = ['a', 'b', 'c', 'd']\n",
    "print(lst[0], lst[1], lst[2], lst[3])\n",
    "print(*lst)"
   ]
  },
  {
   "cell_type": "markdown",
   "metadata": {},
   "source": [
    "## 02.05. Область видимости"
   ]
  },
  {
   "cell_type": "markdown",
   "metadata": {},
   "source": [
    "### 02.05.01. Неизменяемые аргументы"
   ]
  },
  {
   "cell_type": "code",
   "execution_count": 12,
   "metadata": {},
   "outputs": [
    {
     "name": "stdout",
     "output_type": "stream",
     "text": [
      "Возвращаемое значение:  value_1=value_1=\n",
      "Исходное значение:  value_1=\n"
     ]
    }
   ],
   "source": [
    "var1 = 'value_1='\n",
    "\n",
    "def modify_value(value):\n",
    "    return value*2\n",
    "\n",
    "print('Возвращаемое значение: ', modify_value(var1))\n",
    "print('Исходное значение: ', var1)"
   ]
  },
  {
   "cell_type": "code",
   "execution_count": 13,
   "metadata": {},
   "outputs": [
    {
     "name": "stdout",
     "output_type": "stream",
     "text": [
      "Возвращаемое значение:  value_1=value_1=\n",
      "Исходное значение:  value_1=\n"
     ]
    }
   ],
   "source": [
    "var1 = 'value_1='\n",
    "\n",
    "def modify_value(value):\n",
    "    var1 = value*2\n",
    "    return var1\n",
    "\n",
    "print('Возвращаемое значение: ', modify_value(var1))\n",
    "print('Исходное значение: ', var1)"
   ]
  },
  {
   "cell_type": "code",
   "execution_count": 14,
   "metadata": {},
   "outputs": [
    {
     "name": "stdout",
     "output_type": "stream",
     "text": [
      "Возвращаемое значение:  value_1=value_1=\n",
      "Исходное значение:  value_1=value_1=\n"
     ]
    }
   ],
   "source": [
    "var1 = 'value_1='\n",
    "\n",
    "def modify_value(value):\n",
    "    global var1\n",
    "    var1 = value*2\n",
    "    return var1\n",
    "\n",
    "print('Возвращаемое значение: ', modify_value(var1))\n",
    "print('Исходное значение: ', var1)"
   ]
  },
  {
   "cell_type": "code",
   "execution_count": 15,
   "metadata": {},
   "outputs": [
    {
     "name": "stdout",
     "output_type": "stream",
     "text": [
      "Возвращаемое значение:  value_1=value_1=\n",
      "Исходное значение:  value_1=\n"
     ]
    }
   ],
   "source": [
    "var1 = 'value_1='\n",
    "\n",
    "def modify_value(value):\n",
    "    \n",
    "    var1 = value*2\n",
    "    return var1\n",
    "\n",
    "print('Возвращаемое значение: ', modify_value(var1))\n",
    "print('Исходное значение: ', var1)"
   ]
  },
  {
   "cell_type": "markdown",
   "metadata": {},
   "source": [
    "### 02.05.02. Изменяемые аргументы"
   ]
  },
  {
   "cell_type": "code",
   "execution_count": 16,
   "metadata": {},
   "outputs": [
    {
     "name": "stdout",
     "output_type": "stream",
     "text": [
      "Возвращаемое значение:  ['a', 'b', 'c', 'new']\n",
      "Исходное значение:  ['a', 'b', 'c', 'new']\n",
      "Возвращаемое значение:  ['a', 'b', 'c', 'new']\n",
      "Исходное значение:  ['a', 'b', 'c']\n"
     ]
    }
   ],
   "source": [
    "lst = ['a', 'b', 'c']\n",
    "\n",
    "def modify_list(lst):\n",
    "    lst1 = lst\n",
    "    lst1.append('new')\n",
    "    return lst1\n",
    "\n",
    "print('Возвращаемое значение: ', modify_list(lst))\n",
    "print('Исходное значение: ', lst)\n",
    "\n",
    "lst = ['a', 'b', 'c']\n",
    "\n",
    "def create_modify_list(lst):\n",
    "    lst1 = lst[:]\n",
    "    lst1.append('new')\n",
    "    return lst1\n",
    "\n",
    "print('Возвращаемое значение: ', create_modify_list(lst))\n",
    "print('Исходное значение: ', lst)"
   ]
  },
  {
   "cell_type": "markdown",
   "metadata": {},
   "source": [
    "## 02.06. Рекурсивные фукнции"
   ]
  },
  {
   "cell_type": "code",
   "execution_count": 17,
   "metadata": {},
   "outputs": [
    {
     "data": {
      "text/plain": [
       "3628800"
      ]
     },
     "execution_count": 17,
     "metadata": {},
     "output_type": "execute_result"
    }
   ],
   "source": [
    "def factorial(n):\n",
    "    #print(\"Вычисление факториала, n = \", n)\n",
    "    if n == 1:\n",
    "        return n\n",
    "    else:\n",
    "        return n*factorial(n-1)\n",
    "\n",
    "factorial(10)"
   ]
  },
  {
   "cell_type": "code",
   "execution_count": 18,
   "metadata": {},
   "outputs": [
    {
     "data": {
      "text/plain": [
       "3628800"
      ]
     },
     "execution_count": 18,
     "metadata": {},
     "output_type": "execute_result"
    }
   ],
   "source": [
    "def factorial_iterative(n):\n",
    "    factorial = 1\n",
    "\n",
    "    for i in range (1, n + 1):\n",
    "        factorial = factorial*i\n",
    "\n",
    "    return factorial\n",
    "\n",
    "factorial_iterative(10)"
   ]
  },
  {
   "cell_type": "markdown",
   "metadata": {},
   "source": [
    "## 02.07. Функции высшего порядка map, reduce, filter"
   ]
  },
  {
   "cell_type": "code",
   "execution_count": 19,
   "metadata": {},
   "outputs": [
    {
     "name": "stdout",
     "output_type": "stream",
     "text": [
      "[11, 14, 19, 26]\n"
     ]
    }
   ],
   "source": [
    "def some_func(n):\n",
    "    return n**2 + 10\n",
    " \n",
    "numbers = (1, 2, 3, 4)\n",
    "result = map(some_func, numbers)\n",
    "print(list(result))"
   ]
  },
  {
   "cell_type": "code",
   "execution_count": 20,
   "metadata": {},
   "outputs": [
    {
     "name": "stdout",
     "output_type": "stream",
     "text": [
      "[4, 5, 6, 7, 8]\n"
     ]
    }
   ],
   "source": [
    "def some_condition(value):\n",
    "    if value > 3:\n",
    "        return True\n",
    "    \n",
    "    return False\n",
    " \n",
    "numbers = (1, 2, 3, 4, 5, 6, 7, 8)\n",
    "result = filter(some_condition, numbers)\n",
    "print(list(result))"
   ]
  },
  {
   "cell_type": "code",
   "execution_count": 21,
   "metadata": {},
   "outputs": [
    {
     "name": "stdout",
     "output_type": "stream",
     "text": [
      "720\n"
     ]
    }
   ],
   "source": [
    "from functools import reduce \n",
    "\n",
    "def some_func(x, y):\n",
    "    return x * y\n",
    " \n",
    "numbers = (1, 2, 3, 4, 5, 6)\n",
    "result = reduce(some_func, numbers)\n",
    "print(result)"
   ]
  },
  {
   "cell_type": "markdown",
   "metadata": {},
   "source": [
    "## 02.08. Лямбда функции"
   ]
  },
  {
   "cell_type": "code",
   "execution_count": 22,
   "metadata": {},
   "outputs": [
    {
     "name": "stdout",
     "output_type": "stream",
     "text": [
      "20 0x1a2230b9f70 <class 'function'>\n",
      "20 0x1a24a285c10 <class 'function'>\n"
     ]
    }
   ],
   "source": [
    "def double(x):\n",
    "    return x*2\n",
    "\n",
    "print(double(10), hex(id(double)), type(double))\n",
    "\n",
    "double_lambda = lambda x: x*2\n",
    "\n",
    "print(double_lambda(10), hex(id(double_lambda)), type(double_lambda))"
   ]
  },
  {
   "cell_type": "code",
   "execution_count": 23,
   "metadata": {},
   "outputs": [
    {
     "name": "stdout",
     "output_type": "stream",
     "text": [
      "[11, 14, 19, 26]\n"
     ]
    }
   ],
   "source": [
    "numbers = (1, 2, 3, 4)\n",
    "result = map(lambda x: x**2+10, numbers)\n",
    "print(list(result))"
   ]
  },
  {
   "cell_type": "code",
   "execution_count": 24,
   "metadata": {},
   "outputs": [
    {
     "name": "stdout",
     "output_type": "stream",
     "text": [
      "[4, 5, 6, 7, 8]\n"
     ]
    }
   ],
   "source": [
    "numbers = (1, 2, 3, 4, 5, 6, 7, 8)\n",
    "result = filter(lambda x: x > 3, numbers)\n",
    "print(list(result))"
   ]
  },
  {
   "cell_type": "code",
   "execution_count": 25,
   "metadata": {},
   "outputs": [
    {
     "data": {
      "text/plain": [
       "[((1, 2), {'parameter1': 40, 'parameter2': 0, 'parameter3': 30}),\n",
       " ((1, 1), {'parameter1': 30, 'parameter2': 2, 'parameter3': 30}),\n",
       " ((2, 1), {'parameter1': 50, 'parameter2': 10, 'parameter3': 30}),\n",
       " ((0, 0), {'parameter1': 10, 'parameter2': 21, 'parameter3': 30}),\n",
       " ((0, 1), {'parameter1': 20, 'parameter2': 23, 'parameter3': 30})]"
      ]
     },
     "execution_count": 25,
     "metadata": {},
     "output_type": "execute_result"
    }
   ],
   "source": [
    "dict1 = {\n",
    "    (0, 0): {'parameter1': 10, 'parameter2': 21, 'parameter3': 30},\n",
    "    (0, 1): {'parameter1': 20, 'parameter2': 23, 'parameter3': 30},\n",
    "    (1, 1): {'parameter1': 30, 'parameter2': 2, 'parameter3': 30},\n",
    "    (1, 2): {'parameter1': 40, 'parameter2': 0, 'parameter3': 30},\n",
    "    (2, 1): {'parameter1': 50, 'parameter2': 10, 'parameter3': 30},\n",
    "}\n",
    "\n",
    "\n",
    "sorted(list(dict1.items()), key=lambda x: x[1]['parameter2'])"
   ]
  },
  {
   "cell_type": "markdown",
   "metadata": {},
   "source": [
    "## 02.09. Замыкания функции"
   ]
  },
  {
   "cell_type": "code",
   "execution_count": 26,
   "metadata": {},
   "outputs": [
    {
     "name": "stdout",
     "output_type": "stream",
     "text": [
      "Вызов функции print_some_text\n",
      "Ниже будет напечатан какой-то текст:\n",
      "Текст основной функции\n"
     ]
    }
   ],
   "source": [
    "def print_some_text(text):\n",
    "    print(\"Вызов функции print_some_text\")\n",
    "\n",
    "    def add_important_information():\n",
    "        print(\"Ниже будет напечатан какой-то текст:\")\n",
    "        print(text)\n",
    "\n",
    "    add_important_information()\n",
    "\n",
    "\n",
    "print_some_text('Текст основной функции')"
   ]
  },
  {
   "cell_type": "code",
   "execution_count": 27,
   "metadata": {},
   "outputs": [
    {
     "name": "stdout",
     "output_type": "stream",
     "text": [
      "Вызов функции print_some_text\n",
      "<function print_some_text.<locals>.add_important_information at 0x000001A2230FF040>\n",
      "Ниже будет напечатан какой-то текст:\n",
      "Текст основной функции\n"
     ]
    }
   ],
   "source": [
    "def print_some_text(text):\n",
    "    print(\"Вызов функции print_some_text\")\n",
    "\n",
    "    def add_important_information():\n",
    "        print(\"Ниже будет напечатан какой-то текст:\")\n",
    "        print(text)\n",
    "\n",
    "\n",
    "    return add_important_information\n",
    "\n",
    "f = print_some_text('Текст основной функции')\n",
    "print(f)\n",
    "f()\n"
   ]
  },
  {
   "cell_type": "code",
   "execution_count": 28,
   "metadata": {},
   "outputs": [
    {
     "name": "stdout",
     "output_type": "stream",
     "text": [
      "20\n",
      "30\n"
     ]
    }
   ],
   "source": [
    "def create_multiplier(factor):\n",
    "    # Внешняя функция, которая принимает фактор\n",
    "    def multiplier(x):\n",
    "        # Внутренняя функция, которая умножает x на фактор\n",
    "        return x * factor\n",
    "    return multiplier  # Возвращаем внутреннюю функцию\n",
    "\n",
    "# Создаем две функции для умножения на разные факторы\n",
    "double = create_multiplier(2)\n",
    "triple = create_multiplier(3)\n",
    "\n",
    "# Используем созданные функции\n",
    "result1 = double(10)\n",
    "result2 = triple(10) \n",
    "\n",
    "print(result1)\n",
    "print(result2)"
   ]
  },
  {
   "cell_type": "markdown",
   "metadata": {},
   "source": [
    "## 02.09. Декораторы"
   ]
  },
  {
   "cell_type": "code",
   "execution_count": 29,
   "metadata": {},
   "outputs": [
    {
     "name": "stdout",
     "output_type": "stream",
     "text": [
      "Executing Имя функции, arg = Аргумент\n",
      "time: 5.011220455169678 s\n"
     ]
    },
    {
     "data": {
      "text/plain": [
       "'Результат работы функции func'"
      ]
     },
     "execution_count": 29,
     "metadata": {},
     "output_type": "execute_result"
    }
   ],
   "source": [
    "import time\n",
    "\n",
    "def some_decorator(func):\n",
    "    def wrapper(*args, **kwargs):\n",
    "        start_time = time.time()\n",
    "        result = func(*args, **kwargs)\n",
    "        print(f\"time: {time.time() - start_time} s\")\n",
    "        \n",
    "        return result\n",
    "    \n",
    "    return wrapper\n",
    "\n",
    "@some_decorator\n",
    "def some_function(arg, name):\n",
    "    print(f\"Executing {name}, arg = {arg}\")\n",
    "    time.sleep(5)\n",
    "\n",
    "    return 'Результат работы функции func'\n",
    "\n",
    "#some_function = some_decorator(some_function) -> @some_decorator\n",
    "\n",
    "result = some_function('Аргумент', name='Имя функции')\n",
    "result"
   ]
  },
  {
   "cell_type": "markdown",
   "metadata": {},
   "source": [
    "## 02.10. Генераторы"
   ]
  },
  {
   "cell_type": "code",
   "execution_count": 30,
   "metadata": {},
   "outputs": [
    {
     "name": "stdout",
     "output_type": "stream",
     "text": [
      "Генератор возвращает значение только при выполнении метода next()\n",
      "=== Вызов функции generator_example ===\n",
      "Обработка итерации i = 1, count = 1\n",
      "Вычисленное значение:  2\n",
      "Обработка итерации i = 2, count = 2\n",
      "Вычисленное значение:  6\n",
      "Обработка итерации i = 3, count = 3\n",
      "Вычисленное значение:  12\n",
      "Обработка итерации i = 4, count = 4\n",
      "Вычисленное значение:  20\n",
      "Обработка итерации i = 5, count = 5\n",
      "Вычисленное значение:  30\n",
      "Обработка итерации i = 6, count = 6\n",
      "Вычисленное значение:  42\n",
      "Обработка итерации i = 7, count = 7\n",
      "Вычисленное значение:  56\n"
     ]
    }
   ],
   "source": [
    "def generator_example(m):\n",
    "    count = 1\n",
    "    print('=== Вызов функции generator_example ===')\n",
    "\n",
    "    for i in range(1, m):\n",
    "        print(f'Обработка итерации i = {i}, count = {count}')\n",
    "        yield i**2 + count\n",
    "        count += 1\n",
    "\n",
    "a = generator_example(8)\n",
    "\n",
    "print(\"Генератор возвращает значение только при выполнении метода next()\")\n",
    "for i in a:\n",
    "    print(\"Вычисленное значение: \", i)"
   ]
  },
  {
   "cell_type": "code",
   "execution_count": 31,
   "metadata": {},
   "outputs": [
    {
     "name": "stdout",
     "output_type": "stream",
     "text": [
      "=== Вызов функции generator_example ===\n",
      "Обработка итерации i = 1, count = 1\n",
      "Обработка итерации i = 2, count = 2\n",
      "Обработка итерации i = 3, count = 3\n"
     ]
    },
    {
     "ename": "StopIteration",
     "evalue": "",
     "output_type": "error",
     "traceback": [
      "\u001b[1;31m---------------------------------------------------------------------------\u001b[0m",
      "\u001b[1;31mStopIteration\u001b[0m                             Traceback (most recent call last)",
      "\u001b[1;32mC:\\Users\\ASKORO~1\\AppData\\Local\\Temp/ipykernel_10092/631106250.py\u001b[0m in \u001b[0;36m<module>\u001b[1;34m\u001b[0m\n\u001b[0;32m      3\u001b[0m \u001b[0mnext\u001b[0m\u001b[1;33m(\u001b[0m\u001b[0ma\u001b[0m\u001b[1;33m)\u001b[0m\u001b[1;33m\u001b[0m\u001b[1;33m\u001b[0m\u001b[0m\n\u001b[0;32m      4\u001b[0m \u001b[0mnext\u001b[0m\u001b[1;33m(\u001b[0m\u001b[0ma\u001b[0m\u001b[1;33m)\u001b[0m\u001b[1;33m\u001b[0m\u001b[1;33m\u001b[0m\u001b[0m\n\u001b[1;32m----> 5\u001b[1;33m \u001b[0mnext\u001b[0m\u001b[1;33m(\u001b[0m\u001b[0ma\u001b[0m\u001b[1;33m)\u001b[0m\u001b[1;33m\u001b[0m\u001b[1;33m\u001b[0m\u001b[0m\n\u001b[0m",
      "\u001b[1;31mStopIteration\u001b[0m: "
     ]
    }
   ],
   "source": [
    "a = generator_example(4)\n",
    "next(a)\n",
    "next(a)\n",
    "next(a)\n",
    "next(a)"
   ]
  },
  {
   "cell_type": "code",
   "execution_count": 32,
   "metadata": {},
   "outputs": [
    {
     "data": {
      "text/plain": [
       "<generator object generator_example at 0x000001A223180900>"
      ]
     },
     "execution_count": 32,
     "metadata": {},
     "output_type": "execute_result"
    }
   ],
   "source": [
    "generator = generator_example(4)\n",
    "generator"
   ]
  },
  {
   "cell_type": "code",
   "execution_count": 33,
   "metadata": {},
   "outputs": [
    {
     "name": "stdout",
     "output_type": "stream",
     "text": [
      "1\n",
      "1\n",
      "2\n",
      "3\n",
      "5\n",
      "8\n",
      "13\n",
      "21\n",
      "34\n",
      "55\n"
     ]
    }
   ],
   "source": [
    "def fibonacci_gen():\n",
    "    a, b = 1, 1\n",
    "    while True:\n",
    "        yield a\n",
    "        a, b = b, a + b\n",
    "\n",
    "# Пример использования:\n",
    "fibonacci_generator = fibonacci_gen()\n",
    "\n",
    "for _ in range(10):  # Вывести первые 10 чисел Фибоначчи\n",
    "    print(next(fibonacci_generator))"
   ]
  },
  {
   "cell_type": "markdown",
   "metadata": {},
   "source": [
    "# 03. ООП"
   ]
  },
  {
   "cell_type": "markdown",
   "metadata": {},
   "source": [
    "## 03.01. Пример класса"
   ]
  },
  {
   "cell_type": "code",
   "execution_count": 34,
   "metadata": {},
   "outputs": [],
   "source": [
    "class Country:\n",
    "    NAME = 'class_Country'\n",
    "    \n",
    "    def __init__(self, name, population, continent):\n",
    "        self.name = name\n",
    "        self.population = population\n",
    "        self.continent = continent\n",
    "\n",
    "    def increase_population(self, value):\n",
    "        self.population += value"
   ]
  },
  {
   "cell_type": "code",
   "execution_count": 35,
   "metadata": {},
   "outputs": [
    {
     "name": "stdout",
     "output_type": "stream",
     "text": [
      "<class '__main__.Country'>\n",
      "<__main__.Country object at 0x000001A2230A3850>\n",
      "Население:  150000000\n",
      "Население:  150099999\n"
     ]
    }
   ],
   "source": [
    "russia = Country('Russia', 150_000_000, ['Asia', 'Europe'])\n",
    "print(Country)\n",
    "print(russia)\n",
    "print(\"Население: \", russia.population)\n",
    "russia.increase_population(99999)\n",
    "print(\"Население: \", russia.population)"
   ]
  },
  {
   "cell_type": "code",
   "execution_count": 36,
   "metadata": {},
   "outputs": [
    {
     "name": "stdout",
     "output_type": "stream",
     "text": [
      "russia: {'name': 'Russia', 'population': 150099999, 'continent': ['Asia', 'Europe']}\n"
     ]
    },
    {
     "data": {
      "text/plain": [
       "mappingproxy({'__module__': '__main__',\n",
       "              'NAME': 'class_Country',\n",
       "              '__init__': <function __main__.Country.__init__(self, name, population, continent)>,\n",
       "              'increase_population': <function __main__.Country.increase_population(self, value)>,\n",
       "              '__dict__': <attribute '__dict__' of 'Country' objects>,\n",
       "              '__weakref__': <attribute '__weakref__' of 'Country' objects>,\n",
       "              '__doc__': None})"
      ]
     },
     "execution_count": 36,
     "metadata": {},
     "output_type": "execute_result"
    }
   ],
   "source": [
    "print(\"russia:\", russia.__dict__)\n",
    "Country.__dict__"
   ]
  },
  {
   "cell_type": "code",
   "execution_count": 37,
   "metadata": {},
   "outputs": [
    {
     "name": "stdout",
     "output_type": "stream",
     "text": [
      "class_Country\n",
      "class_Country\n"
     ]
    }
   ],
   "source": [
    "print(Country.NAME)\n",
    "print(russia.NAME)"
   ]
  },
  {
   "cell_type": "code",
   "execution_count": 38,
   "metadata": {},
   "outputs": [
    {
     "data": {
      "text/plain": [
       "{'name': 'Russia',\n",
       " 'population': 150099999,\n",
       " 'continent': ['Asia', 'Europe'],\n",
       " 'NAME': 'Russia'}"
      ]
     },
     "execution_count": 38,
     "metadata": {},
     "output_type": "execute_result"
    }
   ],
   "source": [
    "russia.NAME = 'Russia'\n",
    "russia.__dict__"
   ]
  },
  {
   "cell_type": "code",
   "execution_count": 39,
   "metadata": {},
   "outputs": [
    {
     "name": "stdout",
     "output_type": "stream",
     "text": [
      "class_Country\n",
      "Russia\n"
     ]
    }
   ],
   "source": [
    "print(Country.NAME)\n",
    "print(russia.NAME)"
   ]
  },
  {
   "cell_type": "markdown",
   "metadata": {},
   "source": [
    "## 03.02. Методы класса и статические методы"
   ]
  },
  {
   "cell_type": "code",
   "execution_count": 40,
   "metadata": {},
   "outputs": [],
   "source": [
    "class Country:\n",
    "    favorite_country = 'Russia'    \n",
    "    \n",
    "    def __init__(self, name, population, continent):\n",
    "        self.name = name\n",
    "        self.population = population\n",
    "        self.continent = continent\n",
    "        self.__private_attribute = 'пример локального атрибута'\n",
    "        self._protected_attribute = 'пример защищенного атрибута'\n",
    "\n",
    "    def increase_population(self, value):\n",
    "        self.population += value\n",
    "\n",
    "    @classmethod\n",
    "    def is_favorite(cls, country_name):\n",
    "        return country_name in cls.favorite_country\n",
    "\n",
    "    @staticmethod\n",
    "    def calc_millions(population):\n",
    "        return population / 1000000\n",
    "\n",
    "russia = Country('Russia', 150_000_000, ['Asia', 'Europe'])"
   ]
  },
  {
   "cell_type": "code",
   "execution_count": 41,
   "metadata": {},
   "outputs": [
    {
     "name": "stdout",
     "output_type": "stream",
     "text": [
      "True\n",
      "5.9\n"
     ]
    }
   ],
   "source": [
    "print(russia.is_favorite('Russia'))\n",
    "print(russia.calc_millions(5900000))"
   ]
  },
  {
   "cell_type": "code",
   "execution_count": 42,
   "metadata": {},
   "outputs": [],
   "source": [
    "russia._protected_attribute = russia._protected_attribute + ' да пофиг'"
   ]
  },
  {
   "cell_type": "code",
   "execution_count": 43,
   "metadata": {},
   "outputs": [
    {
     "data": {
      "text/plain": [
       "{'name': 'Russia',\n",
       " 'population': 150000000,\n",
       " 'continent': ['Asia', 'Europe'],\n",
       " '_Country__private_attribute': 'пример локального атрибута',\n",
       " '_protected_attribute': 'пример защищенного атрибута да пофиг'}"
      ]
     },
     "execution_count": 43,
     "metadata": {},
     "output_type": "execute_result"
    }
   ],
   "source": [
    "russia.__dict__"
   ]
  },
  {
   "cell_type": "markdown",
   "metadata": {},
   "source": [
    "## 03.03. Магические методы, сеттеры и геттеры"
   ]
  },
  {
   "cell_type": "code",
   "execution_count": 44,
   "metadata": {},
   "outputs": [],
   "source": [
    "class Country:\n",
    "    favorite_country = 'Russia'    \n",
    "\n",
    "    def __eq__(self, other):\n",
    "        return self.name == other.name\n",
    "\n",
    "    def __call__(self, *args, **kwargs):\n",
    "        print(f'{self.name} нуждается в вас!')\n",
    "\n",
    "    def __str__(self):\n",
    "        return f\"Страна {self.name} с населением {self.population}\"\n",
    "\n",
    "    def __setattr__(self, key, value):\n",
    "        if key=='id':\n",
    "            if value != 'id':\n",
    "                return\n",
    "        \n",
    "        return object.__setattr__(self, key, value)\n",
    "    \n",
    "    def __init__(self, name, population, continent):\n",
    "        self.id = 'id'\n",
    "        self.name = name\n",
    "        self.population = population\n",
    "        self.continent = continent\n",
    "        self.__private_attribute = 'пример локального атрибута'\n",
    "        self._protected_attribute = 'пример защищенного атрибута'\n",
    "\n",
    "    @property\n",
    "    def private_attribute(self):\n",
    "        return self.__private_attribute\n",
    "\n",
    "    @private_attribute.setter\n",
    "    def private_attribute(self, value):\n",
    "        self.__private_attribute = value\n",
    "\n",
    "    def increase_population(self, value):\n",
    "        self.population += value\n",
    "\n",
    "    @classmethod\n",
    "    def is_favorite(cls, country_name):\n",
    "        return country_name in cls.favorite_country\n",
    "\n",
    "    @staticmethod\n",
    "    def calc_millions(population):\n",
    "        return population / 1000000\n",
    "\n",
    "russia = Country('Russia', 150_000_000, ['Asia', 'Europe'])"
   ]
  },
  {
   "cell_type": "code",
   "execution_count": 45,
   "metadata": {},
   "outputs": [
    {
     "data": {
      "text/plain": [
       "True"
      ]
     },
     "execution_count": 45,
     "metadata": {},
     "output_type": "execute_result"
    }
   ],
   "source": [
    "russia == Country('Russia', 150, ['Asiaaa', 'Europe'])"
   ]
  },
  {
   "cell_type": "code",
   "execution_count": 46,
   "metadata": {},
   "outputs": [
    {
     "name": "stdout",
     "output_type": "stream",
     "text": [
      "Страна Russia с населением 150000000\n",
      "Russia нуждается в вас!\n"
     ]
    }
   ],
   "source": [
    "print(russia)\n",
    "russia()"
   ]
  },
  {
   "cell_type": "code",
   "execution_count": 47,
   "metadata": {},
   "outputs": [
    {
     "name": "stdout",
     "output_type": "stream",
     "text": [
      "пример локального атрибута\n"
     ]
    },
    {
     "data": {
      "text/plain": [
       "'его можно менять'"
      ]
     },
     "execution_count": 47,
     "metadata": {},
     "output_type": "execute_result"
    }
   ],
   "source": [
    "print(russia.private_attribute)\n",
    "russia.private_attribute = \"его можно менять\"\n",
    "russia.private_attribute"
   ]
  },
  {
   "cell_type": "code",
   "execution_count": 48,
   "metadata": {},
   "outputs": [
    {
     "data": {
      "text/plain": [
       "'id'"
      ]
     },
     "execution_count": 48,
     "metadata": {},
     "output_type": "execute_result"
    }
   ],
   "source": [
    "russia.id = 'idd'\n",
    "russia.id"
   ]
  },
  {
   "cell_type": "markdown",
   "metadata": {},
   "source": [
    "## 03.04. Наследование, абстрактные методы"
   ]
  },
  {
   "cell_type": "code",
   "execution_count": 49,
   "metadata": {},
   "outputs": [
    {
     "name": "stdout",
     "output_type": "stream",
     "text": [
      "True\n",
      "True\n",
      "True\n"
     ]
    },
    {
     "ename": "TypeError",
     "evalue": "issubclass() arg 1 must be a class",
     "output_type": "error",
     "traceback": [
      "\u001b[1;31m---------------------------------------------------------------------------\u001b[0m",
      "\u001b[1;31mTypeError\u001b[0m                                 Traceback (most recent call last)",
      "\u001b[1;32mC:\\Users\\ASKORO~1\\AppData\\Local\\Temp/ipykernel_10092/980248771.py\u001b[0m in \u001b[0;36m<module>\u001b[1;34m\u001b[0m\n\u001b[0;32m      2\u001b[0m \u001b[0mprint\u001b[0m\u001b[1;33m(\u001b[0m\u001b[0misinstance\u001b[0m\u001b[1;33m(\u001b[0m\u001b[0mrussia\u001b[0m\u001b[1;33m,\u001b[0m \u001b[0mCountry\u001b[0m\u001b[1;33m)\u001b[0m\u001b[1;33m)\u001b[0m\u001b[1;33m\u001b[0m\u001b[1;33m\u001b[0m\u001b[0m\n\u001b[0;32m      3\u001b[0m \u001b[0mprint\u001b[0m\u001b[1;33m(\u001b[0m\u001b[0missubclass\u001b[0m\u001b[1;33m(\u001b[0m\u001b[0mCountry\u001b[0m\u001b[1;33m,\u001b[0m \u001b[0mobject\u001b[0m\u001b[1;33m)\u001b[0m\u001b[1;33m)\u001b[0m\u001b[1;33m\u001b[0m\u001b[1;33m\u001b[0m\u001b[0m\n\u001b[1;32m----> 4\u001b[1;33m \u001b[0mprint\u001b[0m\u001b[1;33m(\u001b[0m\u001b[0missubclass\u001b[0m\u001b[1;33m(\u001b[0m\u001b[0mrussia\u001b[0m\u001b[1;33m,\u001b[0m \u001b[0mobject\u001b[0m\u001b[1;33m)\u001b[0m\u001b[1;33m)\u001b[0m\u001b[1;33m\u001b[0m\u001b[1;33m\u001b[0m\u001b[0m\n\u001b[0m",
      "\u001b[1;31mTypeError\u001b[0m: issubclass() arg 1 must be a class"
     ]
    }
   ],
   "source": [
    "print(isinstance(russia, object))\n",
    "print(isinstance(russia, Country))\n",
    "print(issubclass(Country, object))\n",
    "print(issubclass(russia, object))"
   ]
  },
  {
   "cell_type": "code",
   "execution_count": 50,
   "metadata": {},
   "outputs": [],
   "source": [
    "from abc import ABC, abstractmethod\n",
    "\n",
    "class A(ABC):\n",
    "\n",
    "    def __init__(self, x, y):\n",
    "        self.x = x\n",
    "        self.y = y\n",
    "\n",
    "    @abstractmethod\n",
    "    def do_something(self):\n",
    "        pass\n",
    "\n",
    "class B(A):\n",
    "\n",
    "    def __init__(self, x, y, z):\n",
    "        super().__init__(x, y)\n",
    "\n",
    "        self.z = z\n",
    "    def do_something(self):\n",
    "        print('okay')"
   ]
  },
  {
   "cell_type": "code",
   "execution_count": 51,
   "metadata": {},
   "outputs": [
    {
     "name": "stdout",
     "output_type": "stream",
     "text": [
      "okay\n"
     ]
    }
   ],
   "source": [
    "b = B(1, 2, 3)\n",
    "b.do_something()"
   ]
  },
  {
   "cell_type": "code",
   "execution_count": 52,
   "metadata": {},
   "outputs": [],
   "source": [
    "class Base:\n",
    "\n",
    "    def __init__(self):\n",
    "        pass\n",
    "\n",
    "class A(Base):\n",
    "\n",
    "    def __init__(self, x, y):\n",
    "        super().__init__(x, y)\n",
    "        self.x = x\n",
    "        self.y = y\n",
    "\n",
    "class B(Base):\n",
    "\n",
    "    def __init__(self, x, y, z):\n",
    "        super().__init__(x, y)\n",
    "        self.z = z\n",
    "\n",
    "class C(B, A):\n",
    "\n",
    "    def __init__(self, x, y, z, w):\n",
    "        super().__init__(self, x, y, z)\n",
    "        self.w = w"
   ]
  },
  {
   "cell_type": "code",
   "execution_count": 53,
   "metadata": {},
   "outputs": [
    {
     "data": {
      "text/plain": [
       "(__main__.C, __main__.B, __main__.A, __main__.Base, object)"
      ]
     },
     "execution_count": 53,
     "metadata": {},
     "output_type": "execute_result"
    }
   ],
   "source": [
    "C.__mro__"
   ]
  },
  {
   "cell_type": "code",
   "execution_count": null,
   "metadata": {},
   "outputs": [],
   "source": []
  }
 ],
 "metadata": {
  "kernelspec": {
   "display_name": "Python 3 (ipykernel)",
   "language": "python",
   "name": "python3"
  },
  "language_info": {
   "codemirror_mode": {
    "name": "ipython",
    "version": 3
   },
   "file_extension": ".py",
   "mimetype": "text/x-python",
   "name": "python",
   "nbconvert_exporter": "python",
   "pygments_lexer": "ipython3",
   "version": "3.11.5"
  }
 },
 "nbformat": 4,
 "nbformat_minor": 4
}
