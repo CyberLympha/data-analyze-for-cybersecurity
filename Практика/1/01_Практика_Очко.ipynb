{
 "cells": [
  {
   "cell_type": "markdown",
   "metadata": {},
   "source": [
    "# Python (базовый). 03. ООП\n",
    "Практика к презентации"
   ]
  },
  {
   "cell_type": "markdown",
   "metadata": {},
   "source": [
    "## Очко"
   ]
  },
  {
   "cell_type": "code",
   "execution_count": 10,
   "metadata": {},
   "outputs": [],
   "source": [
    "import random\n",
    "from datetime import datetime as dt\n",
    "\n",
    "class Person:\n",
    "\n",
    "    def __init__(self, name: str, surname: str) -> None:\n",
    "        self.name = name\n",
    "        self.surname = surname\n",
    "\n",
    "class Player(Person):\n",
    "\n",
    "    def __init__(self, name: str, surname: str, budget: int=100) -> None:\n",
    "        super().__init__(name, surname)\n",
    "        self.score = 0\n",
    "        self.budget = budget\n",
    "        self.history = [] # время и результат игр\n",
    "\n",
    "    def __str__(self):\n",
    "        return f\"{self.name} {self.surname}\"\n",
    "    \n",
    "    def save_results(self, result):\n",
    "        self.history.append({\n",
    "            'time':str (dt.now()), \n",
    "            'result': result, \n",
    "            'score': self.score})\n",
    "        \n",
    "        self.score = 0\n",
    "\n",
    "class Card:\n",
    "\n",
    "    def __init__(self, suit: str, name: str, nominal: int) -> None:\n",
    "        self.suit = suit\n",
    "        self.name = name\n",
    "        self.nominal = nominal\n",
    "\n",
    "    def __str__(self):\n",
    "        return f\"{self.name}-{self.suit}\"\n",
    "\n",
    "class Deck:\n",
    "    __NOMINAL = {\n",
    "        52: {\n",
    "            '2': 2, '3': 3, '4': 4, '5': 5, '6': 6, '7': 7, '8': 8, '9': 9, \n",
    "            '10': 10, 'Валет': 11, 'Дама': 12, 'Король': 13, 'Туз': 1\n",
    "            },\n",
    "        36: {\n",
    "            '6': 6, '7': 7, '8': 8, '9': 9, \n",
    "            '10': 10, 'Валет': 2, 'Дама': 3, 'Король': 4, 'Туз': 1            \n",
    "            } \n",
    "        }\n",
    "    __DEFAULT_SIZE = 52\n",
    "\n",
    "\n",
    "    def __init__(self, size=36) -> None:\n",
    "        self.collection = []\n",
    "\n",
    "        self.size = size if size in self.__NOMINAL.keys() else self.__DEFAULT_SIZE\n",
    "\n",
    "        for suit in ['пики', 'черви', 'пики', 'трефы']:\n",
    "            for name, nominal in self.__NOMINAL[self.size].items():\n",
    "                self.collection.append(Card(suit, name, nominal))\n",
    "\n",
    "    def shuffle(self) -> None:\n",
    "        random.shuffle(self.collection)\n",
    "\n",
    "    def __len__(self):\n",
    "            return len(self.collection)\n",
    "\n",
    "    def get_card(self) -> Card:\n",
    "        card = self.collection.pop(0)\n",
    "\n",
    "        return card\n",
    "\n",
    "    \n",
    "class Game:\n",
    "\n",
    "    def __init__(self) -> None:\n",
    "        name = input(\"Введите имя игрока: \")\n",
    "        surname = input(\"Введите фамилию игрока: \")\n",
    "        self.player1 = Player(name, surname)\n",
    "        self.player2 = Player('bot', '')          \n",
    "\n",
    "\n",
    "    def start_game(self) -> None:\n",
    "        self.bet = int(input('Игра началась. Введите вашу ставку:'))\n",
    "\n",
    "        if self.bet > self.player1.budget:\n",
    "            if input('У вас столько нет, попробовать еще раз?'):\n",
    "                self.start_game()\n",
    "            else:\n",
    "                pass\n",
    "            \n",
    "        self.deck = Deck()  \n",
    "        self.deck.shuffle() \n",
    "        self.play_game()\n",
    "\n",
    "    def play_game(self, first_move='human') -> None:\n",
    "        if first_move == 'human':\n",
    "            self.human_move(self.player1)\n",
    "            self.computer_move(self.player2)\n",
    "\n",
    "        else:\n",
    "            self.computer_move(self.player2)\n",
    "            self.human_move(self.player1)\n",
    "\n",
    "        result = self.get_winner()\n",
    "\n",
    "        if result is None:\n",
    "            self.player1.save_results('draw')\n",
    "        elif result == self.player1:\n",
    "            self.player1.save_results('win')\n",
    "            self.player1.budget += self.bet\n",
    "        else:\n",
    "            self.player1.save_results('lose')\n",
    "            self.player1.budget -= self.bet\n",
    "\n",
    "        if not input(\"Сдать заново?\"):\n",
    "            self.start_game()\n",
    "\n",
    "    def human_move(self, player: Player) -> None:\n",
    "\n",
    "        choice = True\n",
    "\n",
    "        while choice and player.score < 21:\n",
    "            card = self.deck.get_card()\n",
    "            if card.name == 'Туз':\n",
    "                if input('Введите номинал для туза (11 или 1)') == '11':\n",
    "                    nominal = 11\n",
    "                else:\n",
    "                    nominal = 1\n",
    "            player.score += card.nominal\n",
    "\n",
    "            choice = not bool(input(f\"Вы вытянули {card}. Продолжаете?\"))\n",
    "\n",
    "        print(f\"{player} набрал {player.score}\")\n",
    "\n",
    "    def computer_move(self, bot, limit: int = 18) -> None:\n",
    "\n",
    "        while bot.score < limit:\n",
    "            card = self.deck.get_card()\n",
    "            bot.score += card.nominal\n",
    "\n",
    "        print(f\"{bot} набрал {bot.score}\")\n",
    "\n",
    "    def get_winner(self):\n",
    "\n",
    "        if self.player1.score > 21 and self.player2.score > 21:\n",
    "            print(\"Ничья\")\n",
    "            return None\n",
    "\n",
    "        elif self.player1.score > 21 or (self.player1.score < self.player2.score):\n",
    "            print(f\"Выиграл {self.player2}\")\n",
    "            return self.player2\n",
    "\n",
    "        elif self.player2.score > 21 or (self.player2.score < self.player1.score):\n",
    "            print(f\"Выиграл {self.player1}\")\n",
    "            return self.player1\n",
    "\n",
    "        else:\n",
    "            print(f\"Ничья\")\n",
    "            return None\n",
    "\n",
    "\n",
    "\n",
    "\n"
   ]
  },
  {
   "cell_type": "code",
   "execution_count": 11,
   "metadata": {},
   "outputs": [
    {
     "name": "stdout",
     "output_type": "stream",
     "text": [
      "ass sfff набрал 23\n",
      "bot  набрал 19\n",
      "Выиграл bot \n"
     ]
    }
   ],
   "source": [
    "game = Game()\n",
    "game.start_game()"
   ]
  },
  {
   "cell_type": "code",
   "execution_count": 13,
   "metadata": {},
   "outputs": [
    {
     "data": {
      "text/plain": [
       "67"
      ]
     },
     "execution_count": 13,
     "metadata": {},
     "output_type": "execute_result"
    }
   ],
   "source": [
    "game.player1.budget"
   ]
  },
  {
   "cell_type": "code",
   "execution_count": 12,
   "metadata": {},
   "outputs": [],
   "source": [
    "p = Player('asdf', 'sdf')"
   ]
  },
  {
   "cell_type": "code",
   "execution_count": 14,
   "metadata": {},
   "outputs": [
    {
     "data": {
      "text/plain": [
       "False"
      ]
     },
     "execution_count": 14,
     "metadata": {},
     "output_type": "execute_result"
    }
   ],
   "source": [
    "isinstance(None, Player)"
   ]
  },
  {
   "cell_type": "code",
   "execution_count": null,
   "metadata": {},
   "outputs": [],
   "source": []
  }
 ],
 "metadata": {
  "kernelspec": {
   "display_name": ".venv",
   "language": "python",
   "name": "python3"
  },
  "language_info": {
   "codemirror_mode": {
    "name": "ipython",
    "version": 3
   },
   "file_extension": ".py",
   "mimetype": "text/x-python",
   "name": "python",
   "nbconvert_exporter": "python",
   "pygments_lexer": "ipython3",
   "version": "3.9.7"
  },
  "orig_nbformat": 4
 },
 "nbformat": 4,
 "nbformat_minor": 2
}
