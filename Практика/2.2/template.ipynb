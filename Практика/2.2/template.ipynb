{
 "cells": [
  {
   "cell_type": "markdown",
   "metadata": {},
   "source": [
    "<h1> Материалы курса \"Анализ данных в инфромационной безопасности\" </h1>\n",
    "\n",
    "<h2> Практическое занятие № 1.1 </h2>\n",
    "\n",
    "<h2> Тема: \"что-то интересное про ИБ\" </h2>\n",
    "\n",
    "<h2>Авторы:</h2>\n",
    "\n",
    "<p>Чернышов Юрий</p>\n",
    "<p>Руководитель исследовательского центра UDV Group</p>\n",
    "<p>к.ф.-м.н., доцент кафедры \"Информационные технологии и системы управления\" ИРИТ РТФ УрФУ</p>\n",
    "<p>ychernyshov@udv.group</p>\n",
    "\n",
    "\n",
    "<p>ФИО, должность, контакты</p>\n"
   ]
  },
  {
   "cell_type": "markdown",
   "metadata": {},
   "source": [
    "# Оглавление <a name='toc'></a>\n",
    "<ol>\n",
    "<li><a href='#description'>Описание задачи и метода решения</a></li>\n",
    "<li><a href='#example'>Пример </a></li>\n",
    "<li><a href='#links'>Ссылки</a></li>\n",
    "<li><a href='#hometask'>Задание для самостоятельной работы</a></li>    \n",
    "</ol>"
   ]
  },
  {
   "cell_type": "markdown",
   "metadata": {},
   "source": [
    "# Описание задачи метода решения <a name='description'></a>\n",
    "\n",
    "Вот как-то так..."
   ]
  },
  {
   "cell_type": "markdown",
   "metadata": {},
   "source": [
    "Проиллюстрируем работу метода на простом примере - с помощью векторов чисел, для каждого из которых определен признак цвета: красный (False) или желтый (True). Зададим множество векторов (пар чисел, которые удобно отображать точками на плоскости) и определим для каждого значение признака \"желтый\" или \"красный\". $X$, $Y$ - массивы абсцисс и ординат точек, $l$ - массив значений (True, False). Искусственно сгруппируем точки таким образом, чтобы справа вверху и слева внизу преобладали красные точки, а слева вверху и справа внизу - желтые. Используем функцию numpy.r_(), которая объединяет два массива."
   ]
  },
  {
   "cell_type": "markdown",
   "metadata": {},
   "source": [
    "<a href='#toc'>Назад к Оглавлению</a>"
   ]
  },
  {
   "cell_type": "markdown",
   "metadata": {},
   "source": [
    "# Пример <a name='example'></a>"
   ]
  },
  {
   "cell_type": "code",
   "execution_count": null,
   "metadata": {},
   "outputs": [],
   "source": []
  },
  {
   "cell_type": "markdown",
   "metadata": {},
   "source": [
    "<a href='#toc'>Назад к Оглавлению</a>"
   ]
  },
  {
   "cell_type": "markdown",
   "metadata": {},
   "source": [
    "# Ссылки <a name='links'></a>"
   ]
  },
  {
   "cell_type": "code",
   "execution_count": null,
   "metadata": {},
   "outputs": [],
   "source": []
  },
  {
   "cell_type": "markdown",
   "metadata": {},
   "source": [
    "<a href='#toc'>Назад к Оглавлению</a>"
   ]
  },
  {
   "cell_type": "code",
   "execution_count": null,
   "metadata": {},
   "outputs": [],
   "source": []
  },
  {
   "cell_type": "markdown",
   "metadata": {},
   "source": [
    "# Задания для самостоятельной работы <a name='hometask'></a>"
   ]
  },
  {
   "cell_type": "code",
   "execution_count": null,
   "metadata": {},
   "outputs": [],
   "source": []
  },
  {
   "cell_type": "markdown",
   "metadata": {},
   "source": [
    "<a href='#toc'>Назад к Оглавлению</a>"
   ]
  }
 ],
 "metadata": {
  "kernelspec": {
   "display_name": "Python 3 (ipykernel)",
   "language": "python",
   "name": "python3"
  },
  "language_info": {
   "codemirror_mode": {
    "name": "ipython",
    "version": 3
   },
   "file_extension": ".py",
   "mimetype": "text/x-python",
   "name": "python",
   "nbconvert_exporter": "python",
   "pygments_lexer": "ipython3",
   "version": "3.9.7"
  }
 },
 "nbformat": 4,
 "nbformat_minor": 2
}
